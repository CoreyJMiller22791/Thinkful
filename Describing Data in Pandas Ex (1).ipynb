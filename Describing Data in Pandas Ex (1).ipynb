{
 "cells": [
  {
   "cell_type": "code",
   "execution_count": 1,
   "metadata": {},
   "outputs": [
    {
     "data": {
      "image/png": "[encoded data removed]",
      "text/plain": [
       "<Figure size 432x288 with 2 Axes>"
      ]
     },
     "metadata": {},
     "output_type": "display_data"
    },
    {
     "name": "stdout",
     "output_type": "stream",
     "text": [
      "low_var      98.329144\n",
      "high_var    415.452289\n",
      "dtype: float64\n",
      "low_var      23.694884\n",
      "high_var   -310.794973\n",
      "dtype: float64\n"
     ]
    }
   ],
   "source": [
    "# import necessary packages\n",
    "import pandas as pd\n",
    "import matplotlib.pyplot as plt\n",
    "import numpy as np\n",
    "%matplotlib inline\n",
    "\n",
    "# create empty dataframe to store variables\n",
    "pop = pd.DataFrame()\n",
    "\n",
    "# create two variables; one with low variance and one with high - mean=60 , low var stdev=10, high var stdev=100\n",
    "pop['low_var'] = np.random.normal(60, 10, 10000)\n",
    "pop['high_var'] = np.random.normal(60, 100, 10000)\n",
    "\n",
    "pop.hist(layout=(2, 1), sharex=True)\n",
    "plt.show()\n",
    "\n",
    "#print population max and min for each variable\n",
    "print(pop.max())\n",
    "print(pop.min())"
   ]
  },
  {
   "cell_type": "code",
   "execution_count": 2,
   "metadata": {},
   "outputs": [
    {
     "data": {
      "image/png": "[encoded data removed]",
      "text/plain": [
       "<Figure size 432x288 with 2 Axes>"
      ]
     },
     "metadata": {},
     "output_type": "display_data"
    },
    {
     "name": "stdout",
     "output_type": "stream",
     "text": [
      "low_var     59.616024\n",
      "high_var    71.978135\n",
      "dtype: float64\n",
      "low_var      10.546940\n",
      "high_var    104.643132\n",
      "dtype: float64\n",
      "low_var      1.054694\n",
      "high_var    10.464313\n",
      "dtype: float64\n"
     ]
    }
   ],
   "source": [
    " #create a sample (n=100) for each variable\n",
    "sample = pd.DataFrame()\n",
    "\n",
    "sample['low_var'] = np.random.choice(pop['low_var'], 100)\n",
    "sample['high_var'] = np.random.choice(pop['high_var'], 100)\n",
    "\n",
    "#plot sample\n",
    "sample.hist()\n",
    "plt.show()\n",
    "\n",
    "# check to see how well sample represents mean\n",
    "s = sample.std(ddof=1)\n",
    "n = len(sample['low_var'])\n",
    "mu = sample.mean()\n",
    "se = s/n**0.5\n",
    "print(mu)\n",
    "print(s)\n",
    "print(se)"
   ]
  },
  {
   "cell_type": "markdown",
   "metadata": {},
   "source": [
    "Note: sample with low variance more closely represents the population than the high variance.  Increasing the sample size decreases the sample error (increasing the estimation power)"
   ]
  },
  {
   "cell_type": "code",
   "execution_count": 3,
   "metadata": {},
   "outputs": [
    {
     "name": "stdout",
     "output_type": "stream",
     "text": [
      "           height      weight\n",
      "count  200.000000  200.000000\n",
      "mean    66.416747  178.937771\n",
      "std      7.289509   22.790828\n",
      "min     49.846537  121.376751\n",
      "25%     61.176668  162.436411\n",
      "50%     66.608882  177.613339\n",
      "75%     70.088886  194.150666\n",
      "max     86.809342  235.044221\n",
      "       height                                                        \\\n",
      "        count       mean       std        min        25%        50%   \n",
      "gender                                                                \n",
      "female  100.0  63.996569  5.117876  53.607129  60.298704  63.859996   \n",
      "male    100.0  68.836925  8.293679  49.846537  63.035930  68.864175   \n",
      "\n",
      "                             weight                                     \\\n",
      "              75%        max  count        mean        std         min   \n",
      "gender                                                                   \n",
      "female  67.413539  77.369381  100.0  166.634822  16.435160  121.376751   \n",
      "male    73.955907  86.809342  100.0  191.240720  21.637767  147.179154   \n",
      "\n",
      "                                                        \n",
      "               25%         50%         75%         max  \n",
      "gender                                                  \n",
      "female  156.951203  165.992370  177.568170  208.667515  \n",
      "male    177.770428  190.354071  204.573141  235.044221  \n"
     ]
    },
    {
     "data": {
      "text/html": [
       "<div>\n",
       "<style scoped>\n",
       "    .dataframe tbody tr th:only-of-type {\n",
       "        vertical-align: middle;\n",
       "    }\n",
       "\n",
       "    .dataframe tbody tr th {\n",
       "        vertical-align: top;\n",
       "    }\n",
       "\n",
       "    .dataframe thead tr th {\n",
       "        text-align: left;\n",
       "    }\n",
       "\n",
       "    .dataframe thead tr:last-of-type th {\n",
       "        text-align: right;\n",
       "    }\n",
       "</style>\n",
       "<table border=\"1\" class=\"dataframe\">\n",
       "  <thead>\n",
       "    <tr>\n",
       "      <th></th>\n",
       "      <th colspan=\"8\" halign=\"left\">height</th>\n",
       "      <th colspan=\"8\" halign=\"left\">weight</th>\n",
       "    </tr>\n",
       "    <tr>\n",
       "      <th></th>\n",
       "      <th>count</th>\n",
       "      <th>mean</th>\n",
       "      <th>std</th>\n",
       "      <th>min</th>\n",
       "      <th>25%</th>\n",
       "      <th>50%</th>\n",
       "      <th>75%</th>\n",
       "      <th>max</th>\n",
       "      <th>count</th>\n",
       "      <th>mean</th>\n",
       "      <th>std</th>\n",
       "      <th>min</th>\n",
       "      <th>25%</th>\n",
       "      <th>50%</th>\n",
       "      <th>75%</th>\n",
       "      <th>max</th>\n",
       "    </tr>\n",
       "    <tr>\n",
       "      <th>gender</th>\n",
       "      <th></th>\n",
       "      <th></th>\n",
       "      <th></th>\n",
       "      <th></th>\n",
       "      <th></th>\n",
       "      <th></th>\n",
       "      <th></th>\n",
       "      <th></th>\n",
       "      <th></th>\n",
       "      <th></th>\n",
       "      <th></th>\n",
       "      <th></th>\n",
       "      <th></th>\n",
       "      <th></th>\n",
       "      <th></th>\n",
       "      <th></th>\n",
       "    </tr>\n",
       "  </thead>\n",
       "  <tbody>\n",
       "    <tr>\n",
       "      <th>female</th>\n",
       "      <td>100.0</td>\n",
       "      <td>63.996569</td>\n",
       "      <td>5.117876</td>\n",
       "      <td>53.607129</td>\n",
       "      <td>60.298704</td>\n",
       "      <td>63.859996</td>\n",
       "      <td>67.413539</td>\n",
       "      <td>77.369381</td>\n",
       "      <td>100.0</td>\n",
       "      <td>166.634822</td>\n",
       "      <td>16.435160</td>\n",
       "      <td>121.376751</td>\n",
       "      <td>156.951203</td>\n",
       "      <td>165.992370</td>\n",
       "      <td>177.568170</td>\n",
       "      <td>208.667515</td>\n",
       "    </tr>\n",
       "    <tr>\n",
       "      <th>male</th>\n",
       "      <td>100.0</td>\n",
       "      <td>68.836925</td>\n",
       "      <td>8.293679</td>\n",
       "      <td>49.846537</td>\n",
       "      <td>63.035930</td>\n",
       "      <td>68.864175</td>\n",
       "      <td>73.955907</td>\n",
       "      <td>86.809342</td>\n",
       "      <td>100.0</td>\n",
       "      <td>191.240720</td>\n",
       "      <td>21.637767</td>\n",
       "      <td>147.179154</td>\n",
       "      <td>177.770428</td>\n",
       "      <td>190.354071</td>\n",
       "      <td>204.573141</td>\n",
       "      <td>235.044221</td>\n",
       "    </tr>\n",
       "  </tbody>\n",
       "</table>\n",
       "</div>"
      ],
      "text/plain": [
       "       height                                                        \\\n",
       "        count       mean       std        min        25%        50%   \n",
       "gender                                                                \n",
       "female  100.0  63.996569  5.117876  53.607129  60.298704  63.859996   \n",
       "male    100.0  68.836925  8.293679  49.846537  63.035930  68.864175   \n",
       "\n",
       "                             weight                                     \\\n",
       "              75%        max  count        mean        std         min   \n",
       "gender                                                                   \n",
       "female  67.413539  77.369381  100.0  166.634822  16.435160  121.376751   \n",
       "male    73.955907  86.809342  100.0  191.240720  21.637767  147.179154   \n",
       "\n",
       "                                                        \n",
       "               25%         50%         75%         max  \n",
       "gender                                                  \n",
       "female  156.951203  165.992370  177.568170  208.667515  \n",
       "male    177.770428  190.354071  204.573141  235.044221  "
      ]
     },
     "execution_count": 3,
     "metadata": {},
     "output_type": "execute_result"
    }
   ],
   "source": [
    "# Set up the data\n",
    "data = pd.DataFrame()\n",
    "data['gender'] = ['male'] * 100 + ['female'] * 100 #100 males and 100 females\n",
    "data['height'] = np.append(np.random.normal(69, 8, 100), np.random.normal(64, 5, 100)) \n",
    "#male: average height = 69\" stdev = 8 / female: average height = 64\" stdev = 5\n",
    "data['weight'] = np.append(np.random.normal(195, 25, 100), np.random.normal(166, 15, 100))\n",
    "#male: average weight = 195 stdev = 25 / female: average weight = 166 stdev = 15\n",
    "\n",
    "#statistical info for each numerical column\n",
    "print(data.describe())\n",
    "\n",
    "#group by gender and grab statistical info\n",
    "print(data.groupby('gender').describe())\n",
    "data.groupby('gender').describe()"
   ]
  },
  {
   "cell_type": "markdown",
   "metadata": {},
   "source": [
    "# Brady Bunch Example"
   ]
  },
  {
   "cell_type": "code",
   "execution_count": 4,
   "metadata": {},
   "outputs": [
    {
     "name": "stdout",
     "output_type": "stream",
     "text": [
      "            Name  Age\n",
      "0           Greg   14\n",
      "1         Marcia   12\n",
      "2          Peter   11\n",
      "3            Jan   10\n",
      "4          Bobby    8\n",
      "5          Cindy    6\n",
      "6  Cousin Oliver    8\n",
      "The mean is 9.857142857142858\n",
      "The median is 10.0\n",
      "The mode is 0    8\n",
      "dtype: int64\n",
      "The sample variance is 7.476190476190475\n",
      "The population variance is 6.408163265306122\n",
      "The sample standard deviation is 2.734262327610589\n",
      "The population standard deviation is 2.531435020952764\n",
      "The sample standard error is 1.0334540197243192\n",
      "             Age\n",
      "count   7.000000\n",
      "mean    9.857143\n",
      "std     2.734262\n",
      "min     6.000000\n",
      "25%     8.000000\n",
      "50%    10.000000\n",
      "75%    11.500000\n",
      "max    14.000000\n"
     ]
    }
   ],
   "source": [
    "#1. create Brady Bunch data set\n",
    "family = {'Name' : ['Greg', 'Marcia', 'Peter', 'Jan', 'Bobby', 'Cindy', 'Cousin Oliver'], 'Age' : [14, 12, 11, 10, 8, 6, 8]}\n",
    "brady_df = pd.DataFrame(family, columns=['Name', 'Age'])\n",
    "print(brady_df)\n",
    "\n",
    "#calculate mean, median, mode, var, stdev, and standard error\n",
    "bmean = brady_df['Age'].mean()\n",
    "bmedian = brady_df['Age'].median()\n",
    "bmode = brady_df['Age'].mode()\n",
    "bvarsam = brady_df['Age'].var()\n",
    "bvarpop = brady_df['Age'].var(ddof=0)\n",
    "bstdevsam = brady_df['Age'].std()\n",
    "bstdevpop = brady_df['Age'].std(ddof=0)\n",
    "bse = bstdevsam/(len(brady_df['Name'])**0.5)\n",
    "\n",
    "print('The mean is {}'.format(bmean))\n",
    "print('The median is {}'.format(bmedian))\n",
    "print('The mode is {}'.format(bmode))\n",
    "print('The sample variance is {}'.format(bvarsam))\n",
    "print('The population variance is {}'.format(bvarpop))\n",
    "print('The sample standard deviation is {}'.format(bstdevsam))\n",
    "print('The population standard deviation is {}'.format(bstdevpop))\n",
    "print('The sample standard error is {}'.format(bse))\n",
    "\n",
    "#print the sample statistics using the describe method on dataset\n",
    "print(brady_df.describe()) #note that this method gives the sample stdev"
   ]
  },
  {
   "cell_type": "markdown",
   "metadata": {},
   "source": [
    "#2. Given this data, I would choose the mean as the central tendency and the standard deviation as the estimator of variance. I chose the mean because they are no significant outliers to create bias. While the variance measures the average degree of separation from the mean, I chose the standard deviation for the estimate of variance because the units match the mean (variance has squared units)."
   ]
  },
  {
   "cell_type": "code",
   "execution_count": 5,
   "metadata": {},
   "outputs": [
    {
     "name": "stdout",
     "output_type": "stream",
     "text": [
      "            Name  Age\n",
      "0           Greg   14\n",
      "1         Marcia   12\n",
      "2          Peter   11\n",
      "3            Jan   10\n",
      "4          Bobby    8\n",
      "5          Cindy    7\n",
      "6  Cousin Oliver    8\n",
      "The mean is 10.0\n",
      "The median is 10.0\n",
      "The mode is 0    8\n",
      "dtype: int64\n",
      "The sample variance is 6.333333333333333\n",
      "The population variance is 5.428571428571429\n",
      "The sample standard deviation is 2.516611478423583\n",
      "The population standard deviation is 2.32992949004287\n",
      "The sample standard error is 0.9511897312113418\n"
     ]
    }
   ],
   "source": [
    "#3. Cindy has a birthday (age = 7)\n",
    "brady_df.loc[5,'Age']=7\n",
    "print(brady_df)\n",
    "\n",
    "# recalculate central tendencies and estimators of variance\n",
    "bmean = brady_df['Age'].mean()\n",
    "bmedian = brady_df['Age'].median()\n",
    "bmode = brady_df['Age'].mode()\n",
    "bvarsam = brady_df['Age'].var()\n",
    "bvarpop = brady_df['Age'].var(ddof=0)\n",
    "bstdevsam = brady_df['Age'].std()\n",
    "bstdevpop = brady_df['Age'].std(ddof=0)\n",
    "bse = bstdevsam/(len(brady_df['Name'])**0.5)\n",
    "\n",
    "print('The mean is {}'.format(bmean))\n",
    "print('The median is {}'.format(bmedian))\n",
    "print('The mode is {}'.format(bmode))\n",
    "print('The sample variance is {}'.format(bvarsam))\n",
    "print('The population variance is {}'.format(bvarpop))\n",
    "print('The sample standard deviation is {}'.format(bstdevsam))\n",
    "print('The population standard deviation is {}'.format(bstdevpop))\n",
    "print('The sample standard error is {}'.format(bse))"
   ]
  },
  {
   "cell_type": "markdown",
   "metadata": {},
   "source": [
    "After updating Cindy's age to 7, the mean, variance, standard deviation, and standard error all changed slightly.  The median and mode stayed the same."
   ]
  },
  {
   "cell_type": "code",
   "execution_count": 6,
   "metadata": {},
   "outputs": [
    {
     "name": "stdout",
     "output_type": "stream",
     "text": [
      "      Name  Age\n",
      "0     Greg   14\n",
      "1   Marcia   12\n",
      "2    Peter   11\n",
      "3      Jan   10\n",
      "4    Bobby    8\n",
      "5    Cindy    7\n",
      "6  Jessica    1\n",
      "The mean is 9.0\n",
      "The median is 10.0\n",
      "The mode is 0     1\n",
      "1     7\n",
      "2     8\n",
      "3    10\n",
      "4    11\n",
      "5    12\n",
      "6    14\n",
      "dtype: int64\n",
      "The sample variance is 18.0\n",
      "The population variance is 15.428571428571429\n",
      "The sample standard deviation is 4.242640687119285\n",
      "The population standard deviation is 3.927922024247863\n",
      "The sample standard error is 1.6035674514745462\n"
     ]
    }
   ],
   "source": [
    "#4. Replace cousin oliver with 1-yr old Jessica\n",
    "brady_df.loc[6]=('Jessica', 1)\n",
    "print(brady_df)\n",
    "\n",
    "# recalculate statistics\n",
    "bmean = brady_df['Age'].mean()\n",
    "bmedian = brady_df['Age'].median()\n",
    "bmode = brady_df['Age'].mode()\n",
    "bvarsam = brady_df['Age'].var()\n",
    "bvarpop = brady_df['Age'].var(ddof=0)\n",
    "bstdevsam = brady_df['Age'].std()\n",
    "bstdevpop = brady_df['Age'].std(ddof=0)\n",
    "bse = bstdevsam/(len(brady_df['Name'])**0.5)\n",
    "\n",
    "print('The mean is {}'.format(bmean))\n",
    "print('The median is {}'.format(bmedian))\n",
    "print('The mode is {}'.format(bmode))\n",
    "print('The sample variance is {}'.format(bvarsam))\n",
    "print('The population variance is {}'.format(bvarpop))\n",
    "print('The sample standard deviation is {}'.format(bstdevsam))\n",
    "print('The population standard deviation is {}'.format(bstdevpop))\n",
    "print('The sample standard error is {}'.format(bse))"
   ]
  },
  {
   "cell_type": "markdown",
   "metadata": {},
   "source": [
    "Now swapping Jessica for cousin Oliver, we see that the median is the only unchanged statistic.  I will switch my measure of central tendency to the median due to the fact that Jessica's age is much lower than the rest of them.  I will still use the standard deviation as the estimator of variance."
   ]
  },
  {
   "cell_type": "markdown",
   "metadata": {},
   "source": [
    "#5. On the 50th anniversary of The Brady Bunch four magazines polled their readers to see what percentage of them are fans of the show.<br>\n",
    "TV Guide = 20%<br>\n",
    "Entertainment Weekly = 23%<br>\n",
    "Pop Culture Today = 17%<br>\n",
    "SciPhi Phanatic = 5%"
   ]
  },
  {
   "cell_type": "code",
   "execution_count": 11,
   "metadata": {},
   "outputs": [
    {
     "name": "stdout",
     "output_type": "stream",
     "text": [
      "Answer: 20.0%\n"
     ]
    }
   ],
   "source": [
    "#Given info above - estimate the percentage of adults Americans that are fans of the show at the 50th anniversary\n",
    "\n",
    "# We notice that SciPhi is a specialty magazine and would represent the population as well as the other 3 magazines; \n",
    "# therefore, we will drop that magazine from the estimate...\n",
    "\n",
    "est = np.mean([0.20, 0.17, 0.23])*100\n",
    "print('Answer: ' + str(est) + '%')"
   ]
  },
  {
   "cell_type": "code",
   "execution_count": null,
   "metadata": {},
   "outputs": [],
   "source": []
  }
 ],
 "metadata": {
  "kernelspec": {
   "display_name": "Python 3",
   "language": "python",
   "name": "python3"
  },
  "language_info": {
   "codemirror_mode": {
    "name": "ipython",
    "version": 3
   },
   "file_extension": ".py",
   "mimetype": "text/x-python",
   "name": "python",
   "nbconvert_exporter": "python",
   "pygments_lexer": "ipython3",
   "version": "3.6.4"
  }
 },
 "nbformat": 4,
 "nbformat_minor": 2
}
