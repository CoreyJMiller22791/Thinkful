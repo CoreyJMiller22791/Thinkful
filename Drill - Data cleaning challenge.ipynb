{
 "cells": [
  {
   "cell_type": "code",
   "execution_count": 132,
   "metadata": {},
   "outputs": [
    {
     "name": "stdout",
     "output_type": "stream",
     "text": [
      "              PMID/PMCID Publisher           Journal title  \\\n",
      "0                    NaN       CUP  Psychological Medicine   \n",
      "1             PMC3679557       ACS       Biomacromolecules   \n",
      "2  23043264  PMC3506128        ACS              J Med Chem   \n",
      "3    23438330 PMC3646402       ACS              J Med Chem   \n",
      "4   23438216 PMC3601604        ACS              J Org Chem   \n",
      "\n",
      "                                       Article title  \\\n",
      "0  Reduced parahippocampal cortical thickness in ...   \n",
      "1  Structural characterization of a Model Gram-ne...   \n",
      "2  Fumaroylamino-4,5-epoxymorphinans and related ...   \n",
      "3  Orvinols with mixed kappa/mu opioid receptor a...   \n",
      "4  Regioselective opening of myo-inositol orthoes...   \n",
      "\n",
      "  COST (£) charged to Wellcome (inc VAT when charged)  \n",
      "0                                              £0.00   \n",
      "1                                           £2381.04   \n",
      "2                                            £642.56   \n",
      "3                                            £669.64   \n",
      "4                                            £685.88   \n",
      "<class 'pandas.core.frame.DataFrame'>\n",
      "RangeIndex: 2127 entries, 0 to 2126\n",
      "Data columns (total 5 columns):\n",
      "PMID/PMCID                                             1928 non-null object\n",
      "Publisher                                              2127 non-null object\n",
      "Journal title                                          2126 non-null object\n",
      "Article title                                          2127 non-null object\n",
      "COST (£) charged to Wellcome (inc VAT when charged)    2127 non-null object\n",
      "dtypes: object(5)\n",
      "memory usage: 41.6+ KB\n",
      "None\n"
     ]
    }
   ],
   "source": [
    "import pandas as pd\n",
    "import matplotlib.pyplot as plt\n",
    "import seaborn as sns\n",
    "import numpy as np\n",
    "import re\n",
    "%matplotlib inline\n",
    "\n",
    "data = pd.read_csv('Welcome_thinkful_data_cleaning.csv', engine='python')\n",
    "df = pd.DataFrame(data)\n",
    "\n",
    "#drop nan values\n",
    "#df = df.dropna()\n",
    "print(df.head())\n",
    "print(df.info())\n",
    "# split first column into 2 columns\n",
    "#df['PMID'] = df['PMID/PMCID'].str.split(\" \").str.get(0)\n",
    "#df['PMID'] = df['PMID/PMCID'].apply(lambda x: re.findall('\\d*', x)[0])\n",
    "#df['PMCID'] = df['PMID/PMCID'].apply(lambda x: re.findall('[A-Z]{3}\\d*', x))\n",
    "#test = df['PMCID']\n",
    "#print(test)\n",
    "#d = df[df.columns.drop('PMID/PMCID')]\n",
    "#print(df['PMID/PMCID'].sort_values())"
   ]
  },
  {
   "cell_type": "markdown",
   "metadata": {},
   "source": [
    "Determine the five most common journals and the total articles for each. Next, calculate the mean, median, and standard deviation of the open-access cost per article for each journal."
   ]
  },
  {
   "cell_type": "code",
   "execution_count": 6,
   "metadata": {},
   "outputs": [
    {
     "name": "stdout",
     "output_type": "stream",
     "text": [
      "PLOS ONE                           199\n",
      "JOURNAL OF BIOLOGICAL CHEMISTRY     54\n",
      "NEUROIMAGE                          29\n",
      "PLOS PATHOGENS                      24\n",
      "PLOS GENETICS                       24\n",
      "Name: Journal title, dtype: int64\n"
     ]
    }
   ],
   "source": [
    "# find the most common journals and total number of articles for each\n",
    "df['Journal title'].value_counts()\n",
    "\n",
    "# notice that the capitalization of the titles is effecting the count\n",
    "df['Journal title'] = df['Journal title'].str.upper()\n",
    "\n",
    "# Another issue - there is a case where PLOS ONE shows up as PLOSONE and JOURNAL OF BIOLOGICAL CHEMISTRY IS J BIOL CHEMISTRY!\n",
    "df['Journal title'] = df['Journal title'].str.replace('PLOSONE','PLOS ONE')\n",
    "df['Journal title'] = df['Journal title'].str.replace('J BIOL CHEMISTRY','JOURNAL OF BIOLOGICAL CHEMISTRY')\n",
    "print(df['Journal title'].value_counts().head())\n"
   ]
  },
  {
   "cell_type": "code",
   "execution_count": 237,
   "metadata": {},
   "outputs": [
    {
     "name": "stdout",
     "output_type": "stream",
     "text": [
      "Mean: 1825.8423080637374\n",
      "Median: 1854.0\n",
      "Mode: 2040.0\n",
      "Standard Deviation: 811.1612286870626\n",
      "count     2071.000000\n",
      "mean      1825.842308\n",
      "std        811.161229\n",
      "min          0.000000\n",
      "25%       1260.580000\n",
      "50%       1854.000000\n",
      "75%       2302.930000\n",
      "max      13200.000000\n",
      "Name: COST (£) charged to Wellcome (inc VAT when charged), dtype: float64\n"
     ]
    }
   ],
   "source": [
    "# find mean, median, and standard deviation for cost column \n",
    "\n",
    "#print(df['COST (£) charged to Wellcome (inc VAT when charged)'].value_counts())\n",
    "\n",
    "# remove the euro sign leading the values and convert to numeric\n",
    "def get_nums(x): \n",
    "    \"\"\"pull numbers from euro sign\"\"\"\n",
    "    x = x[1:]\n",
    "    return x\n",
    "cost = df['COST (£) charged to Wellcome (inc VAT when charged)'].apply(get_nums)\n",
    "#saw one record come back as 600.25$\n",
    "cost = pd.to_numeric(cost, errors='ignore')\n",
    "#print(cost.std())\n",
    "\n",
    "# remove the euro sign leading the values and convert to numeric take 2\n",
    "costcol = df['COST (£) charged to Wellcome (inc VAT when charged)'].apply(lambda x: re.findall('\\d*?\\.\\d{2}', x))\n",
    "\n",
    "\n",
    "#grab numbers from [] and make them floats\n",
    "costcol = costcol.str.get(0)\n",
    "costcol = costcol.astype(float)\n",
    "\n",
    "# check for Nan and outliers - 47 values of 999999 and 7 null (initially)\n",
    "#print(costcol.value_counts())\n",
    "#print(costcol.isnull().sum())\n",
    "\n",
    "# attempt 1: drop the outliers\n",
    "#still see two values way above the rest: $201,024 and $192,64\n",
    "#costcol.hist()\n",
    "#plt.show()\n",
    "costcol = cost[(costcol<99999)]\n",
    "\n",
    "# handle the trailing $ since the \\d{2} is not grabbing the first 2 digits after the decimal\n",
    "costcol = costcol.str.strip('$')\n",
    "costcol = pd.to_numeric(costcol, errors='coerce')\n",
    "costcol = costcol.dropna()\n",
    "\n",
    "#print(costcol)\n",
    "mean = costcol.mean()\n",
    "median = costcol.median()\n",
    "mode = costcol.mode()[0]\n",
    "stddev = costcol.std()\n",
    "\n",
    "print('Mean: {}\\nMedian: {}\\nMode: {}\\nStandard Deviation: {}'.format(mean,median,mode,stddev))\n",
    "print(costcol.describe())"
   ]
  },
  {
   "cell_type": "code",
   "execution_count": null,
   "metadata": {},
   "outputs": [],
   "source": []
  }
 ],
 "metadata": {
  "kernelspec": {
   "display_name": "Python 3",
   "language": "python",
   "name": "python3"
  },
  "language_info": {
   "codemirror_mode": {
    "name": "ipython",
    "version": 3
   },
   "file_extension": ".py",
   "mimetype": "text/x-python",
   "name": "python",
   "nbconvert_exporter": "python",
   "pygments_lexer": "ipython3",
   "version": "3.7.0"
  }
 },
 "nbformat": 4,
 "nbformat_minor": 2
}
