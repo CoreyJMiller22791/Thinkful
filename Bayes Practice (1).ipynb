{
 "cells": [
  {
   "cell_type": "markdown",
   "metadata": {},
   "source": [
    "A diagnostic test has a 98% probability of giving a positive result when applied to a person suffering from Thripshaw's Disease, and 10% probability of giving a (false) positive when applied to a non-sufferer. It is estimated that 0.5 % of the population are sufferers. Suppose that the test is now administered to a person whose disease status is unknown. Calculate the probability that the test will:<br>\n",
    "1. Be positive<br>\n",
    "2. Correctly diagnose a sufferer of Thripshaw's<br>\n",
    "3. Correctly identify a non-sufferer of Thripshaw's<br>\n",
    "4. Misclassify the person"
   ]
  },
  {
   "cell_type": "code",
   "execution_count": 1,
   "metadata": {},
   "outputs": [
    {
     "name": "stdout",
     "output_type": "stream",
     "text": [
      "#1. Probability of positive is 0.1044\n",
      "#2. Probability of correctly diagnosing suffer is 0.98\n",
      "#3. Probability of correctly identifying non-sufferer 0.9\n",
      "#4. Probability of misclassifying the person is 0.09960000000000002\n"
     ]
    }
   ],
   "source": [
    "#1. Calculate the probability for a positive\n",
    "P_pos_AND_infected = 0.98\n",
    "P_pos_AND_not = 0.10\n",
    "P_infected = 0.005\n",
    "#probability of positive is prob of pos and infected * prob of infected + prob of pos and not * prob of not infected\n",
    "P_pos = P_pos_AND_infected * P_infected + P_pos_AND_not * (1 - P_infected)\n",
    "print('#1. Probability of positive is ' + str(P_pos))\n",
    "\n",
    "#2. Calculate probability of correctly diagnosing a sufferer of disease\n",
    "print('#2. Probability of correctly diagnosing suffer is ' + str(P_pos_AND_infected))\n",
    "\n",
    "#3. Calculate probability of correctly identifying non-sufferer\n",
    "# probability of false positive is .10 therefore the true negative 1 - false positive\n",
    "P_neg_AND_not = 1 - P_pos_AND_not\n",
    "print('#3. Probability of correctly identifying non-sufferer ' + str(P_neg_AND_not))\n",
    "\n",
    "#4. Calculate the probability of misclassifying the person\n",
    "\n",
    "P_mis = 1 - (P_pos_AND_infected * P_infected + P_neg_AND_not * (1-P_infected))\n",
    "print('#4. Probability of misclassifying the person is ' + str(P_mis))"
   ]
  },
  {
   "cell_type": "markdown",
   "metadata": {},
   "source": [
    "# Extra Practice with Bayes Theorem\n",
    "#### An aircraft emergency locator transmitter (ELT) is a device designed to transmit a signal in the case of a crash. The Altigauge Manufacturing Company makes 80% of the ELTs, the Bryant Company makes 15% of them, and the Chartair Company makes the other 5%. The ELTs made by Altigauge have a 4% rate of defects, the Bryant ELTs have a 6% rate of defects, and the Chartair ELTs have a 9% rate of defects (which helps to explain why Chartair has the lowest market share).\n",
    "\n",
    "##### a. If an ELT is randomly selected from the general population of all ELTs, find the probability that it was made by the Altigauge Manufacturing Company.\n",
    "\n",
    "\n",
    "##### b. If a randomly selected ELT is then tested and is found to be defective, find the probability that it was made by the Altigauge Manufacturing Company."
   ]
  },
  {
   "cell_type": "code",
   "execution_count": 2,
   "metadata": {},
   "outputs": [
    {
     "name": "stdout",
     "output_type": "stream",
     "text": [
      "a. The probability an ELT was made by Altigauge is 0.8\n",
      "b. The probability of a defective ELT being made by Altigauge is 0.7032967032967034\n"
     ]
    }
   ],
   "source": [
    "# find the probability than and ELT was made by Altigauge Manufacturing\n",
    "P_alt = .8\n",
    "P_bry = .15\n",
    "P_cha = .05\n",
    "P_altdef = .04\n",
    "P_brydef = .06\n",
    "P_chadef = .09\n",
    "\n",
    "print('a. The probability an ELT was made by Altigauge is ' + str(P_alt))\n",
    "# for the probability that a ELT is defective and from Altigauge\n",
    "# we need to apply BAYES THEOREM:\n",
    "# P(Altigauge|defective) = P(defective|Altigauge) * P(Altigauge) / P(defective)\n",
    "# where P(defective) = P(Altigauge) * P(defective|Altigauge) + P(Bryant) * P(defective|Bryant) + P(Chartair) * P(defective|Chartair)\n",
    "P_alt_def = (P_altdef*P_alt)/(P_alt*P_altdef + P_bry*P_brydef + P_cha*P_chadef)\n",
    "print('b. The probability of a defective ELT being made by Altigauge is ' + str(P_alt_def))"
   ]
  },
  {
   "cell_type": "markdown",
   "metadata": {},
   "source": [
    "#### You go to see the doctor about an ingrowing toenail. The doctor selects you at random to have a blood test for swine flu, which for the purposes of this exercise we will say is currently suspected to affect 1 in 10,000 people in Australia. The test is 99% accurate, in the sense that the probability of a false positive is 1%. The probability of a false negative is zero. You test positive. What is the new probability that you have swine flu?\n",
    "\n",
    "#### Now imagine that you went to a friend’s wedding in Mexico recently, and (for the purposes of this exercise) it is know that 1 in 200 people who visited Mexico recently come back with swine flu. Given the same test result as above, what should your revised estimate be for the probability you have the disease?"
   ]
  },
  {
   "cell_type": "code",
   "execution_count": 2,
   "metadata": {},
   "outputs": [
    {
     "name": "stdout",
     "output_type": "stream",
     "text": [
      "0.009901970492127933\n",
      "0.33444816053511706\n"
     ]
    }
   ],
   "source": [
    "# P(A) = probability of swine flu\n",
    "PA = 1/10000\n",
    "# P(B) = probability of positive test\n",
    "PB = .99\n",
    "# we wish to know P(A|B) - the probability we have swine flu given positive test\n",
    "# according to BAYES THEOREM - P(A|B) = P(B|A)*P(A)/P(B)\n",
    "#                                     = P(B|A)*P(A)/[P(A)*P(B|A)+P(~A)*P(B|~A)]\n",
    "# P(B|A) = probability of positive test given we have swine flu - this is 1 because there are no false negative\n",
    "PBA = 1\n",
    "# P(~A) = the probability of not having swine flu -> 1-P(A)\n",
    "P_A = 1-PA\n",
    "# P(B|~A) = probability of positive given no swine flu (false positive) - this is .1 (given)\n",
    "PB_A = .01\n",
    "\n",
    "PAB = PBA*PA/(PA*PBA+P_A*PB_A)\n",
    "print(PAB)\n",
    "\n",
    "# now that the swine flu is 1/200\n",
    "PA1 = 1/200\n",
    "P_A1 = 1 - PA1\n",
    "PAB1 = PBA*PA1/(PBA*PA1 + PB_A*P_A1)\n",
    "print(PAB1)"
   ]
  },
  {
   "cell_type": "markdown",
   "metadata": {},
   "source": [
    "#### Imagine that, while in Mexico, you also took a side trip to Las Vegas, to pay homage to the TV show CSI. Late one night in a bar you meet a guy who claims to know that in the casino at the Tropicana there are two sorts of slot machines: one that pays out 10% of the time, and one that pays out 20% of the time [note these numbers may not be very realistic]. The two types of machines are coloured red and blue. The only problem is, the guy is so drunk he can’t quite remember which colour corresponds to which kind of machine. Unfortunately, that night the guy becomes the vic in the next CSI episode, so you are unable to ask him again when he’s sober\n",
    "\n",
    "#### Next day you go to the Tropicana to find out more. You find a red and a blue machine side by side. You toss a coin to decide which machine to try first; based on this you then put the coin into the red machine. It doesn’t pay out. How should you update your estimate of the probability that this is the machine you’re interested in? What if it had paid out - what would be your new estimate then?"
   ]
  },
  {
   "cell_type": "code",
   "execution_count": 3,
   "metadata": {},
   "outputs": [
    {
     "name": "stdout",
     "output_type": "stream",
     "text": [
      "0.47058823529411764\n",
      "0.6666666666666666\n"
     ]
    }
   ],
   "source": [
    "# Since the first machine we play is red lets assume that the red machine has the better odds\n",
    "PR = .5\n",
    "PB = .5\n",
    "PJR = .2\n",
    "PJB = .1\n",
    "\n",
    "# We want to find out what the probability is that this red machine is the one that has the better odds: \n",
    "# PRNJ: probability of red given no jackpot\n",
    "\n",
    "PRNJ = PR*(1-PJR)/(PR*.8 + PB*.9)\n",
    "print(PRNJ)\n",
    "\n",
    "# PRJ: probability of red given jackpot\n",
    "PRJ = PR*PJR/(PR*PJR+PB*PJB)\n",
    "print(PRJ)"
   ]
  },
  {
   "cell_type": "markdown",
   "metadata": {},
   "source": [
    "* 1% of people have a certain genetic defect.\n",
    "* 90% of tests for the gene detect the defect (true positives).\n",
    "* 9.6% of the tests are false positives.\n",
    "* If a person gets a positive test result, what are the odds they actually have the genetic defect?"
   ]
  },
  {
   "cell_type": "code",
   "execution_count": 8,
   "metadata": {},
   "outputs": [
    {
     "name": "stdout",
     "output_type": "stream",
     "text": [
      "0.0865051903114187\n"
     ]
    }
   ],
   "source": [
    "PC = .01\n",
    "PTP = .9\n",
    "PFP = .096\n",
    "# what is the probability of having genetic defect given a positive test result\n",
    "PCTP = PTP*PC/(PC*PTP + (1-PC)*(PFP))\n",
    "print(PCTP)"
   ]
  },
  {
   "cell_type": "markdown",
   "metadata": {},
   "source": [
    "#### Given the following statistics, what is the probability that a woman has cancer if she has a positive mammogram result?\n",
    "\n",
    "* One percent of women over 50 have breast cancer.\n",
    "* Ninety percent of women who have breast cancer test positive on mammograms.\n",
    "* Eight percent of women will have false positives."
   ]
  },
  {
   "cell_type": "code",
   "execution_count": 10,
   "metadata": {},
   "outputs": [
    {
     "name": "stdout",
     "output_type": "stream",
     "text": [
      "0.10204081632653063\n"
     ]
    }
   ],
   "source": [
    "PC = .01\n",
    "PTP = .90\n",
    "PFP = .08\n",
    "\n",
    "PCTP = PC*PTP/(PTP*PC + (1-PC)*PFP)\n",
    "print(PCTP)"
   ]
  },
  {
   "cell_type": "code",
   "execution_count": null,
   "metadata": {},
   "outputs": [],
   "source": []
  }
 ],
 "metadata": {
  "kernelspec": {
   "display_name": "Python 3",
   "language": "python",
   "name": "python3"
  },
  "language_info": {
   "codemirror_mode": {
    "name": "ipython",
    "version": 3
   },
   "file_extension": ".py",
   "mimetype": "text/x-python",
   "name": "python",
   "nbconvert_exporter": "python",
   "pygments_lexer": "ipython3",
   "version": "3.6.4"
  }
 },
 "nbformat": 4,
 "nbformat_minor": 2
}
