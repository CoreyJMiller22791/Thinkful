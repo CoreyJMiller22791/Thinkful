{
 "cells": [
  {
   "cell_type": "code",
   "execution_count": 1,
   "metadata": {},
   "outputs": [],
   "source": [
    "import time\n",
    "import numpy as np\n",
    "import re\n",
    "import string\n",
    "import pandas as pd\n",
    "import collections\n",
    "\n",
    "#import nltk\n",
    "#from nltk.corpus import stopwords\n",
    "#from stop_words import get_stop_words\n",
    "from sklearn.feature_extraction import text\n",
    "\n",
    "text_ = \"Recommender systems typically produce a list of recommendations in one of two ways – \"\\\n",
    "+\"through collaborative filtering or through content-based filtering (also known as the personality-based approach).\"\\\n",
    "+\"[7] Collaborative filtering approaches build a model from a user's past behaviour (items previously purchased or \"\\\n",
    "+\"selected and/or numerical ratings given to those items) as well as similar decisions made by other users.\"\\\n",
    "+\"This model is then used to predict items (or ratings for items) that the user may have an interest in.[8] \"\\\n",
    "+\"Content-based filtering approaches utilize a series of discrete characteristics of an item in order to recommend \"\\\n",
    "+\"additional items with similar properties.[9]       These approaches are often combined (see Hybrid Recommender Systems).\"\\\n",
    "+\"The differences between collaborati/ve and content-based filtering can be demonstrated by comparing two popular music\" \\\n",
    "+\"recommender systems – Last.fm and Pandora Radio. Last.fm creates a 'station' of recommended songs by observing what \"\\\n",
    "+\"bands and individual tracks the user has listened to on a regular basis and comparing those against the listening \"\\\n",
    "+\"behavior of other users. / Last.fm will play tracks that do not appear in the user's library, but are often played by \"\\\n",
    "+\"other users with similar interests. As this approach leverages the behavior of users, it is an example of a\" \\\n",
    "+\"collaborative filtering technique. Pandora      uses the properties of a song or artist (a subset of the 400 \"\\\n",
    "+\"attributes provided by the Music Genome Project) to seed a 'station' that plays music with similar properties. \"\\\n",
    "+\"User feedback is used to refine the station's results, deemphasizing certain attributes when a user 'dislikes' \"\\\n",
    "+\"a particular song and emphasizing other attributes when a user 'likes' a song. This is an example of a content-based approach.\"\\\n",
    "+\"Each type of system has its strengths and weaknesses. In the above example, Last.fm requires a large amount of \"\\\n",
    "+\"information about a user to make accurate recommendations. This is an example of the cold start problem, and is common \"\\\n",
    "+\"in collaborative filtering systems.[10][11]/[12] Whereas Pandora needs very little information to start, it is far more \"\\\n",
    "+\"limited in scope (for example, it can only make recommendations that are similar to the original seed).\"\\\n",
    "+\"Recommender systems are a useful alternative to search algorithms since they help users discover items they \"\\\n",
    "+\"might not have found otherwise. Of note, recommender systems are often implemented using search engines \"\\\n",
    "+\"indexing non-traditional data.Recommender systems were first mentioned in a technical report as a \"\\\n",
    "+\"digital bookshelf in 1990 by Jussi Karlgren at Columbia University,[13] and implemented at scale and worked \"\\\n",
    "+\"through in technical reports and publications from 1994 onwards by Jussi Karlgren, then at SICS,[14] [15] \"\\\n",
    "+\"and research groups led by Pattie Maes at MIT,[16] Will Hill at Bellcore,[17] and Paul Resnick, also at MIT[18] \"\\\n",
    "+\"[19] whose work with GroupLens was awarded the 2010 ACM Software Systems Award.Montaner provided the \"\\\n",
    "+\"first overview of recommender systems from an intelligent agent perspective.[20] Adomavicius provided a \"\\\n",
    "+\"new, alternate overview of recommender systems.[21] Herlocker provides an additional overview of \"\\\n",
    "+\"evaluation techniques for recommender systems,[22] and Beel et al. discussed the problems of offline \"\\\n",
    "+\"evaluations.[23] Beel et al. have also provided literature surveys on available research paper \"\\\n",
    "+\"recommender systems and existing challenges.[24][25][26]. Recommender systems have been the focus of \"\\\n",
    "+\"several granted patents. [27][28][29][30][31]\"\\\n",
    "\n"
   ]
  },
  {
   "cell_type": "code",
   "execution_count": 2,
   "metadata": {},
   "outputs": [
    {
     "name": "stdout",
     "output_type": "stream",
     "text": [
      "Recommender systems typically produce a list of recommendations in one of two ways – through collaborative filtering or through content-based filtering (also known as the personality-based approach).[] Collaborative filtering approaches build a model from a user's past behaviour (items previously purchased or selected and/or numerical ratings given to those items) as well as similar decisions made by other users.This model is then used to predict items (or ratings for items) that the user may have an interest in.[] Content-based filtering approaches utilize a series of discrete characteristics of an item in order to recommend additional items with similar properties.[]       These approaches are often combined (see Hybrid Recommender Systems).The differences between collaborati/ve and content-based filtering can be demonstrated by comparing two popular musicrecommender systems – Last.fm and Pandora Radio. Last.fm creates a 'station' of recommended songs by observing what bands and individual tracks the user has listened to on a regular basis and comparing those against the listening behavior of other users. / Last.fm will play tracks that do not appear in the user's library, but are often played by other users with similar interests. As this approach leverages the behavior of users, it is an example of acollaborative filtering technique. Pandora      uses the properties of a song or artist (a subset of the  attributes provided by the Music Genome Project) to seed a 'station' that plays music with similar properties. User feedback is used to refine the station's results, deemphasizing certain attributes when a user 'dislikes' a particular song and emphasizing other attributes when a user 'likes' a song. This is an example of a content-based approach.Each type of system has its strengths and weaknesses. In the above example, Last.fm requires a large amount of information about a user to make accurate recommendations. This is an example of the cold start problem, and is common in collaborative filtering systems.[][]/[] Whereas Pandora needs very little information to start, it is far more limited in scope (for example, it can only make recommendations that are similar to the original seed).Recommender systems are a useful alternative to search algorithms since they help users discover items they might not have found otherwise. Of note, recommender systems are often implemented using search engines indexing non-traditional data.Recommender systems were first mentioned in a technical report as a digital bookshelf in  by Jussi Karlgren at Columbia University,[] and implemented at scale and worked through in technical reports and publications from  onwards by Jussi Karlgren, then at SICS,[] [] and research groups led by Pattie Maes at MIT,[] Will Hill at Bellcore,[] and Paul Resnick, also at MIT[] [] whose work with GroupLens was awarded the  ACM Software Systems Award.Montaner provided the first overview of recommender systems from an intelligent agent perspective.[] Adomavicius provided a new, alternate overview of recommender systems.[] Herlocker provides an additional overview of evaluation techniques for recommender systems,[] and Beel et al. discussed the problems of offline evaluations.[] Beel et al. have also provided literature surveys on available research paper recommender systems and existing challenges.[][][]. Recommender systems have been the focus of several granted patents. [][][][][]\n",
      "regex time: 0.00046s\n",
      "string.translate time: 0.00088s\n",
      "Recommender systems typically produce a list of recommendations in one of two ways – through collaborative filtering or through content-based filtering (also known as the personality-based approach).[] Collaborative filtering approaches build a model from a user's past behaviour (items previously purchased or selected and/or numerical ratings given to those items) as well as similar decisions made by other users.This model is then used to predict items (or ratings for items) that the user may have an interest in.[] Content-based filtering approaches utilize a series of discrete characteristics of an item in order to recommend additional items with similar properties.[]       These approaches are often combined (see Hybrid Recommender Systems).The differences between collaborati/ve and content-based filtering can be demonstrated by comparing two popular musicrecommender systems – Last.fm and Pandora Radio. Last.fm creates a 'station' of recommended songs by observing what bands and individual tracks the user has listened to on a regular basis and comparing those against the listening behavior of other users. / Last.fm will play tracks that do not appear in the user's library, but are often played by other users with similar interests. As this approach leverages the behavior of users, it is an example of acollaborative filtering technique. Pandora      uses the properties of a song or artist (a subset of the  attributes provided by the Music Genome Project) to seed a 'station' that plays music with similar properties. User feedback is used to refine the station's results, deemphasizing certain attributes when a user 'dislikes' a particular song and emphasizing other attributes when a user 'likes' a song. This is an example of a content-based approach.Each type of system has its strengths and weaknesses. In the above example, Last.fm requires a large amount of information about a user to make accurate recommendations. This is an example of the cold start problem, and is common in collaborative filtering systems.[][]/[] Whereas Pandora needs very little information to start, it is far more limited in scope (for example, it can only make recommendations that are similar to the original seed).Recommender systems are a useful alternative to search algorithms since they help users discover items they might not have found otherwise. Of note, recommender systems are often implemented using search engines indexing non-traditional data.Recommender systems were first mentioned in a technical report as a digital bookshelf in  by Jussi Karlgren at Columbia University,[] and implemented at scale and worked through in technical reports and publications from  onwards by Jussi Karlgren, then at SICS,[] [] and research groups led by Pattie Maes at MIT,[] Will Hill at Bellcore,[] and Paul Resnick, also at MIT[] [] whose work with GroupLens was awarded the  ACM Software Systems Award.Montaner provided the first overview of recommender systems from an intelligent agent perspective.[] Adomavicius provided a new, alternate overview of recommender systems.[] Herlocker provides an additional overview of evaluation techniques for recommender systems,[] and Beel et al. discussed the problems of offline evaluations.[] Beel et al. have also provided literature surveys on available research paper recommender systems and existing challenges.[][][]. Recommender systems have been the focus of several granted patents. [][][][][]\n"
     ]
    }
   ],
   "source": [
    "t0=time.time()\n",
    "r = re.compile(r'\\d')\n",
    "rec = r.sub('', text_)\n",
    "t1=time.time()\n",
    "print(rec)\n",
    "print(\"regex time: {:.5f}s\".format(t1-t0))\n",
    "\n",
    "\n",
    "\n",
    "t0=time.time()\n",
    "\n",
    "\n",
    "dig = str.maketrans('','', '0123456789')\n",
    "strc = text_.translate(dig)\n",
    "t1=time.time()\n",
    "print(\"string.translate time: {:.5f}s\".format(t1-t0))\n",
    "print(strc)"
   ]
  },
  {
   "cell_type": "code",
   "execution_count": 3,
   "metadata": {},
   "outputs": [],
   "source": [
    "def manual_text_cleaner(txt):\n",
    "    \n",
    "   # Remove all digits\n",
    "    txt = re.sub(r'\\d',' ',txt)\n",
    "    \n",
    "    # Remove punctuation.\n",
    "    puncs = str.maketrans(\"\",\"\", string.punctuation)\n",
    "    txt = txt.translate(puncs)\n",
    "    \n",
    "    # Remove stopwords\n",
    "    stopword_list = ['a','able','about','across','after','all','almost','also','am','among','an','and','any','are','as',\n",
    "                     'at','be','because','been','but','by','can','cannot','could','dear','did','do',\n",
    "                     'does','either','else','ever','every','for','from','get','got','had','has','have','he',\n",
    "                     'her','hers','him','his','how','however','i','if','in','into','is','it','its','just','least',\n",
    "                     'let','like','likely','may','me','might','most','must','my','neither','no','nor','not','of','off',\n",
    "                     'often','on','only','or','other','our','own','rather','said','say','says','she','should','since',\n",
    "                     'so','some','than','that','the','their','them','then','there','these','they','this','tis','to',\n",
    "                     'too','twas','us','wants','was','we','were','what','when','where','which','while','who','whom','why',\n",
    "                     'will','with','would','yet','you','your']\n",
    "    stopwords = set(list(stopword_list)+list(text.ENGLISH_STOP_WORDS))\n",
    "    \n",
    "    txt = ' '.join([word for word in txt.split() if word not in (stopwords)])\n",
    "    \n",
    "    # make lowercase\n",
    "    txt = txt.lower()\n",
    "    \n",
    "    # Get rid of extra whitespace.\n",
    "    txt = ' '.join(txt.split())\n",
    "    \n",
    "    return txt"
   ]
  },
  {
   "cell_type": "code",
   "execution_count": 4,
   "metadata": {},
   "outputs": [
    {
     "data": {
      "text/plain": [
       "'recommender systems typically produce list recommendations ways – collaborative filtering contentbased filtering known personalitybased approach collaborative filtering approaches build model users past behaviour items previously purchased selected andor numerical ratings given items similar decisions usersthis model used predict items ratings items user contentbased filtering approaches utilize series discrete characteristics item order recommend additional items similar properties these approaches combined hybrid recommender systemsthe differences collaborative contentbased filtering demonstrated comparing popular musicrecommender systems – lastfm pandora radio lastfm creates station recommended songs observing bands individual tracks user listened regular basis comparing listening behavior users lastfm play tracks appear users library played users similar interests as approach leverages behavior users example acollaborative filtering technique pandora uses properties song artist subset attributes provided music genome project seed station plays music similar properties user feedback used refine stations results deemphasizing certain attributes user dislikes particular song emphasizing attributes user likes song this example contentbased approacheach type strengths weaknesses in example lastfm requires large information user make accurate recommendations this example cold start problem common collaborative filtering systems whereas pandora needs little information start far limited scope example make recommendations similar original seedrecommender systems useful alternative search algorithms help users discover items of note recommender systems implemented using search engines indexing nontraditional datarecommender systems mentioned technical report digital bookshelf jussi karlgren columbia university implemented scale worked technical reports publications onwards jussi karlgren sics research groups led pattie maes mit will hill bellcore paul resnick mit work grouplens awarded acm software systems awardmontaner provided overview recommender systems intelligent agent perspective adomavicius provided new alternate overview recommender systems herlocker provides additional overview evaluation techniques recommender systems beel et al discussed problems offline evaluations beel et al provided literature surveys available research paper recommender systems existing challenges recommender systems focus granted patents'"
      ]
     },
     "execution_count": 4,
     "metadata": {},
     "output_type": "execute_result"
    }
   ],
   "source": [
    "manual_text_cleaner(text_)"
   ]
  },
  {
   "cell_type": "code",
   "execution_count": 5,
   "metadata": {},
   "outputs": [],
   "source": [
    "text_to_df = text_.split('.')\n",
    "df = pd.Series(text_to_df)"
   ]
  },
  {
   "cell_type": "code",
   "execution_count": 6,
   "metadata": {},
   "outputs": [
    {
     "name": "stdout",
     "output_type": "stream",
     "text": [
      "0     recommender systems typically produce list recommendations ways – collaborative filtering contentbased filtering known personalitybased approach                                                                                                                                                                 \n",
      "1     collaborative filtering approaches build model users past behaviour items previously purchased selected andor numerical ratings given items similar decisions users                                                                                                                                              \n",
      "2     this model used predict items ratings items user                                                                                                                                                                                                                                                                 \n",
      "3     contentbased filtering approaches utilize series discrete characteristics item order recommend additional items similar properties                                                                                                                                                                               \n",
      "4     these approaches combined hybrid recommender systems                                                                                                                                                                                                                                                             \n",
      "5     the differences collaborative contentbased filtering demonstrated comparing popular musicrecommender systems – last                                                                                                                                                                                              \n",
      "6     fm pandora radio                                                                                                                                                                                                                                                                                                 \n",
      "7     last                                                                                                                                                                                                                                                                                                             \n",
      "8     fm creates station recommended songs observing bands individual tracks user listened regular basis comparing listening behavior users                                                                                                                                                                            \n",
      "9     last                                                                                                                                                                                                                                                                                                             \n",
      "10    fm play tracks appear users library played users similar interests                                                                                                                                                                                                                                               \n",
      "11    as approach leverages behavior users example acollaborative filtering technique                                                                                                                                                                                                                                  \n",
      "12    pandora uses properties song artist subset attributes provided music genome project seed station plays music similar properties                                                                                                                                                                                  \n",
      "13    user feedback used refine stations results deemphasizing certain attributes user dislikes particular song emphasizing attributes user likes song                                                                                                                                                                 \n",
      "14    this example contentbased approach                                                                                                                                                                                                                                                                               \n",
      "15    each type strengths weaknesses                                                                                                                                                                                                                                                                                   \n",
      "16    in example last                                                                                                                                                                                                                                                                                                  \n",
      "17    fm requires large information user make accurate recommendations                                                                                                                                                                                                                                                 \n",
      "18    this example cold start problem common collaborative filtering systems                                                                                                                                                                                                                                           \n",
      "19    whereas pandora needs little information start far limited scope example make recommendations similar original seed                                                                                                                                                                                              \n",
      "20    recommender systems useful alternative search algorithms help users discover items                                                                                                                                                                                                                               \n",
      "21    of note recommender systems implemented using search engines indexing nontraditional data                                                                                                                                                                                                                        \n",
      "22    recommender systems mentioned technical report digital bookshelf jussi karlgren columbia university implemented scale worked technical reports publications onwards jussi karlgren sics research groups led pattie maes mit will hill bellcore paul resnick mit work grouplens awarded acm software systems award\n",
      "23    montaner provided overview recommender systems intelligent agent perspective                                                                                                                                                                                                                                     \n",
      "24    adomavicius provided new alternate overview recommender systems                                                                                                                                                                                                                                                  \n",
      "25    herlocker provides additional overview evaluation techniques recommender systems beel et al                                                                                                                                                                                                                      \n",
      "26    discussed problems offline evaluations                                                                                                                                                                                                                                                                           \n",
      "27    beel et al                                                                                                                                                                                                                                                                                                       \n",
      "28    provided literature surveys available research paper recommender systems existing challenges                                                                                                                                                                                                                     \n",
      "29                                                                                                                                                                                                                                                                                                                     \n",
      "30    recommender systems focus granted patents                                                                                                                                                                                                                                                                        \n",
      "31                                                                                                                                                                                                                                                                                                                     \n",
      "dtype: object\n"
     ]
    }
   ],
   "source": [
    "pd.set_option('max_colwidth',-1)\n",
    "df = df.apply(manual_text_cleaner)\n",
    "print(df)"
   ]
  },
  {
   "cell_type": "code",
   "execution_count": 82,
   "metadata": {
    "scrolled": false
   },
   "outputs": [
    {
     "name": "stdout",
     "output_type": "stream",
     "text": [
      "<class 'list'>\n",
      "                   counts\n",
      "systems            10    \n",
      "filtering          7     \n",
      "recommender        6     \n",
      "items              5     \n",
      "similar            5     \n",
      "example            5     \n",
      "users              5     \n",
      "'fm                4     \n",
      "user               4     \n",
      "'this              3     \n",
      "approaches         3     \n",
      "provided           3     \n",
      "'recommender       3     \n",
      "contentbased       3     \n",
      "collaborative      3     \n",
      "systems',          3     \n",
      "attributes         3     \n",
      "overview           3     \n",
      "jussi              2     \n",
      "song               2     \n",
      "karlgren           2     \n",
      "et                 2     \n",
      "additional         2     \n",
      "implemented        2     \n",
      "'last',            2     \n",
      "properties',       2     \n",
      "pandora            2     \n",
      "last',             2     \n",
      "technical          2     \n",
      "music              2     \n",
      "...               ..     \n",
      "strengths          1     \n",
      "weaknesses',       1     \n",
      "'in                1     \n",
      "requires           1     \n",
      "large              1     \n",
      "accurate           1     \n",
      "recommendations',  1     \n",
      "feedback           1     \n",
      "plays              1     \n",
      "basis              1     \n",
      "leverages          1     \n",
      "listening          1     \n",
      "play               1     \n",
      "appear             1     \n",
      "library            1     \n",
      "played             1     \n",
      "interests',        1     \n",
      "'as                1     \n",
      "approach           1     \n",
      "acollaborative     1     \n",
      "seed               1     \n",
      "technique',        1     \n",
      "'pandora           1     \n",
      "uses               1     \n",
      "properties         1     \n",
      "artist             1     \n",
      "subset             1     \n",
      "genome             1     \n",
      "project            1     \n",
      "'']                1     \n",
      "\n",
      "[215 rows x 1 columns]\n"
     ]
    }
   ],
   "source": [
    "# Find most common words in dataframe\n",
    "corpus = str(df.values.tolist()).split()\n",
    "\n",
    "print(type(corpus))\n",
    "#corpus_clean = manual_text_cleaner(str(corpus))\n",
    "counts = collections.Counter(corpus)\n",
    "counts = pd.DataFrame(counts, index=range(1)).T\n",
    "counts.columns = ['counts']\n",
    "counts = counts.sort_values(by='counts', ascending=False)\n",
    "print(counts)\n",
    "            "
   ]
  },
  {
   "cell_type": "code",
   "execution_count": 44,
   "metadata": {
    "scrolled": true
   },
   "outputs": [
    {
     "data": {
      "text/plain": [
       "{}"
      ]
     },
     "execution_count": 44,
     "metadata": {},
     "output_type": "execute_result"
    }
   ],
   "source": [
    "wordcount"
   ]
  },
  {
   "cell_type": "code",
   "execution_count": null,
   "metadata": {},
   "outputs": [],
   "source": []
  }
 ],
 "metadata": {
  "kernelspec": {
   "display_name": "Python 3",
   "language": "python",
   "name": "python3"
  },
  "language_info": {
   "codemirror_mode": {
    "name": "ipython",
    "version": 3
   },
   "file_extension": ".py",
   "mimetype": "text/x-python",
   "name": "python",
   "nbconvert_exporter": "python",
   "pygments_lexer": "ipython3",
   "version": "3.6.7"
  }
 },
 "nbformat": 4,
 "nbformat_minor": 2
}
