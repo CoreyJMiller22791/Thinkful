{
 "cells": [
  {
   "cell_type": "markdown",
   "metadata": {},
   "source": [
    "# Credit Card Fraud Predictor"
   ]
  },
  {
   "cell_type": "code",
   "execution_count": 15,
   "metadata": {},
   "outputs": [],
   "source": [
    "import numpy as np\n",
    "import pandas as pd\n",
    "import matplotlib.pyplot as plt\n",
    "import seaborn as sns\n",
    "import scipy\n",
    "import stats\n",
    "import sklearn\n",
    "\n",
    "from sklearn.model_selection import train_test_split, cross_val_score, GridSearchCV\n",
    "from sklearn.linear_model import LogisticRegression\n",
    "from sklearn.neighbors import KNeighborsClassifier\n",
    "from sklearn.tree import DecisionTreeClassifier\n",
    "from sklearn.ensemble import RandomForestClassifier, GradientBoostingClassifier\n",
    "from sklearn.svm import SVC\n",
    "from sklearn.naive_bayes import BernoulliNB\n",
    "from sklearn.metrics import confusion_matrix, precision_score, recall_score, f1_score ,classification_report\n",
    "\n",
    "import warnings\n",
    "%matplotlib inline\n",
    "warnings.filterwarnings('ignore')"
   ]
  },
  {
   "cell_type": "code",
   "execution_count": 3,
   "metadata": {},
   "outputs": [
    {
     "name": "stdout",
     "output_type": "stream",
     "text": [
      "(284807, 31)\n"
     ]
    }
   ],
   "source": [
    "# load the data\n",
    "raw = pd.read_csv('creditcard.csv')\n",
    "print(raw.shape)"
   ]
  },
  {
   "cell_type": "code",
   "execution_count": 3,
   "metadata": {},
   "outputs": [
    {
     "name": "stdout",
     "output_type": "stream",
     "text": [
      "The number of null values is:\n",
      "0\n",
      "                Time            V1            V2            V3            V4  \\\n",
      "count  284807.000000  2.848070e+05  2.848070e+05  2.848070e+05  2.848070e+05   \n",
      "mean    94813.859575  1.165980e-15  3.416908e-16 -1.373150e-15  2.086869e-15   \n",
      "std     47488.145955  1.958696e+00  1.651309e+00  1.516255e+00  1.415869e+00   \n",
      "min         0.000000 -5.640751e+01 -7.271573e+01 -4.832559e+01 -5.683171e+00   \n",
      "25%     54201.500000 -9.203734e-01 -5.985499e-01 -8.903648e-01 -8.486401e-01   \n",
      "50%     84692.000000  1.810880e-02  6.548556e-02  1.798463e-01 -1.984653e-02   \n",
      "75%    139320.500000  1.315642e+00  8.037239e-01  1.027196e+00  7.433413e-01   \n",
      "max    172792.000000  2.454930e+00  2.205773e+01  9.382558e+00  1.687534e+01   \n",
      "\n",
      "                 V5            V6            V7            V8            V9  \\\n",
      "count  2.848070e+05  2.848070e+05  2.848070e+05  2.848070e+05  2.848070e+05   \n",
      "mean   9.604066e-16  1.490107e-15 -5.556467e-16  1.177556e-16 -2.406455e-15   \n",
      "std    1.380247e+00  1.332271e+00  1.237094e+00  1.194353e+00  1.098632e+00   \n",
      "min   -1.137433e+02 -2.616051e+01 -4.355724e+01 -7.321672e+01 -1.343407e+01   \n",
      "25%   -6.915971e-01 -7.682956e-01 -5.540759e-01 -2.086297e-01 -6.430976e-01   \n",
      "50%   -5.433583e-02 -2.741871e-01  4.010308e-02  2.235804e-02 -5.142873e-02   \n",
      "75%    6.119264e-01  3.985649e-01  5.704361e-01  3.273459e-01  5.971390e-01   \n",
      "max    3.480167e+01  7.330163e+01  1.205895e+02  2.000721e+01  1.559499e+01   \n",
      "\n",
      "           ...                 V21           V22           V23           V24  \\\n",
      "count      ...        2.848070e+05  2.848070e+05  2.848070e+05  2.848070e+05   \n",
      "mean       ...        1.656562e-16 -3.444850e-16  2.578648e-16  4.471968e-15   \n",
      "std        ...        7.345240e-01  7.257016e-01  6.244603e-01  6.056471e-01   \n",
      "min        ...       -3.483038e+01 -1.093314e+01 -4.480774e+01 -2.836627e+00   \n",
      "25%        ...       -2.283949e-01 -5.423504e-01 -1.618463e-01 -3.545861e-01   \n",
      "50%        ...       -2.945017e-02  6.781943e-03 -1.119293e-02  4.097606e-02   \n",
      "75%        ...        1.863772e-01  5.285536e-01  1.476421e-01  4.395266e-01   \n",
      "max        ...        2.720284e+01  1.050309e+01  2.252841e+01  4.584549e+00   \n",
      "\n",
      "                V25           V26           V27           V28         Amount  \\\n",
      "count  2.848070e+05  2.848070e+05  2.848070e+05  2.848070e+05  284807.000000   \n",
      "mean   5.340915e-16  1.687098e-15 -3.666453e-16 -1.220404e-16      88.349619   \n",
      "std    5.212781e-01  4.822270e-01  4.036325e-01  3.300833e-01     250.120109   \n",
      "min   -1.029540e+01 -2.604551e+00 -2.256568e+01 -1.543008e+01       0.000000   \n",
      "25%   -3.171451e-01 -3.269839e-01 -7.083953e-02 -5.295979e-02       5.600000   \n",
      "50%    1.659350e-02 -5.213911e-02  1.342146e-03  1.124383e-02      22.000000   \n",
      "75%    3.507156e-01  2.409522e-01  9.104512e-02  7.827995e-02      77.165000   \n",
      "max    7.519589e+00  3.517346e+00  3.161220e+01  3.384781e+01   25691.160000   \n",
      "\n",
      "               Class  \n",
      "count  284807.000000  \n",
      "mean        0.001727  \n",
      "std         0.041527  \n",
      "min         0.000000  \n",
      "25%         0.000000  \n",
      "50%         0.000000  \n",
      "75%         0.000000  \n",
      "max         1.000000  \n",
      "\n",
      "[8 rows x 31 columns]\n",
      "(284807, 31)\n"
     ]
    }
   ],
   "source": [
    "# Check out the data a bit\n",
    "print('The number of null values is:')\n",
    "print(raw.isnull().sum().sum())\n",
    "print(raw.describe(include='all'))\n",
    "\n",
    "raw.drop_duplicates()\n",
    "print(raw.shape)"
   ]
  },
  {
   "cell_type": "markdown",
   "metadata": {},
   "source": [
    "The data set is quite large with almost 300K observations.  We are trying to predict credit card fraud which is the Class variable.  It is a binary variable where 1 represents fraud.  Based on the description of the variable it looks like there are not a lot of frauds in the data.  Of the 30 independent variables it appears that there are 28 V variables that are roughly on the same scale where the time and amount variables are different.  The time variable represents the number of seconds elapsed between this transaction and the first transaction in the dataset.  The amount variable represents the transaction amount.  It also appears that there is an outlier in the amount variable."
   ]
  },
  {
   "cell_type": "code",
   "execution_count": 4,
   "metadata": {},
   "outputs": [
    {
     "data": {
      "image/png": "[encoded data removed]",
      "text/plain": [
       "<Figure size 576x288 with 2 Axes>"
      ]
     },
     "metadata": {
      "needs_background": "light"
     },
     "output_type": "display_data"
    }
   ],
   "source": [
    "fig, (ax1, ax2) = plt.subplots(1, 2, sharey=False, figsize=(8,4), gridspec_kw={'wspace': 1})\n",
    "\n",
    "sns.boxplot(x='Class', y='Time', data=raw, ax=ax1)\n",
    "ax1.set_title('Boxplots of Time vs Fraud')\n",
    "sns.barplot(x='Class', y='Amount', data=raw, ax=ax2)\n",
    "ax2.set_title('Average Transaction Amount vs Fraud')\n",
    "plt.show()"
   ]
  },
  {
   "cell_type": "markdown",
   "metadata": {},
   "source": [
    "We can see that there is a shorter amount of time spent between transactions for fraudulent cases, which is what we might expect - a thief is working as fast as possible to take the money before he/she is discovered.  The average transaction amount is also higher for fraud as well."
   ]
  },
  {
   "cell_type": "code",
   "execution_count": 5,
   "metadata": {},
   "outputs": [
    {
     "data": {
      "image/png": "[encoded data removed]",
      "text/plain": [
       "<Figure size 432x288 with 1 Axes>"
      ]
     },
     "metadata": {
      "needs_background": "light"
     },
     "output_type": "display_data"
    }
   ],
   "source": [
    "raw.Amount.plot()\n",
    "plt.title('Plot of Amount to find outliers')\n",
    "plt.ylabel('Amount')\n",
    "plt.show()"
   ]
  },
  {
   "cell_type": "code",
   "execution_count": 6,
   "metadata": {},
   "outputs": [
    {
     "name": "stdout",
     "output_type": "stream",
     "text": [
      "count    284807.000000\n",
      "mean         88.205466\n",
      "std         241.201158\n",
      "min           0.000000\n",
      "25%           5.600000\n",
      "50%          22.000000\n",
      "75%          77.165000\n",
      "max       10000.000000\n",
      "Name: Amount, dtype: float64\n"
     ]
    }
   ],
   "source": [
    "# Let's cap the amount column at 10,000\n",
    "raw.Amount[raw['Amount'] >= 10000] = 10000\n",
    "print(raw.Amount.describe())"
   ]
  },
  {
   "cell_type": "code",
   "execution_count": 7,
   "metadata": {},
   "outputs": [
    {
     "name": "stdout",
     "output_type": "stream",
     "text": [
      "               Time        Amount\n",
      "count  2.848070e+05  2.848070e+05\n",
      "mean  -3.065637e-16 -4.989644e-17\n",
      "std    1.000002e+00  1.000002e+00\n",
      "min   -1.996583e+00 -3.656932e-01\n",
      "25%   -8.552120e-01 -3.424760e-01\n",
      "50%   -2.131453e-01 -2.744829e-01\n",
      "75%    9.372174e-01 -4.577293e-02\n",
      "max    1.642058e+00  4.109355e+01\n"
     ]
    }
   ],
   "source": [
    "# now let's standardize the time and amount column\n",
    "raw[['Time','Amount']] = raw[['Time','Amount']].apply(lambda x: scipy.stats.zscore(x))\n",
    "print(raw[['Time','Amount']].describe())"
   ]
  },
  {
   "cell_type": "code",
   "execution_count": 8,
   "metadata": {},
   "outputs": [
    {
     "name": "stdout",
     "output_type": "stream",
     "text": [
      "0    284315\n",
      "1       492\n",
      "Name: Class, dtype: int64\n"
     ]
    },
    {
     "data": {
      "image/png": "[encoded data removed]",
      "text/plain": [
       "<Figure size 432x288 with 1 Axes>"
      ]
     },
     "metadata": {
      "needs_background": "light"
     },
     "output_type": "display_data"
    }
   ],
   "source": [
    "print(raw.Class.value_counts())\n",
    "sns.countplot(raw.Class)\n",
    "plt.title('Cases of Fraud')\n",
    "plt.show()"
   ]
  },
  {
   "cell_type": "markdown",
   "metadata": {},
   "source": [
    "We have only 492 cases of fraud!  That is incredibly imbalanced. With a situation like this we will focus on metrics like:\n",
    "- **precision - how many selected instances are relevant**\n",
    "    - What proportion of positive identifications was actually correct?\n",
    "    - $\\frac{TP}{TP+FP}$\n",
    "- **specificity - true negative rate**\n",
    "    - $\\frac{TN}{TP+FN}$\n",
    "- **recall/sensitivity - how many relevant instances are selected - true positive rate**\n",
    "    - What proportion of actual positives was identified correctly?\n",
    "    - $\\frac{TP}{TP+FN}$\n",
    "- **F1 score - harmonic mean of precision and recall**\n",
    "- **percent of type1 error/type2 error**\n",
    "\n",
    "**Precision says how precise (how sure) is our model in detecting fraud transactions while recall is the amount of fraud cases our model is able to detect**\n",
    "\n",
    "The most important metric of the ones above is going to be the recall because the recall is the true positive rate, which represents the actual number of fraud cases identified\n",
    "\n",
    "We will also have to deal with the imbalance by under-sampling the data set.  With under-sampling we will keep all 492 fraud cases and randomly select 492 non-fraud cases.  With doing this we do run the risk of having too simple of a model because of the information loss of only selecting 492 cases of non-fraud from 280K."
   ]
  },
  {
   "cell_type": "code",
   "execution_count": 5,
   "metadata": {},
   "outputs": [
    {
     "name": "stdout",
     "output_type": "stream",
     "text": [
      "(984, 31)\n",
      "1    492\n",
      "0    492\n",
      "Name: Class, dtype: int64\n"
     ]
    },
    {
     "data": {
      "image/png": "[encoded data removed]",
      "text/plain": [
       "<Figure size 432x288 with 1 Axes>"
      ]
     },
     "metadata": {
      "needs_background": "light"
     },
     "output_type": "display_data"
    }
   ],
   "source": [
    "fraud = raw[raw.Class==1]\n",
    "non_fraud = raw[raw.Class==0].sample(492)\n",
    "undersample = pd.concat([fraud, non_fraud])\n",
    "\n",
    "print(undersample.shape)\n",
    "print(undersample.Class.value_counts())\n",
    "sns.countplot(undersample.Class)\n",
    "plt.title('Cases of Fraud')\n",
    "plt.show()"
   ]
  },
  {
   "cell_type": "markdown",
   "metadata": {},
   "source": [
    "Now we have a balanced dataset, albeit much smaller than the original but it should provide better protection from overfitting and mis-representing the relationships between the independent and dependent variables.  With a balanced dataset we will be able to better see how the independent variables effect the outcome.\n",
    "\n",
    "Let's get a baseline for a number of different classifiers to find out how they are performing on our undersampled data set."
   ]
  },
  {
   "cell_type": "code",
   "execution_count": 7,
   "metadata": {},
   "outputs": [
    {
     "name": "stdout",
     "output_type": "stream",
     "text": [
      "Logistic Regression has a score of 93.0 % accuracy score\n",
      "[[488   4]\n",
      " [ 50 442]]\n",
      "Precision: 0.9910313901345291\n",
      "Recall (True Positive Rate): 0.8983739837398373\n",
      "Specificity (True Negative Rate): 0.991869918699187\n",
      "F1: 0.9424307036247334\n",
      "Percent type 1 error: 0.0040650406504065045\n",
      "Percent type 2 error: 0.0508130081300813\n",
      "--------------------------------------------------------------------------------\n",
      "KNN Classifier has a score of 36.0 % accuracy score\n",
      "[[374 118]\n",
      " [124 368]]\n",
      "Precision: 0.757201646090535\n",
      "Recall (True Positive Rate): 0.7479674796747967\n",
      "Specificity (True Negative Rate): 0.7601626016260162\n",
      "F1: 0.7525562372188139\n",
      "Percent type 1 error: 0.11991869918699187\n",
      "Percent type 2 error: 0.12601626016260162\n",
      "--------------------------------------------------------------------------------\n",
      "Decision Tree has a score of 92.0 % accuracy score\n",
      "[[492   0]\n",
      " [  0 492]]\n",
      "Precision: 1.0\n",
      "Recall (True Positive Rate): 1.0\n",
      "Specificity (True Negative Rate): 1.0\n",
      "F1: 1.0\n",
      "Percent type 1 error: 0.0\n",
      "Percent type 2 error: 0.0\n",
      "--------------------------------------------------------------------------------\n",
      "Random Forest has a score of 93.0 % accuracy score\n",
      "[[492   0]\n",
      " [  5 487]]\n",
      "Precision: 1.0\n",
      "Recall (True Positive Rate): 0.9898373983739838\n",
      "Specificity (True Negative Rate): 1.0\n",
      "F1: 0.9948927477017365\n",
      "Percent type 1 error: 0.0\n",
      "Percent type 2 error: 0.00508130081300813\n",
      "--------------------------------------------------------------------------------\n",
      "Gradient Boosting has a score of 94.0 % accuracy score\n",
      "[[492   0]\n",
      " [  2 490]]\n",
      "Precision: 1.0\n",
      "Recall (True Positive Rate): 0.9959349593495935\n",
      "Specificity (True Negative Rate): 1.0\n",
      "F1: 0.9979633401221996\n",
      "Percent type 1 error: 0.0\n",
      "Percent type 2 error: 0.0020325203252032522\n",
      "--------------------------------------------------------------------------------\n",
      "Naive Bayes has a score of 91.0 % accuracy score\n",
      "[[491   1]\n",
      " [ 88 404]]\n",
      "Precision: 0.9975308641975309\n",
      "Recall (True Positive Rate): 0.8211382113821138\n",
      "Specificity (True Negative Rate): 0.9979674796747967\n",
      "F1: 0.9007803790412487\n",
      "Percent type 1 error: 0.0010162601626016261\n",
      "Percent type 2 error: 0.08943089430894309\n",
      "--------------------------------------------------------------------------------\n",
      "Support Vector has a score of 50.0 % accuracy score\n",
      "[[492   0]\n",
      " [  0 492]]\n",
      "Precision: 1.0\n",
      "Recall (True Positive Rate): 1.0\n",
      "Specificity (True Negative Rate): 1.0\n",
      "F1: 1.0\n",
      "Percent type 1 error: 0.0\n",
      "Percent type 2 error: 0.0\n",
      "--------------------------------------------------------------------------------\n"
     ]
    }
   ],
   "source": [
    "x = undersample.drop('Class',1)\n",
    "y = undersample.Class\n",
    "\n",
    "models = {'Logistic Regression':LogisticRegression(), \n",
    "          'KNN Classifier':KNeighborsClassifier(),\n",
    "          'Decision Tree':DecisionTreeClassifier(), \n",
    "          'Random Forest':RandomForestClassifier(), \n",
    "          'Gradient Boosting':GradientBoostingClassifier(), \n",
    "          'Naive Bayes':BernoulliNB(), \n",
    "          'Support Vector':SVC()}\n",
    "\n",
    "for key, model in models.items():\n",
    "    # fit models\n",
    "    model.fit(x, y)\n",
    "    \n",
    "    # Predict the model\n",
    "    pred_y = model.predict(x)\n",
    "    \n",
    "    # score models\n",
    "    score = cross_val_score(model, x, y, cv=5)\n",
    "    print(key, \"has a score of\", round(score.mean(), 2) * 100,\"% accuracy score\")\n",
    "    \n",
    "    # Get the Precision, Recall, and F1 score\n",
    "    precision = precision_score(y, pred_y)\n",
    "    recall = recall_score(y, pred_y)\n",
    "    f1 = f1_score(y, pred_y)\n",
    "    \n",
    "    # get the type 1 and type 2 errors\n",
    "    table = pd.crosstab(y, model.predict(x), margins=True)\n",
    "    type1 = table.loc[0.0, 1.0]/table.loc['All','All']\n",
    "    type2 = table.loc[1.0, 0.0]/table.loc['All','All']    \n",
    "    \n",
    "    # display the confusion matrix\n",
    "    tn, fp, fn, tp = confusion_matrix(y, pred_y).ravel()\n",
    "    print(confusion_matrix(y, pred_y))\n",
    "    \n",
    "    # get the specificity\n",
    "    specificity = tn/(tn+fp)\n",
    "                                \n",
    "    # create a table of info for each classifier\n",
    "    print('Precision: {}\\n'\n",
    "           'Recall (True Positive Rate): {}\\n'\n",
    "           'Specificity (True Negative Rate): {}\\n'\n",
    "           'F1: {}'.format(precision, recall, specificity, f1))\n",
    "    print('Percent type 1 error: {}'.format(type1))\n",
    "    print('Percent type 2 error: {}'.format(type2))\n",
    "    \n",
    "    print('--'*40)"
   ]
  },
  {
   "cell_type": "markdown",
   "metadata": {},
   "source": [
    "It looks like random forest classifier had the highest accuracy, the decision tree had the lowest accuracy but also had no type 1 or 2 errors.  The gradient boosting classifier had the second best accuracy and no type 1 error and second lowest type 2 error percentage.  Based on the information above I am going to move forward with the Gradient Boosting Classifier.  The next step will be to optimize the parameters using the GridSearchCV."
   ]
  },
  {
   "cell_type": "code",
   "execution_count": 10,
   "metadata": {},
   "outputs": [
    {
     "data": {
      "text/plain": [
       "<bound method BaseEstimator.get_params of GradientBoostingClassifier(criterion='friedman_mse', init=None,\n",
       "              learning_rate=0.1, loss='deviance', max_depth=3,\n",
       "              max_features=None, max_leaf_nodes=None,\n",
       "              min_impurity_decrease=0.0, min_impurity_split=None,\n",
       "              min_samples_leaf=1, min_samples_split=2,\n",
       "              min_weight_fraction_leaf=0.0, n_estimators=100,\n",
       "              n_iter_no_change=None, presort='auto', random_state=None,\n",
       "              subsample=1.0, tol=0.0001, validation_fraction=0.1,\n",
       "              verbose=0, warm_start=False)>"
      ]
     },
     "execution_count": 10,
     "metadata": {},
     "output_type": "execute_result"
    }
   ],
   "source": [
    "gbc = GradientBoostingClassifier()\n",
    "gbc.get_params"
   ]
  },
  {
   "cell_type": "code",
   "execution_count": 11,
   "metadata": {
    "scrolled": false
   },
   "outputs": [
    {
     "data": {
      "text/plain": [
       "GridSearchCV(cv=5, error_score='raise-deprecating',\n",
       "       estimator=GradientBoostingClassifier(criterion='friedman_mse', init=None,\n",
       "              learning_rate=0.1, loss='deviance', max_depth=3,\n",
       "              max_features=None, max_leaf_nodes=None,\n",
       "              min_impurity_decrease=0.0, min_impurity_split=None,\n",
       "              min_samples_leaf=1, min_sampl...      subsample=1.0, tol=0.0001, validation_fraction=0.1,\n",
       "              verbose=0, warm_start=False),\n",
       "       fit_params=None, iid='warn', n_jobs=None,\n",
       "       param_grid={'n_estimators': [100, 200, 300], 'loss': ['deviance', 'exponential'], 'max_features': [None, 'sqrt', 'log2'], 'subsample': [0.5, 0.75, 1], 'max_depth': range(2, 9, 2)},\n",
       "       pre_dispatch='2*n_jobs', refit=True, return_train_score='warn',\n",
       "       scoring=None, verbose=0)"
      ]
     },
     "execution_count": 11,
     "metadata": {},
     "output_type": "execute_result"
    }
   ],
   "source": [
    "params = {'n_estimators':[100,200,300],\n",
    "          'loss':['deviance', 'exponential'], \n",
    "          'max_features':[None, 'sqrt', 'log2'],\n",
    "          'subsample':[0.5, 0.75, 1], \n",
    "          'max_depth':range(2,9,2)}\n",
    "clf =  GridSearchCV(gbc, params, cv=5)\n",
    "clf.fit(x,y)"
   ]
  },
  {
   "cell_type": "code",
   "execution_count": 12,
   "metadata": {},
   "outputs": [
    {
     "name": "stdout",
     "output_type": "stream",
     "text": [
      "{'loss': 'deviance', 'max_depth': 6, 'max_features': None, 'n_estimators': 100, 'subsample': 1}\n"
     ]
    }
   ],
   "source": [
    "params = clf.best_params_\n",
    "print(params)"
   ]
  },
  {
   "cell_type": "markdown",
   "metadata": {},
   "source": [
    "Now that we have the optimized parameters :\n",
    "{'loss': 'deviance', 'max_depth': 2, 'max_features': 'sqrt', 'n_estimators': 100, 'subsample': 0.75} \n",
    "Let's get the info for the total dataset."
   ]
  },
  {
   "cell_type": "code",
   "execution_count": 13,
   "metadata": {},
   "outputs": [
    {
     "name": "stdout",
     "output_type": "stream",
     "text": [
      "Gradient Boosting Classifier has a score of 94.0 % accuracy score\n",
      "[[492   0]\n",
      " [  0 492]]\n",
      "Precision: 1.0\n",
      "Recall (True Positive Rate): 1.0\n",
      "Specificity (True Negative Rate): 1.0\n",
      "F1: 1.0\n",
      "Percent type 1 error: 0.0\n",
      "Percent type 2 error: 0.0\n"
     ]
    }
   ],
   "source": [
    "gbc = GradientBoostingClassifier(**params)\n",
    "# fit models\n",
    "gbc.fit(x, y)\n",
    "    \n",
    "# Predict the model\n",
    "pred_y = gbc.predict(x)\n",
    "    \n",
    "# score models\n",
    "score = cross_val_score(gbc, x, y, cv=5)\n",
    "print(\"Gradient Boosting Classifier has a score of\", round(score.mean(), 2) * 100,\"% accuracy score\")\n",
    "    \n",
    "# Get the Precision, Recall, and F1 score\n",
    "precision = precision_score(y, pred_y)\n",
    "recall = recall_score(y, pred_y)\n",
    "f1 = f1_score(y, pred_y)\n",
    "    \n",
    "# get the type 1 and type 2 errors\n",
    "table = pd.crosstab(y, gbc.predict(x), margins=True)\n",
    "type1 = table.loc[0.0, 1.0]/table.loc['All','All']\n",
    "type2 = table.loc[1.0, 0.0]/table.loc['All','All']    \n",
    "    \n",
    "# display the confusion matrix\n",
    "tn, fp, fn, tp = confusion_matrix(y, pred_y).ravel()\n",
    "print(confusion_matrix(y, pred_y))\n",
    "    \n",
    "# get the specificity\n",
    "specificity = tn/(tn+fp)\n",
    "                                                           \n",
    "# create a table of info for each classifier\n",
    "print('Precision: {}\\n'\n",
    "      'Recall (True Positive Rate): {}\\n'\n",
    "      'Specificity (True Negative Rate): {}\\n'\n",
    "      'F1: {}'.format(precision, recall, specificity, f1))\n",
    "print('Percent type 1 error: {}'.format(type1))\n",
    "print('Percent type 2 error: {}'.format(type2))"
   ]
  },
  {
   "cell_type": "markdown",
   "metadata": {},
   "source": [
    "Now that we have this model fit for the fine tuned parameters. Let's see how it performs on the 'test' a.k.a the full data."
   ]
  },
  {
   "cell_type": "code",
   "execution_count": 16,
   "metadata": {},
   "outputs": [
    {
     "name": "stdout",
     "output_type": "stream",
     "text": [
      "Gradient Boosting Classifier on full dataset has a score of 96.0 % accuracy score\n",
      "[[271895  12420]\n",
      " [     0    492]]\n",
      "Precision: 0.03810408921933085\n",
      "Recall (True Positive Rate): 1.0\n",
      "Specificity (True Negative Rate): 0.9563160578935336\n",
      "F1: 0.07341092211280213\n",
      "Percent type 1 error: 0.04360847872418866\n",
      "Percent type 2 error: 0.0\n",
      "-------------------------\n",
      "              precision    recall  f1-score   support\n",
      "\n",
      "           0       1.00      0.96      0.98    284315\n",
      "           1       0.04      1.00      0.07       492\n",
      "\n",
      "   micro avg       0.96      0.96      0.96    284807\n",
      "   macro avg       0.52      0.98      0.53    284807\n",
      "weighted avg       1.00      0.96      0.98    284807\n",
      "\n"
     ]
    }
   ],
   "source": [
    "pred = gbc.predict(raw.drop('Class', 1))\n",
    "score = gbc.score(raw.drop('Class', 1), raw.Class)\n",
    "print(\"Gradient Boosting Classifier on full dataset has a score of\", round(score, 2) * 100,\"% accuracy score\")\n",
    "\n",
    "# Get the Precision, Recall, and F1 score\n",
    "precision = precision_score(raw.Class, pred)\n",
    "recall = recall_score(raw.Class, pred)\n",
    "f1 = f1_score(raw.Class, pred)\n",
    "    \n",
    "# get the type 1 and type 2 errors\n",
    "table = pd.crosstab(raw.Class, pred, margins=True)\n",
    "type1 = table.loc[0.0, 1.0]/table.loc['All','All']\n",
    "type2 = table.loc[1.0, 0.0]/table.loc['All','All']    \n",
    "    \n",
    "# display the confusion matrix\n",
    "tn, fp, fn, tp = confusion_matrix(raw.Class, pred).ravel()\n",
    "print(confusion_matrix(raw.Class, pred))\n",
    "    \n",
    "# get the specificity\n",
    "specificity = tn/(tn+fp)\n",
    "                                                           \n",
    "# create a table of info for each classifier\n",
    "print('Precision: {}\\n'\n",
    "      'Recall (True Positive Rate): {}\\n'\n",
    "      'Specificity (True Negative Rate): {}\\n'\n",
    "      'F1: {}'.format(precision, recall, specificity, f1))\n",
    "print('Percent type 1 error: {}'.format(type1))\n",
    "print('Percent type 2 error: {}'.format(type2))\n",
    "\n",
    "print('-'*25)\n",
    "print(classification_report(raw.Class, pred))"
   ]
  },
  {
   "cell_type": "markdown",
   "metadata": {},
   "source": [
    "The final model is 96% accurate and has a recall of 100% which is great.  We were able to correctly identify all of the fraud, but also were identifying 4% of the data as fraud when it is not.  There is a trade-off between precision and recall that we have here, but I feel correctly identifying true fraud is the most important.\n",
    "\n",
    "Things to talk about:\n",
    "- Did the gridsearch only try to optimize the accuracy? Would I have to create a scorer to have it search to optimize the recall?\n",
    "- Does training the model on the undersampled dataset suffice as a training model or would I still want to train and test the undersampled data?\n",
    "- Since the data only contains numeric features V1, V2, ... V28 (plus Time and Amount) that are the principal components obtained with PCA - is there much feature engineering that we can do?  I eliminated outliers and scaled the data but did not search for relationships\n",
    "- Precision is very low - do I want to play around with finding a cutoff on a a precision-recall curve to better balance these metrics?"
   ]
  },
  {
   "cell_type": "code",
   "execution_count": null,
   "metadata": {},
   "outputs": [],
   "source": []
  }
 ],
 "metadata": {
  "kernelspec": {
   "display_name": "Python 3",
   "language": "python",
   "name": "python3"
  },
  "language_info": {
   "codemirror_mode": {
    "name": "ipython",
    "version": 3
   },
   "file_extension": ".py",
   "mimetype": "text/x-python",
   "name": "python",
   "nbconvert_exporter": "python",
   "pygments_lexer": "ipython3",
   "version": "3.7.0"
  }
 },
 "nbformat": 4,
 "nbformat_minor": 2
}
