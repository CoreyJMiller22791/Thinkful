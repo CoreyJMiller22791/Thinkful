{
 "cells": [
  {
   "cell_type": "code",
   "execution_count": 1,
   "metadata": {},
   "outputs": [],
   "source": [
    "import numpy as np\n",
    "import pandas as pd\n",
    "import matplotlib.pyplot as plt\n",
    "import scipy\n",
    "%matplotlib inline"
   ]
  },
  {
   "cell_type": "code",
   "execution_count": 2,
   "metadata": {},
   "outputs": [
    {
     "data": {
      "image/png": "[encoded data removed]",
      "text/plain": [
       "<Figure size 432x288 with 1 Axes>"
      ]
     },
     "metadata": {},
     "output_type": "display_data"
    }
   ],
   "source": [
    "music = pd.DataFrame()\n",
    "\n",
    "# Some data to play with.\n",
    "music['duration'] = [184, 134, 243, 186, 122, 197, 294, 382, 102, 264, \n",
    "                     205, 110, 307, 110, 397, 153, 190, 192, 210, 403,\n",
    "                     164, 198, 204, 253, 234, 190, 182, 401, 376, 102]\n",
    "music['loudness'] = [18, 34, 43, 36, 22, 9, 29, 22, 10, 24, \n",
    "                     20, 10, 17, 51, 7, 13, 19, 12, 21, 22,\n",
    "                     16, 18, 4, 23, 34, 19, 14, 11, 37, 42]\n",
    "\n",
    "# We know whether the songs in our training data are jazz or not.\n",
    "music['jazz'] = [ 1, 0, 0, 0, 1, 1, 0, 1, 1, 0,\n",
    "                  0, 1, 1, 0, 1, 1, 0, 1, 1, 1,\n",
    "                  1, 1, 1, 1, 0, 0, 1, 1, 0, 0]\n",
    "\n",
    "\n",
    "# Look at our data.\n",
    "plt.scatter(\n",
    "    music[music['jazz'] == 1].duration,\n",
    "    music[music['jazz'] == 1].loudness,\n",
    "    color='red'\n",
    ")\n",
    "plt.scatter(\n",
    "    music[music['jazz'] == 0].duration,\n",
    "    music[music['jazz'] == 0].loudness,\n",
    "    color='blue'\n",
    ")\n",
    "plt.legend(['Jazz', 'Rock'])\n",
    "plt.title('Jazz and Rock Characteristics')\n",
    "plt.xlabel('Duration')\n",
    "plt.ylabel('Loudness')\n",
    "plt.show()"
   ]
  },
  {
   "cell_type": "markdown",
   "metadata": {},
   "source": [
    "# Nearest Neighbor\n",
    "#### Using the KNeighbors classifier from sklearn with n_neighbors = 1"
   ]
  },
  {
   "cell_type": "code",
   "execution_count": 41,
   "metadata": {},
   "outputs": [
    {
     "name": "stdout",
     "output_type": "stream",
     "text": [
      "[0]\n"
     ]
    }
   ],
   "source": [
    "from sklearn.neighbors import KNeighborsClassifier\n",
    "neighbors = KNeighborsClassifier(n_neighbors=1)\n",
    "X = music[['loudness', 'duration']]\n",
    "Y = music.jazz\n",
    "neighbors.fit(X,Y)\n",
    "\n",
    "## Predict for a song with 24 loudness that's 190 seconds long.\n",
    "print(neighbors.predict([[24, 190]]))"
   ]
  },
  {
   "cell_type": "markdown",
   "metadata": {},
   "source": [
    "Looks like our nearest neighbor model is predicting that a song with 24 loudness and 190s in length is not Jazz based on the nearest neighbor being rock."
   ]
  },
  {
   "cell_type": "markdown",
   "metadata": {},
   "source": [
    "# K-Nearest Neighbors\n",
    "#### Looks at k number of neighbors and gives implicit probabilities in addition to predicted outcome\n"
   ]
  },
  {
   "cell_type": "code",
   "execution_count": 11,
   "metadata": {},
   "outputs": [
    {
     "name": "stdout",
     "output_type": "stream",
     "text": [
      "[1]\n",
      "[[0.4 0.6]]\n"
     ]
    }
   ],
   "source": [
    "neighbors = KNeighborsClassifier(n_neighbors=5)\n",
    "X = music[['loudness', 'duration']]\n",
    "Y = music.jazz\n",
    "neighbors.fit(X,Y)\n",
    "\n",
    "## Predict for a song with 24 loudness that's 190 seconds long.\n",
    "print(neighbors.predict([[24, 190]]))\n",
    "print(neighbors.predict_proba([[24, 190]]))"
   ]
  },
  {
   "cell_type": "markdown",
   "metadata": {},
   "source": [
    "We see that our prediction has changed - now predicting Jazz.  Using the 5 nearest neighbors it appears that 2/5 have predicted Rock and 3/5 predicted Jazz, thus predicting the song is Jazz."
   ]
  },
  {
   "cell_type": "markdown",
   "metadata": {},
   "source": [
    "# Visualizing the decision space using a *Mesh*"
   ]
  },
  {
   "cell_type": "code",
   "execution_count": 20,
   "metadata": {},
   "outputs": [
    {
     "data": {
      "image/png": "[encoded data removed]",
      "text/plain": [
       "<Figure size 576x576 with 1 Axes>"
      ]
     },
     "metadata": {},
     "output_type": "display_data"
    }
   ],
   "source": [
    "# Create arrays to build the mesh\n",
    "X = np.array(X)\n",
    "Y = np.array(Y)\n",
    "\n",
    "# Create the mesh size\n",
    "h = 4.0\n",
    "\n",
    "# Gather the boundary information for the mesh - adding a small shift to ensure all data is in mesh\n",
    "x_min = X[:, 0].min() - 0.5\n",
    "x_max = X[:, 0].max() + 0.5\n",
    "y_min = X[:, 1].min() - 0.5\n",
    "y_max = X[:, 1].max() + 0.5\n",
    "\n",
    "# Create the meshgrid with padded boundaries and the mesh size above\n",
    "xx, yy = np.meshgrid(np.arange(x_min, x_max, h), np.arange(y_min, y_max, h))\n",
    "\n",
    "# Predict for the new space - need to concatenate the two arrays\n",
    "Z = neighbors.predict(np.c_[xx.ravel(), yy.ravel()])\n",
    "\n",
    "# Reshape the predicted values to fit the meshgrid\n",
    "Z = Z.reshape(xx.shape)\n",
    "\n",
    "# Plot the results\n",
    "plt.figure(figsize=(8, 8))\n",
    "plt.set_cmap(plt.cm.Accent)\n",
    "plt.pcolormesh(xx, yy, Z)\n",
    "\n",
    "# Add the training points to the plot\n",
    "plt.scatter(X[:, 0], X[:, 1], c=Y)\n",
    "plt.xlabel('Loudness')\n",
    "plt.ylabel('Duration')\n",
    "plt.title('Mesh visualization')\n",
    "\n",
    "plt.xlim(xx.min(), xx.max())\n",
    "plt.ylim(yy.min(), yy.max())\n",
    "\n",
    "plt.show()"
   ]
  },
  {
   "cell_type": "markdown",
   "metadata": {},
   "source": [
    "# Play around with different mesh sizes"
   ]
  },
  {
   "cell_type": "code",
   "execution_count": 23,
   "metadata": {},
   "outputs": [],
   "source": [
    "def create_mesh(x, y, size):\n",
    "    # Create arrays to build the mesh\n",
    "    X = np.array(x)\n",
    "    Y = np.array(y)\n",
    "\n",
    "    # Create the mesh size\n",
    "    h = size\n",
    "\n",
    "    # Gather the boundary information for the mesh - adding a small shift to ensure all data is in mesh\n",
    "    x_min = X[:, 0].min() - 0.5\n",
    "    x_max = X[:, 0].max() + 0.5\n",
    "    y_min = X[:, 1].min() - 0.5\n",
    "    y_max = X[:, 1].max() + 0.5\n",
    "\n",
    "    # Create the meshgrid with padded boundaries and the mesh size above\n",
    "    xx, yy = np.meshgrid(np.arange(x_min, x_max, h), np.arange(y_min, y_max, h))\n",
    "\n",
    "    # Predict for the new space - need to concatenate the two arrays\n",
    "    Z = neighbors.predict(np.c_[xx.ravel(), yy.ravel()])\n",
    "\n",
    "    # Reshape the predicted values to fit the meshgrid\n",
    "    Z = Z.reshape(xx.shape)\n",
    "\n",
    "    # Plot the results\n",
    "    plt.figure(figsize=(8, 8))\n",
    "    plt.set_cmap(plt.cm.Accent)\n",
    "    plt.pcolormesh(xx, yy, Z)\n",
    "\n",
    "    # Add the training points to the plot\n",
    "    plt.scatter(X[:, 0], X[:, 1], c=Y)\n",
    "    plt.xlabel('Loudness')\n",
    "    plt.ylabel('Duration')\n",
    "    plt.title('Mesh visualization')\n",
    "\n",
    "    plt.xlim(xx.min(), xx.max())\n",
    "    plt.ylim(yy.min(), yy.max())\n",
    "\n",
    "    plt.show()"
   ]
  },
  {
   "cell_type": "code",
   "execution_count": 24,
   "metadata": {},
   "outputs": [
    {
     "data": {
      "image/png": "[encoded data removed]",
      "text/plain": [
       "<Figure size 576x576 with 1 Axes>"
      ]
     },
     "metadata": {},
     "output_type": "display_data"
    }
   ],
   "source": [
    "# mesh size = 10\n",
    "create_mesh(X, Y, 10)"
   ]
  },
  {
   "cell_type": "code",
   "execution_count": 37,
   "metadata": {},
   "outputs": [
    {
     "data": {
      "image/png": "[encoded data removed]",
      "text/plain": [
       "<Figure size 576x576 with 1 Axes>"
      ]
     },
     "metadata": {},
     "output_type": "display_data"
    }
   ],
   "source": [
    "# mesh size = 1\n",
    "create_mesh(X, Y, 1)"
   ]
  },
  {
   "cell_type": "code",
   "execution_count": 38,
   "metadata": {},
   "outputs": [
    {
     "data": {
      "image/png": "[encoded data removed]",
      "text/plain": [
       "<Figure size 576x576 with 1 Axes>"
      ]
     },
     "metadata": {},
     "output_type": "display_data"
    }
   ],
   "source": [
    "# mesh size = 0.1\n",
    "create_mesh(X, Y, 0.1)"
   ]
  },
  {
   "cell_type": "code",
   "execution_count": 36,
   "metadata": {},
   "outputs": [
    {
     "data": {
      "image/png": "[encoded data removed]",
      "text/plain": [
       "<Figure size 576x576 with 1 Axes>"
      ]
     },
     "metadata": {},
     "output_type": "display_data"
    }
   ],
   "source": [
    "# mesh size = 0.05\n",
    "#create_mesh(X, Y, 0.05)"
   ]
  },
  {
   "cell_type": "markdown",
   "metadata": {},
   "source": [
    "Not enough memory to go lower than mesh size = 0.05.  Rendering gets noticeably slow at .1.  Mesh grid looks continuous enough at meshsize = 1."
   ]
  },
  {
   "cell_type": "markdown",
   "metadata": {},
   "source": [
    "# Challenge: Build Nearest Neighbor Algorithm"
   ]
  },
  {
   "cell_type": "code",
   "execution_count": 193,
   "metadata": {},
   "outputs": [],
   "source": [
    "def nearest_neighbor_algorithm(loudness, length):\n",
    "    '''Find the shortest euclidean distance between point given and nearest point'''\n",
    "\n",
    "    # Create arrays to calculate distances with\n",
    "    X = np.array(music[['loudness', 'duration']])\n",
    "    Y = np.array(music.jazz)\n",
    "    \n",
    "    # Calculate the distance between point of interest and all other points\n",
    "    dist=[]\n",
    "    for j in range(X.shape[0]):\n",
    "        dist.append(np.sqrt((loudness - X[j][0])**2+(length - X[j][1])**2))\n",
    "\n",
    "    # Pair X, Y, and dist\n",
    "    Z = pd.DataFrame({'Loudness':X[:,0], 'Duration':X[:,1], 'Jazz=1':Y, 'Distance':dist})\n",
    "    Z = Z.sort_values(by='Distance')\n",
    "    return Z.iloc[0,:]"
   ]
  },
  {
   "cell_type": "code",
   "execution_count": 194,
   "metadata": {},
   "outputs": [
    {
     "name": "stdout",
     "output_type": "stream",
     "text": [
      "Loudness     19.0\n",
      "Duration    190.0\n",
      "Jazz=1        0.0\n",
      "Distance      5.0\n",
      "Name: 16, dtype: float64\n"
     ]
    }
   ],
   "source": [
    "print(nearest_neighbor_algorithm(24, 190))"
   ]
  },
  {
   "cell_type": "code",
   "execution_count": 191,
   "metadata": {},
   "outputs": [],
   "source": [
    "def k_neighbor_algorithm(loudness, length, k):\n",
    "    '''Find the shortest euclidean distance between point given and nearest point'''\n",
    "\n",
    "    # Create arrays to calculate distances with\n",
    "    X = np.array(music[['loudness', 'duration']])\n",
    "    Y = np.array(music.jazz)\n",
    "    \n",
    "    # Calculate the distance between point of interest and all other points\n",
    "    dist=[]\n",
    "    for j in range(X.shape[0]):\n",
    "        dist.append(np.sqrt((loudness - X[j][0])**2+(length - X[j][1])**2))\n",
    "\n",
    "    # Pair X, Y, and dist\n",
    "    Z = pd.DataFrame({'Loudness':X[:,0], 'Duration':X[:,1], 'Jazz=1':Y, 'Distance':dist})\n",
    "    Z = Z.sort_values(by='Distance')\n",
    "    \n",
    "    # Grab k distances\n",
    "    kvals = Z.iloc[0:k,:]\n",
    "    \n",
    "    # Calculate probabilities\n",
    "    is_jazz = (kvals['Jazz=1'] == 1).sum()\n",
    "    prob_jazz = is_jazz/k\n",
    "    prob_rock = (k-is_jazz)/k\n",
    "    \n",
    "    if prob_jazz > prob_rock:\n",
    "        print('Is Jazz')\n",
    "    else:\n",
    "        print('Is rock')\n",
    "    \n",
    "    return [prob_jazz, prob_rock]"
   ]
  },
  {
   "cell_type": "code",
   "execution_count": 192,
   "metadata": {},
   "outputs": [
    {
     "name": "stdout",
     "output_type": "stream",
     "text": [
      "Is Jazz\n"
     ]
    },
    {
     "data": {
      "text/plain": [
       "[0.6, 0.4]"
      ]
     },
     "execution_count": 192,
     "metadata": {},
     "output_type": "execute_result"
    }
   ],
   "source": [
    "k_neighbor_algorithm(24, 190, 5)"
   ]
  },
  {
   "cell_type": "code",
   "execution_count": null,
   "metadata": {},
   "outputs": [],
   "source": []
  }
 ],
 "metadata": {
  "kernelspec": {
   "display_name": "Python 3",
   "language": "python",
   "name": "python3"
  },
  "language_info": {
   "codemirror_mode": {
    "name": "ipython",
    "version": 3
   },
   "file_extension": ".py",
   "mimetype": "text/x-python",
   "name": "python",
   "nbconvert_exporter": "python",
   "pygments_lexer": "ipython3",
   "version": "3.7.0"
  }
 },
 "nbformat": 4,
 "nbformat_minor": 2
}
