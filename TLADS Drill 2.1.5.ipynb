{
 "cells": [
  {
   "cell_type": "code",
   "execution_count": 8,
   "metadata": {},
   "outputs": [
    {
     "name": "stdout",
     "output_type": "stream",
     "text": [
      "  cntry  idno  year  tvtot  ppltrst  pplfair  pplhlp  happy  sclmeet  sclact  \\\n",
      "0    CH   5.0     6    3.0      3.0     10.0     5.0    8.0      5.0     4.0   \n",
      "1    CH  25.0     6    6.0      5.0      7.0     5.0    9.0      3.0     2.0   \n",
      "2    CH  26.0     6    1.0      8.0      8.0     8.0    7.0      6.0     3.0   \n",
      "3    CH  28.0     6    4.0      6.0      6.0     7.0   10.0      6.0     2.0   \n",
      "4    CH  29.0     6    5.0      6.0      7.0     5.0    8.0      7.0     2.0   \n",
      "\n",
      "   gndr  agea  partner  \n",
      "0   2.0  60.0      1.0  \n",
      "1   2.0  59.0      1.0  \n",
      "2   1.0  24.0      2.0  \n",
      "3   2.0  64.0      1.0  \n",
      "4   2.0  55.0      1.0  \n"
     ]
    }
   ],
   "source": [
    "import pandas as pd\n",
    "import numpy as np\n",
    "import matplotlib.pyplot as plt\n",
    "import seaborn as sns\n",
    "import scipy.stats as stats\n",
    "\n",
    "df = pd.read_csv('https://raw.githubusercontent.com/Thinkful-Ed/data-201-resources/master/ESS_practice_data/ESSdata_Thinkful.csv')\n",
    "print(df.head())\n",
    "#print(df.tvtot.describe())"
   ]
  },
  {
   "cell_type": "markdown",
   "metadata": {},
   "source": [
    "cntry (COUNTRY) - is categorical\n",
    "\n",
    "idno (Respondent's ID number) - continuous, ordinal because only represents a rank-order\n",
    "\n",
    "year (ESS round) - categorical for this dataset because only 6(2012) or 7(2014)\n",
    "\n",
    "tvtot (TV watching, total time on average weekday) - categorical, because 0-7 categories represent the range of hours spent watching tv\n",
    "\n",
    "ppltrst (Most people can be trusted or you cant be too careful) - categorical, because has 0-10 categories from you cant be too careful to most people can be trusted\n",
    "\n",
    "ppltfair (Most people try to take advantage of you, or you try to be fair) - categorical, because 0-10 categories from most people take advantage of me to most people try to be fair\n",
    "\n",
    "pplhlp (Most of the time people are helpful or mostly looking out for themselves) - categorical, because 0-10 people mostly look out for themselves to mostly try to help\n",
    "\n",
    "happy (How happy are you) - categorical, 0-10 from extremely unhappy to extremely happy\n",
    "\n",
    "sclmeet (How often socially meet with friends, relatives or collegues) - categorical, 1-7 never to everyday\n",
    "\n",
    "sclact (Take part in social activities compared to others of same age) - categorical, 1-5 much less than most to much more than most\n",
    "\n",
    "gnder (Gender) - categorical, 1(male) or 2(female)\n",
    "\n",
    "agea (Age of respondent, calculated) - continuous, ratio because has absolute zero\n",
    "\n",
    "partner (Lives with husband/wife/partner at household grid) - categorical, 1(lives with) or 2(does not)"
   ]
  },
  {
   "cell_type": "code",
   "execution_count": null,
   "metadata": {},
   "outputs": [],
   "source": []
  }
 ],
 "metadata": {
  "kernelspec": {
   "display_name": "Python 3",
   "language": "python",
   "name": "python3"
  },
  "language_info": {
   "codemirror_mode": {
    "name": "ipython",
    "version": 3
   },
   "file_extension": ".py",
   "mimetype": "text/x-python",
   "name": "python",
   "nbconvert_exporter": "python",
   "pygments_lexer": "ipython3",
   "version": "3.7.0"
  }
 },
 "nbformat": 4,
 "nbformat_minor": 2
}
