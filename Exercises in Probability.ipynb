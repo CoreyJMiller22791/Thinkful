{
 "cells": [
  {
   "cell_type": "code",
   "execution_count": 9,
   "metadata": {},
   "outputs": [
    {
     "name": "stdout",
     "output_type": "stream",
     "text": [
      "The probability of flipping HTTH is 0.0625\n",
      "The probability of flipping HHHH is 0.0625\n",
      "The probability of flipping TTHH is 0.0625\n"
     ]
    }
   ],
   "source": [
    "#1. Calculate the probability of flipping a balanced coin four times and getting each pattern: HTTH, HHHH and TTHH.\n",
    "P_H = 1/2\n",
    "P_T = 1/2\n",
    "\n",
    "P_HTTH = P_H*P_T*P_T*P_H\n",
    "P_HHHH = P_H*P_H*P_H*P_H\n",
    "P_TTHH = P_T*P_T*P_H*P_H\n",
    "\n",
    "print('The probability of flipping HTTH is {}'.format(P_HTTH))\n",
    "print('The probability of flipping HHHH is {}'.format(P_HHHH))\n",
    "print('The probability of flipping TTHH is {}'.format(P_TTHH))"
   ]
  },
  {
   "cell_type": "code",
   "execution_count": 10,
   "metadata": {},
   "outputs": [
    {
     "name": "stdout",
     "output_type": "stream",
     "text": [
      "The probability of choosing a man is 0.4666666666666667\n",
      "The probability of choosing a woman is 0.5333333333333333\n",
      "The probability of not choosing a man is 0.5333333333333333\n"
     ]
    }
   ],
   "source": [
    "#2. If a list of people has 24 women and 21 men, then the probability of choosing a man from the list is 21/45. \n",
    "# What is the probability of not choosing a man?\n",
    "\n",
    "P_man = 21/45\n",
    "P_woman = 24/45\n",
    "P_notman = 1-21/45\n",
    "\n",
    "#probability of not chosing man is 1 - P_man or equal to probability of choosing woman\n",
    "print('The probability of choosing a man is {}'.format(P_man))\n",
    "print('The probability of choosing a woman is {}'.format(P_woman))\n",
    "print('The probability of not choosing a man is {}'.format(P_notman))"
   ]
  },
  {
   "cell_type": "code",
   "execution_count": 11,
   "metadata": {},
   "outputs": [
    {
     "name": "stdout",
     "output_type": "stream",
     "text": [
      "0.0005%\n"
     ]
    }
   ],
   "source": [
    "#3. The probability that Bernice will travel by plane sometime in the next year is 10%. \n",
    "# The probability of a plane crash at any time is .005%. \n",
    "# What is the probability that Bernice will be in a plane crash sometime in the next year?\n",
    "\n",
    "P_bernice = 0.1\n",
    "P_crash = 0.00005\n",
    "\n",
    "prob_of_bernice_crash = P_bernice * P_crash * 100\n",
    "print(str(prob_of_bernice_crash) + '%')"
   ]
  },
  {
   "cell_type": "markdown",
   "metadata": {},
   "source": [
    "#4. A data scientist wants to study the behavior of users on the company website. Each time a user clicks on a link on the website, there is a 5% chance that the user will be asked to complete a short survey about their behavior on the website. The data scientist uses the survey data to conclude that, on average, users spend 15 minutes surfing the company website before moving on to other things. What is wrong with this conclusion?\n",
    "\n",
    "This conclusion is based on the survey data.  The likelihood of receiving a survey increases with the amount of time spent on the website.  Therefore, his conclusion is likely an overestimate due to the fact that more time on the website would increase the the survey chances which is what his decision is based on."
   ]
  },
  {
   "cell_type": "code",
   "execution_count": null,
   "metadata": {},
   "outputs": [],
   "source": []
  }
 ],
 "metadata": {
  "kernelspec": {
   "display_name": "Python 3",
   "language": "python",
   "name": "python3"
  },
  "language_info": {
   "codemirror_mode": {
    "name": "ipython",
    "version": 3
   },
   "file_extension": ".py",
   "mimetype": "text/x-python",
   "name": "python",
   "nbconvert_exporter": "python",
   "pygments_lexer": "ipython3",
   "version": "3.6.4"
  }
 },
 "nbformat": 4,
 "nbformat_minor": 2
}
