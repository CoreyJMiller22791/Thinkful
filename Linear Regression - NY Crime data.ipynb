{
 "cells": [
  {
   "cell_type": "code",
   "execution_count": 1,
   "metadata": {},
   "outputs": [],
   "source": [
    "import pandas as pd\n",
    "import numpy as np\n",
    "import seaborn as sns\n",
    "import matplotlib.pyplot as plt\n",
    "%matplotlib inline\n"
   ]
  },
  {
   "cell_type": "code",
   "execution_count": 2,
   "metadata": {},
   "outputs": [
    {
     "name": "stdout",
     "output_type": "stream",
     "text": [
      "<class 'pandas.core.frame.DataFrame'>\n",
      "RangeIndex: 348 entries, 0 to 347\n",
      "Data columns (total 13 columns):\n",
      "City                                    348 non-null object\n",
      "Population                              348 non-null float64\n",
      "Violent crime                           348 non-null float64\n",
      "Murder and nonnegligent manslaughter    348 non-null float64\n",
      "Rape (revised definition)1              0 non-null float64\n",
      "Rape (legacy definition)2               348 non-null float64\n",
      "Robbery                                 348 non-null float64\n",
      "Aggravated assault                      348 non-null float64\n",
      "Property crime                          348 non-null float64\n",
      "Burglary                                348 non-null float64\n",
      "Larceny- theft                          348 non-null float64\n",
      "Motor vehicle theft                     348 non-null float64\n",
      "Arson3                                  187 non-null float64\n",
      "dtypes: float64(12), object(1)\n",
      "memory usage: 34.0+ KB\n",
      "None\n"
     ]
    }
   ],
   "source": [
    "path = 'table_8_offenses_known_to_law_enforcement_new_york_by_city_2013.xls'\n",
    "data = pd.read_excel(path, header=4)\n",
    "df = pd.DataFrame(data)\n",
    "df.columns = df.columns.str.replace('\\n',' ', regex=True)\n",
    "df = df[:-3]\n",
    "print(df.info())\n",
    "#print(df.head())"
   ]
  },
  {
   "cell_type": "code",
   "execution_count": 6,
   "metadata": {
    "scrolled": false
   },
   "outputs": [
    {
     "name": "stdout",
     "output_type": "stream",
     "text": [
      "   Population  Population Squared  Murder  Robbery\n",
      "0      1861.0        3.463321e+06       0        0\n",
      "1      2577.0        6.640929e+06       0        0\n",
      "2      2846.0        8.099716e+06       0        0\n",
      "3     97956.0        9.595378e+09       1        1\n",
      "4      6388.0        4.080654e+07       0        1\n",
      "258789.0\n"
     ]
    }
   ],
   "source": [
    "# propertycrime = alpha + Population + Populations**2 + Murder + Robbery\n",
    "\n",
    "# create the property crime dataframe\n",
    "property_crime_df = pd.DataFrame()\n",
    "\n",
    "# add the population and population squared to the dataset\n",
    "property_crime_df['Population'] = df['Population']\n",
    "property_crime_df['Population Squared'] = df['Population']**2\n",
    "\n",
    "# For the murder and robbery columns - set up a binary coding such that\n",
    "# 0 = 0 and >0 = 1\n",
    "property_crime_df['Murder'] = np.where(df['Murder and nonnegligent manslaughter'] > 0, 1, 0)\n",
    "property_crime_df['Robbery'] = np.where(df['Robbery'] > 0, 1, 0)\n",
    "\n",
    "print(property_crime_df.head())\n",
    "\n",
    "#for col in property_crime_df.columns:\n",
    "   # print(col)\n",
    "    #plt.plot(property_crime_df[col])\n",
    "   # plt.show()\n",
    "\n",
    "# there is an obvious outlier in the population\n",
    "#print(df.iloc[property_crime_df.Population.idxmax()])\n",
    "\n",
    "# The outlier here is the population of NYC which is accurate 8.3million in 2013\n",
    "# let's look at the next highest population\n",
    "\n",
    "print(df.Population.nlargest(2).tolist()[1])\n",
    "\n",
    "#print(df.iloc[35])"
   ]
  },
  {
   "cell_type": "markdown",
   "metadata": {},
   "source": [
    "So we do have an outlier in the population that we will likely have to deal with.  I am thinking I will replace that value with the next highest population which is Buffalo."
   ]
  },
  {
   "cell_type": "code",
   "execution_count": 9,
   "metadata": {},
   "outputs": [
    {
     "name": "stdout",
     "output_type": "stream",
     "text": [
      "Population            2.587890e+05\n",
      "Population Squared    7.049493e+13\n",
      "Murder                1.000000e+00\n",
      "Robbery               1.000000e+00\n",
      "Name: 216, dtype: float64\n"
     ]
    }
   ],
   "source": [
    "ind = property_crime_df.Population.idxmax()\n",
    "repval = df.Population.nlargest(2).tolist()[1]\n",
    "\n",
    "property_crime_df.loc[ind, 'Population'] = repval\n",
    "print(property_crime_df.iloc[216])"
   ]
  },
  {
   "cell_type": "code",
   "execution_count": null,
   "metadata": {},
   "outputs": [],
   "source": []
  }
 ],
 "metadata": {
  "kernelspec": {
   "display_name": "Python 3",
   "language": "python",
   "name": "python3"
  },
  "language_info": {
   "codemirror_mode": {
    "name": "ipython",
    "version": 3
   },
   "file_extension": ".py",
   "mimetype": "text/x-python",
   "name": "python",
   "nbconvert_exporter": "python",
   "pygments_lexer": "ipython3",
   "version": "3.7.0"
  }
 },
 "nbformat": 4,
 "nbformat_minor": 2
}
