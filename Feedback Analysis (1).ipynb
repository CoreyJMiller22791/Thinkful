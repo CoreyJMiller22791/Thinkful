{
 "cells": [
  {
   "cell_type": "code",
   "execution_count": 1,
   "metadata": {
    "scrolled": false
   },
   "outputs": [],
   "source": [
    "import numpy as np\n",
    "import pandas as pd\n",
    "import scipy\n",
    "import sklearn\n",
    "from sklearn.naive_bayes import BernoulliNB\n",
    "from sklearn.metrics import confusion_matrix\n",
    "from sklearn.model_selection import train_test_split\n",
    "from sklearn.model_selection import cross_val_score\n",
    "import matplotlib.pyplot as plt\n",
    "import seaborn as sns\n",
    "%matplotlib inline\n",
    "\n",
    "pd.set_option('display.max_colwidth', -1)\n",
    "\n",
    "df_amazon = pd.read_csv('amazon_cells_labelled.txt', delimiter='\\t', header=None)\n",
    "df_amazon.columns = ['message', 'score'] # score of 1=positive, 0=negative\n",
    "\n",
    "df_imdb = pd.read_csv('imdb_labelled.txt', delimiter='\\t', names=['message', 'score'])\n",
    "\n",
    "df_yelp = pd.read_csv('yelp_labelled.txt', delimiter='\\t', names=['message', 'score'])"
   ]
  },
  {
   "cell_type": "markdown",
   "metadata": {},
   "source": [
    "We are trying to use a Naive Bayes seniment classifier to predict whether or not a comment on a website is positive or negative.  To start we will create a list of keywords to search for in the comments to classify by.  The keywords should all correspond to a positive comment."
   ]
  },
  {
   "cell_type": "code",
   "execution_count": 2,
   "metadata": {
    "scrolled": false
   },
   "outputs": [],
   "source": [
    "def split_goods_and_bads(df):\n",
    "    goods = df[df['score']==1]\n",
    "    bads = df[df['score']==0]\n",
    "    return goods, bads\n",
    "\n",
    "goods, bads = split_goods_and_bads(df_amazon)\n",
    "#print(goods.iloc[50:200,0])"
   ]
  },
  {
   "cell_type": "code",
   "execution_count": 3,
   "metadata": {},
   "outputs": [],
   "source": [
    "keywords = ['good', 'great', 'best', 'excellent', 'awesome', 'fantastic', 'would recommend', \n",
    "            'must have', 'amazing', 'highly recommend', 'love', 'happy', 'glad', 'satisfied',\n",
    "           'really like', 'well']\n",
    "\n",
    "def naive_bayes_classifier(df,n=10):\n",
    "    for key in keywords:\n",
    "        df[str(key)]=df.message.str.contains(str(key), case=False)\n",
    "    \n",
    "    data = df[keywords]\n",
    "    target = df['score']\n",
    "    bnb = BernoulliNB()\n",
    "    bnb.fit(data, target)\n",
    "    y_pred = bnb.predict(data)\n",
    "\n",
    "    print('Number of mislabelled points out of total {}: {}'.format(df.shape[0], (target!=y_pred).sum()))\n",
    "    print('Performance = {:05.2f}%'.format(100*(1-(target!=y_pred).sum()/df.shape[0])))\n",
    "    print('Baseline: {}'.format(df.score.sum()))\n",
    "    print('')\n",
    "    \n",
    "    confusion = pd.DataFrame(confusion_matrix(target, y_pred))\n",
    "    confusion.index = ['Actual Bad', 'Actual Good']\n",
    "    confusion.columns = ['Predicted Bad', 'Predicted Good']\n",
    "    print(confusion)\n",
    "    print('')\n",
    "    \n",
    "    sensativity = (confusion.iloc[1,1]/confusion.iloc[1,:].sum())*100\n",
    "    specificity = (confusion.iloc[0,0]/confusion.iloc[0,:].sum())*100\n",
    "    print('Sensativity = {:05.2f}%'.format(sensativity))\n",
    "    print('Specificity = {0:05.2f}%'.format(specificity))\n",
    "    print('')\n",
    "    \n",
    "    print('Cross validation')\n",
    "    crossval = cross_val_score(bnb, data, target, cv=n)\n",
    "    print(crossval)\n",
    "    print(crossval.var())\n",
    "    print('')\n",
    "    \n",
    "    feature_probs = bnb.feature_log_prob_\n",
    "    zipped = dict(zip(keywords,feature_probs[0]))\n",
    "    feature_prob_df = pd.DataFrame()\n",
    "    feature_prob_df['Feature'] = keywords\n",
    "    feature_prob_df['log_probability'] = zipped.values()\n",
    "    listofprobs = list(zipped.values())\n",
    "    feature_prob_df['probability'] = np.exp(listofprobs)\n",
    "    print(feature_prob_df.sort_values(by='log_probability', ascending=False))\n",
    "    print('')\n",
    "\n",
    "    sns.heatmap(data.corr(), cmap='RdBu')\n",
    "    plt.show()"
   ]
  },
  {
   "cell_type": "code",
   "execution_count": 4,
   "metadata": {
    "scrolled": false
   },
   "outputs": [
    {
     "name": "stdout",
     "output_type": "stream",
     "text": [
      "Number of mislabelled points out of total 1000: 249\n",
      "Performance = 75.10%\n",
      "Baseline: 500\n",
      "\n",
      "             Predicted Bad  Predicted Good\n",
      "Actual Bad   467            33            \n",
      "Actual Good  216            284           \n",
      "\n",
      "Sensativity = 56.80%\n",
      "Specificity = 93.40%\n",
      "\n",
      "Cross validation\n",
      "[0.82 0.72 0.8  0.74 0.81 0.76 0.67 0.73 0.78 0.67]\n",
      "0.0026199999999999995\n",
      "\n",
      "             Feature  log_probability  probability\n",
      "0   good             -3.579543         0.027888   \n",
      "15  well             -4.139159         0.015936   \n",
      "1   great            -4.272690         0.013944   \n",
      "11  happy            -4.609162         0.009960   \n",
      "2   best             -5.119988         0.005976   \n",
      "3   excellent        -5.525453         0.003984   \n",
      "4   awesome          -6.218600         0.001992   \n",
      "5   fantastic        -6.218600         0.001992   \n",
      "6   would recommend  -6.218600         0.001992   \n",
      "7   must have        -6.218600         0.001992   \n",
      "8   amazing          -6.218600         0.001992   \n",
      "9   highly recommend -6.218600         0.001992   \n",
      "10  love             -6.218600         0.001992   \n",
      "12  glad             -6.218600         0.001992   \n",
      "13  satisfied        -6.218600         0.001992   \n",
      "14  really like      -6.218600         0.001992   \n",
      "\n"
     ]
    },
    {
     "data": {
      "image/png": "[encoded data removed]",
      "text/plain": [
       "<Figure size 432x288 with 2 Axes>"
      ]
     },
     "metadata": {},
     "output_type": "display_data"
    }
   ],
   "source": [
    "naive_bayes_classifier(df_amazon)"
   ]
  },
  {
   "cell_type": "markdown",
   "metadata": {},
   "source": [
    "This model above performed well.  It does not seem to be overfitting (maybe a little because there is some discrepancy in the cross validation).  It appears that the features \"good\", \"well\", \"great\", and \"happy\" rank the highest."
   ]
  },
  {
   "cell_type": "code",
   "execution_count": 5,
   "metadata": {},
   "outputs": [],
   "source": [
    "#naive_bayes_classifier(df_imdb)"
   ]
  },
  {
   "cell_type": "code",
   "execution_count": 6,
   "metadata": {},
   "outputs": [],
   "source": [
    "#naive_bayes_classifier(df_yelp)"
   ]
  },
  {
   "cell_type": "markdown",
   "metadata": {},
   "source": [
    "The model below is the same model above only now we are trying to identify some of the bad keywords at the same time."
   ]
  },
  {
   "cell_type": "code",
   "execution_count": 7,
   "metadata": {},
   "outputs": [],
   "source": [
    "goodkeywords = ['good', 'great', 'best', 'excellent', 'awesome', 'fantastic', 'would recommend', \n",
    "            'must have', 'amazing', 'highly recommend', 'love', 'happy', 'glad', 'satisfied', 'perfect',\n",
    "           'really like', 'well']\n",
    "badkeywords = ['bad', 'terrible', 'hate', 'not recommend', 'awful', 'problem', 'worthless', 'garbage', 'no way']\n",
    "\n",
    "\n",
    "def naive_bayes_classifier1(df,n=10):\n",
    "    for key in goodkeywords:\n",
    "        df[str(key)]=df.message.str.contains(str(key), case=False)\n",
    "    for key in badkeywords:\n",
    "        df[str(key)]=~df.message.str.contains(str(key), case=False)\n",
    "    \n",
    "    data = df[goodkeywords+badkeywords]\n",
    "    target = df['score']\n",
    "    bnb = BernoulliNB()\n",
    "    bnb.fit(data, target)\n",
    "    y_pred = bnb.predict(data)\n",
    "\n",
    "    print('Number of mislabelled points out of total {}: {}'.format(df.shape[0], (target!=y_pred).sum()))\n",
    "    print('Performance = {:05.2f}%'.format(100*(1-(target!=y_pred).sum()/df.shape[0])))\n",
    "    print('Baseline: {}'.format(df.score.sum()))\n",
    "    print('')\n",
    "    \n",
    "    confusion = pd.DataFrame(confusion_matrix(target, y_pred))\n",
    "    confusion.index = ['Actual Bad', 'Actual Good']\n",
    "    confusion.columns = ['Predicted Bad', 'Predicted Good']\n",
    "    print(confusion)\n",
    "    print('')\n",
    "    \n",
    "    sensativity = (confusion.iloc[1,1]/confusion.iloc[1,:].sum())*100\n",
    "    specificity = (confusion.iloc[0,0]/confusion.iloc[0,:].sum())*100\n",
    "    print('Sensativity = {:05.2f}%'.format(sensativity))\n",
    "    print('Specificity = {0:05.2f}%'.format(specificity))\n",
    "    print('')\n",
    "    \n",
    "    print('Cross validation')\n",
    "    crossval = cross_val_score(bnb, data, target, cv=n)\n",
    "    print(crossval)\n",
    "    print(crossval.var())\n",
    "    print('')\n",
    "    \n",
    "    keywords = goodkeywords + badkeywords\n",
    "    feature_probs = bnb.feature_log_prob_\n",
    "    zipped = dict(zip(keywords, feature_probs[0]))\n",
    "    feature_prob_df = pd.DataFrame()\n",
    "    feature_prob_df['Feature'] = keywords\n",
    "    feature_prob_df['log_probability'] = zipped.values()\n",
    "    listofprobs = list(zipped.values())\n",
    "    feature_prob_df['probability'] = np.exp(listofprobs)\n",
    "    print(feature_prob_df.sort_values(by='log_probability', ascending=False))\n",
    "    print('')\n",
    "\n",
    "    sns.heatmap(data.corr(), cmap='RdBu')\n",
    "    plt.show()"
   ]
  },
  {
   "cell_type": "code",
   "execution_count": 8,
   "metadata": {},
   "outputs": [
    {
     "name": "stdout",
     "output_type": "stream",
     "text": [
      "Number of mislabelled points out of total 1000: 246\n",
      "Performance = 75.40%\n",
      "Baseline: 500\n",
      "\n",
      "             Predicted Bad  Predicted Good\n",
      "Actual Bad   467            33            \n",
      "Actual Good  213            287           \n",
      "\n",
      "Sensativity = 57.40%\n",
      "Specificity = 93.40%\n",
      "\n",
      "Cross validation\n",
      "[0.82 0.72 0.81 0.74 0.82 0.76 0.64 0.72 0.78 0.68]\n",
      "0.0033289999999999986\n",
      "\n",
      "             Feature  log_probability  probability\n",
      "25  no way           -0.003992         0.996016   \n",
      "24  garbage          -0.003992         0.996016   \n",
      "23  worthless        -0.008000         0.992032   \n",
      "21  awful            -0.008000         0.992032   \n",
      "20  not recommend    -0.010010         0.990040   \n",
      "19  hate             -0.012024         0.988048   \n",
      "18  terrible         -0.022156         0.978088   \n",
      "17  bad              -0.030336         0.970120   \n",
      "22  problem          -0.032391         0.968127   \n",
      "0   good             -3.579543         0.027888   \n",
      "16  well             -4.139159         0.015936   \n",
      "1   great            -4.272690         0.013944   \n",
      "11  happy            -4.609162         0.009960   \n",
      "2   best             -5.119988         0.005976   \n",
      "3   excellent        -5.525453         0.003984   \n",
      "10  love             -6.218600         0.001992   \n",
      "12  glad             -6.218600         0.001992   \n",
      "14  perfect          -6.218600         0.001992   \n",
      "15  really like      -6.218600         0.001992   \n",
      "9   highly recommend -6.218600         0.001992   \n",
      "8   amazing          -6.218600         0.001992   \n",
      "7   must have        -6.218600         0.001992   \n",
      "6   would recommend  -6.218600         0.001992   \n",
      "5   fantastic        -6.218600         0.001992   \n",
      "4   awesome          -6.218600         0.001992   \n",
      "13  satisfied        -6.218600         0.001992   \n",
      "\n"
     ]
    },
    {
     "data": {
      "image/png": "[encoded data removed]",
      "text/plain": [
       "<Figure size 432x288 with 2 Axes>"
      ]
     },
     "metadata": {},
     "output_type": "display_data"
    }
   ],
   "source": [
    "naive_bayes_classifier1(df_amazon)"
   ]
  },
  {
   "cell_type": "markdown",
   "metadata": {},
   "source": [
    "The model below is attempting to use only the top features."
   ]
  },
  {
   "cell_type": "code",
   "execution_count": 9,
   "metadata": {},
   "outputs": [],
   "source": [
    "keywords2 = ['good', 'great', 'happy', 'best']\n",
    "\n",
    "\n",
    "def naive_bayes_classifier2(df,n=10):\n",
    "    for key in keywords2:\n",
    "        df[str(key)]=df.message.str.contains(str(key), case=False)\n",
    "    \n",
    "    data = df[keywords2]\n",
    "    target = df['score']\n",
    "    bnb = BernoulliNB()\n",
    "    bnb.fit(data, target)\n",
    "    y_pred = bnb.predict(data)\n",
    "\n",
    "    print('Number of mislabelled points out of total {}: {}'.format(df.shape[0], (target!=y_pred).sum()))\n",
    "    print('Performance = {:05.2f}%'.format(100*(1-(target!=y_pred).sum()/df.shape[0])))\n",
    "    print('Baseline: {}'.format(df.score.sum()))\n",
    "    print('')\n",
    "    \n",
    "    confusion = pd.DataFrame(confusion_matrix(target, y_pred))\n",
    "    confusion.index = ['Actual Bad', 'Actual Good']\n",
    "    confusion.columns = ['Predicted Bad', 'Predicted Good']\n",
    "    print(confusion)\n",
    "    print('')\n",
    "    \n",
    "    sensativity = (confusion.iloc[1,1]/confusion.iloc[1,:].sum())*100\n",
    "    specificity = (confusion.iloc[0,0]/confusion.iloc[0,:].sum())*100\n",
    "    print('Sensativity = {:05.2f}%'.format(sensativity))\n",
    "    print('Specificity = {0:05.2f}%'.format(specificity))\n",
    "    print('')\n",
    "    \n",
    "    print('Cross validation')\n",
    "    crossval = cross_val_score(bnb, data, target, cv=n)\n",
    "    print(crossval)\n",
    "    print(crossval.var())\n",
    "    print('')\n",
    "    \n",
    "    feature_probs = bnb.feature_log_prob_\n",
    "    zipped = dict(zip(keywords2,feature_probs[0]))\n",
    "    feature_prob_df = pd.DataFrame()\n",
    "    feature_prob_df['Feature'] = keywords2\n",
    "    feature_prob_df['log_probability'] = zipped.values()\n",
    "    listofprobs = list(zipped.values())\n",
    "    feature_prob_df['probability'] = np.exp(listofprobs)\n",
    "    print(feature_prob_df.sort_values(by='log_probability', ascending=False))\n",
    "    print('')\n",
    "\n",
    "    sns.heatmap(data.corr(), cmap='RdBu')\n",
    "    plt.show()"
   ]
  },
  {
   "cell_type": "code",
   "execution_count": 10,
   "metadata": {},
   "outputs": [
    {
     "name": "stdout",
     "output_type": "stream",
     "text": [
      "Number of mislabelled points out of total 1000: 346\n",
      "Performance = 65.40%\n",
      "Baseline: 500\n",
      "\n",
      "             Predicted Bad  Predicted Good\n",
      "Actual Bad   475            25            \n",
      "Actual Good  321            179           \n",
      "\n",
      "Sensativity = 35.80%\n",
      "Specificity = 95.00%\n",
      "\n",
      "Cross validation\n",
      "[0.68 0.67 0.72 0.65 0.65 0.68 0.59 0.63 0.66 0.61]\n",
      "0.0012640000000000008\n",
      "\n",
      "  Feature  log_probability  probability\n",
      "0  good   -3.579543         0.027888   \n",
      "1  great  -4.272690         0.013944   \n",
      "2  happy  -4.609162         0.009960   \n",
      "3  best   -5.119988         0.005976   \n",
      "\n"
     ]
    },
    {
     "data": {
      "image/png": "[encoded data removed]",
      "text/plain": [
       "<Figure size 432x288 with 2 Axes>"
      ]
     },
     "metadata": {},
     "output_type": "display_data"
    }
   ],
   "source": [
    "naive_bayes_classifier2(df_amazon)"
   ]
  },
  {
   "cell_type": "markdown",
   "metadata": {},
   "source": [
    "The model below is attempting to overfit the data by using specific terms found from a direct search of only the 'goods'.  Interestingly, it did not seem to overfit the model, but actually create the strongest model for the amazon data set."
   ]
  },
  {
   "cell_type": "code",
   "execution_count": 11,
   "metadata": {},
   "outputs": [],
   "source": [
    "keywords3 = ['good', 'great', 'best', 'excellent', 'awesome', 'fantastic', 'would recommend', \n",
    "            'must have', 'amazing', 'highly recommend', 'love', 'happy', 'glad', 'satisfied', \n",
    "           'really like', 'well', 'seamless', 'comfortable', 'pleased', 'fast shipping', 'brilliant', 'no problem', \n",
    "            'easy to use', 'cool', 'tremendous']\n",
    "\n",
    "def naive_bayes_classifier3(df,n=10):\n",
    "    for key in keywords3:\n",
    "        df[str(key)]=df.message.str.contains(str(key), case=False)\n",
    "    \n",
    "    data = df[keywords3]\n",
    "    target = df['score']\n",
    "    bnb = BernoulliNB()\n",
    "    bnb.fit(data, target)\n",
    "    y_pred = bnb.predict(data)\n",
    "\n",
    "    print('Number of mislabelled points out of total {}: {}'.format(df.shape[0], (target!=y_pred).sum()))\n",
    "    print('Performance = {:05.2f}%'.format(100*(1-(target!=y_pred).sum()/df.shape[0])))\n",
    "    print('Baseline: {}'.format(df.score.sum()))\n",
    "    print('')\n",
    "    \n",
    "    confusion = pd.DataFrame(confusion_matrix(target, y_pred))\n",
    "    confusion.index = ['Actual Bad', 'Actual Good']\n",
    "    confusion.columns = ['Predicted Bad', 'Predicted Good']\n",
    "    print(confusion)\n",
    "    print('')\n",
    "    \n",
    "    sensativity = (confusion.iloc[1,1]/confusion.iloc[1,:].sum())*100\n",
    "    specificity = (confusion.iloc[0,0]/confusion.iloc[0,:].sum())*100\n",
    "    print('Sensativity = {:05.2f}%'.format(sensativity))\n",
    "    print('Specificity = {0:05.2f}%'.format(specificity))\n",
    "    print('')\n",
    "    \n",
    "    print('Cross validation')\n",
    "    crossval = cross_val_score(bnb, data, target, cv=n)\n",
    "    print(crossval)\n",
    "    print(crossval.var())\n",
    "    print('')\n",
    "    \n",
    "    feature_probs = bnb.feature_log_prob_\n",
    "    zipped = dict(zip(keywords3,feature_probs[0]))\n",
    "    feature_prob_df = pd.DataFrame()\n",
    "    feature_prob_df['Feature'] = keywords3\n",
    "    feature_prob_df['log_probability'] = zipped.values()\n",
    "    listofprobs = list(zipped.values())\n",
    "    feature_prob_df['probability'] = np.exp(listofprobs)\n",
    "    print(feature_prob_df.sort_values(by='log_probability', ascending=False))\n",
    "    print('')\n",
    "\n",
    "    sns.heatmap(data.corr(), cmap='RdBu')\n",
    "    plt.show()"
   ]
  },
  {
   "cell_type": "code",
   "execution_count": 12,
   "metadata": {},
   "outputs": [
    {
     "name": "stdout",
     "output_type": "stream",
     "text": [
      "Number of mislabelled points out of total 1000: 231\n",
      "Performance = 76.90%\n",
      "Baseline: 500\n",
      "\n",
      "             Predicted Bad  Predicted Good\n",
      "Actual Bad   458            42            \n",
      "Actual Good  189            311           \n",
      "\n",
      "Sensativity = 62.20%\n",
      "Specificity = 91.60%\n",
      "\n",
      "Cross validation\n",
      "[0.83 0.75 0.81 0.77 0.81 0.76 0.68 0.75 0.79 0.68]\n",
      "0.002380999999999999\n",
      "\n",
      "             Feature  log_probability  probability\n",
      "0   good             -3.579543         0.027888   \n",
      "15  well             -4.139159         0.015936   \n",
      "17  comfortable      -4.272690         0.013944   \n",
      "1   great            -4.272690         0.013944   \n",
      "11  happy            -4.609162         0.009960   \n",
      "2   best             -5.119988         0.005976   \n",
      "23  cool             -5.119988         0.005976   \n",
      "3   excellent        -5.525453         0.003984   \n",
      "18  pleased          -5.525453         0.003984   \n",
      "22  easy to use      -6.218600         0.001992   \n",
      "21  no problem       -6.218600         0.001992   \n",
      "20  brilliant        -6.218600         0.001992   \n",
      "19  fast shipping    -6.218600         0.001992   \n",
      "16  seamless         -6.218600         0.001992   \n",
      "12  glad             -6.218600         0.001992   \n",
      "14  really like      -6.218600         0.001992   \n",
      "13  satisfied        -6.218600         0.001992   \n",
      "10  love             -6.218600         0.001992   \n",
      "9   highly recommend -6.218600         0.001992   \n",
      "8   amazing          -6.218600         0.001992   \n",
      "7   must have        -6.218600         0.001992   \n",
      "6   would recommend  -6.218600         0.001992   \n",
      "5   fantastic        -6.218600         0.001992   \n",
      "4   awesome          -6.218600         0.001992   \n",
      "24  tremendous       -6.218600         0.001992   \n",
      "\n"
     ]
    },
    {
     "data": {
      "image/png": "[encoded data removed]",
      "text/plain": [
       "<Figure size 432x288 with 2 Axes>"
      ]
     },
     "metadata": {},
     "output_type": "display_data"
    }
   ],
   "source": [
    "naive_bayes_classifier3(df_amazon)"
   ]
  },
  {
   "cell_type": "markdown",
   "metadata": {},
   "source": [
    "This model below is built only on the key bad words.  If the bad keyword is identified in the message the opposite boolean is displayed in an attempt to identify the good messages."
   ]
  },
  {
   "cell_type": "code",
   "execution_count": 13,
   "metadata": {},
   "outputs": [],
   "source": [
    "badkeywords = ['bad', 'terrible', 'hate', 'not recommend', 'awful', 'problem', 'worthless', 'garbage', 'no way', 'not']\n",
    "\n",
    "def naive_bayes_classifier4(df,n=10):\n",
    "    for key in badkeywords:\n",
    "        df[str(key)]=~df.message.str.contains(str(key), case=False)\n",
    "    \n",
    "    data = df[badkeywords]\n",
    "    target = df['score']\n",
    "    bnb = BernoulliNB()\n",
    "    bnb.fit(data, target)\n",
    "    y_pred = bnb.predict(data)\n",
    "\n",
    "    print('Number of mislabelled points out of total {}: {}'.format(df.shape[0], (target!=y_pred).sum()))\n",
    "    print('Performance = {:05.2f}%'.format(100*(1-(target!=y_pred).sum()/df.shape[0])))\n",
    "    print('Baseline: {}'.format(df.score.sum()))\n",
    "    print('')\n",
    "    \n",
    "    confusion = pd.DataFrame(confusion_matrix(target, y_pred))\n",
    "    confusion.index = ['Actual Bad', 'Actual Good']\n",
    "    confusion.columns = ['Predicted Bad', 'Predicted Good']\n",
    "    print(confusion)\n",
    "    print('')\n",
    "    \n",
    "    sensativity = (confusion.iloc[1,1]/confusion.iloc[1,:].sum())*100\n",
    "    specificity = (confusion.iloc[0,0]/confusion.iloc[0,:].sum())*100\n",
    "    print('Sensativity = {:05.2f}%'.format(sensativity))\n",
    "    print('Specificity = {0:05.2f}%'.format(specificity))\n",
    "    print('')\n",
    "    \n",
    "    print('Cross validation')\n",
    "    crossval = cross_val_score(bnb, data, target, cv=n)\n",
    "    print(crossval)\n",
    "    print(crossval.var())\n",
    "    print('')\n",
    "    \n",
    "    keywords = badkeywords\n",
    "    feature_probs = bnb.feature_log_prob_\n",
    "    zipped = dict(zip(keywords, feature_probs[0]))\n",
    "    feature_prob_df = pd.DataFrame()\n",
    "    feature_prob_df['Feature'] = keywords\n",
    "    feature_prob_df['log_probability'] = zipped.values()\n",
    "    listofprobs = list(zipped.values())\n",
    "    feature_prob_df['probability'] = np.exp(listofprobs)\n",
    "    print(feature_prob_df.sort_values(by='log_probability', ascending=False))\n",
    "    print('')\n",
    "\n",
    "    sns.heatmap(data.corr(), cmap='RdBu')\n",
    "    plt.show()"
   ]
  },
  {
   "cell_type": "code",
   "execution_count": 14,
   "metadata": {},
   "outputs": [
    {
     "name": "stdout",
     "output_type": "stream",
     "text": [
      "Number of mislabelled points out of total 1000: 377\n",
      "Performance = 62.30%\n",
      "Baseline: 500\n",
      "\n",
      "             Predicted Bad  Predicted Good\n",
      "Actual Bad   152            348           \n",
      "Actual Good  29             471           \n",
      "\n",
      "Sensativity = 94.20%\n",
      "Specificity = 30.40%\n",
      "\n",
      "Cross validation\n",
      "[0.62 0.65 0.6  0.61 0.67 0.53 0.64 0.59 0.64 0.59]\n",
      "0.0014240000000000006\n",
      "\n",
      "         Feature  log_probability  probability\n",
      "7  garbage       -0.003992         0.996016   \n",
      "8  no way        -0.003992         0.996016   \n",
      "4  awful         -0.008000         0.992032   \n",
      "6  worthless     -0.008000         0.992032   \n",
      "3  not recommend -0.010010         0.990040   \n",
      "2  hate          -0.012024         0.988048   \n",
      "1  terrible      -0.022156         0.978088   \n",
      "0  bad           -0.030336         0.970120   \n",
      "5  problem       -0.032391         0.968127   \n",
      "9  not           -0.252453         0.776892   \n",
      "\n"
     ]
    },
    {
     "data": {
      "image/png": "[encoded data removed]",
      "text/plain": [
       "<Figure size 432x288 with 2 Axes>"
      ]
     },
     "metadata": {},
     "output_type": "display_data"
    }
   ],
   "source": [
    "naive_bayes_classifier4(df_amazon)"
   ]
  },
  {
   "cell_type": "markdown",
   "metadata": {},
   "source": [
    "This model is identifying the bad keywords as bad - to see the difference between the two bad keywords models.  This suprisingly did not have any difference from the model above."
   ]
  },
  {
   "cell_type": "code",
   "execution_count": 17,
   "metadata": {},
   "outputs": [],
   "source": [
    "badkeywords = ['bad', 'terrible', 'hate', 'not recommend', 'awful', 'problem', 'worthless', 'garbage', 'no way', 'not']\n",
    "\n",
    "def naive_bayes_classifier5(df,n=10):\n",
    "    for key in badkeywords:\n",
    "        df[str(key)]=df.message.str.contains(str(key), case=False)\n",
    "    \n",
    "    data = df[badkeywords]\n",
    "    target = df['score']\n",
    "    bnb = BernoulliNB()\n",
    "    bnb.fit(data, target)\n",
    "    y_pred = bnb.predict(data)\n",
    "\n",
    "    print('Number of mislabelled points out of total {}: {}'.format(df.shape[0], (target!=y_pred).sum()))\n",
    "    print('Performance = {:05.2f}%'.format(100*(1-(target!=y_pred).sum()/df.shape[0])))\n",
    "    print('Baseline: {}'.format(df.score.sum()))\n",
    "    print('')\n",
    "    \n",
    "    confusion = pd.DataFrame(confusion_matrix(target, y_pred))\n",
    "    confusion.index = ['Actual Bad', 'Actual Good']\n",
    "    confusion.columns = ['Predicted Bad', 'Predicted Good']\n",
    "    print(confusion)\n",
    "    print('')\n",
    "    \n",
    "    sensativity = (confusion.iloc[1,1]/confusion.iloc[1,:].sum())*100\n",
    "    specificity = (confusion.iloc[0,0]/confusion.iloc[0,:].sum())*100\n",
    "    print('Sensativity = {:05.2f}%'.format(sensativity))\n",
    "    print('Specificity = {0:05.2f}%'.format(specificity))\n",
    "    print('')\n",
    "    \n",
    "    print('Cross validation')\n",
    "    crossval = cross_val_score(bnb, data, target, cv=n)\n",
    "    print(crossval)\n",
    "    print(crossval.var())\n",
    "    print('')\n",
    "    \n",
    "    keywords = badkeywords\n",
    "    feature_probs = bnb.feature_log_prob_\n",
    "    zipped = dict(zip(keywords, feature_probs[0]))\n",
    "    feature_prob_df = pd.DataFrame()\n",
    "    feature_prob_df['Feature'] = keywords\n",
    "    feature_prob_df['log_probability'] = zipped.values()\n",
    "    listofprobs = list(zipped.values())\n",
    "    feature_prob_df['probability'] = np.exp(listofprobs)\n",
    "    print(feature_prob_df.sort_values(by='log_probability', ascending=False))\n",
    "    print('')\n",
    "\n",
    "    sns.heatmap(data.corr(), cmap='RdBu')\n",
    "    plt.show()"
   ]
  },
  {
   "cell_type": "code",
   "execution_count": 18,
   "metadata": {},
   "outputs": [
    {
     "name": "stdout",
     "output_type": "stream",
     "text": [
      "Number of mislabelled points out of total 1000: 377\n",
      "Performance = 62.30%\n",
      "Baseline: 500\n",
      "\n",
      "             Predicted Bad  Predicted Good\n",
      "Actual Bad   152            348           \n",
      "Actual Good  29             471           \n",
      "\n",
      "Sensativity = 94.20%\n",
      "Specificity = 30.40%\n",
      "\n",
      "Cross validation\n",
      "[0.62 0.65 0.6  0.61 0.67 0.53 0.64 0.59 0.64 0.59]\n",
      "0.0014240000000000006\n",
      "\n",
      "         Feature  log_probability  probability\n",
      "9  not           -1.500101         0.223108   \n",
      "5  problem       -3.446011         0.031873   \n",
      "0  bad           -3.510550         0.029880   \n",
      "1  terrible      -3.820705         0.021912   \n",
      "2  hate          -4.426841         0.011952   \n",
      "3  not recommend -4.609162         0.009960   \n",
      "4  awful         -4.832306         0.007968   \n",
      "6  worthless     -4.832306         0.007968   \n",
      "7  garbage       -5.525453         0.003984   \n",
      "8  no way        -5.525453         0.003984   \n",
      "\n"
     ]
    },
    {
     "data": {
      "image/png": "[encoded data removed]",
      "text/plain": [
       "<Figure size 432x288 with 2 Axes>"
      ]
     },
     "metadata": {},
     "output_type": "display_data"
    }
   ],
   "source": [
    "naive_bayes_classifier5(df_amazon)"
   ]
  },
  {
   "cell_type": "markdown",
   "metadata": {},
   "source": [
    "For modelling the amazon data set I would choose the **naive_bayes_classifier3** as the model that performed the best.\n",
    "\n",
    "This model performed the best because it had the highest accuracy, and sensativity and the variance across the cross validation is lower than the other two models that performed similarly (naive_bayes_classifier and naive_bayes_classifier1).  The tradeoff here is that this model does have the lowest specificity.  Therefore, this model has the highest performance and is the best at identifying true positives at the expense of being the worst model at identifying true negatives."
   ]
  },
  {
   "cell_type": "markdown",
   "metadata": {},
   "source": [
    "#### Points to touch on...."
   ]
  },
  {
   "cell_type": "markdown",
   "metadata": {},
   "source": [
    "* want to add a ROC curve\n",
    "* is my interpretation about ranking the features correct?\n",
    "    * is there a better way?\n",
    "* if my cross validation is telling me that my model is too overfit - should I trade accuracy for a better validation?\n"
   ]
  },
  {
   "cell_type": "code",
   "execution_count": null,
   "metadata": {},
   "outputs": [],
   "source": []
  }
 ],
 "metadata": {
  "kernelspec": {
   "display_name": "Python 3",
   "language": "python",
   "name": "python3"
  },
  "language_info": {
   "codemirror_mode": {
    "name": "ipython",
    "version": 3
   },
   "file_extension": ".py",
   "mimetype": "text/x-python",
   "name": "python",
   "nbconvert_exporter": "python",
   "pygments_lexer": "ipython3",
   "version": "3.7.0"
  }
 },
 "nbformat": 4,
 "nbformat_minor": 2
}
