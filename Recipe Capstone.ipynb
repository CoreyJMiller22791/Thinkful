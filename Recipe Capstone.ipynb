{
 "cells": [
  {
   "cell_type": "code",
   "execution_count": 1,
   "metadata": {},
   "outputs": [
    {
     "name": "stderr",
     "output_type": "stream",
     "text": [
      "c:\\users\\corey\\appdata\\local\\programs\\python\\python37\\lib\\site-packages\\gensim\\utils.py:1212: UserWarning: detected Windows; aliasing chunkize to chunkize_serial\n",
      "  warnings.warn(\"detected Windows; aliasing chunkize to chunkize_serial\")\n"
     ]
    }
   ],
   "source": [
    "import os\n",
    "import pandas as pd\n",
    "import numpy as np\n",
    "import seaborn as sns\n",
    "import matplotlib.pyplot as plt\n",
    "import nltk\n",
    "import spacy\n",
    "import gensim\n",
    "import time\n",
    "import re\n",
    "import string\n",
    "import scipy\n",
    "import collections\n",
    "\n",
    "from nltk.corpus import stopwords\n",
    "from stop_words import get_stop_words\n",
    "from sklearn.feature_extraction.text import TfidfVectorizer, CountVectorizer, ENGLISH_STOP_WORDS\n",
    "from sklearn.metrics.pairwise import linear_kernel, cosine_similarity\n",
    "from nltk.stem.snowball import SnowballStemmer\n",
    "from nltk.tokenize import word_tokenize\n",
    "from spacy.lang.en.stop_words import STOP_WORDS\n",
    "from gensim.summarization import keywords\n",
    "from gensim.models import word2vec\n",
    "\n",
    "\n",
    "\n",
    "%matplotlib inline\n",
    "\n",
    "pd.set_option('display.max_columns', 500)\n",
    "pd.set_option('display.max_rows', 500)\n",
    "pd.set_option('display.max_colwidth', -1)\n",
    "\n",
    "import warnings\n",
    "warnings.filterwarnings('ignore')"
   ]
  },
  {
   "cell_type": "code",
   "execution_count": 2,
   "metadata": {
    "scrolled": false
   },
   "outputs": [],
   "source": [
    "path = os.path.join(os.getcwd(),'recipes')\n",
    "\n",
    "# Show contents of recipe folder\n",
    "recipes = os.listdir(path)\n",
    "\n",
    "\n",
    "# Load in data\n",
    "list_ = []\n",
    "for recipe in recipes:\n",
    "    df = pd.read_json(os.path.join(path,recipe), compression='xz', lines=True, encoding='Latin-1')\n",
    "    list_.append(df)\n",
    "    \n",
    "# Get Column names and shape of each dataset\n",
    "recipes_ = [x.split('.')[0].replace('-',' ').upper() for x in recipes]\n",
    "data_cols = {}\n",
    "for df,name in enumerate(recipes_):\n",
    "    data_cols[name]=[list_[df].columns.tolist(),list_[df].shape]"
   ]
  },
  {
   "cell_type": "code",
   "execution_count": 3,
   "metadata": {
    "scrolled": true
   },
   "outputs": [
    {
     "name": "stdout",
     "output_type": "stream",
     "text": [
      "                                                                                                                                                                              ALLRECIPES RECIPES  \\\n",
      "0  [author, cook_time_minutes, description, error, footnotes, ingredients, instructions, photo_url, prep_time_minutes, rating_stars, review_count, time_scraped, title, total_time_minutes, url]   \n",
      "1  (225602, 15)                                                                                                                                                                                    \n",
      "\n",
      "                                                                                                                                                                                                               BBCCOUK RECIPES  \\\n",
      "0  [chef, chef_id, cooking_time_minutes, description, error, ingredients, instructions, instructions_detailed, photo_url, preparation_time_minutes, program, program_id, serves, time_scraped, title, total_time_minutes, url]   \n",
      "1  (10599, 17)                                                                                                                                                                                                                   \n",
      "\n",
      "                                                                                                                                                                                                                                                                                                                                                                                                                           COOKSTR RECIPES  \\\n",
      "0  [chef, comment_count, contributors, cookbook, cookbook_publisher, cooking_method, copyright, cost, course, date_modified, description, dietary_considerations, difficulty, error, ingredients, ingredients_detailed, instructions, kid_friendly, make_ahead, makes, meal, occasion, photo_credit_name, photo_credit_site, photo_url, rating_count, rating_value, taste_and_texture, time_scraped, title, total_time, type_of_dish, url]   \n",
      "1  (7918, 33)                                                                                                                                                                                                                                                                                                                                                                                                                                \n",
      "\n",
      "                                                                                                                                 EPICURIOUS RECIPES  \n",
      "0  [aggregateRating, author, dateCrawled, dek, hed, id, ingredients, photoData, prepSteps, pubDate, reviewsCount, tag, type, url, willMakeAgainPct]  \n",
      "1  (34756, 15)                                                                                                                                       \n"
     ]
    }
   ],
   "source": [
    "# check columns from each dataset for merging\n",
    "col_df = pd.DataFrame(data_cols)\n",
    "print(col_df.head())"
   ]
  },
  {
   "cell_type": "code",
   "execution_count": 4,
   "metadata": {},
   "outputs": [
    {
     "name": "stdout",
     "output_type": "stream",
     "text": [
      "ALLRECIPES RECIPES\n",
      "['author', 'cook_time_minutes', 'description', 'error', 'footnotes', 'ingredients', 'instructions', 'photo_url', 'prep_time_minutes', 'rating_stars', 'review_count', 'time_scraped', 'title', 'total_time_minutes', 'url']\n",
      "BBCCOUK RECIPES\n",
      "['chef', 'chef_id', 'cooking_time_minutes', 'description', 'error', 'ingredients', 'instructions', 'instructions_detailed', 'photo_url', 'preparation_time_minutes', 'program', 'program_id', 'serves', 'time_scraped', 'title', 'total_time_minutes', 'url']\n",
      "COOKSTR RECIPES\n",
      "['chef', 'comment_count', 'contributors', 'cookbook', 'cookbook_publisher', 'cooking_method', 'copyright', 'cost', 'course', 'date_modified', 'description', 'dietary_considerations', 'difficulty', 'error', 'ingredients', 'ingredients_detailed', 'instructions', 'kid_friendly', 'make_ahead', 'makes', 'meal', 'occasion', 'photo_credit_name', 'photo_credit_site', 'photo_url', 'rating_count', 'rating_value', 'taste_and_texture', 'time_scraped', 'title', 'total_time', 'type_of_dish', 'url']\n",
      "EPICURIOUS RECIPES\n",
      "['aggregateRating', 'author', 'dateCrawled', 'dek', 'hed', 'id', 'ingredients', 'photoData', 'prepSteps', 'pubDate', 'reviewsCount', 'tag', 'type', 'url', 'willMakeAgainPct']\n"
     ]
    }
   ],
   "source": [
    "for x in range(4):\n",
    "    print(recipes_[x])\n",
    "    print(list_[x].columns.tolist())"
   ]
  },
  {
   "cell_type": "code",
   "execution_count": 5,
   "metadata": {
    "scrolled": false
   },
   "outputs": [
    {
     "name": "stdout",
     "output_type": "stream",
     "text": [
      "<class 'pandas.core.frame.DataFrame'>\n",
      "RangeIndex: 225602 entries, 0 to 225601\n",
      "Data columns (total 15 columns):\n",
      "author                225602 non-null object\n",
      "cook_time_minutes     225602 non-null int64\n",
      "description           225602 non-null object\n",
      "error                 225602 non-null bool\n",
      "footnotes             225602 non-null object\n",
      "ingredients           225602 non-null object\n",
      "instructions          225602 non-null object\n",
      "photo_url             225602 non-null object\n",
      "prep_time_minutes     225602 non-null int64\n",
      "rating_stars          225602 non-null float64\n",
      "review_count          225602 non-null int64\n",
      "time_scraped          225602 non-null int64\n",
      "title                 225602 non-null object\n",
      "total_time_minutes    225602 non-null int64\n",
      "url                   225602 non-null object\n",
      "dtypes: bool(1), float64(1), int64(5), object(8)\n",
      "memory usage: 24.3+ MB\n",
      "None\n",
      "['Preheat oven to 400 degrees F (205 degrees C). Butter a 9x9x2 inch baking pan.', 'Melt 1 tablespoon butter in medium nonstick skillet over medium-low heat. Add onion and saute until tender, about 10 minutes. Cool.', 'Mix cornmeal with the flour, baking powder, sugar, salt, and baking soda in large bowl. Add 7 tablespoons butter and rub with fingertips until mixture resembles coarse meal.', 'Whisk buttermilk and eggs in medium bowl to blend. Add buttermilk mixture to dry ingredients and stir until blended. Mix in cheese, corn, red peppers, basil, and onion. Transfer to prepared pan.', 'Bake cornbread until golden and tester inserted comes out clean, about 45 minutes. Cool 20 minutes in pan. Cut cornbread into squares.']\n",
      "--------------------------------------------------\n",
      "['1/2 cup unsalted butter, chilled and cubed', '1 cup chopped onion', '1 3/4 cups cornmeal', '1 1/4 cups all-purpose flour', '1/4 cup white sugar', '1 tablespoon baking powder', '1 1/2 teaspoons salt', '1/2 teaspoon baking soda', '1 1/2 cups buttermilk', '3 eggs', '1 1/2 cups shredded pepperjack cheese', '1 1/3 cups frozen corn kernels, thawed and drained', '2 ounces roasted marinated red bell peppers, drained and chopped', '1/2 cup chopped fresh basil']\n",
      "--------------------------------------------------\n",
      "I just started adding my favorite things to basic cornbread and I came up with something great!\n",
      "--------------------------------------------------\n",
      "[]\n",
      "--------------------------------------------------\n",
      "You can make these into braids or buns. Frost with an orange icing and sprinkle some nuts on top, if desired. \"Cook's Note:\", 'I made 1 braid, 12 cinnamon buns, and 12 butterhorns with this recipe.', 'Parchment can be used for easier cleanup/removal from the pan.'\n"
     ]
    },
    {
     "data": {
      "image/png": "[encoded data removed]",
      "text/plain": [
       "<Figure size 432x288 with 1 Axes>"
      ]
     },
     "metadata": {
      "needs_background": "light"
     },
     "output_type": "display_data"
    },
    {
     "name": "stdout",
     "output_type": "stream",
     "text": [
      "<class 'pandas.core.frame.DataFrame'>\n",
      "Int64Index: 91161 entries, 0 to 225601\n",
      "Data columns (total 10 columns):\n",
      "cook_time       91161 non-null int64\n",
      "description     91161 non-null object\n",
      "ingredients     91161 non-null object\n",
      "instructions    91161 non-null object\n",
      "prep_time       91161 non-null int64\n",
      "rating          91161 non-null float64\n",
      "review_count    91161 non-null int64\n",
      "title           91161 non-null object\n",
      "total_time      91161 non-null int64\n",
      "url             91161 non-null object\n",
      "dtypes: float64(1), int64(4), object(5)\n",
      "memory usage: 7.7+ MB\n",
      "None\n"
     ]
    }
   ],
   "source": [
    "# Allrecipes check\n",
    "allrecipes = list_[0]\n",
    "#print(allrecipes.head())\n",
    "#print(allrecipes.columns.tolist())\n",
    "#print(allrecipes.describe())\n",
    "print(allrecipes.info())\n",
    "\n",
    "# Drop error, author, time_scraped, photo_url\n",
    "# Error Column is always False, Author is user_name for website, time_scraped and photo_url aren't important\n",
    "#print(allrecipes.error.unique())\n",
    "#print(allrecipes.author)\n",
    "\n",
    "allrecipes = allrecipes.drop(['author', 'error', 'time_scraped', 'photo_url'], 1)\n",
    "\n",
    "# change name of rating-stars to rating, and drop minutes from time variables\n",
    "allrecipes.rename({'rating_stars':'rating', \n",
    "                   'cook_time_minutes':'cook_time',\n",
    "                   'prep_time_minutes':'prep_time',\n",
    "                   'total_time_minutes':'total_time'}, axis=1, inplace=True)\n",
    "print(allrecipes.instructions[0])\n",
    "print('-'*50)\n",
    "print(allrecipes.ingredients[0])\n",
    "print('-'*50)\n",
    "print(allrecipes.description[0])\n",
    "print('-'*50)\n",
    "print(allrecipes.footnotes[0])\n",
    "print('-'*50)\n",
    "\n",
    "# combine the footnote column with the description column\n",
    "allrecipes.footnotes = allrecipes.footnotes.apply(str)\n",
    "allrecipes.description = allrecipes.description.str.cat(allrecipes.footnotes, sep=' ')\n",
    "allrecipes.description = allrecipes.description.str.replace('[','').str.replace(']','')\n",
    "print(allrecipes.description[4])\n",
    "\n",
    "# Drop footnote\n",
    "allrecipes = allrecipes.drop('footnotes',1)\n",
    "\n",
    "# Check ratings\n",
    "sns.distplot(allrecipes.rating)\n",
    "plt.title(\"Ratings\\nMin:Max = \"+str(allrecipes.rating.min())+'-'+str(allrecipes.rating.max()))\n",
    "plt.show()\n",
    "\n",
    "#print(np.sort(allrecipes.rating.unique()))\n",
    "\n",
    "# Drop duplicates\n",
    "allrecipes.ingredients = allrecipes.ingredients.apply(', '.join)\n",
    "allrecipes = allrecipes.drop_duplicates(subset='ingredients',keep='first')\n",
    "# Check\n",
    "print(allrecipes.info())\n",
    "#print(allrecipes.head())"
   ]
  },
  {
   "cell_type": "code",
   "execution_count": 6,
   "metadata": {},
   "outputs": [
    {
     "name": "stdout",
     "output_type": "stream",
     "text": [
      "<class 'pandas.core.frame.DataFrame'>\n",
      "RangeIndex: 10599 entries, 0 to 10598\n",
      "Data columns (total 17 columns):\n",
      "chef                        10599 non-null object\n",
      "chef_id                     10599 non-null object\n",
      "cooking_time_minutes        10599 non-null int64\n",
      "description                 10599 non-null object\n",
      "error                       10599 non-null bool\n",
      "ingredients                 10599 non-null object\n",
      "instructions                10599 non-null object\n",
      "instructions_detailed       10599 non-null object\n",
      "photo_url                   2225 non-null object\n",
      "preparation_time_minutes    10599 non-null int64\n",
      "program                     9626 non-null object\n",
      "program_id                  9626 non-null object\n",
      "serves                      10599 non-null int64\n",
      "time_scraped                10599 non-null int64\n",
      "title                       10599 non-null object\n",
      "total_time_minutes          10599 non-null int64\n",
      "url                         10599 non-null object\n",
      "dtypes: bool(1), int64(5), object(11)\n",
      "memory usage: 1.3+ MB\n",
      "None\n",
      "\n",
      "--------------------------------------------------\n",
      "Saturday Kitchen\n",
      " Saturday Kitchen\n",
      "<class 'pandas.core.frame.DataFrame'>\n",
      "RangeIndex: 10599 entries, 0 to 10598\n",
      "Data columns (total 8 columns):\n",
      "cook_time       10599 non-null int64\n",
      "description     10599 non-null object\n",
      "ingredients     10599 non-null object\n",
      "instructions    10599 non-null object\n",
      "prep_time       10599 non-null int64\n",
      "title           10599 non-null object\n",
      "total_time      10599 non-null int64\n",
      "url             10599 non-null object\n",
      "dtypes: int64(3), object(5)\n",
      "memory usage: 662.5+ KB\n",
      "None\n"
     ]
    },
    {
     "data": {
      "text/plain": [
       "['250g/8¾oz plain flour, plus extra for dusting',\n",
       " '8 tbsp olive oil',\n",
       " '2 tsp water',\n",
       " '1 tsp sea salt',\n",
       " '4 tbsp tomato purée',\n",
       " '60g/2¼oz shiitake mushrooms, sliced',\n",
       " '4 slices prosciutto',\n",
       " '100g/3½oz gorgonzola cheese',\n",
       " '1 free-range egg']"
      ]
     },
     "execution_count": 6,
     "metadata": {},
     "output_type": "execute_result"
    }
   ],
   "source": [
    "# BBC CO UK check\n",
    "bbcrecipes = list_[1]\n",
    "\n",
    "#print(bbcrecipes.head())\n",
    "print(bbcrecipes.info())\n",
    "#print(bbcrecipes.error.unique())\n",
    "\n",
    "#print(bbcrecipes.instructions_detailed[0])\n",
    "#print('-'*50)\n",
    "#print(bbcrecipes.instructions[0])\n",
    "#print('-'*50)\n",
    "#print(bbcrecipes.ingredients[0])\n",
    "#print('-'*50)\n",
    "print(bbcrecipes.description[10])\n",
    "print('-'*50)\n",
    "print(bbcrecipes.program[10])\n",
    "\n",
    "# Add program to descriptions\n",
    "bbcrecipes.program = bbcrecipes.program.apply(str)\n",
    "bbcrecipes.description = bbcrecipes.description.str.cat(bbcrecipes.program, sep=' ')\n",
    "\n",
    "print(bbcrecipes.description[10])\n",
    "\n",
    "# Drop error, chef, chef_id, instructions_detailed, photo_url, program, program_id, serves, time_scraped\n",
    "bbcrecipes = bbcrecipes.drop(['error', 'chef', 'chef_id', \n",
    "                              'instructions_detailed', 'photo_url', \n",
    "                              'program', 'program_id', 'serves', 'time_scraped'], 1)\n",
    "\n",
    "bbcrecipes.rename({'cooking_time_minutes':'cook_time',\n",
    "                   'preparation_time_minutes':'prep_time',\n",
    "                   'total_time_minutes':'total_time'}, axis=1, inplace=True)\n",
    "# Check\n",
    "print(bbcrecipes.info())\n",
    "bbcrecipes.ingredients[0]"
   ]
  },
  {
   "cell_type": "code",
   "execution_count": 7,
   "metadata": {
    "scrolled": false
   },
   "outputs": [
    {
     "name": "stdout",
     "output_type": "stream",
     "text": [
      "Cooking Methodpreserving\n",
      "Christopher Idone\n",
      "None\n",
      "The Best of Christopher Idone\n",
      "Stewart, Tabori & Chang\n",
      "preserving\n",
      "Inexpensive\n",
      "None\n",
      "egg-free, gluten-free, healthy, lactose-free, low calorie, low carb, low cholesterol, low-fat, peanut free, soy free, tree nut free, vegetarian\n",
      "Easy\n",
      "None\n",
      "None\n",
      "hot & spicy, savory, tangy, tart\n",
      "Condiments, dip/spread\n",
      "Cooking Methodpreserving Christopher Idone None The Best of Christopher Idone Stewart, Tabori & Chang preserving Inexpensive None egg-free, gluten-free, healthy, lactose-free, low calorie, low carb, low cholesterol, low-fat, peanut free, soy free, tree nut free, vegetarian Easy None None hot & spicy, savory, tangy, tart Condiments, dip/spread\n"
     ]
    },
    {
     "data": {
      "image/png": "[encoded data removed]",
      "text/plain": [
       "<Figure size 432x288 with 1 Axes>"
      ]
     },
     "metadata": {
      "needs_background": "light"
     },
     "output_type": "display_data"
    },
    {
     "name": "stdout",
     "output_type": "stream",
     "text": [
      "<class 'pandas.core.frame.DataFrame'>\n",
      "RangeIndex: 7918 entries, 0 to 7917\n",
      "Data columns (total 7 columns):\n",
      "ingredients     7918 non-null object\n",
      "instructions    7918 non-null object\n",
      "rating          7918 non-null float64\n",
      "title           7918 non-null object\n",
      "total_time      7851 non-null object\n",
      "url             7918 non-null object\n",
      "description     7918 non-null object\n",
      "dtypes: float64(1), object(6)\n",
      "memory usage: 433.1+ KB\n",
      "None\n",
      "3624    Cooking Methodpreserving Christopher Idone None The Best of Christopher Idone Stewart, Tabori & Chang preserving Inexpensive None egg-free, gluten-free, healthy, lactose-free, low calorie, low carb, low cholesterol, low-fat, peanut free, soy free, tree nut free, vegetarian Easy None None hot & spicy, savory, tangy, tart Condiments, dip/spread\n",
      "Name: description, dtype: object\n"
     ]
    },
    {
     "data": {
      "text/plain": [
       "['1 tablespoon softened butter',\n",
       " '2 tablespoons flour',\n",
       " '3 cups sifted cake flour (if you canâ\\x80\\x99t find cake flour, the same amount of all-purpose flour can be substituted)',\n",
       " '4 teaspoons double-acting baking powder',\n",
       " 'Â½ teaspoon salt',\n",
       " '8 ounces (2 sticks) unsalted butter, at room temperature',\n",
       " '2 cups granulated sugar',\n",
       " '4 eggs, at room temperature',\n",
       " '1 cup milk, at room temperature',\n",
       " '1 to 1Â½ teaspoons vanilla extract',\n",
       " 'Â¾ cup strained orange juice',\n",
       " '2 tablespoons lemon juice',\n",
       " 'Â¾ cup granulated sugar',\n",
       " '1 tablespoon finely grated orange rind']"
      ]
     },
     "execution_count": 7,
     "metadata": {},
     "output_type": "execute_result"
    }
   ],
   "source": [
    "# COOKSTR check\n",
    "cookstrecipes = list_[2]\n",
    "\n",
    "#print(cookstrecipes.head())\n",
    "#print(cookstrecipes.info())\n",
    "#print(cookstrecipes[cookstrecipes.chef.isnull()]['contributors'])\n",
    "\n",
    "# lets append the cookbook, publisher cooking_method, cost, course, chef, contributor, dietary_considerations, \n",
    "# difficulty, meal, occasion, taste/texture, and type of dish to the description\n",
    "\n",
    "# Change description to og_description\n",
    "cookstrecipes.rename(columns={'description':'description_og'}, inplace=True)\n",
    "print(cookstrecipes.description_og[3624])\n",
    "cols_to_append = ['chef', 'contributors', 'cookbook', 'cookbook_publisher', \n",
    "                  'cooking_method', 'cost', 'course', 'dietary_considerations',\n",
    "                  'difficulty', 'meal', 'occasion', 'taste_and_texture', 'type_of_dish']\n",
    "cookstrecipes['description'] = cookstrecipes['description_og'].str.cat(cookstrecipes[cols_to_append].astype(str), sep=' ', na_rep=' ')\n",
    "\n",
    "for x in cols_to_append:\n",
    "    print(cookstrecipes.loc[3624,x])\n",
    "    \n",
    "print(cookstrecipes.description[3624])\n",
    "\n",
    "# Drop cols to append, comment_count, copyright, date_modified, error, ingredients_detailed, kid_friendly, make_ahead, makes,\n",
    "# photo stuff, and time scraped\n",
    "drop_cols = cols_to_append +['description_og','rating_count', 'comment_count', 'copyright',\n",
    "                                  'date_modified','error','ingredients_detailed',\n",
    "                                  'kid_friendly','make_ahead','makes',\n",
    "                                  'photo_credit_name','photo_credit_site','photo_url','time_scraped']\n",
    "# remove description from droplist\n",
    "#drop_cols.pop(0)\n",
    "#print(drop_cols)\n",
    "cookstrecipes = cookstrecipes.drop(drop_cols, 1)\n",
    "\n",
    "#print(cookstrecipes.total_time)\n",
    "\n",
    "# Check ratings\n",
    "cookstrecipes.rating_value.fillna(0,inplace=True)\n",
    "sns.distplot(cookstrecipes.rating_value)\n",
    "plt.title(\"Ratings\\nMin:Max = \"+str(cookstrecipes.rating_value.min())+'-'+str(cookstrecipes.rating_value.max()))\n",
    "plt.show()\n",
    "\n",
    "#print(cookstrecipes.rating_value.dropna())\n",
    "\n",
    "# Rename\n",
    "cookstrecipes.rename({'rating_value':'rating'}, axis=1, inplace=True)\n",
    "\n",
    "# Check\n",
    "print(cookstrecipes.info())\n",
    "print(cookstrecipes[cookstrecipes.title=='Hot Hot Tomato Chutney']['description'])\n",
    "cookstrecipes.ingredients[0]"
   ]
  },
  {
   "cell_type": "code",
   "execution_count": 8,
   "metadata": {},
   "outputs": [
    {
     "name": "stdout",
     "output_type": "stream",
     "text": [
      "<class 'pandas.core.frame.DataFrame'>\n",
      "RangeIndex: 34756 entries, 0 to 34755\n",
      "Data columns (total 15 columns):\n",
      "aggregateRating     34756 non-null float64\n",
      "author              34756 non-null object\n",
      "dateCrawled         34756 non-null int64\n",
      "dek                 34756 non-null object\n",
      "hed                 34756 non-null object\n",
      "id                  34756 non-null object\n",
      "ingredients         34656 non-null object\n",
      "photoData           34756 non-null object\n",
      "prepSteps           34756 non-null object\n",
      "pubDate             34756 non-null object\n",
      "reviewsCount        34756 non-null int64\n",
      "tag                 34655 non-null object\n",
      "type                34756 non-null object\n",
      "url                 34756 non-null object\n",
      "willMakeAgainPct    34756 non-null int64\n",
      "dtypes: float64(1), int64(3), object(11)\n",
      "memory usage: 4.0+ MB\n",
      "None\n",
      "How does fried chicken achieve No. 1 status? Brined, boneless thighs are responsible for incredible dark-meat flavor, and the dredge technique creates an insanely crunchy coating.\n",
      "Pickle-Brined Fried Chicken\n",
      "{'category': 'ingredient', 'name': 'Chicken', 'url': '', 'photosBadgeAltText': '', 'photosBadgeFileName': '', 'photosBadgeID': '', 'photosBadgeRelatedUri': ''}\n",
      "How does fried chicken achieve No. 1 status? Brined, boneless thighs are responsible for incredible dark-meat flavor, and the dredge technique creates an insanely crunchy coating. Pickle-Brined Fried Chicken\n"
     ]
    },
    {
     "data": {
      "image/png": "[encoded data removed]",
      "text/plain": [
       "<Figure size 432x288 with 1 Axes>"
      ]
     },
     "metadata": {
      "needs_background": "light"
     },
     "output_type": "display_data"
    },
    {
     "name": "stdout",
     "output_type": "stream",
     "text": [
      "<class 'pandas.core.frame.DataFrame'>\n",
      "Int64Index: 34569 entries, 0 to 34755\n",
      "Data columns (total 6 columns):\n",
      "rating          34569 non-null float64\n",
      "ingredients     34569 non-null object\n",
      "instructions    34569 non-null object\n",
      "review_count    34569 non-null int64\n",
      "url             34569 non-null object\n",
      "description     34569 non-null object\n",
      "dtypes: float64(1), int64(1), object(4)\n",
      "memory usage: 1.8+ MB\n",
      "None\n"
     ]
    },
    {
     "data": {
      "text/plain": [
       "['1 tablespoons yellow mustard seeds',\n",
       " '1 tablespoons brown mustard seeds',\n",
       " '1 1/2 teaspoons coriander seeds',\n",
       " '1 cup apple cider vinegar',\n",
       " '2/3 cup kosher salt',\n",
       " '1/3 cup sugar',\n",
       " '1/4 cup chopped fresh dill',\n",
       " '8 skinless, boneless chicken thighs (about 3 pounds), halved, quartered if large',\n",
       " 'Vegetable oil (for frying; about 10 cups)',\n",
       " '2 cups buttermilk',\n",
       " '2 cups all-purpose flour',\n",
       " 'Kosher salt',\n",
       " 'Honey, flaky sea salt (such as Maldon), toasted benne or sesame seeds, hot sauce (for serving)',\n",
       " 'A deep-fry thermometer']"
      ]
     },
     "execution_count": 8,
     "metadata": {},
     "output_type": "execute_result"
    }
   ],
   "source": [
    "# epicurious check\n",
    "epicuriousrecipes = list_[3]\n",
    "\n",
    "#print(cookstrecipes.head())\n",
    "print(epicuriousrecipes.info())\n",
    "#print(epicuriousrecipes.author) drop\n",
    "#print(epicuriousrecipes.id) drop\n",
    "\n",
    "# Description = dek+hed\n",
    "# Instructions =prepSteps\n",
    "print(epicuriousrecipes.dek[0])\n",
    "print(epicuriousrecipes.hed[0])\n",
    "print(epicuriousrecipes.tag[0])\n",
    "\n",
    "#epicuriousrecipes.tag = [[k,v] for k, v in epicuriousrecipes.tag.items()]\n",
    "\n",
    "epicuriousrecipes['description'] = epicuriousrecipes.dek.str.cat([epicuriousrecipes.hed.map(str)], sep=' ')\n",
    "                                                                  #epicuriousrecipes.tag.map(str)],\n",
    "\n",
    "print(epicuriousrecipes.description[0])\n",
    "epicuriousrecipes.rename({'prepSteps':'instructions', 'aggregateRating':'rating', 'reviewsCount':'review_count'}, axis=1, inplace=True)\n",
    "#print(epicuriousrecipes.type.unique()) drop\n",
    "\n",
    "# Change rating scale to 0-5\n",
    "epicuriousrecipes.rating = epicuriousrecipes.rating*(5/4)\n",
    "\n",
    "# Check ratings\n",
    "sns.distplot(epicuriousrecipes.rating)\n",
    "plt.title(\"Ratings\\nMin:Max = \"+str(epicuriousrecipes.rating.min())+'-'+str(epicuriousrecipes.rating.max()))\n",
    "plt.show()\n",
    "\n",
    "\n",
    "# 100 missing ingredient recipes\n",
    "#print(epicuriousrecipes[epicuriousrecipes.ingredients.isnull()])\n",
    "\n",
    "epicuriousrecipes = epicuriousrecipes.dropna(0)\n",
    "\n",
    "drop_cols = ['author','dateCrawled', 'id', 'dek', 'hed', 'photoData', 'pubDate', 'type', 'willMakeAgainPct', 'tag']\n",
    "epicuriousrecipes = epicuriousrecipes.drop(drop_cols,1)\n",
    "\n",
    "print(epicuriousrecipes.info())\n",
    "epicuriousrecipes.ingredients[0]"
   ]
  },
  {
   "cell_type": "code",
   "execution_count": 9,
   "metadata": {},
   "outputs": [
    {
     "name": "stdout",
     "output_type": "stream",
     "text": [
      "Index(['cook_time', 'description', 'ingredients', 'instructions', 'prep_time',\n",
      "       'rating', 'review_count', 'title', 'total_time', 'url'],\n",
      "      dtype='object') 10\n",
      "Index(['cook_time', 'description', 'ingredients', 'instructions', 'prep_time',\n",
      "       'title', 'total_time', 'url'],\n",
      "      dtype='object') 8\n",
      "Index(['ingredients', 'instructions', 'rating', 'title', 'total_time', 'url',\n",
      "       'description'],\n",
      "      dtype='object') 7\n",
      "Index(['rating', 'ingredients', 'instructions', 'review_count', 'url',\n",
      "       'description'],\n",
      "      dtype='object') 6\n"
     ]
    }
   ],
   "source": [
    "# check final dataframes\n",
    "dfs = [allrecipes, bbcrecipes, cookstrecipes, epicuriousrecipes]\n",
    "for df in dfs:\n",
    "    print(df.columns,df.shape[1])\n",
    "df_all = pd.concat(dfs,0, sort=True, ignore_index=True)"
   ]
  },
  {
   "cell_type": "code",
   "execution_count": 10,
   "metadata": {},
   "outputs": [
    {
     "name": "stdout",
     "output_type": "stream",
     "text": [
      "(144247, 10)\n",
      "<class 'pandas.core.frame.DataFrame'>\n",
      "RangeIndex: 144247 entries, 0 to 144246\n",
      "Data columns (total 10 columns):\n",
      "cook_time       101760 non-null float64\n",
      "description     144247 non-null object\n",
      "ingredients     144247 non-null object\n",
      "instructions    144247 non-null object\n",
      "prep_time       101760 non-null float64\n",
      "rating          133648 non-null float64\n",
      "review_count    125730 non-null float64\n",
      "title           109678 non-null object\n",
      "total_time      109611 non-null object\n",
      "url             144247 non-null object\n",
      "dtypes: float64(4), object(6)\n",
      "memory usage: 11.0+ MB\n",
      "None\n",
      "1/2 cup unsalted butter, chilled and cubed, 1 cup chopped onion, 1 3/4 cups cornmeal, 1 1/4 cups all-purpose flour, 1/4 cup white sugar, 1 tablespoon baking powder, 1 1/2 teaspoons salt, 1/2 teaspoon baking soda, 1 1/2 cups buttermilk, 3 eggs, 1 1/2 cups shredded pepperjack cheese, 1 1/3 cups frozen corn kernels, thawed and drained, 2 ounces roasted marinated red bell peppers, drained and chopped, 1/2 cup chopped fresh basil\n"
     ]
    },
    {
     "data": {
      "text/plain": [
       "104253"
      ]
     },
     "execution_count": 10,
     "metadata": {},
     "output_type": "execute_result"
    }
   ],
   "source": [
    "#print(df_all.head())\n",
    "print(df_all.shape)\n",
    "print(df_all.info())\n",
    "print(df_all.ingredients[0])\n",
    "\n",
    "df_all.rating[df_all.rating>0].notnull().sum()"
   ]
  },
  {
   "cell_type": "code",
   "execution_count": 11,
   "metadata": {
    "scrolled": true
   },
   "outputs": [
    {
     "data": {
      "image/png": "[encoded data removed]",
      "text/plain": [
       "<Figure size 432x288 with 1 Axes>"
      ]
     },
     "metadata": {
      "needs_background": "light"
     },
     "output_type": "display_data"
    },
    {
     "name": "stdout",
     "output_type": "stream",
     "text": [
      "There are 104,253 non-zero ratings in the dataset\n"
     ]
    }
   ],
   "source": [
    "sns.distplot(df_all.rating[df_all.rating>0].dropna())\n",
    "plt.title('Positive Ratings for Overall Dataset')\n",
    "plt.show()\n",
    "\n",
    "print(\"There are {:,d} non-zero ratings in the dataset\".format(df_all.rating[df_all.rating>0].notnull().sum()))"
   ]
  },
  {
   "cell_type": "code",
   "execution_count": 12,
   "metadata": {},
   "outputs": [
    {
     "name": "stdout",
     "output_type": "stream",
     "text": [
      "[4 3 5 2 1 0]\n"
     ]
    },
    {
     "data": {
      "image/png": "[encoded data removed]",
      "text/plain": [
       "<Figure size 432x288 with 1 Axes>"
      ]
     },
     "metadata": {
      "needs_background": "light"
     },
     "output_type": "display_data"
    }
   ],
   "source": [
    "# create 5 categories for ratings\n",
    "# 1-1.5 =< bin_1\n",
    "# 1.5 < bin_2 =< 2.5\n",
    "# 2.5 < bin_3 =< 3.5\n",
    "# 3.5 < bin_4 < 4.5\n",
    "# 4.5 < bin_5\n",
    "\n",
    "df_all['integer_rating'] = pd.Series(0, index=df_all.index)\n",
    "df_all.loc[(df_all.rating > 0)&(df_all.rating < 2),'integer_rating'] = 1\n",
    "df_all.loc[(df_all.rating >= 2)&(df_all.rating < 3),'integer_rating'] = 2\n",
    "df_all.loc[(df_all.rating >= 3)&(df_all.rating < 4),'integer_rating'] = 3\n",
    "df_all.loc[(df_all.rating >= 4)&(df_all.rating < 4.5),'integer_rating'] = 4\n",
    "df_all.loc[(df_all.rating >= 4.5),'integer_rating'] = 5\n",
    "\n",
    "print(df_all.integer_rating.unique())\n",
    "sns.countplot(df_all.integer_rating[df_all.integer_rating>0])\n",
    "plt.show()"
   ]
  },
  {
   "cell_type": "markdown",
   "metadata": {},
   "source": [
    "Want to build model to predict ratings from the 104K that we have to see if the missings can be imputed"
   ]
  },
  {
   "cell_type": "code",
   "execution_count": 13,
   "metadata": {
    "scrolled": false
   },
   "outputs": [
    {
     "name": "stdout",
     "output_type": "stream",
     "text": [
      "(144247, 11)\n",
      "(91161, 11)\n",
      "34569\n",
      "Index(['cook_time', 'description', 'ingredients', 'instructions', 'prep_time',\n",
      "       'rating', 'review_count', 'title', 'total_time', 'url',\n",
      "       'integer_rating'],\n",
      "      dtype='object')\n"
     ]
    }
   ],
   "source": [
    "print(df_all.shape)\n",
    "print(df_all.dropna().shape)\n",
    "print(df_all.title.isnull().sum())\n",
    "\n",
    "print(df_all.columns)"
   ]
  },
  {
   "cell_type": "markdown",
   "metadata": {},
   "source": [
    "# Text Cleaning"
   ]
  },
  {
   "cell_type": "code",
   "execution_count": 14,
   "metadata": {
    "scrolled": false
   },
   "outputs": [
    {
     "name": "stdout",
     "output_type": "stream",
     "text": [
      "(144247, 6)\n",
      "Index(['description', 'ingredients', 'instructions', 'url', 'integer_rating',\n",
      "       'title'],\n",
      "      dtype='object')\n",
      "1/2 cup unsalted butter, chilled and cubed, 1 cup chopped onion, 1 3/4 cups cornmeal, 1 1/4 cups all-purpose flour, 1/4 cup white sugar, 1 tablespoon baking powder, 1 1/2 teaspoons salt, 1/2 teaspoon baking soda, 1 1/2 cups buttermilk, 3 eggs, 1 1/2 cups shredded pepperjack cheese, 1 1/3 cups frozen corn kernels, thawed and drained, 2 ounces roasted marinated red bell peppers, drained and chopped, 1/2 cup chopped fresh basil\n",
      "----\n",
      "['Preheat oven to 400 degrees F (205 degrees C). Butter a 9x9x2 inch baking pan.', 'Melt 1 tablespoon butter in medium nonstick skillet over medium-low heat. Add onion and saute until tender, about 10 minutes. Cool.', 'Mix cornmeal with the flour, baking powder, sugar, salt, and baking soda in large bowl. Add 7 tablespoons butter and rub with fingertips until mixture resembles coarse meal.', 'Whisk buttermilk and eggs in medium bowl to blend. Add buttermilk mixture to dry ingredients and stir until blended. Mix in cheese, corn, red peppers, basil, and onion. Transfer to prepared pan.', 'Bake cornbread until golden and tester inserted comes out clean, about 45 minutes. Cool 20 minutes in pan. Cut cornbread into squares.']\n",
      "----\n",
      " I just started adding my favorite things to basic cornbread and I came up with something great! \n",
      "----\n",
      "1/2 cup unsalted butter, chilled and cubed, 1 cup chopped onion, 1 3/4 cups cornmeal, 1 1/4 cups all-purpose flour, 1/4 cup white sugar, 1 tablespoon baking powder, 1 1/2 teaspoons salt, 1/2 teaspoon baking soda, 1 1/2 cups buttermilk, 3 eggs, 1 1/2 cups shredded pepperjack cheese, 1 1/3 cups frozen corn kernels, thawed and drained, 2 ounces roasted marinated red bell peppers, drained and chopped, 1/2 cup chopped fresh basil ['Preheat oven to 400 degrees F (205 degrees C). Butter a 9x9x2 inch baking pan.', 'Melt 1 tablespoon butter in medium nonstick skillet over medium-low heat. Add onion and saute until tender, about 10 minutes. Cool.', 'Mix cornmeal with the flour, baking powder, sugar, salt, and baking soda in large bowl. Add 7 tablespoons butter and rub with fingertips until mixture resembles coarse meal.', 'Whisk buttermilk and eggs in medium bowl to blend. Add buttermilk mixture to dry ingredients and stir until blended. Mix in cheese, corn, red peppers, basil, and onion. Transfer to prepared pan.', 'Bake cornbread until golden and tester inserted comes out clean, about 45 minutes. Cool 20 minutes in pan. Cut cornbread into squares.'] I just started adding my favorite things to basic cornbread and I came up with something great! \n"
     ]
    }
   ],
   "source": [
    "recipe_df = df_all.dropna(1)\n",
    "\n",
    "# Add title back\n",
    "recipe_df['title'] = df_all.title\n",
    "print(recipe_df.shape)\n",
    "print(recipe_df.columns)\n",
    "print(recipe_df.ingredients[0])\n",
    "print('----')\n",
    "print(recipe_df.instructions[0])\n",
    "print('----')\n",
    "# Turn description into list\n",
    "for col in ['description', 'instructions']:\n",
    "    recipe_df.loc[:,col] = recipe_df.loc[:,col].apply(lambda x: ' '+str(x))\n",
    "print(recipe_df.description[0])\n",
    "print('----')\n",
    "# create \"corpus\" for each recipe\n",
    "recipe_df.loc[:,'corpus'] = recipe_df['ingredients'].astype(str)+\\\n",
    "                            recipe_df['instructions'].astype(str)+\\\n",
    "                            recipe_df['description'].astype(str)\n",
    "print(recipe_df.corpus[0])"
   ]
  },
  {
   "cell_type": "markdown",
   "metadata": {},
   "source": [
    "Let's first maunally clean the data."
   ]
  },
  {
   "cell_type": "code",
   "execution_count": 15,
   "metadata": {},
   "outputs": [],
   "source": [
    "# Wikipedia stopwords\n",
    "wiki_stop = ['a','able','about','across','after','all','almost','also','am','among','an','and','any','are','as',\n",
    "                     'at','be','because','been','but','by','can','cannot','could','dear','did','do',\n",
    "                     'does','either','else','ever','every','for','from','get','got','had','has','have','he',\n",
    "                     'her','hers','him','his','how','however','i','if','in','into','is','it','its','just','least',\n",
    "                     'let','like','likely','may','me','might','most','must','my','neither','no','nor','not','of','off',\n",
    "                     'often','on','only','or','other','our','own','rather','said','say','says','she','should','since',\n",
    "                     'so','some','than','that','the','their','them','then','there','these','they','this','tis','to',\n",
    "                     'too','twas','us','wants','was','we','were','what','when','where','which','while','who','whom','why',\n",
    "                     'will','with','would','yet','you','your']\n",
    "# NLTK Stop words\n",
    "nltk_stop = list(stopwords.words(\"English\"))\n",
    "\n",
    "# Stop_words stop words\n",
    "stop_words_py = get_stop_words('english')\n",
    "\n",
    "# sklearn stop words\n",
    "sk_stop = list(ENGLISH_STOP_WORDS)\n",
    "\n",
    "# spaCy stop words\n",
    "spacy_stop = list(STOP_WORDS)\n",
    "\n",
    "all_stopwords = set(wiki_stop+nltk_stop+stop_words_py+sk_stop+spacy_stop)\n",
    "\n",
    "\n",
    "def manual_text_cleaner(txt):\n",
    "    \n",
    "   # Remove all digits\n",
    "    txt = re.sub(r'\\d',' ',txt)\n",
    "    \n",
    "    # Remove punctuation.\n",
    "    puncs = str.maketrans(\"\",\"\", string.punctuation)\n",
    "    txt = txt.translate(puncs)\n",
    "    \n",
    "    # Remove stopwords\n",
    "    txt = ' '.join([word for word in txt.split() if word not in (all_stopwords)])\n",
    "    \n",
    "    # make lowercase\n",
    "    txt = txt.lower()\n",
    "    \n",
    "    # Get rid of extra whitespace.\n",
    "    txt = ' '.join(txt.split())\n",
    "    \n",
    "    return txt"
   ]
  },
  {
   "cell_type": "code",
   "execution_count": 16,
   "metadata": {},
   "outputs": [
    {
     "name": "stdout",
     "output_type": "stream",
     "text": [
      "Time to manually clean text: 27.08101s\n",
      "cup unsalted butter chilled cubed cup chopped onion cups cornmeal cups allpurpose flour cup white sugar tablespoon baking powder teaspoons salt teaspoon baking soda cups buttermilk eggs cups shredded pepperjack cheese cups frozen corn kernels thawed drained ounces roasted marinated red bell peppers drained chopped cup chopped fresh basil preheat oven degrees f degrees c butter x x inch baking pan melt tablespoon butter medium nonstick skillet mediumlow heat add onion saute tender minutes cool mix cornmeal flour baking powder sugar salt baking soda large bowl add tablespoons butter rub fingertips mixture resembles coarse meal whisk buttermilk eggs medium bowl blend add buttermilk mixture dry ingredients stir blended mix cheese corn red peppers basil onion transfer prepared pan bake cornbread golden tester inserted comes clean minutes cool minutes pan cut cornbread squares i started adding favorite things basic cornbread i came great\n"
     ]
    }
   ],
   "source": [
    "t0=time.time()\n",
    "recipe_df.loc[:,'cleaned_text_1'] = recipe_df.corpus.apply(manual_text_cleaner)\n",
    "print(\"Time to manually clean text: {:0.5f}s\".format(time.time()-t0))\n",
    "\n",
    "print(recipe_df.cleaned_text_1[0])"
   ]
  },
  {
   "cell_type": "markdown",
   "metadata": {},
   "source": [
    " We need to find the most and least frequenct words in the data to remove them since they offer little significance in the model.  To find the most/least common words overall we will need to combine all of the data into a list then perform a frequency count with counter."
   ]
  },
  {
   "cell_type": "code",
   "execution_count": 17,
   "metadata": {
    "scrolled": false
   },
   "outputs": [
    {
     "name": "stdout",
     "output_type": "stream",
     "text": [
      "Time to make soup: 114.46245s\n",
      "['cup', 'unsalted', 'butter', 'chilled', 'cubed', 'cup', 'chopped', 'onion', 'cups', 'cornmeal', 'cups', 'allpurpose', 'flour', 'cup', 'white', 'sugar', 'tablespoon', 'baking', 'powder', 'teaspoons']\n"
     ]
    }
   ],
   "source": [
    "# Make a giant string of all text\n",
    "t0=time.time()\n",
    "\n",
    "soup = recipe_df.cleaned_text_1.tolist()\n",
    "\n",
    "# Tokenize and stem with nltk to count words\n",
    "word_soup_tokens = []\n",
    "for x in range(len(soup)):\n",
    "    word_soup_tokens.append(word_tokenize(soup[x]))\n",
    "    \n",
    "# Flatten list\n",
    "word_soup = [word for sublist in word_soup_tokens for word in sublist]\n",
    "\n",
    "#t0=time.time()\n",
    "# NLTK lemmatizer\n",
    "#word_soup = []\n",
    "#stemmer = SnowballStemmer(\"english\")\n",
    "#for token in word_soup_flat:\n",
    "    #token = stemmer.stem(token)\n",
    "    #word_soup.append(token)\n",
    "#print(\"Time to stem with nltk: {:0.5f}s\".format(time.time()-t0))\n",
    "#print('----------------------')\n",
    "\n",
    "print(\"Time to make soup: {:0.5f}s\".format(time.time()-t0))\n",
    "print(word_soup[:20])"
   ]
  },
  {
   "cell_type": "code",
   "execution_count": 18,
   "metadata": {
    "scrolled": false
   },
   "outputs": [
    {
     "name": "stdout",
     "output_type": "stream",
     "text": [
      "Time to count soup: 3.63774s\n",
      "cup            340222\n",
      "minutes        267230\n",
      "heat           190867\n",
      "salt           189968\n",
      "teaspoon       183062\n",
      "add            177314\n",
      "oil            161599\n",
      "pepper         157240\n",
      "sugar          151505\n",
      "tablespoons    144190\n",
      "bowl           142691\n",
      "large          139603\n",
      "chopped        136870\n",
      "butter         134551\n",
      "cups           127815\n",
      "stir           125038\n",
      "water          124813\n",
      "mixture        120852\n",
      "cook           118237\n",
      "oven           104913\n",
      "sauce          102915\n",
      "cheese         102391\n",
      "baking         100469\n",
      "place          97257 \n",
      "fresh          96251 \n",
      "dtype: int64\n",
      "[1.00000e+00 1.00000e+00 5.00000e+00 3.40000e+01 1.54000e+02 2.98100e+03\n",
      " 7.84325e+03]\n",
      "          food  drop\n",
      "0  cup          1   \n",
      "1  minutes      1   \n",
      "2  heat         1   \n",
      "3  salt         0   \n",
      "4  teaspoon     1   \n",
      "5  add          1   \n",
      "6  oil          0   \n",
      "7  pepper       0   \n",
      "8  sugar        0   \n",
      "9  tablespoons  1   \n",
      "['cup', 'minutes', 'heat', 'teaspoon', 'add', 'tablespoons', 'bowl', 'chopped', 'cups', 'stir']\n"
     ]
    }
   ],
   "source": [
    "# Count most frequent words in word soup\n",
    "t0=time.time()\n",
    "counter = collections.Counter(word_soup)\n",
    "print(\"Time to count soup: {:0.5f}s\".format(time.time()-t0))\n",
    "word_count = pd.Series(counter).sort_values(ascending=False)\n",
    "#print(word_count[:20])\n",
    "word_count_top = word_count[word_count>3000]\n",
    "print(word_count_top[:25])\n",
    "# Check histogram of word freq\n",
    "#plt.hist((word_count[word_count>1]), bins=100)\n",
    "#plt.title('Word Freq Hist')\n",
    "#plt.show()\n",
    "\n",
    "print(np.quantile(word_count, [.25, .5, .75, .9, .95, .99, .995]))\n",
    "\n",
    "#print(word_count_top)\n",
    "word_count_top.to_csv('C:\\\\Users\\\\Corey\\\\Desktop\\\\word_count_top.csv')\n",
    "\n",
    "# From top word count we'll remove the top 1% of the non-food words\n",
    "drop_list = pd.read_csv('drop_list.csv', names=['food','drop'])\n",
    "print(drop_list.head(10))\n",
    "drop_list = drop_list[drop_list['drop']==1]['food'].tolist()\n",
    "print(drop_list[:10])"
   ]
  },
  {
   "cell_type": "code",
   "execution_count": 19,
   "metadata": {},
   "outputs": [
    {
     "name": "stdout",
     "output_type": "stream",
     "text": [
      "Time to remove most frequent non-food words: 102.21066s\n",
      "butter onion cornmeal flour sugar powder salt soda buttermilk eggs pepperjack cheese frozen corn kernels marinated bell peppers fresh basil butter butter onion tender cornmeal flour powder sugar salt soda large butter fingertips resembles buttermilk eggs buttermilk cheese corn peppers basil onion cornbread golden tester cornbread started favorite things basic cornbread came\n"
     ]
    }
   ],
   "source": [
    "# remove most frequent non food words\n",
    "def remove_most_freq(text):\n",
    "    return ' '.join([word for word in text.split() if word not in drop_list])\n",
    "    \n",
    "t0=time.time()\n",
    "recipe_df.loc[:,'cleaned_text_2'] = recipe_df.loc[:,'cleaned_text_1'].apply(remove_most_freq)\n",
    "print('Time to remove most frequent non-food words: {:0.5f}s'.format(time.time()-t0))\n",
    "print(recipe_df.cleaned_text_2[0])"
   ]
  },
  {
   "cell_type": "markdown",
   "metadata": {},
   "source": [
    "# Parse Text, Lemmatize, and Build TFIDF Vectorizer for Finding Keywords"
   ]
  },
  {
   "cell_type": "code",
   "execution_count": 20,
   "metadata": {},
   "outputs": [
    {
     "name": "stdout",
     "output_type": "stream",
     "text": [
      "Time to parse text through spaCy: 397.52002s\n",
      "butter onion cornmeal flour sugar powder salt soda buttermilk eggs pepperjack cheese frozen corn kernels marinated bell peppers fresh basil butter butter onion tender cornmeal flour powder sugar salt soda large butter fingertips resembles buttermilk eggs buttermilk cheese corn peppers basil onion cornbread golden tester cornbread started favorite things basic cornbread came\n"
     ]
    }
   ],
   "source": [
    "t0=time.time()\n",
    "nlp = spacy.load('en', disable=['parser', 'tagger', 'ner'])\n",
    "\n",
    "# Parse the dataset and tokenize - disable everything but the tokenizer\n",
    "doc = recipe_df.cleaned_text_2.apply(nlp)\n",
    "print(\"Time to parse text through spaCy: {:0.5f}s\".format(time.time()-t0))\n",
    "print(doc[0])"
   ]
  },
  {
   "cell_type": "code",
   "execution_count": 21,
   "metadata": {
    "scrolled": false
   },
   "outputs": [
    {
     "name": "stdout",
     "output_type": "stream",
     "text": [
      "Time to get lemmas: 19.35244s\n",
      "butter onion cornmeal flour sugar powder salt soda buttermilk egg pepperjack cheese freeze corn kernel marinate bell pepper fresh basil butter butter onion tender cornmeal flour powder sugar salt soda large butter fingertip resemble buttermilk egg buttermilk cheese corn pepper basil onion cornbread golden tester cornbread start favorite thing basic cornbread come\n"
     ]
    }
   ],
   "source": [
    "def get_lemmas(text):\n",
    "    allwords = [token.lemma_ for token in text\n",
    "                if token.is_alpha\n",
    "                and not token.is_punct \n",
    "                and not token.is_stop \n",
    "                and not token.is_digit \n",
    "                and not token.like_num]\n",
    "    return ' '.join(allwords)\n",
    "t0=time.time()\n",
    "doc_lemma = doc.apply(get_lemmas)\n",
    "print(\"Time to get lemmas: {:0.5f}s\".format(time.time()-t0))\n",
    "print(doc_lemma[0])"
   ]
  },
  {
   "cell_type": "code",
   "execution_count": 22,
   "metadata": {
    "scrolled": false
   },
   "outputs": [
    {
     "name": "stdout",
     "output_type": "stream",
     "text": [
      "Time to vectorize lemmatized recipes: 14.25837s\n",
      "(144247, 32801)\n"
     ]
    }
   ],
   "source": [
    "#print(doc.head())\n",
    "# Build TFIDF vectorizer to find keywords in each recipe\n",
    "t0=time.time()\n",
    "tfidf_vectorizer = TfidfVectorizer(strip_accents='unicode',\n",
    "                                   min_df=2,\n",
    "                                   stop_words='english',\n",
    "                                   use_idf=True,\n",
    "                                   norm='l2')#,\n",
    "                                   #ngram_range=(1,2))\n",
    "                                  \n",
    "\n",
    "X = tfidf_vectorizer.fit_transform(doc_lemma)\n",
    "print(\"Time to vectorize lemmatized recipes: {:0.5f}s\".format(time.time()-t0))\n",
    "print(X.shape)\n",
    "vocab = tfidf_vectorizer.vocabulary_"
   ]
  },
  {
   "cell_type": "markdown",
   "metadata": {},
   "source": [
    "## Get Keywords by TFIDF score"
   ]
  },
  {
   "cell_type": "code",
   "execution_count": 23,
   "metadata": {},
   "outputs": [],
   "source": [
    "def top_n_idx_sparse(csr_matrix, n=10):\n",
    "    '''Return index of top n values in each row of a sparse matrix'''\n",
    "    \n",
    "    top_n_idx = []\n",
    "    \n",
    "    # Get the indices and tfidf values for each recipe from the csr matrix  \n",
    "    for left, right in zip(csr_matrix.indptr[:-1], csr_matrix.indptr[1:]):\n",
    "        \n",
    "        # Makes sure vector has enough non-zero elemets\n",
    "        n_row_pick = min(n,right-left)\n",
    "        \n",
    "        # Append top n indices\n",
    "        top_n_idx.append(csr_matrix.indices[left+np.argpartition(csr_matrix.data[left:right],-n_row_pick)[-n_row_pick:]])\n",
    "    return top_n_idx\n",
    "\n",
    "def get_keywords(index_list):\n",
    "    '''Returns keys that match values in dictionary'''\n",
    "    matching_keys = []\n",
    "    dict_items = vocab.items()\n",
    "    \n",
    "    for item in dict_items:\n",
    "        if item[1] in index_list:\n",
    "            matching_keys.append(item[0])\n",
    "            \n",
    "    # Zip tfidf values to words\n",
    "    return matching_keys\n",
    "\n",
    "######### Allows for faster results because can now handle flattened list #############\n",
    "def get_keywords1(dictionary, index_list, n=10):\n",
    "    '''Returns keys that match values in dictionary'''\n",
    "    matching_keys = []\n",
    "    dict_items = dictionary.items()\n",
    "    \n",
    "    # loop through flat list of indices - faster that get_keywords because allows a flatlist to be searched \n",
    "    # instead of requiring a loop through each list of indices\n",
    "    counter=0\n",
    "    for x in index_list:\n",
    "        for item in dict_items:\n",
    "            if x == item[1]:\n",
    "                matching_keys.append(item[0])\n",
    "                counter+=1\n",
    "                if counter%100==0:\n",
    "                    print('running...{}'.format(counter))\n",
    "                \n",
    "                \n",
    "    # Split the results into the n number of keywords\n",
    "    i=0\n",
    "    row=0\n",
    "    new_list=[]\n",
    "    while i<len(matching_keys):\n",
    "        new_list.append(matching_keys[i:i+n])\n",
    "        i+=n\n",
    "        row+=1\n",
    "        if row%5000 ==0:\n",
    "            print(\"Running row {}\".format(row))\n",
    "    return new_list\n",
    "\n",
    "\n",
    "\n",
    "def get_keywords2(csr_matrix):\n",
    "    \n",
    "    # Reverse order of vocabulary matrix\n",
    "    index_word={i[1]:i[0] for i in vocab.items()}\n",
    "    \n",
    "    full_match = []\n",
    "    for row in csr_matrix:\n",
    "        # Append the word:tfidf value as a dictionary for each recipe (row)\n",
    "        full_match.append(sorted([(index_word[word_col],tfidf_val) for (word_col,tfidf_val) in zip(row.indices,row.data)],\n",
    "                                 key=lambda x: -x[1])[:10])\n",
    "    \n",
    "    return full_match"
   ]
  },
  {
   "cell_type": "code",
   "execution_count": 24,
   "metadata": {
    "scrolled": true
   },
   "outputs": [],
   "source": [
    "# Get indices for the keywords\n",
    "#t0=time.time()\n",
    "#keyword_indices = top_n_idx_sparse(X)\n",
    "\n",
    "# Get list of keywords lists to add to recipe_df\n",
    "#list_of_keywords = [l for subl in keyword_indices for l in subl]\n",
    "    \n",
    "# Add to recipe_df\n",
    "#keyword_list = get_keywords1(vocab,list_of_keywords)\n",
    "\n",
    "#print(\"Time to get keywords: {:0.5f}s\".format(time.time()-t0))\n",
    "#print(recipe_df.head())"
   ]
  },
  {
   "cell_type": "code",
   "execution_count": 25,
   "metadata": {
    "scrolled": false
   },
   "outputs": [
    {
     "name": "stdout",
     "output_type": "stream",
     "text": [
      "Time to get keywords: 12.64277s\n",
      "cornbread\n",
      "144247\n",
      "Index(['description', 'ingredients', 'instructions', 'url', 'integer_rating',\n",
      "       'title', 'corpus', 'cleaned_text_1', 'cleaned_text_2',\n",
      "       'tfidf_keywords_scores', 'tfidf_keywords', 'keyword_vectors'],\n",
      "      dtype='object')\n"
     ]
    }
   ],
   "source": [
    "t0=time.time()\n",
    "tfidf_keywords = get_keywords2(X)\n",
    "print('Time to get keywords: {:0.5f}s'.format(time.time()-t0))\n",
    "print(tfidf_keywords[0][0][0])\n",
    "print(len(tfidf_keywords))\n",
    "\n",
    "# Add keywords to recipe_df\n",
    "def extract_keywords(li):\n",
    "    return [word[0] for word in li]\n",
    "\n",
    "def extract_vectors(li):\n",
    "    return np.asarray([word[1] for word in li])\n",
    "\n",
    "recipe_df['tfidf_keywords_scores'] = tfidf_keywords\n",
    "recipe_df['tfidf_keywords'] = recipe_df['tfidf_keywords_scores'].apply(extract_keywords)\n",
    "recipe_df['keyword_vectors'] = recipe_df['tfidf_keywords_scores'].apply(extract_vectors)\n",
    "\n",
    "#print(recipe_df[['tfidf_keywords_scores','tfidf_keywords']].head())\n",
    "#print(recipe_df.keyword_vectors.head())\n",
    "\n",
    "print(recipe_df.columns)"
   ]
  },
  {
   "cell_type": "markdown",
   "metadata": {},
   "source": [
    "## Add top 3 keywords to NaN titles"
   ]
  },
  {
   "cell_type": "code",
   "execution_count": 26,
   "metadata": {
    "scrolled": false
   },
   "outputs": [
    {
     "name": "stdout",
     "output_type": "stream",
     "text": [
      "0\n"
     ]
    }
   ],
   "source": [
    "# For NaN titles add the top 3 keywords\n",
    "missing_title_df = recipe_df[recipe_df['title'].isnull()]\n",
    "#print(missing_title_df.head())\n",
    "indices = recipe_df[recipe_df['title'].isnull()].index\n",
    "\n",
    "# Get top 3 keywords\n",
    "new_titles = []\n",
    "for row in missing_title_df.tfidf_keywords:\n",
    "    new_titles.append('Top 3 Keywords: '+str(', '.join(row[:3])))\n",
    "#print(new_titles[:10])\n",
    "\n",
    "# Zip indices to new titles\n",
    "new_title_dict = dict(zip(indices,new_titles))\n",
    "\n",
    "recipe_df.title = recipe_df.title.fillna(new_title_dict)\n",
    "print(recipe_df.title.isnull().sum())"
   ]
  },
  {
   "cell_type": "markdown",
   "metadata": {},
   "source": [
    "## Function to return recipes given ingredients"
   ]
  },
  {
   "cell_type": "code",
   "execution_count": 27,
   "metadata": {
    "scrolled": true
   },
   "outputs": [],
   "source": [
    "def brain_food(input_list):\n",
    "    \"\"\"Function that takes up to 10 ingredients and \n",
    "    returns recipes with keywords that are the most similar to the input\"\"\"\n",
    "    t0=time.time()\n",
    "    # Get idf score for each word entered.  If word is not in corpus throw error.\n",
    "    idf_dict = dict(zip(tfidf_vectorizer.get_feature_names(),tfidf_vectorizer.idf_))\n",
    "    \n",
    "    input_vect = []\n",
    "    for word in input_list:\n",
    "        if word in idf_dict:\n",
    "            input_vect.append(idf_dict[word])\n",
    "            \n",
    "        else:\n",
    "            input_vect.append(0)\n",
    "            print('{} not in corpus - no idf available'.format(word))\n",
    "            \n",
    "    # Make sure array has same number of elements as keywords\n",
    "    num_keywords = len(recipe_df.keyword_vectors[0])\n",
    "    ingredients = np.pad(input_vect, (0,(num_keywords-len(input_vect))), 'constant', constant_values=(0))\n",
    "    \n",
    "    # Get cosine similarity between input and rows\n",
    "    sims = {}\n",
    "    chunk = 1000\n",
    "    chunk_df = recipe_df.sample(chunk)\n",
    "    vectors = chunk_df.keyword_vectors.values\n",
    "    index = chunk_df.index\n",
    "    t = list(zip(index,vectors))\n",
    "    counter = 0\n",
    "    for label,array in t:\n",
    "        if counter % 1000 == 0:\n",
    "            print(\"running row\", counter)\n",
    "        padded_array = np.pad(array, (0,(num_keywords-len(array))), 'constant', constant_values=(0))\n",
    "        sims[label] = cosine_similarity(ingredients.reshape(1, -1),padded_array.reshape(1, -1))[0]\n",
    "        sims_df = pd.Series(sims).sort_values(ascending=False)\n",
    "        counter+=1\n",
    "        \n",
    "    # Match index to recipe_df\n",
    "    top=10\n",
    "    top_ten = sims_df.index[:top]\n",
    "    top_recipes = []\n",
    "    for recipe in top_ten:\n",
    "        top_recipes.append(recipe_df.loc[recipe,['title','description', 'ingredients', 'instructions', \n",
    "                                                 'url', 'integer_rating', 'tfidf_keywords_scores']])\n",
    "    print(\"Done! Time for top {} recipes searched from {}:\\n{:0.5f}s\".format(top, chunk,(time.time()-t0)))\n",
    "    return sims_df[:10], top_recipes\n",
    "  \n",
    "#brain_food(['bacon', 'eggs', 'cheese', 'bread', 'sausage', 'coffee'])"
   ]
  },
  {
   "cell_type": "code",
   "execution_count": 28,
   "metadata": {},
   "outputs": [],
   "source": [
    "def brain_food_1(input_list):\n",
    "    \n",
    "    # Parse into spacy and get lemmas\n",
    "    tokens = nlp(input_list)\n",
    "    lemmas = get_lemmas(tokens)\n",
    "    \n",
    "    # Input vector needs to match matrix shape\n",
    "    input_vec = np.zeros(X.shape[1])\n",
    "    \n",
    "    # One hot encode input vector\n",
    "    lemmas = lemmas.split()\n",
    "    for word in lemmas:\n",
    "        input_vec[vocab[word]] += 1\n",
    " \n",
    "    # Multiply tfidf matrix by input vector and sum\n",
    "    tfidf_sparse = scipy.sparse.csc_matrix(X)\n",
    "    similarity = tfidf_sparse * input_vec\n",
    "    #similarity = np.dot(X,input_vec)\n",
    "    \n",
    "    # add to recipe_df\n",
    "    recipe_df_alias = recipe_df.copy()\n",
    "    recipe_df_alias['similarity'] = similarity\n",
    "    recipe_df_alias = recipe_df_alias.sort_values(by='similarity', ascending=False)\n",
    "    \n",
    "    return recipe_df_alias[['title', 'cleaned_text_2', 'tfidf_keywords', 'url']].head(10)"
   ]
  },
  {
   "cell_type": "code",
   "execution_count": 29,
   "metadata": {
    "scrolled": false
   },
   "outputs": [
    {
     "name": "stdout",
     "output_type": "stream",
     "text": [
      "                                      title  \\\n",
      "13109  Cheesy Fried Potatoes                  \n",
      "8858   Scrambled Potatoes                     \n",
      "16026  Potato Skillet                         \n",
      "11560  Cheese and Bacon Potato Rounds         \n",
      "19739  Bacon Sunshine Skillet                 \n",
      "25179  Potato Rounds                          \n",
      "41442  Bacon Potato Omelet                    \n",
      "24962  Breakfast Upside Down Cake             \n",
      "32714  Campfire Skillet Breakfast             \n",
      "85235  Laura's Breadless Fried Egg Sandwich   \n",
      "\n",
      "                                                                                                                                                                                                                                                                                                                                                                                cleaned_text_2  \\\n",
      "13109  bacon butter onion potatoes salt pepper eggs cheddar cheese bacon large bacon crumble bacon butter onion potatoes potatoes golden crack eggs potatoes salt pepper cheese bacon eggs cheese family loves fried potatoes leftovers dinner                                                                                                                                                   \n",
      "8858   bacon potatoes cheddar cheese eggs large bacon crispy bacon potatoes bacon drippings tender large eggs salt pepper eggs potatoes cheese bacon potatoes cheese fantastic christmas breakfast brunch                                                                                                                                                                                        \n",
      "16026  bacon potatoes garlic salt salt pepper eggs cheddar cheese bacon large bacon crumble bacon potatoes bacon garlic salt seasoned salt pepper potatoes potatoes tender bacon eggs potatoes cheese son loves doesnt care breakfast                                                                                                                                                            \n",
      "11560  potatoes butter bacon cheddar cheese onions potato butter cookie potatoes bacon cheese onion cheese potatoes cheese bacona sour cream desire                                                                                                                                                                                                                                              \n",
      "19739  oil frozen hash potatoes eggs oscar mayer bacon onions salt pepper kraft cheddar cheese tomatoes oil potatoes potatoes potatoes eggs bacon onions salt pepper egg potatoes eggs cheese tomatoes onions bacon sunshine                                                                                                                                                                     \n",
      "25179  large potatoes bacon cheddar cheese potatoes large water tender pierced bacon large crisp crumble potatoes crumbles bacon cheddar cheese cheese potato bacon cheese appetizer lot potato skins                                                                                                                                                                                            \n",
      "41442  bacon potatoes onion eggs salt pepper cheddar cheese bacon crisp drippings bacon potatoes onion drippings tender eggs salt pepper eggs salt pepper eggs cheese cheese bacon loosen fun present basic breakfast potatoes eggs bacon family favorite inherited motherinlaw                                                                                                                  \n",
      "24962  olive oil large potatoes bell pepper cloves garlic onion salt pepper bacon eggs milk cheddar cheese olive oil large potatoes bell pepper garlic onion potatoes tender faster cake bacon crisp crumble cheese bacon crumbles cheese potato distributed eggs milk salt pepper egg outer flip things good breakfast potatoes bacon cheese eggs easy presents beautifully excellent company   \n",
      "32714  bacon potatoes onion optional eggs cheddar cheese bacon doneness cast iron burning coals campfire bacon potatoes onion bacon potatoes crumble bacon potatoes eggs cheese camping easy                                                                                                                                                                                                     \n",
      "85235  bacon eggs salt pepper cheddar cheese bacon large crumble crack eggs salt pepper egg whites flip eggs bacon cheddar cheese egg doneness cheese egg crispy bacon cheddar cheese stuffed fried eggs so delicious                                                                                                                                                                            \n",
      "\n",
      "                                                                                 tfidf_keywords  \\\n",
      "13109  [bacon, potato, cheese, egg, crack, love, crumble, fry, onion, butter]                     \n",
      "8858   [bacon, potato, cheese, egg, fantastic, drippings, brunch, christmas, crispy, breakfast]   \n",
      "16026  [bacon, potato, son, salt, care, love, crumble, cheese, breakfast, egg]                    \n",
      "11560  [potato, cheese, bacon, desire, onion, butter, cookie, cheddar, sour, cream]               \n",
      "19739  [potato, bacon, egg, sunshine, mayer, oscar, hash, onion, tomato, kraft]                   \n",
      "25179  [potato, bacon, crumble, cheese, cheddar, pierce, skin, lot, appetizer, large]             \n",
      "41442  [bacon, egg, drippings, potato, inherit, cheese, motherinlaw, present, basic, pepper]      \n",
      "24962  [potato, bacon, crumble, cheese, egg, bell, pepper, present, beautifully, company]         \n",
      "32714  [bacon, potato, campfire, camp, cast, coal, iron, doneness, burn, crumble]                 \n",
      "85235  [bacon, egg, cheddar, cheese, doneness, flip, crack, crispy, crumble, fry]                 \n",
      "\n",
      "                                        url  \n",
      "13109  http://allrecipes.com/Recipe/20511/   \n",
      "8858   http://allrecipes.com/Recipe/15622/   \n",
      "16026  http://allrecipes.com/Recipe/24156/   \n",
      "11560  http://allrecipes.com/Recipe/18344/   \n",
      "19739  http://allrecipes.com/Recipe/37750/   \n",
      "25179  http://allrecipes.com/Recipe/70699/   \n",
      "41442  http://allrecipes.com/Recipe/121545/  \n",
      "24962  http://allrecipes.com/Recipe/69516/   \n",
      "32714  http://allrecipes.com/Recipe/105678/  \n",
      "85235  http://allrecipes.com/Recipe/245539/  \n"
     ]
    }
   ],
   "source": [
    "test = brain_food_1('potatoes cheese bacon eggs')\n",
    "print(test)"
   ]
  },
  {
   "cell_type": "markdown",
   "metadata": {},
   "source": [
    "# Word2Vec"
   ]
  },
  {
   "cell_type": "code",
   "execution_count": 30,
   "metadata": {},
   "outputs": [
    {
     "name": "stdout",
     "output_type": "stream",
     "text": [
      "Builing vocabulary...\n",
      "Done!\n",
      "Time 51.87963s\n"
     ]
    }
   ],
   "source": [
    "#Build list of lists for word2vec from cleaned and lemmatized corpus\n",
    "lemma_list = [x.split() for x in doc_lemma]\n",
    "\n",
    "# Instantiate word2vec model\n",
    "t0=time.time()\n",
    "print('Builing vocabulary...')\n",
    "w2v = word2vec.Word2Vec(lemma_list,        # build vocabulary on entire corpus - must be list of lists\n",
    "                        workers=8,         # Number of threads in parallel\n",
    "                        min_count=10,      # Minimum word count threshold.\n",
    "                        window=12,         # Number of words around target word to consider.\n",
    "                        sg=0,              # Use CBOW because our corpus is small.\n",
    "                        sample=1e-5,       # Penalize frequent words.\n",
    "                        size=200,          # Word vector length.\n",
    "                        hs=1,              # Use hierarchical softmax.\n",
    "                        iter=10)           # Epoch=10\n",
    "print('Done!')\n",
    "#print('Training Model...')\n",
    "\n",
    "# Train word2vec\n",
    "#w2v.train(recipe_df.cleaned_text_1, total_examples=recipe_df.shape[0], epochs=10)\n",
    "print(\"Time {:.5f}s\".format(time.time()-t0))"
   ]
  },
  {
   "cell_type": "code",
   "execution_count": 42,
   "metadata": {},
   "outputs": [
    {
     "name": "stdout",
     "output_type": "stream",
     "text": [
      "cornbread\n",
      "[('cornmeal', 0.49673062562942505), ('creamstyle', 0.4610818028450012), ('stuff', 0.4219648241996765), ('review', 0.4066615104675293), ('breadmuffin', 0.40255236625671387)]\n",
      "('cornmeal', 0.49673062562942505)\n",
      "-----\n",
      "onion\n",
      "[('pepper', 0.7174367904663086), ('garlic', 0.6916799545288086), ('clove', 0.5976157188415527), ('tender', 0.5846982002258301), ('bay', 0.5737773180007935)]\n",
      "('pepper', 0.7174367904663086)\n",
      "-----\n",
      "corn\n",
      "[('kernel', 0.8429156541824341), ('cob', 0.6756084561347961), ('ear', 0.6705958843231201), ('creamstyle', 0.6074792146682739), ('wholekernel', 0.5225975513458252)]\n",
      "('kernel', 0.8429156541824341)\n",
      "-----\n",
      "cheese\n",
      "[('cheddar', 0.6623671054840088), ('parmesan', 0.6506047248840332), ('mozzarella', 0.6247484683990479), ('bubbly', 0.5851935744285583), ('spinachmushroom', 0.5391191244125366)]\n",
      "('cheddar', 0.6623671054840088)\n",
      "-----\n",
      "buttermilk\n",
      "[('wellshaken', 0.6846441626548767), ('soda', 0.5867383480072021), ('selfrising', 0.5835298299789429), ('flour', 0.5521340370178223), ('cornmeal', 0.541176438331604)]\n",
      "('wellshaken', 0.6846441626548767)\n",
      "-----\n",
      "pepper\n",
      "[('garlic', 0.7464532852172852), ('onion', 0.7174370288848877), ('bell', 0.6487830877304077), ('olive', 0.6355007886886597), ('cleave', 0.6152112483978271)]\n",
      "('garlic', 0.7464532852172852)\n",
      "-----\n"
     ]
    }
   ],
   "source": [
    "# Add most similar word\n",
    "test_list = ['cornbread', 'onion', 'corn', 'cheese', 'buttermilk', 'pepper']\n",
    "for test in test_list:\n",
    "    print(test)\n",
    "    print(w2v.wv.most_similar(test,topn=5))\n",
    "    print(w2v.wv.most_similar(test,topn=1)[0])\n",
    "    print('-----')"
   ]
  },
  {
   "cell_type": "code",
   "execution_count": 32,
   "metadata": {},
   "outputs": [],
   "source": [
    "def brain_food_2(input_list):\n",
    "    '''Adds additional most similar words from word2vec model'''\n",
    "    \n",
    "    # Parse into spacy and get lemmas\n",
    "    tokens = nlp(input_list)\n",
    "    lemmas = get_lemmas(tokens)\n",
    "    \n",
    "    # Input vector needs to match matrix shape\n",
    "    input_vec = np.zeros(X.shape[1])\n",
    "    \n",
    "    # Add most similar word to input vector to increase diversity\n",
    "    lemmas = lemmas.split()\n",
    "    similar_to_input = []\n",
    "    for word in lemmas:\n",
    "        similar_to_input.append(w2v.wv.most_similar(word,topn=1)[0][0])\n",
    "        \n",
    "    diverse_lemmas = lemmas+similar_to_input\n",
    "    \n",
    "    print(\"Your keyword ingredients are:\\n\",diverse_lemmas)\n",
    "    # One hot encode input vector\n",
    "    for word in diverse_lemmas:\n",
    "        input_vec[vocab[word]] += 1\n",
    " \n",
    "    # Multiply tfidf matrix by input vector and sum\n",
    "    tfidf_sparse = scipy.sparse.csc_matrix(X)\n",
    "    similarity = tfidf_sparse * input_vec\n",
    "    #similarity = np.dot(X,input_vec)\n",
    "    \n",
    "    # add to recipe_df\n",
    "    recipe_df_alias = recipe_df.copy()\n",
    "    recipe_df_alias['similarity'] = similarity\n",
    "    recipe_df_alias = recipe_df_alias.sort_values(by='similarity', ascending=False)\n",
    "    \n",
    "    return recipe_df_alias[['title', 'cleaned_text_2', 'tfidf_keywords','url']].head(10)"
   ]
  },
  {
   "cell_type": "code",
   "execution_count": 33,
   "metadata": {
    "scrolled": false
   },
   "outputs": [
    {
     "name": "stdout",
     "output_type": "stream",
     "text": [
      "Your keyword ingredients are:\n",
      " ['potato', 'cheese', 'bacon', 'egg', 'russet', 'cheddar', 'thickcut', 'yolk']\n",
      "                                       title  \\\n",
      "73810   Easy Loaded Baked Potato Casserole     \n",
      "13109   Cheesy Fried Potatoes                  \n",
      "8858    Scrambled Potatoes                     \n",
      "85235   Laura's Breadless Fried Egg Sandwich   \n",
      "26543   Teena's Bacon and Cheddar Potatoes     \n",
      "25179   Potato Rounds                          \n",
      "88823   Twice-Baked Potato Casserole           \n",
      "24899   Bacon Cheddar Deviled Eggs             \n",
      "136753  Top 3 Keywords: bacon, potato, onion   \n",
      "71663   Spicy Bacon Deviled Eggs               \n",
      "\n",
      "                                                                                                                                                                                                                                                                                                                                                                                                                                                   cleaned_text_2  \\\n",
      "73810   yukon gold potatoes bacon cheddar cheese milk sour cream salt pepper onions cheddar cheese potatoes large water tender potatoes bacon large bacon crumble cheddar cheese milk sour cream salt pepper potatoes potato masher creamy potato bacon onions cheddar cheese cheese easy potato casserole bacon cheddar onions                                                                                                                                     \n",
      "13109   bacon butter onion potatoes salt pepper eggs cheddar cheese bacon large bacon crumble bacon butter onion potatoes potatoes golden crack eggs potatoes salt pepper cheese bacon eggs cheese family loves fried potatoes leftovers dinner                                                                                                                                                                                                                     \n",
      "8858    bacon potatoes cheddar cheese eggs large bacon crispy bacon potatoes bacon drippings tender large eggs salt pepper eggs potatoes cheese bacon potatoes cheese fantastic christmas breakfast brunch                                                                                                                                                                                                                                                          \n",
      "85235   bacon eggs salt pepper cheddar cheese bacon large crumble crack eggs salt pepper egg whites flip eggs bacon cheddar cheese egg doneness cheese egg crispy bacon cheddar cheese stuffed fried eggs so delicious                                                                                                                                                                                                                                              \n",
      "26543   large russet potatoes scrubbed butter bacon onion cottage cheese onion cheddar cheese salt pepper butter cheddar cheese paprika potatoes large water tender potatoes butter bacon large bacon drippings bacon towellined crumble bacon onion onion turned scrape onion potatoes bacon cottage cheese onion cheddar cheese salt pepper potato dot butter cheddar cheese paprika cheese bubbling yummy potato goes chicken beef usual suspects thanksgiving   \n",
      "25179   large potatoes bacon cheddar cheese potatoes large water tender pierced bacon large crisp crumble potatoes crumbles bacon cheddar cheese cheese potato bacon cheese appetizer lot potato skins                                                                                                                                                                                                                                                              \n",
      "88823   butter russet potatoes salt sour cream cream cheese cheddar cheese real bacon chives optional butter potatoes large water tender potatoes salt sour cream cream cheese cheddar cheese bacon potato cheddar cheese cheese chives easy delicious always favorite busy things buy readytomash potatoes frozen section potatoes                                                                                                                                 \n",
      "24899   eggs mayonnaise bacon cheddar cheese mustard eggs water water eggs water water eggs running water bacon large alternatively bacon crumble hardcooked eggs yolks egg yolks mayonnaise bacon cheese mustard egg yolk deviled eggs include bacon cheddar cheese ordinary deviled eggs                                                                                                                                                                          \n",
      "136753  bacon onion large eggs russet potatoes cheddar pepper bacon onion large bacon crisp onion eggs bacon spreading bacon potato pie                                                                                                                                                                                                                                                                                                                             \n",
      "71663   eggs bacon mayonnaise cheddar cheese spicy mustard wasabi eggs water eggs water eggs water running water eggs yolks hollow egg whites bacon large bacon crumble bacon cheddar cheese remainder egg yolks mayonnaise mustard wasabi egg whites heaping spoonful yolk bacon cheddar cheese deviled eggs include bacon cheddar cheese and wasabi kick leftovers fresh easy                                                                                     \n",
      "\n",
      "                                                                                  tfidf_keywords  \\\n",
      "73810   [potato, bacon, cheddar, cheese, sour, onion, yukon, masher, gold, milk]                   \n",
      "13109   [bacon, potato, cheese, egg, crack, love, crumble, fry, onion, butter]                     \n",
      "8858    [bacon, potato, cheese, egg, fantastic, drippings, brunch, christmas, crispy, breakfast]   \n",
      "85235   [bacon, egg, cheddar, cheese, doneness, flip, crack, crispy, crumble, fry]                 \n",
      "26543   [bacon, potato, cheese, cheddar, onion, cottage, suspect, paprika, butter, usual]          \n",
      "25179   [potato, bacon, crumble, cheese, cheddar, pierce, skin, lot, appetizer, large]             \n",
      "88823   [potato, cheese, cheddar, cream, chive, bacon, sour, busy, russet, buy]                    \n",
      "24899   [bacon, egg, devil, yolk, water, mayonnaise, cheddar, mustard, cheese, ordinary]           \n",
      "136753  [bacon, potato, onion, russet, spread, egg, cheddar, pie, crisp, large]                    \n",
      "71663   [bacon, wasabi, egg, cheddar, yolk, cheese, white, mayonnaise, water, mustard]             \n",
      "\n",
      "                                                  url  \n",
      "73810   http://allrecipes.com/Recipe/231699/           \n",
      "13109   http://allrecipes.com/Recipe/20511/            \n",
      "8858    http://allrecipes.com/Recipe/15622/            \n",
      "85235   http://allrecipes.com/Recipe/245539/           \n",
      "26543   http://allrecipes.com/Recipe/76462/            \n",
      "25179   http://allrecipes.com/Recipe/70699/            \n",
      "88823   http://allrecipes.com/Recipe/256027/           \n",
      "24899   http://allrecipes.com/Recipe/69084/            \n",
      "136753  /recipes/food/views/bacon-and-potato-pie-1590  \n",
      "71663   http://allrecipes.com/Recipe/229368/           \n"
     ]
    }
   ],
   "source": [
    "test1 = brain_food_2('potatoes cheese bacon eggs')\n",
    "print(test1)"
   ]
  },
  {
   "cell_type": "markdown",
   "metadata": {},
   "source": [
    "## Build matrix on tfidf keywords"
   ]
  },
  {
   "cell_type": "code",
   "execution_count": 34,
   "metadata": {},
   "outputs": [
    {
     "name": "stdout",
     "output_type": "stream",
     "text": [
      "32008\n",
      "Time to build tfidf keyword matrix: 13.49815s\n",
      "(144247, 32008)\n"
     ]
    }
   ],
   "source": [
    "keyword_set = set([word for sublist in recipe_df.tfidf_keywords.tolist() for word in sublist])\n",
    "print(len(keyword_set))\n",
    "\n",
    "t0=time.time()\n",
    "count_vec = CountVectorizer(strip_accents='unicode',\n",
    "                                   min_df=2,                # keep words that occur more than 2 times\n",
    "                                   stop_words='english',    # English stop words\n",
    "                                   vocabulary=keyword_set,  # Build on keywords from each recipe\n",
    "                                   binary=True)             # use binary flag to indicate whether or not word is present\n",
    "                            \n",
    "tfidf_keyword_matrix = count_vec.fit_transform(doc_lemma)\n",
    "print(\"Time to build tfidf keyword matrix: {:0.5f}s\".format(time.time()-t0))\n",
    "print(tfidf_keyword_matrix.shape)\n",
    "\n",
    "tfidf_keyword_vocab = count_vec.vocabulary_"
   ]
  },
  {
   "cell_type": "code",
   "execution_count": 35,
   "metadata": {},
   "outputs": [],
   "source": [
    "def brain_food_3(input_list):\n",
    "    ''' Adds additional similar words\n",
    "        Keyword matrix built on tfidf keywords'''\n",
    "    \n",
    "    # Parse into spacy and get lemmas\n",
    "    tokens = nlp(input_list)\n",
    "    lemmas = get_lemmas(tokens)\n",
    "    \n",
    "    # Input vector needs to match matrix shape\n",
    "    input_vec = np.zeros(tfidf_keyword_matrix.shape[1])\n",
    "    \n",
    "    # Add most similar word to input vector to increase diversity\n",
    "    lemmas = lemmas.split()\n",
    "    similar_to_input = []\n",
    "    for word in lemmas:\n",
    "        similar_to_input.append(w2v.wv.most_similar(word,topn=1)[0][0])\n",
    "        \n",
    "    diverse_lemmas = lemmas+similar_to_input\n",
    "    \n",
    "    print(\"Your keyword ingredients are:\\n\",diverse_lemmas)\n",
    "    \n",
    "    # One hot encode input vector\n",
    "    for word in diverse_lemmas:\n",
    "        input_vec[tfidf_keyword_vocab[word]] += 1\n",
    " \n",
    "    # Multiply tfidf matrix by input vector and sum\n",
    "    tfidf_keyword_sparse = scipy.sparse.csc_matrix(tfidf_keyword_matrix)\n",
    "    similarity = tfidf_keyword_sparse * input_vec\n",
    "    \n",
    "    \n",
    "    # add to recipe_df\n",
    "    recipe_df_alias = recipe_df.copy()\n",
    "    recipe_df_alias['similarity'] = similarity\n",
    "    recipe_df_alias = recipe_df_alias.sort_values(by='similarity', ascending=False)\n",
    "    \n",
    "    return recipe_df_alias[['title', 'cleaned_text_2', 'tfidf_keywords','url']].head(10)"
   ]
  },
  {
   "cell_type": "code",
   "execution_count": 36,
   "metadata": {
    "scrolled": false
   },
   "outputs": [
    {
     "name": "stdout",
     "output_type": "stream",
     "text": [
      "Your keyword ingredients are:\n",
      " ['butter', 'onion', 'cornmeal', 'flour', 'sugar', 'powder', 'salt', 'soda', 'buttermilk', 'flour', 'pepper', 'stoneground', 'butter', 'vanilla', 'flour', 'large', 'sift', 'wellshaken']\n",
      "                                                     title  \\\n",
      "102232  Basic Down-Home Hush Puppies                         \n",
      "0       Basil, Roasted Peppers and Monterey Jack Cornbread   \n",
      "131071  Top 3 Keywords: cornmeal, cheddar, buttermilk        \n",
      "116012  Top 3 Keywords: cornmeal, peppercorn, cracker        \n",
      "116019  Top 3 Keywords: buttermilk, cake, blackberry         \n",
      "137338  Top 3 Keywords: griddle, cornmeal, corn              \n",
      "139087  Top 3 Keywords: corn, buttermilk, basil              \n",
      "71671   Jalapeno Green Onion Ale Corn Bread                  \n",
      "121730  Top 3 Keywords: cake, berry, sugar                   \n",
      "119797  Top 3 Keywords: cake, glaze, buttermilk              \n",
      "\n",
      "                                                                                                                                                                                                                                                                                                                                                                                                                                                                                                                                                                                                                                                                                                                                                                                                                                                                                                                                                                                                                                                                                                                                                                                                                                                                                                                                                                                                                                                                              cleaned_text_2  \\\n",
      "102232  stoneground cornmeal unbleached flour powder soda sugar freshly pepper optional good eggs buttermilk onion mild vegetable oil donâx intend hush puppies virtually straight stove eggs buttermilk mound onion as case cornbreads donâx overbeat youâx toughen hush puppies oil large reach depth depth oil test sizzle rounded teaspoonfuls scrape hush puppies overcrowd golden underneath then golden either blot posthaste traditionally tornopen grocery sacks finished hush puppies paperlined batch variations sweet milk hush puppies milk tang tenderness buttermilk milk replace buttermilk omit soda level powder leaven texas hush puppies stoneground cornmeal garlic powder infinitely view pressed garlic cloves omit pepper fresh pickled jalapeã±o peppers wish kick parsley cilantro andâx told secretâx hush puppies oil fish youâx quickie garden hush puppies minus selfrising cornmeal lily preferred brand flour cornmeal powder soda salt milk water buttermilk tomatoes equal scallions regular onion traditional hush puppy people grew eating hush puppies recall happily some grandmas onion pulsechop some wouldnât think eating hush puppies ketchup sprinkled salt malt vinegar ã la british fishandchips still partisans butter honeyâyes onions crescent dragonwagon cornbread gospels workman publishing company inexpensive halal kosher peanut soy nut vegetarian brunch dinner family crisp crunchy savory sweet tangy corn bread quickbreads   \n",
      "0       butter onion cornmeal flour sugar powder salt soda buttermilk eggs pepperjack cheese frozen corn kernels marinated bell peppers fresh basil butter butter onion tender cornmeal flour powder sugar salt soda large butter fingertips resembles buttermilk eggs buttermilk cheese corn peppers basil onion cornbread golden tester cornbread started favorite things basic cornbread came                                                                                                                                                                                                                                                                                                                                                                                                                                                                                                                                                                                                                                                                                                                                                                                                                                                                                                                                                                                                                                                                                               \n",
      "131071  cornmeal stoneground flour sugar powder salt soda extrasharp cheddar scallions milk wellshaken buttermilk large eggs butter cornmeal flour sugar powder salt soda large cheddar scallions milk buttermilk eggs butter cornmeal overmix wellgreased cake golden tester corn bread invert active cheddar corn bread                                                                                                                                                                                                                                                                                                                                                                                                                                                                                                                                                                                                                                                                                                                                                                                                                                                                                                                                                                                                                                                                                                                                                                      \n",
      "116012  wholewheat flour flour cornmeal stoneground powder soda sugar dried peppercorns table salt butter wellshaken buttermilk kosher salt large egg flours cornmeal powder soda sugar peppercorns table salt butter pastry fingertips resembles buttermilk dough dough upper thirds kosher salt peppercorns dough wellfloured pin egg prick saltandpepper parchmentpaperlined dough switching goldenbrown crisp crackers cornmeal lends crackers golden glow crunch lots peppercorns left chicken spice provide intriguing spiciness cheese cocktails greenpeppercorn cornmeal crackers                                                                                                                                                                                                                                                                                                                                                                                                                                                                                                                                                                                                                                                                                                                                                                                                                                                                                                      \n",
      "116019  butter cake flour sifted measured fresh blackberries sugar powder salt soda large eggs vanilla orange zest wellshaken buttermilk sugar dusting special equipment diameter springform â° butter butter flour tap berries sugar flour powder salt soda butter sugar large eggs vanilla zest flour additions alternating buttermilk additions ending flour berries cake golden tester loosen invert cake sugar buttermilk cake flavorful sugar cools sweet decorative blackberry buttermilk cake                                                                                                                                                                                                                                                                                                                                                                                                                                                                                                                                                                                                                                                                                                                                                                                                                                                                                                                                                                                          \n",
      "137338  stoneground cornmeal specialty shops supermarkets flour salt soda freshly pepper sugar butter butter brushing griddle na butter large egg buttermilk frozen corn onion patteddry bottled pepper fresh jalapeã±o serrano chili wear rubber gloves monterey jack cornmeal flour salt soda pepper sugar butter egg buttermilk corn onion pepper chili monterey jack cornmeal griddle butter measure griddle cakes cakes golden transferring heatproof corn cakes                                                                                                                                                                                                                                                                                                                                                                                                                                                                                                                                                                                                                                                                                                                                                                                                                                                                                                                                                                                                                          \n",
      "139087  butter onion cornmeal flour sugar powder salt soda buttermilk large eggs monterey jack cheese jalapeã±os frozen corn kernels peppers fresh basil butter butter onion tender cornmeal large butter fingertips resembles buttermilk eggs buttermilk cheese corn peppers basil onion corn bread golden tester rewarm corn bread corn bread basil peppers monterey jack cheese                                                                                                                                                                                                                                                                                                                                                                                                                                                                                                                                                                                                                                                                                                                                                                                                                                                                                                                                                                                                                                                                                                             \n",
      "71671   cornmeal flour powder soda salt buttermilk beer ale pilsnerstyle butter eggs sugar onions fresh jalapeno pepper cornmeal flour powder soda salt large buttermilk beer butter cornmeal incorporate eggs sugar onions jalapeno pepper removing sweet spicy corn bread mexican                                                                                                                                                                                                                                                                                                                                                                                                                                                                                                                                                                                                                                                                                                                                                                                                                                                                                                                                                                                                                                                                                                                                                                                                            \n",
      "121730  sifted cake flour selfrising measuring powder soda salt butter sugar pure vanilla large eggs wellshaken buttermilk fino sherry sugar berries large mascarpone cream sugar confectioners sugar butter cake butter flour powder soda salt butter sugar large vanilla eggs buttermilk flour cake smoothing rap counter eliminate air bubbles golden pick cake loosen invert reinvert cake sherry sugar sugar berries syrup tossing mascarpone cream sugar large cleaned beaters holds halve cake horizontally serrated cream replace berries easy sophisticated makeahead friendly cake memorial gathering mascarponefilled cake sherried berries                                                                                                                                                                                                                                                                                                                                                                                                                                                                                                                                                                                                                                                                                                                                                                                                                                         \n",
      "119797  sifted cake flour selfrising measuring powder soda salt butter sugar pure vanilla large eggs wellshaken buttermilk cream sugar corn syrup pure vanilla equipment candy butter cake butter flour powder soda salt butter sugar large vanilla eggs at buttermilk look curdled flour cake rap counter eliminate air bubbles golden pick cake invert cream sugar corn syrup salt sugar glaze registers vanilla cake glaze cake allowing glaze cake appear modest caramel drew test kitchens thirds buttermilk lends subtle tang tenderizes cake sweet glaze dessert special caramel cake                                                                                                                                                                                                                                                                                                                                                                                                                                                                                                                                                                                                                                                                                                                                                                                                                                                                                                   \n",
      "\n",
      "                                                                                                                  tfidf_keywords  \\\n",
      "102232  [hush, puppy, buttermilk, cornmeal, stoneground, youax, donax, depth, pulsechop, omit]                                     \n",
      "0       [cornbread, buttermilk, cornmeal, butter, pepperjack, corn, basil, soda, onion, fingertip]                                 \n",
      "131071  [cornmeal, cheddar, buttermilk, scallion, wellgreased, stoneground, corn, wellshaken, soda, extrasharp]                    \n",
      "116012  [cornmeal, peppercorn, cracker, dough, greenpeppercorn, saltandpepper, parchmentpaperlined, table, buttermilk, intrigue]   \n",
      "116019  [buttermilk, cake, blackberry, addition, sugar, flour, berry, butter, zest, wellshaken]                                    \n",
      "137338  [griddle, cornmeal, corn, monterey, cake, jack, butter, buttermilk, chili, stoneground]                                    \n",
      "139087  [corn, buttermilk, basil, monterey, cornmeal, jack, bread, butter, cheese, onion]                                          \n",
      "71671   [cornmeal, beer, pilsnerstyle, jalapeno, buttermilk, soda, ale, incorporate, powder, mexican]                              \n",
      "121730  [cake, berry, sugar, mascarpone, sherry, sherried, buttermilk, fino, memorial, reinvert]                                   \n",
      "119797  [cake, glaze, buttermilk, vanilla, caramel, pure, sugar, modest, rap, butter]                                              \n",
      "\n",
      "                                                                                                url  \n",
      "102232  https://www.cookstr.com/recipes/basic-down-home-hush-puppies                                 \n",
      "0       http://allrecipes.com/Recipe/6664/                                                           \n",
      "131071  /recipes/food/views/cheddar-corn-bread-107423                                                \n",
      "116012  /recipes/food/views/green-peppercorn-cornmeal-crackers-357979                                \n",
      "116019  /recipes/food/views/blackberry-buttermilk-cake-366398                                        \n",
      "137338  /recipes/food/views/corn-cakes-11556                                                         \n",
      "139087  /recipes/food/views/corn-bread-with-basil-roasted-red-peppers-and-monterey-jack-cheese-4410  \n",
      "71671   http://allrecipes.com/Recipe/229376/                                                         \n",
      "121730  /recipes/food/views/mascarpone-filled-cake-with-sherried-berries-242873                      \n"
     ]
    },
    {
     "name": "stdout",
     "output_type": "stream",
     "text": [
      "119797  /recipes/food/views/caramel-cake-241217                                                      \n"
     ]
    }
   ],
   "source": [
    "test1 = brain_food_3('butter onion cornmeal flour sugar powder salt soda buttermilk')\n",
    "print(test1)"
   ]
  },
  {
   "cell_type": "markdown",
   "metadata": {},
   "source": [
    "## Keyword from gensim"
   ]
  },
  {
   "cell_type": "code",
   "execution_count": 37,
   "metadata": {
    "scrolled": true
   },
   "outputs": [],
   "source": [
    "#print(keywords(recipe_df.cleaned_text_2[0]).split('\\n'))\n",
    "#t0=time.time()\n",
    "#recipe_df['gensim_keyword'] = recipe_df.cleaned_text_2.apply(keywords).apply(lambda x: x.split('\\n'))\n",
    "#print(\"Time for gensim keywords: {0:.5f}s\".format(time.time()-t0))"
   ]
  },
  {
   "cell_type": "code",
   "execution_count": 38,
   "metadata": {},
   "outputs": [],
   "source": [
    "#gensim_set = set([word for sublist in recipe_df.gensim_keyword.tolist() for word in sublist])\n",
    "#print(gensim_set[:100])\n",
    "\n",
    "#t0=time.time()\n",
    "#count_vec = CountVectorizer(strip_accents='unicode',\n",
    "                                   #min_df=2,                # keep words that occur more than 2 times\n",
    "                                   #stop_words='english',    # English stop words\n",
    "                                   ##vocabulary=gensim_set,   # Build on gensim keywords from each recipe\n",
    "                                   #binary=True)             # use binary flag to indicate whether or not word is present\n",
    "                            \n",
    "#gensim_matrix = count_vec.fit_transform(doc_lemma)\n",
    "#print(\"Time to build tfidf keyword matrix: {:0.5f}s\".format(time.time()-t0))\n",
    "#print(gensim_matrix.shape)\n",
    "\n",
    "#gensim_vocab = count_vec.vocabulary_"
   ]
  },
  {
   "cell_type": "markdown",
   "metadata": {},
   "source": [
    "## Full Tfidf Matrix, cosine similarity for similar word"
   ]
  },
  {
   "cell_type": "code",
   "execution_count": 47,
   "metadata": {},
   "outputs": [],
   "source": [
    "def brain_food_4(input_list):\n",
    "    ''' Adds additional similar word tfidf score to input vector\n",
    "        Built on full tfidf matrix'''\n",
    "    \n",
    "    # Parse into spacy and get lemmas\n",
    "    tokens = nlp(input_list)\n",
    "    lemmas = get_lemmas(tokens)\n",
    "    \n",
    "    # Input vector needs to match matrix shape\n",
    "    input_vec = np.zeros(X.shape[1])\n",
    "    \n",
    "    # Add most similar word to input vector to increase diversity\n",
    "    lemmas = lemmas.split()\n",
    "    similar_to_input = []\n",
    "    similar_words = []\n",
    "    for word in lemmas:\n",
    "        similar_to_input.append(w2v.wv.most_similar(word,topn=1)[0])\n",
    "        similar_words.append(w2v.wv.most_similar(word,topn=1)[0][0])\n",
    "    \n",
    "    diverse_lemmas = lemmas+similar_words\n",
    "    \n",
    "    print(\"Your keyword ingredients are:\\n\",diverse_lemmas)\n",
    "    \n",
    "    # One hot encode input vector\n",
    "    for word in lemmas:\n",
    "        input_vec[vocab[word]] += 1\n",
    "        \n",
    "    # Add cosine similarities for similar word score\n",
    "    for word,score in similar_to_input:\n",
    "        input_vec[vocab[word]] += score\n",
    " \n",
    "    # Multiply tfidf matrix by input vector and sum\n",
    "    tfidf_sparse = scipy.sparse.csc_matrix(X)\n",
    "    similarity = tfidf_sparse * input_vec\n",
    "    \n",
    "    \n",
    "    # add to recipe_df\n",
    "    recipe_df_alias = recipe_df.copy()\n",
    "    recipe_df_alias['similarity'] = similarity\n",
    "    recipe_df_alias = recipe_df_alias.sort_values(by='similarity', ascending=False)\n",
    "    \n",
    "    return recipe_df_alias[['title', 'cleaned_text_2', 'tfidf_keywords','url']].head(10)"
   ]
  },
  {
   "cell_type": "code",
   "execution_count": 48,
   "metadata": {},
   "outputs": [
    {
     "name": "stdout",
     "output_type": "stream",
     "text": [
      "Your keyword ingredients are:\n",
      " ['potato', 'cheese', 'bacon', 'egg', 'russet', 'cheddar', 'thickcut', 'yolk']\n",
      "russet 0.7867745757102966\n",
      "cheddar 0.6623671054840088\n",
      "thickcut 0.6615359783172607\n",
      "yolk 0.7264999151229858\n"
     ]
    },
    {
     "data": {
      "text/html": [
       "<div>\n",
       "<style scoped>\n",
       "    .dataframe tbody tr th:only-of-type {\n",
       "        vertical-align: middle;\n",
       "    }\n",
       "\n",
       "    .dataframe tbody tr th {\n",
       "        vertical-align: top;\n",
       "    }\n",
       "\n",
       "    .dataframe thead th {\n",
       "        text-align: right;\n",
       "    }\n",
       "</style>\n",
       "<table border=\"1\" class=\"dataframe\">\n",
       "  <thead>\n",
       "    <tr style=\"text-align: right;\">\n",
       "      <th></th>\n",
       "      <th>title</th>\n",
       "      <th>cleaned_text_2</th>\n",
       "      <th>tfidf_keywords</th>\n",
       "      <th>url</th>\n",
       "    </tr>\n",
       "  </thead>\n",
       "  <tbody>\n",
       "    <tr>\n",
       "      <th>13109</th>\n",
       "      <td>Cheesy Fried Potatoes</td>\n",
       "      <td>bacon butter onion potatoes salt pepper eggs cheddar cheese bacon large bacon crumble bacon butter onion potatoes potatoes golden crack eggs potatoes salt pepper cheese bacon eggs cheese family loves fried potatoes leftovers dinner</td>\n",
       "      <td>[bacon, potato, cheese, egg, crack, love, crumble, fry, onion, butter]</td>\n",
       "      <td>http://allrecipes.com/Recipe/20511/</td>\n",
       "    </tr>\n",
       "    <tr>\n",
       "      <th>8858</th>\n",
       "      <td>Scrambled Potatoes</td>\n",
       "      <td>bacon potatoes cheddar cheese eggs large bacon crispy bacon potatoes bacon drippings tender large eggs salt pepper eggs potatoes cheese bacon potatoes cheese fantastic christmas breakfast brunch</td>\n",
       "      <td>[bacon, potato, cheese, egg, fantastic, drippings, brunch, christmas, crispy, breakfast]</td>\n",
       "      <td>http://allrecipes.com/Recipe/15622/</td>\n",
       "    </tr>\n",
       "    <tr>\n",
       "      <th>73810</th>\n",
       "      <td>Easy Loaded Baked Potato Casserole</td>\n",
       "      <td>yukon gold potatoes bacon cheddar cheese milk sour cream salt pepper onions cheddar cheese potatoes large water tender potatoes bacon large bacon crumble cheddar cheese milk sour cream salt pepper potatoes potato masher creamy potato bacon onions cheddar cheese cheese easy potato casserole bacon cheddar onions</td>\n",
       "      <td>[potato, bacon, cheddar, cheese, sour, onion, yukon, masher, gold, milk]</td>\n",
       "      <td>http://allrecipes.com/Recipe/231699/</td>\n",
       "    </tr>\n",
       "    <tr>\n",
       "      <th>85235</th>\n",
       "      <td>Laura's Breadless Fried Egg Sandwich</td>\n",
       "      <td>bacon eggs salt pepper cheddar cheese bacon large crumble crack eggs salt pepper egg whites flip eggs bacon cheddar cheese egg doneness cheese egg crispy bacon cheddar cheese stuffed fried eggs so delicious</td>\n",
       "      <td>[bacon, egg, cheddar, cheese, doneness, flip, crack, crispy, crumble, fry]</td>\n",
       "      <td>http://allrecipes.com/Recipe/245539/</td>\n",
       "    </tr>\n",
       "    <tr>\n",
       "      <th>25179</th>\n",
       "      <td>Potato Rounds</td>\n",
       "      <td>large potatoes bacon cheddar cheese potatoes large water tender pierced bacon large crisp crumble potatoes crumbles bacon cheddar cheese cheese potato bacon cheese appetizer lot potato skins</td>\n",
       "      <td>[potato, bacon, crumble, cheese, cheddar, pierce, skin, lot, appetizer, large]</td>\n",
       "      <td>http://allrecipes.com/Recipe/70699/</td>\n",
       "    </tr>\n",
       "    <tr>\n",
       "      <th>11560</th>\n",
       "      <td>Cheese and Bacon Potato Rounds</td>\n",
       "      <td>potatoes butter bacon cheddar cheese onions potato butter cookie potatoes bacon cheese onion cheese potatoes cheese bacona sour cream desire</td>\n",
       "      <td>[potato, cheese, bacon, desire, onion, butter, cookie, cheddar, sour, cream]</td>\n",
       "      <td>http://allrecipes.com/Recipe/18344/</td>\n",
       "    </tr>\n",
       "    <tr>\n",
       "      <th>16026</th>\n",
       "      <td>Potato Skillet</td>\n",
       "      <td>bacon potatoes garlic salt salt pepper eggs cheddar cheese bacon large bacon crumble bacon potatoes bacon garlic salt seasoned salt pepper potatoes potatoes tender bacon eggs potatoes cheese son loves doesnt care breakfast</td>\n",
       "      <td>[bacon, potato, son, salt, care, love, crumble, cheese, breakfast, egg]</td>\n",
       "      <td>http://allrecipes.com/Recipe/24156/</td>\n",
       "    </tr>\n",
       "    <tr>\n",
       "      <th>26543</th>\n",
       "      <td>Teena's Bacon and Cheddar Potatoes</td>\n",
       "      <td>large russet potatoes scrubbed butter bacon onion cottage cheese onion cheddar cheese salt pepper butter cheddar cheese paprika potatoes large water tender potatoes butter bacon large bacon drippings bacon towellined crumble bacon onion onion turned scrape onion potatoes bacon cottage cheese onion cheddar cheese salt pepper potato dot butter cheddar cheese paprika cheese bubbling yummy potato goes chicken beef usual suspects thanksgiving</td>\n",
       "      <td>[bacon, potato, cheese, cheddar, onion, cottage, suspect, paprika, butter, usual]</td>\n",
       "      <td>http://allrecipes.com/Recipe/76462/</td>\n",
       "    </tr>\n",
       "    <tr>\n",
       "      <th>136753</th>\n",
       "      <td>Top 3 Keywords: bacon, potato, onion</td>\n",
       "      <td>bacon onion large eggs russet potatoes cheddar pepper bacon onion large bacon crisp onion eggs bacon spreading bacon potato pie</td>\n",
       "      <td>[bacon, potato, onion, russet, spread, egg, cheddar, pie, crisp, large]</td>\n",
       "      <td>/recipes/food/views/bacon-and-potato-pie-1590</td>\n",
       "    </tr>\n",
       "    <tr>\n",
       "      <th>88823</th>\n",
       "      <td>Twice-Baked Potato Casserole</td>\n",
       "      <td>butter russet potatoes salt sour cream cream cheese cheddar cheese real bacon chives optional butter potatoes large water tender potatoes salt sour cream cream cheese cheddar cheese bacon potato cheddar cheese cheese chives easy delicious always favorite busy things buy readytomash potatoes frozen section potatoes</td>\n",
       "      <td>[potato, cheese, cheddar, cream, chive, bacon, sour, busy, russet, buy]</td>\n",
       "      <td>http://allrecipes.com/Recipe/256027/</td>\n",
       "    </tr>\n",
       "  </tbody>\n",
       "</table>\n",
       "</div>"
      ],
      "text/plain": [
       "                                       title  \\\n",
       "13109   Cheesy Fried Potatoes                  \n",
       "8858    Scrambled Potatoes                     \n",
       "73810   Easy Loaded Baked Potato Casserole     \n",
       "85235   Laura's Breadless Fried Egg Sandwich   \n",
       "25179   Potato Rounds                          \n",
       "11560   Cheese and Bacon Potato Rounds         \n",
       "16026   Potato Skillet                         \n",
       "26543   Teena's Bacon and Cheddar Potatoes     \n",
       "136753  Top 3 Keywords: bacon, potato, onion   \n",
       "88823   Twice-Baked Potato Casserole           \n",
       "\n",
       "                                                                                                                                                                                                                                                                                                                                                                                                                                                   cleaned_text_2  \\\n",
       "13109   bacon butter onion potatoes salt pepper eggs cheddar cheese bacon large bacon crumble bacon butter onion potatoes potatoes golden crack eggs potatoes salt pepper cheese bacon eggs cheese family loves fried potatoes leftovers dinner                                                                                                                                                                                                                     \n",
       "8858    bacon potatoes cheddar cheese eggs large bacon crispy bacon potatoes bacon drippings tender large eggs salt pepper eggs potatoes cheese bacon potatoes cheese fantastic christmas breakfast brunch                                                                                                                                                                                                                                                          \n",
       "73810   yukon gold potatoes bacon cheddar cheese milk sour cream salt pepper onions cheddar cheese potatoes large water tender potatoes bacon large bacon crumble cheddar cheese milk sour cream salt pepper potatoes potato masher creamy potato bacon onions cheddar cheese cheese easy potato casserole bacon cheddar onions                                                                                                                                     \n",
       "85235   bacon eggs salt pepper cheddar cheese bacon large crumble crack eggs salt pepper egg whites flip eggs bacon cheddar cheese egg doneness cheese egg crispy bacon cheddar cheese stuffed fried eggs so delicious                                                                                                                                                                                                                                              \n",
       "25179   large potatoes bacon cheddar cheese potatoes large water tender pierced bacon large crisp crumble potatoes crumbles bacon cheddar cheese cheese potato bacon cheese appetizer lot potato skins                                                                                                                                                                                                                                                              \n",
       "11560   potatoes butter bacon cheddar cheese onions potato butter cookie potatoes bacon cheese onion cheese potatoes cheese bacona sour cream desire                                                                                                                                                                                                                                                                                                                \n",
       "16026   bacon potatoes garlic salt salt pepper eggs cheddar cheese bacon large bacon crumble bacon potatoes bacon garlic salt seasoned salt pepper potatoes potatoes tender bacon eggs potatoes cheese son loves doesnt care breakfast                                                                                                                                                                                                                              \n",
       "26543   large russet potatoes scrubbed butter bacon onion cottage cheese onion cheddar cheese salt pepper butter cheddar cheese paprika potatoes large water tender potatoes butter bacon large bacon drippings bacon towellined crumble bacon onion onion turned scrape onion potatoes bacon cottage cheese onion cheddar cheese salt pepper potato dot butter cheddar cheese paprika cheese bubbling yummy potato goes chicken beef usual suspects thanksgiving   \n",
       "136753  bacon onion large eggs russet potatoes cheddar pepper bacon onion large bacon crisp onion eggs bacon spreading bacon potato pie                                                                                                                                                                                                                                                                                                                             \n",
       "88823   butter russet potatoes salt sour cream cream cheese cheddar cheese real bacon chives optional butter potatoes large water tender potatoes salt sour cream cream cheese cheddar cheese bacon potato cheddar cheese cheese chives easy delicious always favorite busy things buy readytomash potatoes frozen section potatoes                                                                                                                                 \n",
       "\n",
       "                                                                                  tfidf_keywords  \\\n",
       "13109   [bacon, potato, cheese, egg, crack, love, crumble, fry, onion, butter]                     \n",
       "8858    [bacon, potato, cheese, egg, fantastic, drippings, brunch, christmas, crispy, breakfast]   \n",
       "73810   [potato, bacon, cheddar, cheese, sour, onion, yukon, masher, gold, milk]                   \n",
       "85235   [bacon, egg, cheddar, cheese, doneness, flip, crack, crispy, crumble, fry]                 \n",
       "25179   [potato, bacon, crumble, cheese, cheddar, pierce, skin, lot, appetizer, large]             \n",
       "11560   [potato, cheese, bacon, desire, onion, butter, cookie, cheddar, sour, cream]               \n",
       "16026   [bacon, potato, son, salt, care, love, crumble, cheese, breakfast, egg]                    \n",
       "26543   [bacon, potato, cheese, cheddar, onion, cottage, suspect, paprika, butter, usual]          \n",
       "136753  [bacon, potato, onion, russet, spread, egg, cheddar, pie, crisp, large]                    \n",
       "88823   [potato, cheese, cheddar, cream, chive, bacon, sour, busy, russet, buy]                    \n",
       "\n",
       "                                                  url  \n",
       "13109   http://allrecipes.com/Recipe/20511/            \n",
       "8858    http://allrecipes.com/Recipe/15622/            \n",
       "73810   http://allrecipes.com/Recipe/231699/           \n",
       "85235   http://allrecipes.com/Recipe/245539/           \n",
       "25179   http://allrecipes.com/Recipe/70699/            \n",
       "11560   http://allrecipes.com/Recipe/18344/            \n",
       "16026   http://allrecipes.com/Recipe/24156/            \n",
       "26543   http://allrecipes.com/Recipe/76462/            \n",
       "136753  /recipes/food/views/bacon-and-potato-pie-1590  \n",
       "88823   http://allrecipes.com/Recipe/256027/           "
      ]
     },
     "execution_count": 48,
     "metadata": {},
     "output_type": "execute_result"
    }
   ],
   "source": [
    "brain_food_4('potato cheese bacon eggs')"
   ]
  },
  {
   "cell_type": "markdown",
   "metadata": {},
   "source": [
    "# Predict Recipe Rating\n",
    "### Integer Rating\n"
   ]
  },
  {
   "cell_type": "code",
   "execution_count": null,
   "metadata": {
    "scrolled": false
   },
   "outputs": [],
   "source": [
    "from sklearn.model_selection import train_test_split\n",
    "from sklearn.metrics import confusion_matrix, classification_report\n",
    "from sklearn.naive_bayes import MultinomialNB, ComplementNB\n",
    "from sklearn.neighbors import KNeighborsClassifier\n",
    "from sklearn.ensemble import RandomForestClassifier, GradientBoostingClassifier\n",
    "from sklearn.svm import SVC\n",
    "from sklearn.linear_model import LinearRegression, LogisticRegression\n",
    "\n",
    "# A rating of 0 is a missing\n",
    "sns.countplot(np.where(recipe_df.integer_rating>0,1,0))\n",
    "plt.title(\"Rated vs Missing Recipes\")\n",
    "plt.show()\n",
    "\n",
    "# Train on 80% of rated recipes - use tfidf vectors for features\n",
    "rated_index = recipe_df[recipe_df.integer_rating>0].index\n",
    "y = recipe_df.integer_rating.iloc[rated_index]\n",
    "tfidf_features = X[X.indices[rated_index]]\n",
    "#print(tfidf_features.shape)\n",
    "\n",
    "# Split training and test\n",
    "xtrain, xtest, ytrain, ytest = train_test_split(tfidf_features, y, test_size=0.2, random_state=34)\n",
    "#for x in [xtrain, xtest, ytrain, ytest]:\n",
    "    #print(x.shape)"
   ]
  },
  {
   "cell_type": "code",
   "execution_count": null,
   "metadata": {},
   "outputs": [],
   "source": [
    "def rate(model, label):\n",
    "    clf = model\n",
    "    clf.fit(xtrain, ytrain)\n",
    "    \n",
    "    # Predict on test\n",
    "    clf_pred = clf.predict(xtest)\n",
    "    \n",
    "    # Score test\n",
    "    print(label)\n",
    "    print(\"Accuracy:\",clf.score(xtest,ytest))\n",
    "    print(confusion_matrix(ytest,clf_pred))\n",
    "    print(classification_report(ytest, clf_pred))\n",
    "    print('_'*75)\n",
    "    return"
   ]
  },
  {
   "cell_type": "code",
   "execution_count": null,
   "metadata": {},
   "outputs": [],
   "source": [
    "# Naive Bayes\n",
    "rate(MultinomialNB(), 'Multinomial')\n",
    "rate(ComplementNB(), 'Complement')"
   ]
  },
  {
   "cell_type": "code",
   "execution_count": null,
   "metadata": {},
   "outputs": [],
   "source": [
    "# KNN\n",
    "rate(KNeighborsClassifier(),'KNN')"
   ]
  },
  {
   "cell_type": "code",
   "execution_count": null,
   "metadata": {},
   "outputs": [],
   "source": [
    "# Random Forest\n",
    "rfc = RandomForestClassifier(n_estimators=10,\n",
    "                             max_depth=5,\n",
    "                             random_state=34)\n",
    "rate(rfc, \"RFC\")"
   ]
  },
  {
   "cell_type": "code",
   "execution_count": null,
   "metadata": {},
   "outputs": [],
   "source": []
  }
 ],
 "metadata": {
  "kernelspec": {
   "display_name": "Python 3",
   "language": "python",
   "name": "python3"
  },
  "language_info": {
   "codemirror_mode": {
    "name": "ipython",
    "version": 3
   },
   "file_extension": ".py",
   "mimetype": "text/x-python",
   "name": "python",
   "nbconvert_exporter": "python",
   "pygments_lexer": "ipython3",
   "version": "3.7.1"
  }
 },
 "nbformat": 4,
 "nbformat_minor": 2
}
