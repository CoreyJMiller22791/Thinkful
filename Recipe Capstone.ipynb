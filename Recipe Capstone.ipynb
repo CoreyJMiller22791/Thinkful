{
 "cells": [
  {
   "cell_type": "code",
   "execution_count": null,
   "metadata": {},
   "outputs": [],
   "source": [
    "import os\n",
    "import pandas as pd\n",
    "import numpy as np\n",
    "import seaborn as sns\n",
    "import matplotlib.pyplot as plt\n",
    "import nltk\n",
    "import spacy\n",
    "import gensim\n",
    "import time\n",
    "\n",
    "from sklearn.feature_extraction.text import TfidfVectorizer, CountVectorizer\n",
    "from sklearn.metrics.pairwise import linear_kernel, cosine_similarity\n",
    "from nltk.stem.snowball import SnowballStemmer\n",
    "from nltk.corpus import stopwords\n",
    "\n",
    "\n",
    "\n",
    "%matplotlib inline\n",
    "\n",
    "pd.set_option('display.max_columns', 500)\n",
    "pd.set_option('display.max_colwidth', -1)"
   ]
  },
  {
   "cell_type": "code",
   "execution_count": 2,
   "metadata": {
    "scrolled": false
   },
   "outputs": [],
   "source": [
    "path = os.path.join(os.getcwd(),'recipes')\n",
    "\n",
    "# Show contents of recipe folder\n",
    "recipes = os.listdir(path)\n",
    "\n",
    "\n",
    "# Load in data\n",
    "list_ = []\n",
    "for recipe in recipes:\n",
    "    df = pd.read_json(os.path.join(path,recipe), compression='xz', lines=True, encoding='Latin-1')\n",
    "    list_.append(df)\n",
    "    \n",
    "# Get Column names and shape of each dataset\n",
    "recipes_ = [x.split('.')[0].replace('-',' ').upper() for x in recipes]\n",
    "data_cols = {}\n",
    "for df,name in enumerate(recipes_):\n",
    "    data_cols[name]=[list_[df].columns.tolist(),list_[df].shape]"
   ]
  },
  {
   "cell_type": "code",
   "execution_count": 3,
   "metadata": {
    "scrolled": false
   },
   "outputs": [
    {
     "name": "stdout",
     "output_type": "stream",
     "text": [
      "                                                                                                                                                                              ALLRECIPES RECIPES  \\\n",
      "0  [author, cook_time_minutes, description, error, footnotes, ingredients, instructions, photo_url, prep_time_minutes, rating_stars, review_count, time_scraped, title, total_time_minutes, url]   \n",
      "1  (225602, 15)                                                                                                                                                                                    \n",
      "\n",
      "                                                                                                                                                                                                               BBCCOUK RECIPES  \\\n",
      "0  [chef, chef_id, cooking_time_minutes, description, error, ingredients, instructions, instructions_detailed, photo_url, preparation_time_minutes, program, program_id, serves, time_scraped, title, total_time_minutes, url]   \n",
      "1  (10599, 17)                                                                                                                                                                                                                   \n",
      "\n",
      "                                                                                                                                                                                                                                                                                                                                                                                                                           COOKSTR RECIPES  \\\n",
      "0  [chef, comment_count, contributors, cookbook, cookbook_publisher, cooking_method, copyright, cost, course, date_modified, description, dietary_considerations, difficulty, error, ingredients, ingredients_detailed, instructions, kid_friendly, make_ahead, makes, meal, occasion, photo_credit_name, photo_credit_site, photo_url, rating_count, rating_value, taste_and_texture, time_scraped, title, total_time, type_of_dish, url]   \n",
      "1  (7918, 33)                                                                                                                                                                                                                                                                                                                                                                                                                                \n",
      "\n",
      "                                                                                                                                 EPICURIOUS RECIPES  \n",
      "0  [aggregateRating, author, dateCrawled, dek, hed, id, ingredients, photoData, prepSteps, pubDate, reviewsCount, tag, type, url, willMakeAgainPct]  \n",
      "1  (34756, 15)                                                                                                                                       \n"
     ]
    }
   ],
   "source": [
    "# check columns from each dataset for merging\n",
    "col_df = pd.DataFrame(data_cols)\n",
    "print(col_df.head())"
   ]
  },
  {
   "cell_type": "code",
   "execution_count": 4,
   "metadata": {},
   "outputs": [
    {
     "name": "stdout",
     "output_type": "stream",
     "text": [
      "ALLRECIPES RECIPES\n",
      "['author', 'cook_time_minutes', 'description', 'error', 'footnotes', 'ingredients', 'instructions', 'photo_url', 'prep_time_minutes', 'rating_stars', 'review_count', 'time_scraped', 'title', 'total_time_minutes', 'url']\n",
      "BBCCOUK RECIPES\n",
      "['chef', 'chef_id', 'cooking_time_minutes', 'description', 'error', 'ingredients', 'instructions', 'instructions_detailed', 'photo_url', 'preparation_time_minutes', 'program', 'program_id', 'serves', 'time_scraped', 'title', 'total_time_minutes', 'url']\n",
      "COOKSTR RECIPES\n",
      "['chef', 'comment_count', 'contributors', 'cookbook', 'cookbook_publisher', 'cooking_method', 'copyright', 'cost', 'course', 'date_modified', 'description', 'dietary_considerations', 'difficulty', 'error', 'ingredients', 'ingredients_detailed', 'instructions', 'kid_friendly', 'make_ahead', 'makes', 'meal', 'occasion', 'photo_credit_name', 'photo_credit_site', 'photo_url', 'rating_count', 'rating_value', 'taste_and_texture', 'time_scraped', 'title', 'total_time', 'type_of_dish', 'url']\n",
      "EPICURIOUS RECIPES\n",
      "['aggregateRating', 'author', 'dateCrawled', 'dek', 'hed', 'id', 'ingredients', 'photoData', 'prepSteps', 'pubDate', 'reviewsCount', 'tag', 'type', 'url', 'willMakeAgainPct']\n"
     ]
    }
   ],
   "source": [
    "for x in range(4):\n",
    "    print(recipes_[x])\n",
    "    print(list_[x].columns.tolist())"
   ]
  },
  {
   "cell_type": "code",
   "execution_count": 5,
   "metadata": {
    "scrolled": false
   },
   "outputs": [
    {
     "name": "stdout",
     "output_type": "stream",
     "text": [
      "<class 'pandas.core.frame.DataFrame'>\n",
      "RangeIndex: 225602 entries, 0 to 225601\n",
      "Data columns (total 15 columns):\n",
      "author                225602 non-null object\n",
      "cook_time_minutes     225602 non-null int64\n",
      "description           225602 non-null object\n",
      "error                 225602 non-null bool\n",
      "footnotes             225602 non-null object\n",
      "ingredients           225602 non-null object\n",
      "instructions          225602 non-null object\n",
      "photo_url             225602 non-null object\n",
      "prep_time_minutes     225602 non-null int64\n",
      "rating_stars          225602 non-null float64\n",
      "review_count          225602 non-null int64\n",
      "time_scraped          225602 non-null int64\n",
      "title                 225602 non-null object\n",
      "total_time_minutes    225602 non-null int64\n",
      "url                   225602 non-null object\n",
      "dtypes: bool(1), float64(1), int64(5), object(8)\n",
      "memory usage: 24.3+ MB\n",
      "None\n",
      "['Preheat oven to 400 degrees F (205 degrees C). Butter a 9x9x2 inch baking pan.', 'Melt 1 tablespoon butter in medium nonstick skillet over medium-low heat. Add onion and saute until tender, about 10 minutes. Cool.', 'Mix cornmeal with the flour, baking powder, sugar, salt, and baking soda in large bowl. Add 7 tablespoons butter and rub with fingertips until mixture resembles coarse meal.', 'Whisk buttermilk and eggs in medium bowl to blend. Add buttermilk mixture to dry ingredients and stir until blended. Mix in cheese, corn, red peppers, basil, and onion. Transfer to prepared pan.', 'Bake cornbread until golden and tester inserted comes out clean, about 45 minutes. Cool 20 minutes in pan. Cut cornbread into squares.']\n",
      "--------------------------------------------------\n",
      "['1/2 cup unsalted butter, chilled and cubed', '1 cup chopped onion', '1 3/4 cups cornmeal', '1 1/4 cups all-purpose flour', '1/4 cup white sugar', '1 tablespoon baking powder', '1 1/2 teaspoons salt', '1/2 teaspoon baking soda', '1 1/2 cups buttermilk', '3 eggs', '1 1/2 cups shredded pepperjack cheese', '1 1/3 cups frozen corn kernels, thawed and drained', '2 ounces roasted marinated red bell peppers, drained and chopped', '1/2 cup chopped fresh basil']\n",
      "--------------------------------------------------\n",
      "You can make these into braids or buns. Frost with an orange icing and sprinkle some nuts on top, if desired.\n",
      "--------------------------------------------------\n",
      "[\"Cook's Note:\", 'I made 1 braid, 12 cinnamon buns, and 12 butterhorns with this recipe.', 'Parchment can be used for easier cleanup/removal from the pan.']\n",
      "--------------------------------------------------\n",
      "You can make these into braids or buns. Frost with an orange icing and sprinkle some nuts on top, if desired. \"Cook's Note:\", 'I made 1 braid, 12 cinnamon buns, and 12 butterhorns with this recipe.', 'Parchment can be used for easier cleanup/removal from the pan.'\n"
     ]
    },
    {
     "name": "stderr",
     "output_type": "stream",
     "text": [
      "c:\\users\\corey\\appdata\\local\\programs\\python\\python37\\lib\\site-packages\\scipy\\stats\\stats.py:1713: FutureWarning: Using a non-tuple sequence for multidimensional indexing is deprecated; use `arr[tuple(seq)]` instead of `arr[seq]`. In the future this will be interpreted as an array index, `arr[np.array(seq)]`, which will result either in an error or a different result.\n",
      "  return np.add.reduce(sorted[indexer] * weights, axis=axis) / sumval\n"
     ]
    },
    {
     "data": {
      "image/png": "[encoded data removed]",
      "text/plain": [
       "<Figure size 432x288 with 1 Axes>"
      ]
     },
     "metadata": {
      "needs_background": "light"
     },
     "output_type": "display_data"
    },
    {
     "name": "stdout",
     "output_type": "stream",
     "text": [
      "[0.   1.   1.2  1.25 1.29 1.33 1.35 1.4  1.42 1.5  1.55 1.57 1.6  1.63\n",
      " 1.64 1.67 1.69 1.71 1.73 1.75 1.76 1.8  1.83 1.86 1.88 1.89 1.9  1.91\n",
      " 1.93 1.95 2.   2.02 2.06 2.07 2.08 2.09 2.11 2.12 2.13 2.14 2.17 2.18\n",
      " 2.2  2.21 2.22 2.25 2.28 2.29 2.31 2.33 2.34 2.36 2.38 2.39 2.4  2.41\n",
      " 2.43 2.44 2.45 2.46 2.48 2.49 2.5  2.52 2.53 2.54 2.55 2.56 2.57 2.58\n",
      " 2.6  2.62 2.63 2.64 2.65 2.67 2.68 2.69 2.7  2.71 2.72 2.73 2.74 2.75\n",
      " 2.76 2.77 2.78 2.79 2.8  2.81 2.82 2.83 2.84 2.85 2.86 2.87 2.88 2.89\n",
      " 2.9  2.91 2.92 2.93 2.94 2.95 2.96 2.97 2.98 3.   3.01 3.03 3.04 3.05\n",
      " 3.06 3.07 3.08 3.09 3.1  3.11 3.12 3.13 3.14 3.15 3.16 3.17 3.18 3.19\n",
      " 3.2  3.21 3.22 3.23 3.24 3.25 3.26 3.27 3.28 3.29 3.3  3.31 3.32 3.33\n",
      " 3.34 3.35 3.36 3.37 3.38 3.39 3.4  3.41 3.42 3.43 3.44 3.45 3.46 3.47\n",
      " 3.48 3.49 3.5  3.51 3.52 3.53 3.54 3.55 3.56 3.57 3.58 3.59 3.6  3.61\n",
      " 3.62 3.63 3.64 3.65 3.66 3.67 3.68 3.69 3.7  3.71 3.72 3.73 3.74 3.75\n",
      " 3.76 3.77 3.78 3.79 3.8  3.81 3.82 3.83 3.84 3.85 3.86 3.87 3.88 3.89\n",
      " 3.9  3.91 3.92 3.93 3.94 3.95 3.96 3.97 3.98 3.99 4.   4.01 4.02 4.03\n",
      " 4.04 4.05 4.06 4.07 4.08 4.09 4.1  4.11 4.12 4.13 4.14 4.15 4.16 4.17\n",
      " 4.18 4.19 4.2  4.21 4.22 4.23 4.24 4.25 4.26 4.27 4.28 4.29 4.3  4.31\n",
      " 4.32 4.33 4.34 4.35 4.36 4.37 4.38 4.39 4.4  4.41 4.42 4.43 4.44 4.45\n",
      " 4.46 4.47 4.48 4.49 4.5  4.51 4.52 4.53 4.54 4.55 4.56 4.57 4.58 4.59\n",
      " 4.6  4.61 4.62 4.63 4.64 4.65 4.66 4.67 4.68 4.69 4.7  4.71 4.72 4.73\n",
      " 4.74 4.75 4.76 4.77 4.78 4.79 4.8  4.81 4.82 4.83 4.84 4.85 4.86 4.87\n",
      " 4.88 4.89 4.9  4.91 4.92 4.93 4.94 4.95 4.96 4.97 5.  ]\n",
      "<class 'pandas.core.frame.DataFrame'>\n",
      "RangeIndex: 225602 entries, 0 to 225601\n",
      "Data columns (total 10 columns):\n",
      "cook_time       225602 non-null int64\n",
      "description     225602 non-null object\n",
      "ingredients     225602 non-null object\n",
      "instructions    225602 non-null object\n",
      "prep_time       225602 non-null int64\n",
      "rating          225602 non-null float64\n",
      "review_count    225602 non-null int64\n",
      "title           225602 non-null object\n",
      "total_time      225602 non-null int64\n",
      "url             225602 non-null object\n",
      "dtypes: float64(1), int64(4), object(5)\n",
      "memory usage: 17.2+ MB\n",
      "None\n"
     ]
    }
   ],
   "source": [
    "# Allrecipes check\n",
    "allrecipes = list_[0]\n",
    "#print(allrecipes.head())\n",
    "#print(allrecipes.columns.tolist())\n",
    "#print(allrecipes.describe())\n",
    "print(allrecipes.info())\n",
    "\n",
    "# Drop error, author, time_scraped, photo_url\n",
    "# Error Column is always False, Author is user_name for website, time_scraped and photo_url aren't important\n",
    "#print(allrecipes.error.unique())\n",
    "#print(allrecipes.author)\n",
    "\n",
    "allrecipes = allrecipes.drop(['author', 'error', 'time_scraped', 'photo_url'], 1)\n",
    "\n",
    "# change name of rating-stars to rating, and drop minutes from time variables\n",
    "allrecipes.rename({'rating_stars':'rating', \n",
    "                   'cook_time_minutes':'cook_time',\n",
    "                   'prep_time_minutes':'prep_time',\n",
    "                   'total_time_minutes':'total_time'}, axis=1, inplace=True)\n",
    "print(allrecipes.instructions[0])\n",
    "print('-'*50)\n",
    "print(allrecipes.ingredients[0])\n",
    "print('-'*50)\n",
    "print(allrecipes.description[4])\n",
    "print('-'*50)\n",
    "print(allrecipes.footnotes[4])\n",
    "print('-'*50)\n",
    "\n",
    "# combine the footnote column with the description column\n",
    "allrecipes.footnotes = allrecipes.footnotes.apply(str)\n",
    "allrecipes.description = allrecipes.description.str.cat(allrecipes.footnotes, sep=' ')\n",
    "allrecipes.description = allrecipes.description.str.replace('[','').str.replace(']','')\n",
    "print(allrecipes.description[4])\n",
    "\n",
    "# Drop footnote\n",
    "allrecipes = allrecipes.drop('footnotes',1)\n",
    "\n",
    "# Check ratings\n",
    "sns.distplot(allrecipes.rating)\n",
    "plt.title(\"Ratings\\nMin:Max = \"+str(allrecipes.rating.min())+'-'+str(allrecipes.rating.max()))\n",
    "plt.show()\n",
    "\n",
    "print(np.sort(allrecipes.rating.unique()))\n",
    "\n",
    "# Check\n",
    "print(allrecipes.info())"
   ]
  },
  {
   "cell_type": "code",
   "execution_count": 6,
   "metadata": {},
   "outputs": [
    {
     "name": "stdout",
     "output_type": "stream",
     "text": [
      "<class 'pandas.core.frame.DataFrame'>\n",
      "RangeIndex: 10599 entries, 0 to 10598\n",
      "Data columns (total 17 columns):\n",
      "chef                        10599 non-null object\n",
      "chef_id                     10599 non-null object\n",
      "cooking_time_minutes        10599 non-null int64\n",
      "description                 10599 non-null object\n",
      "error                       10599 non-null bool\n",
      "ingredients                 10599 non-null object\n",
      "instructions                10599 non-null object\n",
      "instructions_detailed       10599 non-null object\n",
      "photo_url                   2225 non-null object\n",
      "preparation_time_minutes    10599 non-null int64\n",
      "program                     9626 non-null object\n",
      "program_id                  9626 non-null object\n",
      "serves                      10599 non-null int64\n",
      "time_scraped                10599 non-null int64\n",
      "title                       10599 non-null object\n",
      "total_time_minutes          10599 non-null int64\n",
      "url                         10599 non-null object\n",
      "dtypes: bool(1), int64(5), object(11)\n",
      "memory usage: 1.3+ MB\n",
      "None\n",
      "\n",
      "--------------------------------------------------\n",
      "Saturday Kitchen\n",
      " Saturday Kitchen\n",
      "<class 'pandas.core.frame.DataFrame'>\n",
      "RangeIndex: 10599 entries, 0 to 10598\n",
      "Data columns (total 8 columns):\n",
      "cook_time       10599 non-null int64\n",
      "description     10599 non-null object\n",
      "ingredients     10599 non-null object\n",
      "instructions    10599 non-null object\n",
      "prep_time       10599 non-null int64\n",
      "title           10599 non-null object\n",
      "total_time      10599 non-null int64\n",
      "url             10599 non-null object\n",
      "dtypes: int64(3), object(5)\n",
      "memory usage: 662.5+ KB\n",
      "None\n"
     ]
    }
   ],
   "source": [
    "# BBC CO UK check\n",
    "bbcrecipes = list_[1]\n",
    "\n",
    "#print(bbcrecipes.head())\n",
    "print(bbcrecipes.info())\n",
    "#print(bbcrecipes.error.unique())\n",
    "\n",
    "#print(bbcrecipes.instructions_detailed[0])\n",
    "#print('-'*50)\n",
    "#print(bbcrecipes.instructions[0])\n",
    "#print('-'*50)\n",
    "#print(bbcrecipes.ingredients[0])\n",
    "#print('-'*50)\n",
    "print(bbcrecipes.description[10])\n",
    "print('-'*50)\n",
    "print(bbcrecipes.program[10])\n",
    "\n",
    "# Add program to descriptions\n",
    "bbcrecipes.program = bbcrecipes.program.apply(str)\n",
    "bbcrecipes.description = bbcrecipes.description.str.cat(bbcrecipes.program, sep=' ')\n",
    "\n",
    "print(bbcrecipes.description[10])\n",
    "\n",
    "# Drop error, chef, chef_id, instructions_detailed, photo_url, program, program_id, serves, time_scraped\n",
    "bbcrecipes = bbcrecipes.drop(['error', 'chef', 'chef_id', \n",
    "                              'instructions_detailed', 'photo_url', \n",
    "                              'program', 'program_id', 'serves', 'time_scraped'], 1)\n",
    "\n",
    "bbcrecipes.rename({'cooking_time_minutes':'cook_time',\n",
    "                   'preparation_time_minutes':'prep_time',\n",
    "                   'total_time_minutes':'total_time'}, axis=1, inplace=True)\n",
    "# Check\n",
    "print(bbcrecipes.info())"
   ]
  },
  {
   "cell_type": "code",
   "execution_count": 7,
   "metadata": {
    "scrolled": false
   },
   "outputs": [
    {
     "data": {
      "image/png": "[encoded data removed]",
      "text/plain": [
       "<Figure size 432x288 with 1 Axes>"
      ]
     },
     "metadata": {
      "needs_background": "light"
     },
     "output_type": "display_data"
    },
    {
     "name": "stdout",
     "output_type": "stream",
     "text": [
      "<class 'pandas.core.frame.DataFrame'>\n",
      "RangeIndex: 7918 entries, 0 to 7917\n",
      "Data columns (total 7 columns):\n",
      "description     7918 non-null object\n",
      "ingredients     7918 non-null object\n",
      "instructions    7918 non-null object\n",
      "rating          7918 non-null float64\n",
      "title           7918 non-null object\n",
      "total_time      7851 non-null object\n",
      "url             7918 non-null object\n",
      "dtypes: float64(1), object(6)\n",
      "memory usage: 433.1+ KB\n",
      "None\n"
     ]
    }
   ],
   "source": [
    "# COOKSTR check\n",
    "cookstrecipes = list_[2]\n",
    "\n",
    "#print(cookstrecipes.head())\n",
    "#print(cookstrecipes.info())\n",
    "#print(cookstrecipes[cookstrecipes.chef.isnull()]['contributors'])\n",
    "\n",
    "# lets append the cookbook, publisher cooking_method, cost, course, chef, contributor, dietary_considerations, \n",
    "# difficulty, meal, occasion, taste/texture, and type of dish to the description\n",
    "cols_to_append = ['description', 'chef', 'contributors', 'cookbook', 'cookbook_publisher', \n",
    "                  'cooking_method', 'cost', 'course', 'dietary_considerations',\n",
    "                  'difficulty', 'meal', 'occasion', 'taste_and_texture', 'type_of_dish']\n",
    "\n",
    "for col in cols_to_append:\n",
    "    cookstrecipes[col] = cookstrecipes[col].apply(str)\n",
    "    cookstrecipes.description = cookstrecipes.description.str.cat(cookstrecipes[col], sep=' ')\n",
    "\n",
    "#print(cookstrecipes.description[4])\n",
    "\n",
    "# Drop cols to append, comment_count, copyright, date_modified, error, ingredients_detailed, kid_friendly, make_ahead, makes,\n",
    "# photo stuff, and time scraped\n",
    "drop_cols = cols_to_append +['rating_count', 'comment_count', 'copyright',\n",
    "                                  'date_modified','error','ingredients_detailed',\n",
    "                                  'kid_friendly','make_ahead','makes',\n",
    "                                  'photo_credit_name','photo_credit_site','photo_url','time_scraped']\n",
    "# remove description from droplist\n",
    "drop_cols.pop(0)\n",
    "#print(drop_cols)\n",
    "cookstrecipes = cookstrecipes.drop(drop_cols, 1)\n",
    "\n",
    "#print(cookstrecipes.total_time)\n",
    "\n",
    "# Check ratings\n",
    "cookstrecipes.rating_value.fillna(0,inplace=True)\n",
    "sns.distplot(cookstrecipes.rating_value)\n",
    "plt.title(\"Ratings\\nMin:Max = \"+str(cookstrecipes.rating_value.min())+'-'+str(cookstrecipes.rating_value.max()))\n",
    "plt.show()\n",
    "\n",
    "#print(cookstrecipes.rating_value.dropna())\n",
    "\n",
    "# Rename\n",
    "cookstrecipes.rename({'rating_value':'rating'}, axis=1, inplace=True)\n",
    "\n",
    "# Check\n",
    "print(cookstrecipes.info())"
   ]
  },
  {
   "cell_type": "code",
   "execution_count": 8,
   "metadata": {
    "scrolled": false
   },
   "outputs": [
    {
     "name": "stdout",
     "output_type": "stream",
     "text": [
      "<class 'pandas.core.frame.DataFrame'>\n",
      "RangeIndex: 34756 entries, 0 to 34755\n",
      "Data columns (total 15 columns):\n",
      "aggregateRating     34756 non-null float64\n",
      "author              34756 non-null object\n",
      "dateCrawled         34756 non-null int64\n",
      "dek                 34756 non-null object\n",
      "hed                 34756 non-null object\n",
      "id                  34756 non-null object\n",
      "ingredients         34656 non-null object\n",
      "photoData           34756 non-null object\n",
      "prepSteps           34756 non-null object\n",
      "pubDate             34756 non-null object\n",
      "reviewsCount        34756 non-null int64\n",
      "tag                 34655 non-null object\n",
      "type                34756 non-null object\n",
      "url                 34756 non-null object\n",
      "willMakeAgainPct    34756 non-null int64\n",
      "dtypes: float64(1), int64(3), object(11)\n",
      "memory usage: 4.0+ MB\n",
      "None\n",
      "How does fried chicken achieve No. 1 status? Brined, boneless thighs are responsible for incredible dark-meat flavor, and the dredge technique creates an insanely crunchy coating.\n",
      "Pickle-Brined Fried Chicken\n",
      "How does fried chicken achieve No. 1 status? Brined, boneless thighs are responsible for incredible dark-meat flavor, and the dredge technique creates an insanely crunchy coating. Pickle-Brined Fried Chicken {'category': 'ingredient', 'name': 'Chicken', 'url': '', 'photosBadgeAltText': '', 'photosBadgeFileName': '', 'photosBadgeID': '', 'photosBadgeRelatedUri': ''}\n"
     ]
    },
    {
     "data": {
      "image/png": "[encoded data removed]",
      "text/plain": [
       "<Figure size 432x288 with 1 Axes>"
      ]
     },
     "metadata": {
      "needs_background": "light"
     },
     "output_type": "display_data"
    },
    {
     "name": "stdout",
     "output_type": "stream",
     "text": [
      "<class 'pandas.core.frame.DataFrame'>\n",
      "Int64Index: 34569 entries, 0 to 34755\n",
      "Data columns (total 6 columns):\n",
      "rating          34569 non-null float64\n",
      "ingredients     34569 non-null object\n",
      "instructions    34569 non-null object\n",
      "review_count    34569 non-null int64\n",
      "url             34569 non-null object\n",
      "description     34569 non-null object\n",
      "dtypes: float64(1), int64(1), object(4)\n",
      "memory usage: 1.8+ MB\n",
      "None\n"
     ]
    }
   ],
   "source": [
    "# epicurious check\n",
    "epicuriousrecipes = list_[3]\n",
    "\n",
    "#print(cookstrecipes.head())\n",
    "print(epicuriousrecipes.info())\n",
    "#print(epicuriousrecipes.author) drop\n",
    "#print(epicuriousrecipes.id) drop\n",
    "\n",
    "# Description = dek+hed\n",
    "# Instructions =prepSteps\n",
    "print(epicuriousrecipes.dek[0])\n",
    "print(epicuriousrecipes.hed[0])\n",
    "epicuriousrecipes['description'] = epicuriousrecipes.dek.str.cat(epicuriousrecipes.hed,sep=' ')\n",
    "epicuriousrecipes['description'] = epicuriousrecipes.description.str.cat(epicuriousrecipes.tag.apply(str),sep=' ')\n",
    "print(epicuriousrecipes.description[0])\n",
    "epicuriousrecipes.rename({'prepSteps':'instructions', 'aggregateRating':'rating', 'reviewsCount':'review_count'}, axis=1, inplace=True)\n",
    "#print(epicuriousrecipes.type.unique()) drop\n",
    "\n",
    "# Change rating scale to 0-5\n",
    "epicuriousrecipes.rating = epicuriousrecipes.rating*(5/4)\n",
    "\n",
    "# Check ratings\n",
    "sns.distplot(epicuriousrecipes.rating)\n",
    "plt.title(\"Ratings\\nMin:Max = \"+str(epicuriousrecipes.rating.min())+'-'+str(epicuriousrecipes.rating.max()))\n",
    "plt.show()\n",
    "\n",
    "\n",
    "# 100 missing ingredient recipes\n",
    "#print(epicuriousrecipes[epicuriousrecipes.ingredients.isnull()])\n",
    "\n",
    "epicuriousrecipes = epicuriousrecipes.dropna(0)\n",
    "\n",
    "drop_cols = ['author','dateCrawled', 'id', 'dek', 'hed', 'photoData', 'pubDate', 'type', 'willMakeAgainPct', 'tag']\n",
    "epicuriousrecipes = epicuriousrecipes.drop(drop_cols,1)\n",
    "\n",
    "print(epicuriousrecipes.info())"
   ]
  },
  {
   "cell_type": "code",
   "execution_count": 9,
   "metadata": {
    "scrolled": false
   },
   "outputs": [
    {
     "name": "stdout",
     "output_type": "stream",
     "text": [
      "Index(['cook_time', 'description', 'ingredients', 'instructions', 'prep_time',\n",
      "       'rating', 'review_count', 'title', 'total_time', 'url'],\n",
      "      dtype='object') 10\n",
      "Index(['cook_time', 'description', 'ingredients', 'instructions', 'prep_time',\n",
      "       'title', 'total_time', 'url'],\n",
      "      dtype='object') 8\n",
      "Index(['description', 'ingredients', 'instructions', 'rating', 'title',\n",
      "       'total_time', 'url'],\n",
      "      dtype='object') 7\n",
      "Index(['rating', 'ingredients', 'instructions', 'review_count', 'url',\n",
      "       'description'],\n",
      "      dtype='object') 6\n"
     ]
    }
   ],
   "source": [
    "# check final dataframes\n",
    "dfs = [allrecipes, bbcrecipes, cookstrecipes, epicuriousrecipes]\n",
    "for df in dfs:\n",
    "    print(df.columns,df.shape[1])\n",
    "df_all = pd.concat(dfs,0, sort=True)"
   ]
  },
  {
   "cell_type": "code",
   "execution_count": 10,
   "metadata": {
    "scrolled": false
   },
   "outputs": [
    {
     "name": "stdout",
     "output_type": "stream",
     "text": [
      "   cook_time  \\\n",
      "0  25.0        \n",
      "1  0.0         \n",
      "2  0.0         \n",
      "3  0.0         \n",
      "4  45.0        \n",
      "\n",
      "                                                                                                                                                                                                                                                                description  \\\n",
      "0  I just started adding my favorite things to basic cornbread and I came up with something great!                                                                                                                                                                            \n",
      "1  These are great as an appetizer or served alongside a meal!                                                                                                                                                                                                                \n",
      "2  This is the best bread recipe.  Light and fluffy rolls that melt in your mouth. Can be used to make loaves or cinnamon rolls.                                                                                                                                              \n",
      "3  A Southern delight with a 'more-ish'  taste.  One bite and you want more! This bread freezes well.                                                                                                                                                                         \n",
      "4  You can make these into braids or buns. Frost with an orange icing and sprinkle some nuts on top, if desired. \"Cook's Note:\", 'I made 1 braid, 12 cinnamon buns, and 12 butterhorns with this recipe.', 'Parchment can be used for easier cleanup/removal from the pan.'   \n",
      "\n",
      "                                                                                                                                                                                                                                                                                                                                                                                                                                      ingredients  \\\n",
      "0  [1/2 cup unsalted butter, chilled and cubed, 1 cup chopped onion, 1 3/4 cups cornmeal, 1 1/4 cups all-purpose flour, 1/4 cup white sugar, 1 tablespoon baking powder, 1 1/2 teaspoons salt, 1/2 teaspoon baking soda, 1 1/2 cups buttermilk, 3 eggs, 1 1/2 cups shredded pepperjack cheese, 1 1/3 cups frozen corn kernels, thawed and drained, 2 ounces roasted marinated red bell peppers, drained and chopped, 1/2 cup chopped fresh basil]   \n",
      "1  [1/2 cup Parmesan cheese, 3/4 teaspoon ground black pepper, 1/2 teaspoon garlic powder, 1 (17.5 ounce) package frozen puff pastry, thawed, 1 egg white]                                                                                                                                                                                                                                                                                          \n",
      "2  [2 cups hot water, 1/2 cup margarine, 1/3 cup white sugar, 2 teaspoons salt, 1/2 cup cold water, 2 (.25 ounce) packages active dry yeast, 5 1/2 cups all-purpose flour, 2 eggs]                                                                                                                                                                                                                                                                  \n",
      "3  [1 1/2 cups white sugar, 1/2 cup vegetable oil, 2 eggs, 1 3/4 cups sifted all-purpose flour, 1 teaspoon baking soda, 1/4 teaspoon salt, 1/2 teaspoon ground cinnamon, 1/2 teaspoon ground nutmeg, 1/3 cup water, 1 cup cooked and mashed sweet potatoes, 1/2 cup chopped pecans]                                                                                                                                                                 \n",
      "4  [1/4 cup butter, 1 teaspoon white sugar, 1 cup hot milk, 2 tablespoons active dry yeast, 6 cups bread flour, divided, 1/2 cup white sugar, 2 eggs, 1 cup orange juice, 1 tablespoon orange zest, 1 teaspoon salt]                                                                                                                                                                                                                                \n",
      "\n",
      "                                                                                                                                                                                                                                                                                                                                                                                                                                                                                                                                                                                                                                                                                                                                                                                                                                                                                                                                                                                                                                                                                                                                                                                                                      instructions  \\\n",
      "0  [Preheat oven to 400 degrees F (205 degrees C). Butter a 9x9x2 inch baking pan., Melt 1 tablespoon butter in medium nonstick skillet over medium-low heat. Add onion and saute until tender, about 10 minutes. Cool., Mix cornmeal with the flour, baking powder, sugar, salt, and baking soda in large bowl. Add 7 tablespoons butter and rub with fingertips until mixture resembles coarse meal., Whisk buttermilk and eggs in medium bowl to blend. Add buttermilk mixture to dry ingredients and stir until blended. Mix in cheese, corn, red peppers, basil, and onion. Transfer to prepared pan., Bake cornbread until golden and tester inserted comes out clean, about 45 minutes. Cool 20 minutes in pan. Cut cornbread into squares.]                                                                                                                                                                                                                                                                                                                                                                                                                                                                                  \n",
      "1  [Combine parmesan cheese, pepper and garlic powder. Unfold pastry sheets onto cutting board. Brush lightly with egg white; sprinkle each sheet with 1/4 of the cheese mixture. Lightly press into pastry, turn over; repeat. Cut each sheet into 12 (1-inch) strips; twist., Place on ungreased cookie sheet and bake in 350 degrees F (175 degrees C) oven for 15 minutes or until golden brown.]                                                                                                                                                                                                                                                                                                                                                                                                                                                                                                                                                                                                                                                                                                                                                                                                                                \n",
      "2  [Melt margarine in hot water. Add sugar and salt and stir. Add cold water and yeast. Stir to dissolve yeast., Add 3 cups flour and mix. Add eggs and 2 1/2 - 3 cups more flour. Mix, cover and let rise until dough doubles in size., Punch down and let rise 30 more minutes or until doubles., Make walnut size balls of dough. Place about 2 inches apart in well-buttered 9 x 13 inch pan. Bake in a preheated 350 degrees F (175 degrees C) oven for 30-45 minutes. Brush top of rolls with margarine while hot.]                                                                                                                                                                                                                                                                                                                                                                                                                                                                                                                                                                                                                                                                                                            \n",
      "3  [Combine sugar and oil; beat well. Add eggs and beat. Combine flour, baking soda, salt, cinnamon and nutmeg. Stir flour mixture into egg mixture alternately with water. Stir in sweet potatoes and chopped nuts., Pour batter into greased 9x5 inch loaf pan (or 2 small loaf pans). Bake at 350 degrees F (175 degrees C) for about one hour.]                                                                                                                                                                                                                                                                                                                                                                                                                                                                                                                                                                                                                                                                                                                                                                                                                                                                                  \n",
      "4  [Stir butter and 1 teaspoon sugar into the hot milk until butter is melted. When mixture is lukewarm, stir in yeast and set aside for 5 minutes., When mixture is creamy, transfer to a large mixing bowl. Mix in 2 cups of bread flour. Add 1/2 cup sugar, eggs, orange juice, orange zest, and salt and beat until combined. Add remaining flour, mixing well after each addition, until it pulls away from the sides of the bowl., Knead for about 10 minutes. Transfer dough to a greased bowl, cover with plastic wrap, and let rise until doubled, about 1 hour. If time permits, you can punch dough down, cover it, and let it rise again., Transfer dough to a lightly floured work surface. Cut dough into 3 balls, cover with plastic wrap, and let rest for 10 minutes., Preheat oven to 375 degrees F (190 degrees C). Lightly grease two baking sheets or line with parchment paper., Shape each piece of dough into braided loaves or buns; place on baking sheets. Let rise until doubled, about 30 minutes., Bake until rolls or loaves are golden brown, 10 to 12 minutes for individual buns, about 20 minutes for braids. Frost rolls, if desired (see Cook's Note) or sprinkle with confectioners' sugar.]   \n",
      "\n",
      "   prep_time  rating  review_count  \\\n",
      "0  55.0       4.32    46.0           \n",
      "1  0.0        4.18    44.0           \n",
      "2  0.0        3.65    168.0          \n",
      "3  0.0        4.70    344.0          \n",
      "4  20.0       4.71    6.0            \n",
      "\n",
      "                                                title total_time  \\\n",
      "0  Basil, Roasted Peppers and Monterey Jack Cornbread  100         \n",
      "1  Crispy Cheese Twists                                0           \n",
      "2  Mom's Yeast Rolls                                   0           \n",
      "3  Sweet Potato Bread I                                0           \n",
      "4  Orange Buns                                         170         \n",
      "\n",
      "                                  url  \n",
      "0  http://allrecipes.com/Recipe/6664/  \n",
      "1  http://allrecipes.com/Recipe/6663/  \n",
      "2  http://allrecipes.com/Recipe/6665/  \n",
      "3  http://allrecipes.com/Recipe/6666/  \n",
      "4  http://allrecipes.com/Recipe/6668/  \n",
      "(278688, 10)\n"
     ]
    },
    {
     "name": "stdout",
     "output_type": "stream",
     "text": [
      "<class 'pandas.core.frame.DataFrame'>\n",
      "Int64Index: 278688 entries, 0 to 34755\n",
      "Data columns (total 10 columns):\n",
      "cook_time       236201 non-null float64\n",
      "description     278688 non-null object\n",
      "ingredients     278688 non-null object\n",
      "instructions    278688 non-null object\n",
      "prep_time       236201 non-null float64\n",
      "rating          268089 non-null float64\n",
      "review_count    260171 non-null float64\n",
      "title           244119 non-null object\n",
      "total_time      244052 non-null object\n",
      "url             278688 non-null object\n",
      "dtypes: float64(4), object(6)\n",
      "memory usage: 23.4+ MB\n",
      "None\n"
     ]
    }
   ],
   "source": [
    "print(df_all.head())\n",
    "print(df_all.shape)\n",
    "print(df_all.info())"
   ]
  },
  {
   "cell_type": "code",
   "execution_count": 11,
   "metadata": {},
   "outputs": [
    {
     "data": {
      "text/plain": [
       "104504"
      ]
     },
     "execution_count": 11,
     "metadata": {},
     "output_type": "execute_result"
    }
   ],
   "source": [
    "df_all.rating[df_all.rating>0].notnull().sum()"
   ]
  },
  {
   "cell_type": "code",
   "execution_count": 14,
   "metadata": {
    "scrolled": true
   },
   "outputs": [
    {
     "data": {
      "image/png": "[encoded data removed]",
      "text/plain": [
       "<Figure size 432x288 with 1 Axes>"
      ]
     },
     "metadata": {
      "needs_background": "light"
     },
     "output_type": "display_data"
    },
    {
     "name": "stdout",
     "output_type": "stream",
     "text": [
      "There are 104,504 non-zero ratings in the dataset\n"
     ]
    }
   ],
   "source": [
    "sns.distplot(df_all.rating[df_all.rating>0].dropna())\n",
    "plt.title('Positive Ratings for Overall Dataset')\n",
    "plt.show()\n",
    "\n",
    "print(\"There are {:,d} non-zero ratings in the dataset\".format(df_all.rating[df_all.rating>0].notnull().sum()))"
   ]
  },
  {
   "cell_type": "code",
   "execution_count": 31,
   "metadata": {},
   "outputs": [
    {
     "name": "stdout",
     "output_type": "stream",
     "text": [
      "[4 3 5 2 1 0]\n"
     ]
    },
    {
     "data": {
      "image/png": "[encoded data removed]",
      "text/plain": [
       "<Figure size 432x288 with 1 Axes>"
      ]
     },
     "metadata": {
      "needs_background": "light"
     },
     "output_type": "display_data"
    }
   ],
   "source": [
    "# create 5 categories for ratings\n",
    "# 1-1.5 =< bin_1\n",
    "# 1.5 < bin_2 =< 2.5\n",
    "# 2.5 < bin_3 =< 3.5\n",
    "# 3.5 < bin_4 < 4.5\n",
    "# 4.5 < bin_5\n",
    "\n",
    "df_all['integer_rating'] = pd.Series(0, index=df_all.index)\n",
    "df_all.loc[(df_all.rating > 0)&(df_all.rating < 2),'integer_rating'] = 1\n",
    "df_all.loc[(df_all.rating >= 2)&(df_all.rating < 3),'integer_rating'] = 2\n",
    "df_all.loc[(df_all.rating >= 3)&(df_all.rating < 4),'integer_rating'] = 3\n",
    "df_all.loc[(df_all.rating >= 4)&(df_all.rating < 4.5),'integer_rating'] = 4\n",
    "df_all.loc[(df_all.rating >= 4.5),'integer_rating'] = 5\n",
    "\n",
    "print(df_all.integer_rating.unique())\n",
    "sns.countplot(df_all.integer_rating[df_all.integer_rating>0])\n",
    "plt.show()"
   ]
  },
  {
   "cell_type": "markdown",
   "metadata": {},
   "source": [
    "Want to build model to predict ratings from the 104K that we have to see if the missings can be imputed"
   ]
  },
  {
   "cell_type": "code",
   "execution_count": 54,
   "metadata": {},
   "outputs": [
    {
     "name": "stdout",
     "output_type": "stream",
     "text": [
      "(278688, 11)\n",
      "(225602, 11)\n"
     ]
    }
   ],
   "source": [
    "print(df_all.shape)\n",
    "print(df_all.dropna().shape)"
   ]
  },
  {
   "cell_type": "code",
   "execution_count": 56,
   "metadata": {
    "scrolled": false
   },
   "outputs": [
    {
     "name": "stdout",
     "output_type": "stream",
     "text": [
      "(278688, 5)\n"
     ]
    },
    {
     "name": "stderr",
     "output_type": "stream",
     "text": [
      "c:\\users\\corey\\appdata\\local\\programs\\python\\python37\\lib\\site-packages\\ipykernel_launcher.py:10: SettingWithCopyWarning: \n",
      "A value is trying to be set on a copy of a slice from a DataFrame.\n",
      "Try using .loc[row_indexer,col_indexer] = value instead\n",
      "\n",
      "See the caveats in the documentation: http://pandas.pydata.org/pandas-docs/stable/indexing.html#indexing-view-versus-copy\n",
      "  # Remove the CWD from sys.path while we load stuff.\n"
     ]
    },
    {
     "name": "stdout",
     "output_type": "stream",
     "text": [
      "0    1/2 cup unsalted butter, chilled and cubed 1 cup chopped onion 1 3/4 cups cornmeal 1 1/4 cups all-purpose flour 1/4 cup white sugar 1 tablespoon baking powder 1 1/2 teaspoons salt 1/2 teaspoon baking soda 1 1/2 cups buttermilk 3 eggs 1 1/2 cups shredded pepperjack cheese 1 1/3 cups frozen corn kernels, thawed and drained 2 ounces roasted marinated red bell peppers, drained and chopped 1/2 cup chopped fresh basil Preheat oven to 400 degrees F (205 degrees C). Butter a 9x9x2 inch baking pan. Melt 1 tablespoon butter in medium nonstick skillet over medium-low heat. Add onion and saute until tender, about 10 minutes. Cool. Mix cornmeal with the flour, baking powder, sugar, salt, and baking soda in large bowl. Add 7 tablespoons butter and rub with fingertips until mixture resembles coarse meal. Whisk buttermilk and eggs in medium bowl to blend. Add buttermilk mixture to dry ingredients and stir until blended. Mix in cheese, corn, red peppers, basil, and onion. Transfer to prepared pan. Bake cornbread until golden and tester inserted comes out clean, about 45 minutes. Cool 20 minutes in pan. Cut cornbread into squares. I just started adding my favorite things to basic cornbread and I came up with something great!                                                                                                                                                                                                                                                                                                                                                                                                                             \n",
      "1    1/2 cup Parmesan cheese 3/4 teaspoon ground black pepper 1/2 teaspoon garlic powder 1 (17.5 ounce) package frozen puff pastry, thawed 1 egg white Combine parmesan cheese, pepper and garlic powder. Unfold pastry sheets onto cutting board. Brush lightly with egg white; sprinkle each sheet with 1/4 of the cheese mixture. Lightly press into pastry, turn over; repeat. Cut each sheet into 12 (1-inch) strips; twist. Place on ungreased cookie sheet and bake in 350 degrees F (175 degrees C) oven for 15 minutes or until golden brown. These are great as an appetizer or served alongside a meal!                                                                                                                                                                                                                                                                                                                                                                                                                                                                                                                                                                                                                                                                                                                                                                                                                                                                                                                                                                                                                                                                                          \n",
      "2    2 cups hot water 1/2 cup margarine 1/3 cup white sugar 2 teaspoons salt 1/2 cup cold water 2 (.25 ounce) packages active dry yeast 5 1/2 cups all-purpose flour 2 eggs Melt margarine in hot water. Add sugar and salt and stir. Add cold water and yeast. Stir to dissolve yeast. Add 3 cups flour and mix. Add eggs and 2 1/2 - 3 cups more flour. Mix, cover and let rise until dough doubles in size. Punch down and let rise 30 more minutes or until doubles. Make walnut size balls of dough. Place about 2 inches apart in well-buttered 9 x 13 inch pan. Bake in a preheated 350 degrees F (175 degrees C) oven for 30-45 minutes. Brush top of rolls with margarine while hot. This is the best bread recipe.  Light and fluffy rolls that melt in your mouth. Can be used to make loaves or cinnamon rolls.                                                                                                                                                                                                                                                                                                                                                                                                                                                                                                                                                                                                                                                                                                                                                                                                                                                                                 \n",
      "3    1 1/2 cups white sugar 1/2 cup vegetable oil 2 eggs 1 3/4 cups sifted all-purpose flour 1 teaspoon baking soda 1/4 teaspoon salt 1/2 teaspoon ground cinnamon 1/2 teaspoon ground nutmeg 1/3 cup water 1 cup cooked and mashed sweet potatoes 1/2 cup chopped pecans Combine sugar and oil; beat well. Add eggs and beat. Combine flour, baking soda, salt, cinnamon and nutmeg. Stir flour mixture into egg mixture alternately with water. Stir in sweet potatoes and chopped nuts. Pour batter into greased 9x5 inch loaf pan (or 2 small loaf pans). Bake at 350 degrees F (175 degrees C) for about one hour. A Southern delight with a 'more-ish'  taste.  One bite and you want more! This bread freezes well.                                                                                                                                                                                                                                                                                                                                                                                                                                                                                                                                                                                                                                                                                                                                                                                                                                                                                                                                                                                  \n",
      "4    1/4 cup butter 1 teaspoon white sugar 1 cup hot milk 2 tablespoons active dry yeast 6 cups bread flour, divided 1/2 cup white sugar 2 eggs 1 cup orange juice 1 tablespoon orange zest 1 teaspoon salt Stir butter and 1 teaspoon sugar into the hot milk until butter is melted. When mixture is lukewarm, stir in yeast and set aside for 5 minutes. When mixture is creamy, transfer to a large mixing bowl. Mix in 2 cups of bread flour. Add 1/2 cup sugar, eggs, orange juice, orange zest, and salt and beat until combined. Add remaining flour, mixing well after each addition, until it pulls away from the sides of the bowl. Knead for about 10 minutes. Transfer dough to a greased bowl, cover with plastic wrap, and let rise until doubled, about 1 hour. If time permits, you can punch dough down, cover it, and let it rise again. Transfer dough to a lightly floured work surface. Cut dough into 3 balls, cover with plastic wrap, and let rest for 10 minutes. Preheat oven to 375 degrees F (190 degrees C). Lightly grease two baking sheets or line with parchment paper. Shape each piece of dough into braided loaves or buns; place on baking sheets. Let rise until doubled, about 30 minutes. Bake until rolls or loaves are golden brown, 10 to 12 minutes for individual buns, about 20 minutes for braids. Frost rolls, if desired (see Cook's Note) or sprinkle with confectioners' sugar. You can make these into braids or buns. Frost with an orange icing and sprinkle some nuts on top, if desired. \"Cook's Note:\", 'I made 1 braid, 12 cinnamon buns, and 12 butterhorns with this recipe.', 'Parchment can be used for easier cleanup/removal from the pan.'\n"
     ]
    },
    {
     "name": "stdout",
     "output_type": "stream",
     "text": [
      "Name: corpus, dtype: object\n"
     ]
    }
   ],
   "source": [
    "recipe_df = df_all.dropna(1)\n",
    "\n",
    "print(recipe_df.shape)\n",
    "#print(recipe_df.head())\n",
    "\n",
    "# create \"corpus\" for each recipe\n",
    "def meta_dump(df):\n",
    "    return ' '.join(df['ingredients']) + ' ' + ' '.join(df['instructions']) + ' ' + ''.join(df['description'])\n",
    "\n",
    "recipe_df['corpus'] = recipe_df.apply(meta_dump, axis=1)\n",
    "print(recipe_df.corpus.head())"
   ]
  },
  {
   "cell_type": "markdown",
   "metadata": {},
   "source": [
    "Need to clean text, calculate TFIDF matrix, then find the top key words from each document based on tfidf."
   ]
  },
  {
   "cell_type": "code",
   "execution_count": null,
   "metadata": {},
   "outputs": [],
   "source": [
    "nlp = spacy.load('en')\n",
    "\n",
    "############### sample down first ! #############\n",
    "\n",
    "# Parse the dataset\n",
    "#doc = recipe_df.corpus.apply(nlp)"
   ]
  },
  {
   "cell_type": "code",
   "execution_count": null,
   "metadata": {},
   "outputs": [],
   "source": [
    "print(doc[0])"
   ]
  },
  {
   "cell_type": "code",
   "execution_count": null,
   "metadata": {},
   "outputs": [],
   "source": []
  }
 ],
 "metadata": {
  "kernelspec": {
   "display_name": "Python 3",
   "language": "python",
   "name": "python3"
  },
  "language_info": {
   "codemirror_mode": {
    "name": "ipython",
    "version": 3
   },
   "file_extension": ".py",
   "mimetype": "text/x-python",
   "name": "python",
   "nbconvert_exporter": "python",
   "pygments_lexer": "ipython3",
   "version": "3.7.1"
  }
 },
 "nbformat": 4,
 "nbformat_minor": 2
}
