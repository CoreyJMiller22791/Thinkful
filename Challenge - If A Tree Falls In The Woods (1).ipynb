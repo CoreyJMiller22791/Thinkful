{
 "cells": [
  {
   "cell_type": "markdown",
   "metadata": {},
   "source": [
    "# Decision Tree Classifier VS Random Forest Classifier\n",
    "## Predicting Forest Cover Type"
   ]
  },
  {
   "cell_type": "markdown",
   "metadata": {},
   "source": [
    "## Decision Tree Classifier"
   ]
  },
  {
   "cell_type": "code",
   "execution_count": 21,
   "metadata": {},
   "outputs": [],
   "source": [
    "import pandas as pd\n",
    "import numpy as np\n",
    "import matplotlib.pyplot as plt\n",
    "\n",
    "from sklearn import ensemble\n",
    "from sklearn.model_selection import cross_val_score, train_test_split, validation_curve, GridSearchCV\n",
    "from sklearn import tree\n",
    "from sklearn.metrics import accuracy_score\n",
    "\n",
    "from IPython.display import Image\n",
    "import pydotplus\n",
    "import graphviz\n",
    "\n",
    "import time\n",
    "import warnings\n",
    "warnings.filterwarnings(\"ignore\")\n",
    "\n",
    "%matplotlib inline"
   ]
  },
  {
   "cell_type": "code",
   "execution_count": 2,
   "metadata": {},
   "outputs": [
    {
     "name": "stdout",
     "output_type": "stream",
     "text": [
      "   Elevation  Aspect  Slope  Horizontal_Distance_To_Hydrology  \\\n",
      "0       2596      51      3                               258   \n",
      "1       2590      56      2                               212   \n",
      "2       2804     139      9                               268   \n",
      "3       2785     155     18                               242   \n",
      "4       2595      45      2                               153   \n",
      "\n",
      "   Vertical_Distance_To_Hydrology  Horizontal_Distance_To_Roadways  \\\n",
      "0                               0                              510   \n",
      "1                              -6                              390   \n",
      "2                              65                             3180   \n",
      "3                             118                             3090   \n",
      "4                              -1                              391   \n",
      "\n",
      "   Hillshade_9am  Hillshade_Noon  Hillshade_3pm  \\\n",
      "0            221             232            148   \n",
      "1            220             235            151   \n",
      "2            234             238            135   \n",
      "3            238             238            122   \n",
      "4            220             234            150   \n",
      "\n",
      "   Horizontal_Distance_To_Fire_Points     ...      Soil_Type32  Soil_Type33  \\\n",
      "0                                6279     ...                0            0   \n",
      "1                                6225     ...                0            0   \n",
      "2                                6121     ...                0            0   \n",
      "3                                6211     ...                0            0   \n",
      "4                                6172     ...                0            0   \n",
      "\n",
      "   Soil_Type34  Soil_Type35  Soil_Type36  Soil_Type37  Soil_Type38  \\\n",
      "0            0            0            0            0            0   \n",
      "1            0            0            0            0            0   \n",
      "2            0            0            0            0            0   \n",
      "3            0            0            0            0            0   \n",
      "4            0            0            0            0            0   \n",
      "\n",
      "   Soil_Type39  Soil_Type40  Cover_Type  \n",
      "0            0            0           5  \n",
      "1            0            0           5  \n",
      "2            0            0           2  \n",
      "3            0            0           2  \n",
      "4            0            0           5  \n",
      "\n",
      "[5 rows x 55 columns]\n"
     ]
    }
   ],
   "source": [
    "# laod in data\n",
    "data = pd.read_csv(\"covtype.csv\")\n",
    "df = pd.DataFrame(data)\n",
    "\n",
    "print(df.head())"
   ]
  },
  {
   "cell_type": "code",
   "execution_count": 3,
   "metadata": {},
   "outputs": [
    {
     "name": "stdout",
     "output_type": "stream",
     "text": [
      "We have 581012 observations in our dataset and 54 features to build our model with.\n"
     ]
    }
   ],
   "source": [
    "# get the shape of our data to find the number of observations and features we are working with\n",
    "x,y = df.shape\n",
    "print('We have {} observations in our dataset and {} features to build our model with.'.format(x, y-1))"
   ]
  },
  {
   "cell_type": "markdown",
   "metadata": {},
   "source": [
    "The dataset was downloaded from the UCI Machine Learning Repository.  According to the data dictionary provided the first 10 independent variables are continuous and the last 44 (up to the dependent variable) are binary.  40 of the last 44 columns are soil type and the other 4 represent the wilderness area.  \n",
    "\n",
    "The four wilderness areas are located in the Roosevelt National Forest in Northern Colorado.  These areas represent forests with minimal human-caused disturbances, so that existing forest cover types are more a result of ecological processes rather than forest management practices.  \n",
    "\n",
    "Wilderness area 1 is Rawah, area 2 is Neota, area 3 is Comanche Peak, and the 4th area is Cache la Poudre.  In terms of elevation Neota has the highest mean elevation, Rawah and Comanche Peak have lower mean elevations, and Cache la Poudre has the lowest.\n",
    "\n",
    "The outcomes available for the dependent variable are 1-7, each corresponding to a different forest cover type. \n",
    "1. Spruce/Fir\n",
    "2. Lodgepole Pine\n",
    "3. Ponderosa Pine\n",
    "4. Cottonwood/Willow\n",
    "5. Aspen\n",
    "6. Douglas-fir\n",
    "7. Krummholz"
   ]
  },
  {
   "cell_type": "code",
   "execution_count": 4,
   "metadata": {},
   "outputs": [
    {
     "name": "stdout",
     "output_type": "stream",
     "text": [
      "<class 'pandas.core.frame.DataFrame'>\n",
      "RangeIndex: 581012 entries, 0 to 581011\n",
      "Data columns (total 55 columns):\n",
      "Elevation                             581012 non-null int64\n",
      "Aspect                                581012 non-null int64\n",
      "Slope                                 581012 non-null int64\n",
      "Horizontal_Distance_To_Hydrology      581012 non-null int64\n",
      "Vertical_Distance_To_Hydrology        581012 non-null int64\n",
      "Horizontal_Distance_To_Roadways       581012 non-null int64\n",
      "Hillshade_9am                         581012 non-null int64\n",
      "Hillshade_Noon                        581012 non-null int64\n",
      "Hillshade_3pm                         581012 non-null int64\n",
      "Horizontal_Distance_To_Fire_Points    581012 non-null int64\n",
      "Wilderness_Area1                      581012 non-null int64\n",
      "Wilderness_Area2                      581012 non-null int64\n",
      "Wilderness_Area3                      581012 non-null int64\n",
      "Wilderness_Area4                      581012 non-null int64\n",
      "Soil_Type1                            581012 non-null int64\n",
      "Soil_Type2                            581012 non-null int64\n",
      "Soil_Type3                            581012 non-null int64\n",
      "Soil_Type4                            581012 non-null int64\n",
      "Soil_Type5                            581012 non-null int64\n",
      "Soil_Type6                            581012 non-null int64\n",
      "Soil_Type7                            581012 non-null int64\n",
      "Soil_Type8                            581012 non-null int64\n",
      "Soil_Type9                            581012 non-null int64\n",
      "Soil_Type10                           581012 non-null int64\n",
      "Soil_Type11                           581012 non-null int64\n",
      "Soil_Type12                           581012 non-null int64\n",
      "Soil_Type13                           581012 non-null int64\n",
      "Soil_Type14                           581012 non-null int64\n",
      "Soil_Type15                           581012 non-null int64\n",
      "Soil_Type16                           581012 non-null int64\n",
      "Soil_Type17                           581012 non-null int64\n",
      "Soil_Type18                           581012 non-null int64\n",
      "Soil_Type19                           581012 non-null int64\n",
      "Soil_Type20                           581012 non-null int64\n",
      "Soil_Type21                           581012 non-null int64\n",
      "Soil_Type22                           581012 non-null int64\n",
      "Soil_Type23                           581012 non-null int64\n",
      "Soil_Type24                           581012 non-null int64\n",
      "Soil_Type25                           581012 non-null int64\n",
      "Soil_Type26                           581012 non-null int64\n",
      "Soil_Type27                           581012 non-null int64\n",
      "Soil_Type28                           581012 non-null int64\n",
      "Soil_Type29                           581012 non-null int64\n",
      "Soil_Type30                           581012 non-null int64\n",
      "Soil_Type31                           581012 non-null int64\n",
      "Soil_Type32                           581012 non-null int64\n",
      "Soil_Type33                           581012 non-null int64\n",
      "Soil_Type34                           581012 non-null int64\n",
      "Soil_Type35                           581012 non-null int64\n",
      "Soil_Type36                           581012 non-null int64\n",
      "Soil_Type37                           581012 non-null int64\n",
      "Soil_Type38                           581012 non-null int64\n",
      "Soil_Type39                           581012 non-null int64\n",
      "Soil_Type40                           581012 non-null int64\n",
      "Cover_Type                            581012 non-null int64\n",
      "dtypes: int64(55)\n",
      "memory usage: 243.8 MB\n",
      "None\n"
     ]
    }
   ],
   "source": [
    "# check for null values\n",
    "print(df.info())"
   ]
  },
  {
   "cell_type": "markdown",
   "metadata": {},
   "source": [
    "We have no missing data.  Let's makes sure we don't have any duplicates."
   ]
  },
  {
   "cell_type": "code",
   "execution_count": 5,
   "metadata": {},
   "outputs": [
    {
     "name": "stdout",
     "output_type": "stream",
     "text": [
      "(581012, 55)\n"
     ]
    }
   ],
   "source": [
    "df.drop_duplicates(inplace=True)\n",
    "print(df.shape)"
   ]
  },
  {
   "cell_type": "markdown",
   "metadata": {},
   "source": [
    "We didn't have any duplicates."
   ]
  },
  {
   "cell_type": "code",
   "execution_count": 28,
   "metadata": {},
   "outputs": [],
   "source": [
    "# Create our features and dependent variable\n",
    "X = df.iloc[:,:-1]\n",
    "Y = df.iloc[:, -1]\n",
    "def runtree(x, y, features, depth, criterion='entropy'):\n",
    "    \n",
    "    #initialize our time\n",
    "    start = time.time()\n",
    "\n",
    "    # Initialize and train our tree.\n",
    "    decision_tree = tree.DecisionTreeClassifier(criterion=criterion, max_features=features, max_depth=depth)\n",
    "\n",
    "    # Fit the model\n",
    "    decision_tree.fit(X, Y)\n",
    "\n",
    "    # Predict X\n",
    "    Y_ = decision_tree.predict(X)\n",
    "\n",
    "    # Get accuracy of model\n",
    "    score = decision_tree.score(X,Y)\n",
    "    #accuracy = accuracy_score(Y, Y_) same as above\n",
    "\n",
    "    # End time\n",
    "    end = time.time()\n",
    "\n",
    "    print('Score: ', score)\n",
    "    #print('Accuracy: ', accuracy)\n",
    "    print('Time to fit, predict, and score: {0:.4f}s'.format(end-start))"
   ]
  },
  {
   "cell_type": "code",
   "execution_count": 29,
   "metadata": {},
   "outputs": [
    {
     "name": "stdout",
     "output_type": "stream",
     "text": [
      "Score:  0.7019923856994348\n",
      "Time to fit, predict, and score: 1.0385s\n"
     ]
    }
   ],
   "source": [
    "runtree(X,Y,10,10)"
   ]
  },
  {
   "cell_type": "code",
   "execution_count": 8,
   "metadata": {},
   "outputs": [],
   "source": [
    "def optimize_tree(x, y, k, n):\n",
    "        \n",
    "    #initialize our time\n",
    "    start = time.time()\n",
    "    \n",
    "    # Create empty list for scores and i,j\n",
    "    accuracylist = []\n",
    "    runnum = []\n",
    "    \n",
    "    # loop through k features to find best score\n",
    "    for i in range(1, k+1):\n",
    "        for j in range(1, n+1):\n",
    "            # Initialize and train our tree.\n",
    "            decision_tree = tree.DecisionTreeClassifier(criterion='entropy', max_features=i, max_depth=j)\n",
    "\n",
    "            # Fit the model\n",
    "            decision_tree.fit(X, Y)\n",
    "\n",
    "            # Predict X\n",
    "            Y_ = decision_tree.predict(X)\n",
    "        \n",
    "            # Score model\n",
    "            accuracyscore = decision_tree.score(X,Y)\n",
    "        \n",
    "            # Print score and k\n",
    "            #print('{},{}: {}'.format(i,j, accuracyscore))\n",
    "            \n",
    "            # Create accuracy list and run number list\n",
    "            accuracylist.append(accuracyscore)\n",
    "            runnum.append(tuple((i,j)))\n",
    "            \n",
    "    # Find max values for accuracy and tuple(i,j)\n",
    "    xmax = runnum[np.argmax(accuracylist)]\n",
    "    ymax = max(accuracylist)\n",
    "    \n",
    "    # Add text to plot\n",
    "    text= \"{}, y={:.3f}\".format(xmax, ymax)\n",
    "    \n",
    "    # Plot the figure\n",
    "    fig, ax = plt.subplots()\n",
    "    plt.scatter(range(1,len(runnum)+1), accuracylist, marker='o')\n",
    "    plt.title('Finding Optimized Number of Features and Depth')\n",
    "    ax.annotate(text, xy=(np.argmax(accuracylist), ymax+0.01))\n",
    "\n",
    "    plt.show()\n",
    "        \n",
    "    # End time\n",
    "    end = time.time()\n",
    "    print('Time: {0:.02f}s'.format(end-start))"
   ]
  },
  {
   "cell_type": "code",
   "execution_count": 9,
   "metadata": {
    "scrolled": false
   },
   "outputs": [
    {
     "data": {
      "image/png": "[encoded data removed]",
      "text/plain": [
       "<Figure size 432x288 with 1 Axes>"
      ]
     },
     "metadata": {
      "needs_background": "light"
     },
     "output_type": "display_data"
    },
    {
     "name": "stdout",
     "output_type": "stream",
     "text": [
      "Time: 56.86s\n"
     ]
    }
   ],
   "source": [
    "optimize_tree(X, Y, 10, 10)"
   ]
  },
  {
   "cell_type": "markdown",
   "metadata": {},
   "source": [
    "We have a function that will find the optimal number of features and depth but runs too slow with all the data.  Let's try to find out what the most important features are using the feature_importances_ method."
   ]
  },
  {
   "cell_type": "code",
   "execution_count": 10,
   "metadata": {},
   "outputs": [
    {
     "name": "stdout",
     "output_type": "stream",
     "text": [
      "                                    Feature Importance\n",
      "Wilderness_Area4                              0.292185\n",
      "Elevation                                     0.272997\n",
      "Soil_Type4                                    0.071769\n",
      "Soil_Type2                                    0.059291\n",
      "Soil_Type39                                   0.054876\n",
      "Horizontal_Distance_To_Roadways               0.048610\n",
      "Soil_Type10                                   0.046321\n",
      "Soil_Type22                                   0.035928\n",
      "Horizontal_Distance_To_Fire_Points            0.024946\n",
      "Wilderness_Area3                              0.016645\n",
      "Wilderness_Area2                              0.016361\n",
      "Horizontal_Distance_To_Hydrology              0.010810\n",
      "Vertical_Distance_To_Hydrology                0.009148\n",
      "Aspect                                        0.008958\n",
      "Hillshade_9am                                 0.007884\n",
      "Hillshade_Noon                                0.004865\n",
      "Hillshade_3pm                                 0.003929\n",
      "Wilderness_Area1                              0.003842\n",
      "Slope                                         0.003445\n",
      "Soil_Type37                                   0.002721\n",
      "Soil_Type3                                    0.001529\n",
      "Soil_Type17                                   0.001464\n",
      "Soil_Type23                                   0.000733\n",
      "Soil_Type16                                   0.000334\n",
      "Soil_Type6                                    0.000188\n"
     ]
    }
   ],
   "source": [
    "# Initialize a model to find the most important features \n",
    "\n",
    "# We will use the optimized features number and depth found above\n",
    "model = tree.DecisionTreeClassifier(criterion='entropy', max_features=10, max_depth=10)\n",
    "\n",
    "# Fit data\n",
    "model.fit(X,Y)\n",
    "\n",
    "Importance = pd.DataFrame(\n",
    "    model.feature_importances_, \n",
    "    index = X.columns, \n",
    "    columns=['Feature Importance']).sort_values('Feature Importance', ascending=False)\n",
    "\n",
    "print(Importance.head(25))"
   ]
  },
  {
   "cell_type": "code",
   "execution_count": 11,
   "metadata": {},
   "outputs": [],
   "source": [
    "####### Having trouble with the rendering - Graphviz executables not found \n",
    "####### Tried adding to path still didn't work - not sure what the issue is\n",
    "\n",
    "# Render our tree.\n",
    "#dot_data = tree.export_graphviz(\n",
    "    #decision_tree, out_file=None,\n",
    "    #feature_names=X.columns,\n",
    "    #class_names=['Spruce/Fir', 'Lodgepole Pine', 'Ponderosa Pine', 'Cottonwood/Willow', 'Aspen', 'Douglas-fir', 'Krummholz'],\n",
    "   #filled=True)\n",
    "#graph = pydotplus.graph_from_dot_data(dot_data)\n",
    "#Image(graph.create_png())"
   ]
  },
  {
   "cell_type": "code",
   "execution_count": 53,
   "metadata": {},
   "outputs": [
    {
     "data": {
      "image/png": "[encoded data removed]",
      "text/plain": [
       "<Figure size 432x288 with 1 Axes>"
      ]
     },
     "metadata": {
      "needs_background": "light"
     },
     "output_type": "display_data"
    },
    {
     "name": "stdout",
     "output_type": "stream",
     "text": [
      "Time: 57.32s\n"
     ]
    }
   ],
   "source": [
    "# Create new X containing the top features that have an importance >= 0.01\n",
    "ind = Importance[Importance['Feature Importance'] >= 0.01].index\n",
    "X1 = df.loc[:,ind]\n",
    "\n",
    "# Re optimize features and depth with new X\n",
    "optimize_tree(X1, Y, 10, 10)"
   ]
  },
  {
   "cell_type": "markdown",
   "metadata": {},
   "source": [
    "Looks like including only the top 25 features gets us to the same 72% accuracy.  We know we have a mix of continuous variables and binary, so let's try running on only the continuous and only the binary to see what happens."
   ]
  },
  {
   "cell_type": "code",
   "execution_count": 13,
   "metadata": {},
   "outputs": [
    {
     "name": "stdout",
     "output_type": "stream",
     "text": [
      "Continuous Features Only\n",
      "Score:  0.7042143707875225\n",
      "Time to fit, predict, and score: 1.0904s\n",
      "\n",
      "Binary Features Only\n",
      "Score:  0.9987074277295478\n",
      "Time to fit, predict, and score: 4.2994s\n"
     ]
    }
   ],
   "source": [
    "# create continuous features only\n",
    "cont_feat = df.iloc[:, :10]\n",
    "#print(cont_feat.columns)\n",
    "\n",
    "# Create binary features only\n",
    "binary_feat = df.iloc[:,10:54]\n",
    "#print(binary_feat.columns)\n",
    "\n",
    "# since we are seeing an optimal number of features and depth around 10 and 10 we will continue to use those values-for now\n",
    "print('Continuous Features Only')\n",
    "runtree(cont_feat, Y, 10, 10)\n",
    "print('')\n",
    "print('Binary Features Only')\n",
    "runtree(binary_feat, Y, 30, 30)"
   ]
  },
  {
   "cell_type": "code",
   "execution_count": 14,
   "metadata": {
    "scrolled": true
   },
   "outputs": [
    {
     "data": {
      "image/png": "[encoded data removed]",
      "text/plain": [
       "<Figure size 432x288 with 1 Axes>"
      ]
     },
     "metadata": {
      "needs_background": "light"
     },
     "output_type": "display_data"
    },
    {
     "name": "stdout",
     "output_type": "stream",
     "text": [
      "Time: 55.21s\n"
     ]
    }
   ],
   "source": [
    "optimize_tree(cont_feat, Y, 10, 10)"
   ]
  },
  {
   "cell_type": "code",
   "execution_count": 15,
   "metadata": {},
   "outputs": [
    {
     "data": {
      "image/png": "[encoded data removed]",
      "text/plain": [
       "<Figure size 432x288 with 1 Axes>"
      ]
     },
     "metadata": {
      "needs_background": "light"
     },
     "output_type": "display_data"
    },
    {
     "name": "stdout",
     "output_type": "stream",
     "text": [
      "Time: 3.96s\n"
     ]
    }
   ],
   "source": [
    "optimize_tree(cont_feat, Y, 1, 10)"
   ]
  },
  {
   "cell_type": "code",
   "execution_count": 16,
   "metadata": {},
   "outputs": [
    {
     "data": {
      "image/png": "[encoded data removed]",
      "text/plain": [
       "<Figure size 432x288 with 1 Axes>"
      ]
     },
     "metadata": {
      "needs_background": "light"
     },
     "output_type": "display_data"
    },
    {
     "name": "stdout",
     "output_type": "stream",
     "text": [
      "Time: 38.82s\n"
     ]
    }
   ],
   "source": [
    "optimize_tree(binary_feat, Y, 1, 44)"
   ]
  },
  {
   "cell_type": "code",
   "execution_count": 17,
   "metadata": {},
   "outputs": [
    {
     "data": {
      "image/png": "[encoded data removed]",
      "text/plain": [
       "<Figure size 432x288 with 1 Axes>"
      ]
     },
     "metadata": {
      "needs_background": "light"
     },
     "output_type": "display_data"
    },
    {
     "name": "stdout",
     "output_type": "stream",
     "text": [
      "Time: 126.94s\n"
     ]
    }
   ],
   "source": [
    "optimize_tree(binary_feat, Y, 3, 44)"
   ]
  },
  {
   "cell_type": "markdown",
   "metadata": {},
   "source": [
    "It is fairly obvious that we can see that the more depth we have in our tree the higher the accuracy gets.  This would make sense at it would likely be overfitting the data after a certain depth.  Let's dig into this and train a data set and test it on a test set to make sure we are not overfitting."
   ]
  },
  {
   "cell_type": "code",
   "execution_count": 20,
   "metadata": {},
   "outputs": [
    {
     "data": {
      "image/png": "[encoded data removed]",
      "text/plain": [
       "<Figure size 432x288 with 1 Axes>"
      ]
     },
     "metadata": {
      "needs_background": "light"
     },
     "output_type": "display_data"
    }
   ],
   "source": [
    "# First find the params for the estimator\n",
    "model.get_params().keys()\n",
    "\n",
    "# We will use the full dataset at first\n",
    "\n",
    "# set the parameter range\n",
    "param_range = range(10, 20)\n",
    "\n",
    "# get the training and test scores for the validation cure plot - using the max_depth parameter\n",
    "train_scores, test_scores = validation_curve(\n",
    "    tree.DecisionTreeClassifier(criterion='entropy'), \n",
    "    X, Y, \n",
    "    param_range=param_range,\n",
    "    param_name='max_depth',\n",
    "    cv=5, scoring='accuracy')\n",
    "\n",
    "# Get means and std for train and test\n",
    "train_scores_mean = np.mean(train_scores, axis=1)\n",
    "train_scores_std = np.std(train_scores, axis=1)\n",
    "test_scores_mean = np.mean(test_scores, axis=1)\n",
    "test_scores_std = np.std(test_scores, axis=1)\n",
    "\n",
    "# set up plot\n",
    "plt.title(\"Validation Curve for Decision Tree\")\n",
    "plt.xlabel(\"Max Depth\")\n",
    "plt.ylabel(\"Score\")\n",
    "plt.ylim(0.0, 1.1)\n",
    "lw = 2\n",
    "\n",
    "# plot data\n",
    "plt.plot(param_range, train_scores_mean, label=\"Training score\",\n",
    "             color=\"darkorange\", lw=lw)\n",
    "plt.fill_between(param_range, train_scores_mean - train_scores_std,\n",
    "                 train_scores_mean + train_scores_std, alpha=0.2,\n",
    "                 color=\"darkorange\", lw=lw)\n",
    "plt.plot(param_range, test_scores_mean, label=\"Cross-validation score\",\n",
    "             color=\"navy\", lw=lw)\n",
    "plt.fill_between(param_range, test_scores_mean - test_scores_std,\n",
    "                 test_scores_mean + test_scores_std, alpha=0.2,\n",
    "                 color=\"navy\", lw=lw)\n",
    "plt.legend(loc=\"best\")\n",
    "plt.show()"
   ]
  },
  {
   "cell_type": "markdown",
   "metadata": {},
   "source": [
    "We can see that the score for the training set is increasing as we increase the depth, which is increasing the overfitting.  It appears that the cross validation is pretty stable at around .6.  The first time running this function is used a parameter range of 1-10 and saw that the cross val was still around .6."
   ]
  },
  {
   "cell_type": "code",
   "execution_count": 26,
   "metadata": {},
   "outputs": [
    {
     "data": {
      "text/plain": [
       "{'criterion': 'gini', 'max_depth': 10, 'max_features': 5}"
      ]
     },
     "execution_count": 26,
     "metadata": {},
     "output_type": "execute_result"
    }
   ],
   "source": [
    "# Let's try to find the optimal parameters for our model using GridSearchCV\n",
    "\n",
    "# Get the parameters again\n",
    "#print(model.get_params().keys())\n",
    "\n",
    "# Set up a param_grid\n",
    "param_grid = {'criterion':['entropy', 'gini'], \n",
    "              'max_depth':[10, 20, 30, 40, 50], \n",
    "              'max_features':[1, 2, 3, 4, 5]}\n",
    "CV_tree = GridSearchCV(tree.DecisionTreeClassifier(), param_grid, scoring='accuracy', cv=5)\n",
    "\n",
    "CV_tree.fit(X, Y)\n",
    "#CV_tree.best_params_\n",
    "\n",
    "# careful running this it is slow!"
   ]
  },
  {
   "cell_type": "code",
   "execution_count": 31,
   "metadata": {},
   "outputs": [
    {
     "name": "stdout",
     "output_type": "stream",
     "text": [
      "Score:  0.7233206887293205\n",
      "Time to fit, predict, and score: 0.7151s\n"
     ]
    }
   ],
   "source": [
    "runtree(X,Y,5,10,'gini')"
   ]
  },
  {
   "cell_type": "markdown",
   "metadata": {},
   "source": [
    "After running the GridSearchCV we have the best parameters to run our decision tree: \n",
    "* criterion = gini\n",
    "* max_depth = 10 from list of [10, 20, 30, 40, 50]\n",
    "* max_features = 5 from list of [1, 2, 3, 4, 5]   \n",
    "\n",
    "It took too long to run with more parameter information"
   ]
  },
  {
   "cell_type": "markdown",
   "metadata": {},
   "source": [
    "## Simple Random Forest"
   ]
  },
  {
   "cell_type": "code",
   "execution_count": 40,
   "metadata": {},
   "outputs": [],
   "source": [
    "rfc = ensemble.RandomForestClassifier()\n",
    "\n",
    "def randomforest(x, y, cv=10):\n",
    "    \n",
    "    starttime = time.time()\n",
    "    print(cross_val_score(rfc, x, y, cv=cv))\n",
    "    endtime = time.time()\n",
    "\n",
    "    print('Time in sec: {0:.05f}s'.format(endtime-starttime))"
   ]
  },
  {
   "cell_type": "code",
   "execution_count": 41,
   "metadata": {
    "scrolled": false
   },
   "outputs": [
    {
     "name": "stdout",
     "output_type": "stream",
     "text": [
      "[0.68726766 0.58843777 0.72715695 0.63746515 0.50267637 0.63220943\n",
      " 0.61974837 0.57548323 0.5652593  0.65674108]\n",
      "Time in sec: 87.53369s\n"
     ]
    }
   ],
   "source": [
    "randomforest(X,Y)"
   ]
  },
  {
   "cell_type": "code",
   "execution_count": 42,
   "metadata": {},
   "outputs": [
    {
     "name": "stdout",
     "output_type": "stream",
     "text": [
      "[0.59099201 0.61471869 0.73426501 0.68207635 0.63942101 0.55933633\n",
      " 0.60692587 0.69264531 0.58006162 0.57534553]\n",
      "Time in sec: 24.71824s\n"
     ]
    }
   ],
   "source": [
    "randomforest(binary_feat, Y)"
   ]
  },
  {
   "cell_type": "code",
   "execution_count": 43,
   "metadata": {},
   "outputs": [
    {
     "name": "stdout",
     "output_type": "stream",
     "text": [
      "[0.6884896  0.57664837 0.70832831 0.62340367 0.53209067 0.64931757\n",
      " 0.62074663 0.58402038 0.52045646 0.61994182]\n",
      "Time in sec: 105.42600s\n"
     ]
    }
   ],
   "source": [
    "randomforest(cont_feat, Y)"
   ]
  },
  {
   "cell_type": "code",
   "execution_count": 54,
   "metadata": {},
   "outputs": [
    {
     "name": "stdout",
     "output_type": "stream",
     "text": [
      "[0.64993804 0.57088274 0.69574721 0.61297374 0.47451851 0.61535946\n",
      " 0.59004148 0.57914938 0.51599855 0.676139  ]\n",
      "Time in sec: 62.98037s\n"
     ]
    }
   ],
   "source": [
    "randomforest(X1,Y)"
   ]
  },
  {
   "cell_type": "code",
   "execution_count": null,
   "metadata": {},
   "outputs": [],
   "source": []
  }
 ],
 "metadata": {
  "kernelspec": {
   "display_name": "Python 3",
   "language": "python",
   "name": "python3"
  },
  "language_info": {
   "codemirror_mode": {
    "name": "ipython",
    "version": 3
   },
   "file_extension": ".py",
   "mimetype": "text/x-python",
   "name": "python",
   "nbconvert_exporter": "python",
   "pygments_lexer": "ipython3",
   "version": "3.7.0"
  }
 },
 "nbformat": 4,
 "nbformat_minor": 2
}
