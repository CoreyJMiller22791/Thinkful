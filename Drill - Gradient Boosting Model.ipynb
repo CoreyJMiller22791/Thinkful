{
 "cells": [
  {
   "cell_type": "markdown",
   "metadata": {},
   "source": [
    "# Drill: Improve the Gradient Boosting Model"
   ]
  },
  {
   "cell_type": "code",
   "execution_count": 1,
   "metadata": {},
   "outputs": [],
   "source": [
    "import pandas as pd\n",
    "import numpy as np\n",
    "import scipy\n",
    "import matplotlib.pyplot as plt\n",
    "import seaborn as sns\n",
    "import time\n",
    "%matplotlib inline\n",
    "\n",
    "from sklearn import ensemble\n",
    "from sklearn.metrics import mean_squared_error\n",
    "from sklearn.model_selection import cross_val_score ,train_test_split\n",
    "\n",
    "import warnings\n",
    "warnings.filterwarnings('ignore')"
   ]
  },
  {
   "cell_type": "code",
   "execution_count": 2,
   "metadata": {},
   "outputs": [
    {
     "name": "stdout",
     "output_type": "stream",
     "text": [
      "(7332, 16)\n",
      "(7332,)\n",
      "(815, 16)\n",
      "(815,)\n"
     ]
    }
   ],
   "source": [
    "# Load in the data\n",
    "df = pd.read_csv((\n",
    "    \"https://raw.githubusercontent.com/Thinkful-Ed/data-201-resources/\"\n",
    "    \"master/ESS_practice_data/ESSdata_Thinkful.csv\")).dropna()\n",
    "\n",
    "# Definine outcome and predictors.\n",
    "# Set our outcome to 0 and 1.\n",
    "y = df['partner'] - 1\n",
    "X = df.loc[:, ~df.columns.isin(['partner', 'cntry', 'idno'])]\n",
    "\n",
    "# Make the categorical variable 'country' into dummies.\n",
    "X = pd.concat([X, pd.get_dummies(df['cntry'])], axis=1)\n",
    "\n",
    "# Create training and test sets.\n",
    "offset = int(X.shape[0] * 0.9)\n",
    "\n",
    "# Put 90% of the data in the training set.\n",
    "X_train, y_train = X[:offset], y[:offset]\n",
    "print(X_train.shape)\n",
    "print(y_train.shape)\n",
    "# And put 10% in the test set.\n",
    "X_test, y_test = X[offset:], y[offset:]\n",
    "print(X_test.shape)\n",
    "print(y_test.shape)"
   ]
  },
  {
   "cell_type": "code",
   "execution_count": 3,
   "metadata": {},
   "outputs": [
    {
     "name": "stdout",
     "output_type": "stream",
     "text": [
      "col_0     0.0   1.0   All\n",
      "partner                  \n",
      "0.0      4167   341  4508\n",
      "1.0      1291  1533  2824\n",
      "All      5458  1874  7332\n",
      "col_0    0.0  1.0  All\n",
      "partner               \n",
      "0.0      454   51  505\n",
      "1.0      151  159  310\n",
      "All      605  210  815\n",
      "Training set accuracy:\n",
      "0.7774140752864157\n",
      "Percent Type I errors: 0.04650845608292417\n",
      "Percent Type II errors: 0.17607746863066012\n",
      "\n",
      "Test set accuracy:\n",
      "0.7521472392638037\n",
      "Percent Type I errors: 0.06257668711656442\n",
      "Percent Type II errors: 0.18527607361963191\n"
     ]
    }
   ],
   "source": [
    "# We'll make 500 iterations, use 2-deep trees, and set our loss function.\n",
    "params = {'n_estimators': 500,\n",
    "          'max_depth': 2,\n",
    "          'loss': 'deviance'}\n",
    "\n",
    "# Initialize and fit the model.\n",
    "clf = ensemble.GradientBoostingClassifier(**params)\n",
    "clf.fit(X_train, y_train)\n",
    "\n",
    "predict_train = clf.predict(X_train)\n",
    "predict_test = clf.predict(X_test)\n",
    "\n",
    "# Accuracy tables.\n",
    "table_train = pd.crosstab(y_train, predict_train, margins=True)\n",
    "table_test = pd.crosstab(y_test, predict_test, margins=True)\n",
    "\n",
    "print(table_train)\n",
    "print(table_test)\n",
    "\n",
    "train_tI_errors = table_train.loc[0.0,1.0] / table_train.loc['All','All']\n",
    "train_tII_errors = table_train.loc[1.0,0.0] / table_train.loc['All','All']\n",
    "\n",
    "test_tI_errors = table_test.loc[0.0,1.0]/table_test.loc['All','All']\n",
    "test_tII_errors = table_test.loc[1.0,0.0]/table_test.loc['All','All']\n",
    "\n",
    "print((\n",
    "    'Training set accuracy:\\n'\n",
    "    '{}\\n'\n",
    "    'Percent Type I errors: {}\\n'\n",
    "    'Percent Type II errors: {}\\n\\n'\n",
    "    'Test set accuracy:\\n'\n",
    "    '{}\\n'\n",
    "    'Percent Type I errors: {}\\n'\n",
    "    'Percent Type II errors: {}'\n",
    ").format(clf.score(X_train, y_train), train_tI_errors, train_tII_errors, \n",
    "         clf.score(X_test, y_test), test_tI_errors, test_tII_errors))\n",
    "\n"
   ]
  },
  {
   "cell_type": "markdown",
   "metadata": {},
   "source": [
    "Unlike decision trees, gradient boost solutions are not terribly easy to interpret on the surface.  But they aren't quite a black box.  We can get a measure of how important various features are by counting how many times a feature is used over the course of many decision trees.\n",
    "\n",
    "Choosing subsample < 1.0 leads to a reduction of variance and an increase in bias.\n",
    "\n",
    "Learning rates vary between 0 (only the initial iteration matters) to 1 (all iterations are weighted equally).  A model made up of many small steps is less prone to overfitting than a model made up of few large steps.\n",
    "\n",
    "Choosing max_features < n_features leads to a reduction of variance and an increase in bias."
   ]
  },
  {
   "cell_type": "code",
   "execution_count": 4,
   "metadata": {},
   "outputs": [
    {
     "data": {
      "image/png": "[encoded data removed]",
      "text/plain": [
       "<Figure size 432x288 with 1 Axes>"
      ]
     },
     "metadata": {
      "needs_background": "light"
     },
     "output_type": "display_data"
    }
   ],
   "source": [
    "feature_importance = clf.feature_importances_\n",
    "\n",
    "# Make importances relative to max importance.\n",
    "feature_importance = 100.0 * (feature_importance / feature_importance.max())\n",
    "sorted_idx = np.argsort(feature_importance)\n",
    "pos = np.arange(sorted_idx.shape[0]) + .5\n",
    "plt.subplot(1, 2, 2)\n",
    "plt.barh(pos, feature_importance[sorted_idx])\n",
    "plt.yticks(pos, X.columns[sorted_idx])\n",
    "plt.xlabel('Relative Importance')\n",
    "plt.title('Variable Importance')\n",
    "plt.show()\n"
   ]
  },
  {
   "attachments": {
    "image.png": {
     "image/png": "[encoded data removed]"
    }
   },
   "cell_type": "markdown",
   "metadata": {},
   "source": [
    "Somehow this plot is different than the one on the Thinkful page but we will still go with it. \n",
    "\n",
    "With feature importances like the ones above - we can create a binary situation for the categorical variables where anything that is ES=1, and all others=0.  Other options could be combining the pplfair and ppltrust variables to increase their importance.  Creating relationships between the social categories might help as well.\n",
    "\n",
    "![image.png](attachment:image.png)"
   ]
  },
  {
   "cell_type": "code",
   "execution_count": 45,
   "metadata": {},
   "outputs": [],
   "source": [
    "# let's build a function that gives us the information we are looking for and allows us to \n",
    "# imput new params and data\n",
    "\n",
    "def gbm(x, y, \n",
    "        n=100, \n",
    "        depth=3, \n",
    "        lr=0.1, \n",
    "        loss='deviance', \n",
    "        subsample=1, \n",
    "        crossval=False, \n",
    "        cv=5,\n",
    "        max_features=None,\n",
    "        val_frac=0.1,\n",
    "        no_change=10, \n",
    "        tol=1e-4):\n",
    "    '''\n",
    "    Function that runs a Gradient Boosting Classifier and allows for some parameter tuning\n",
    "    Will score the model and calculate the percentage of type1 and type2 errors\n",
    "    '''\n",
    "    # initialize time\n",
    "    start = time.time()\n",
    "    # set up parameters - parameters are set to defaults to start\n",
    "    params = {'n_estimators': n,\n",
    "              'max_depth': depth,\n",
    "              'learning_rate': lr,\n",
    "              'loss': loss, \n",
    "              'subsample': subsample,\n",
    "              'max_features': max_features,\n",
    "              'validation_fraction': val_frac,\n",
    "              'n_iter_no_change': no_change, \n",
    "              'tol': tol}\n",
    "    \n",
    "    # Show the Params for the model\n",
    "    display(params)\n",
    "    \n",
    "    # Initialize and fit the model\n",
    "    clf = ensemble.GradientBoostingClassifier(**params)\n",
    "    clf.fit(x, y)\n",
    "\n",
    "    # Predict model\n",
    "    predict_train = clf.predict(x)\n",
    "\n",
    "    # Accuracy tables\n",
    "    table_train = pd.crosstab(y, predict_train, margins=True)\n",
    "        \n",
    "    # Calculate type1 and type2 errors\n",
    "    train_tI_errors = table_train.loc[0.0,1.0] / table_train.loc['All','All']\n",
    "    train_tII_errors = table_train.loc[1.0,0.0] / table_train.loc['All','All']\n",
    "\n",
    "    print((\n",
    "        'Training set accuracy:\\n'\n",
    "        '{}\\n'\n",
    "        'Percent Type I errors: {}\\n'\n",
    "        'Percent Type II errors: {}\\n\\n'\n",
    "        ).format(clf.score(x, y), train_tI_errors, train_tII_errors))\n",
    "    \n",
    "    # Cross Validation\n",
    "    if crossval==True:\n",
    "        print(cross_val_score(clf, x, y, cv=cv))\n",
    "    \n",
    "    # Get feature importance\n",
    "    feature_importance = clf.feature_importances_\n",
    "    \n",
    "    # Make importances relative to max importance.\n",
    "    feature_importance = 100.0 * (feature_importance / feature_importance.max())\n",
    "    \n",
    "    # Get sorted index for feature importances\n",
    "    sorted_idx = np.argsort(feature_importance)\n",
    "    \n",
    "    # Create spacing\n",
    "    pos = np.arange(sorted_idx.shape[0]) + .5\n",
    "    \n",
    "    # Create plot\n",
    "    plt.figure(figsize=(4,4))\n",
    "    plt.barh(pos, feature_importance[sorted_idx])\n",
    "    plt.yticks(pos, x.columns[sorted_idx])\n",
    "    plt.xlabel('Relative Importance')\n",
    "    plt.title('Variable Importance')\n",
    "    plt.show()\n",
    "    \n",
    "    # Show what iteration we stopped at\n",
    "    print('Number of iterations before threshold:\\n', clf.n_estimators_)\n",
    "    # stop time\n",
    "    end = time.time()\n",
    "    print('Time: {0:0.5f}s '.format(end-start))"
   ]
  },
  {
   "cell_type": "code",
   "execution_count": 46,
   "metadata": {},
   "outputs": [
    {
     "data": {
      "text/plain": [
       "{'n_estimators': 100,\n",
       " 'max_depth': 3,\n",
       " 'learning_rate': 0.1,\n",
       " 'loss': 'deviance',\n",
       " 'subsample': 1,\n",
       " 'max_features': None,\n",
       " 'validation_fraction': 0.1,\n",
       " 'n_iter_no_change': 10,\n",
       " 'tol': 0.0001}"
      ]
     },
     "metadata": {},
     "output_type": "display_data"
    },
    {
     "name": "stdout",
     "output_type": "stream",
     "text": [
      "Training set accuracy:\n",
      "0.7738679759956356\n",
      "Percent Type I errors: 0.042962356792144024\n",
      "Percent Type II errors: 0.18316966721222042\n",
      "\n",
      "\n",
      "[0.62304022 0.48329925 0.76209952 0.74351978 0.76040956]\n"
     ]
    },
    {
     "data": {
      "image/png": "[encoded data removed]",
      "text/plain": [
       "<Figure size 288x288 with 1 Axes>"
      ]
     },
     "metadata": {
      "needs_background": "light"
     },
     "output_type": "display_data"
    },
    {
     "name": "stdout",
     "output_type": "stream",
     "text": [
      "Number of iterations before threshold:\n",
      " 100\n",
      "Time: 2.12841s \n"
     ]
    }
   ],
   "source": [
    "# All default parameters\n",
    "gbm(X_train, y_train, crossval=True)"
   ]
  },
  {
   "cell_type": "code",
   "execution_count": 47,
   "metadata": {},
   "outputs": [
    {
     "data": {
      "text/plain": [
       "{'n_estimators': 500,\n",
       " 'max_depth': 10,\n",
       " 'learning_rate': 0.01,\n",
       " 'loss': 'deviance',\n",
       " 'subsample': 1,\n",
       " 'max_features': None,\n",
       " 'validation_fraction': 0.1,\n",
       " 'n_iter_no_change': 10,\n",
       " 'tol': 0.0001}"
      ]
     },
     "metadata": {},
     "output_type": "display_data"
    },
    {
     "name": "stdout",
     "output_type": "stream",
     "text": [
      "Training set accuracy:\n",
      "0.8636115657392253\n",
      "Percent Type I errors: 0.0057283142389525366\n",
      "Percent Type II errors: 0.13066012002182215\n",
      "\n",
      "\n",
      "[0.62576687 0.48125426 0.7402863  0.72851296 0.74266212]\n"
     ]
    },
    {
     "data": {
      "image/png": "[encoded data removed]",
      "text/plain": [
       "<Figure size 288x288 with 1 Axes>"
      ]
     },
     "metadata": {
      "needs_background": "light"
     },
     "output_type": "display_data"
    },
    {
     "name": "stdout",
     "output_type": "stream",
     "text": [
      "Number of iterations before threshold:\n",
      " 154\n",
      "Time: 45.51249s \n"
     ]
    }
   ],
   "source": [
    "# Increasing the max_depth to 10 and decreasing the learning rate to 0.01\n",
    "# increasing the depth will explain more of the variance but at the expense of likely overfitting\n",
    "# decreasing the learning rate will help prevent overfitting but also increase the run time\n",
    "\n",
    "gbm(X_train, y_train, 500, 10, 0.01, 'deviance', 1, crossval=True)"
   ]
  },
  {
   "cell_type": "markdown",
   "metadata": {},
   "source": [
    "The model does not validate well.  It is clearly overfitting - most likely because the depth is too large."
   ]
  },
  {
   "cell_type": "code",
   "execution_count": 11,
   "metadata": {},
   "outputs": [
    {
     "data": {
      "text/plain": [
       "{'n_estimators': 500,\n",
       " 'max_depth': 5,\n",
       " 'learning_rate': 0.01,\n",
       " 'loss': 'deviance',\n",
       " 'subsample': 0.75,\n",
       " 'validation_fraction': 0.1,\n",
       " 'n_iter_no_change': 10,\n",
       " 'tol': 0.0001}"
      ]
     },
     "metadata": {},
     "output_type": "display_data"
    },
    {
     "name": "stdout",
     "output_type": "stream",
     "text": [
      "Training set accuracy:\n",
      "0.7879159847244953\n",
      "Percent Type I errors: 0.03150572831423895\n",
      "Percent Type II errors: 0.18057828696126568\n",
      "\n",
      "\n",
      "[0.65507839 0.48398091 0.76823449 0.74010914 0.75904437]\n"
     ]
    },
    {
     "data": {
      "image/png": "[encoded data removed]",
      "text/plain": [
       "<Figure size 288x288 with 1 Axes>"
      ]
     },
     "metadata": {
      "needs_background": "light"
     },
     "output_type": "display_data"
    },
    {
     "name": "stdout",
     "output_type": "stream",
     "text": [
      "Number of iterations before threshold:\n",
      " 354\n",
      "Time: 18.45836s \n"
     ]
    }
   ],
   "source": [
    "# Subsampling now at 75%\n",
    "# subsampling will make it harder to overfit the data by introducing some more randomness in the model\n",
    "\n",
    "gbm(X_train, y_train, 500, 5, 0.01, 'deviance', .75, crossval=True)"
   ]
  },
  {
   "cell_type": "code",
   "execution_count": 12,
   "metadata": {},
   "outputs": [
    {
     "data": {
      "text/plain": [
       "{'n_estimators': 1000,\n",
       " 'max_depth': 5,\n",
       " 'learning_rate': 0.01,\n",
       " 'loss': 'deviance',\n",
       " 'subsample': 0.5,\n",
       " 'validation_fraction': 0.1,\n",
       " 'n_iter_no_change': 10,\n",
       " 'tol': 0.0001}"
      ]
     },
     "metadata": {},
     "output_type": "display_data"
    },
    {
     "name": "stdout",
     "output_type": "stream",
     "text": [
      "Training set accuracy:\n",
      "0.7896890343698855\n",
      "Percent Type I errors: 0.03136933987997818\n",
      "Percent Type II errors: 0.1789416257501364\n",
      "\n",
      "\n",
      "[0.64144513 0.48398091 0.76550784 0.74351978 0.7556314 ]\n"
     ]
    },
    {
     "data": {
      "image/png": "[encoded data removed]",
      "text/plain": [
       "<Figure size 288x288 with 1 Axes>"
      ]
     },
     "metadata": {
      "needs_background": "light"
     },
     "output_type": "display_data"
    },
    {
     "name": "stdout",
     "output_type": "stream",
     "text": [
      "Number of iterations before threshold:\n",
      " 363\n",
      "Time: 13.11247s \n"
     ]
    }
   ],
   "source": [
    "# Subsample at 50% and increase the number of iterations\n",
    "\n",
    "gbm(X_train, y_train, 1000, 5, 0.01, 'deviance', .5, crossval=True)"
   ]
  },
  {
   "cell_type": "markdown",
   "metadata": {},
   "source": [
    "It appears given that the cross validation is not changing - there may be a sampling issue.  Let's try resampling."
   ]
  },
  {
   "cell_type": "code",
   "execution_count": 13,
   "metadata": {},
   "outputs": [
    {
     "name": "stdout",
     "output_type": "stream",
     "text": [
      "(7332, 16)\n",
      "(7332,)\n",
      "(815, 16)\n",
      "(815,)\n"
     ]
    }
   ],
   "source": [
    "X1_train, X1_test, y1_train, y1_test = train_test_split(X, y, train_size=0.9, random_state=42)\n",
    "print(X1_train.shape)\n",
    "print(y1_train.shape)\n",
    "print(X1_test.shape)\n",
    "print(y1_test.shape)"
   ]
  },
  {
   "cell_type": "code",
   "execution_count": 14,
   "metadata": {},
   "outputs": [
    {
     "data": {
      "text/plain": [
       "{'n_estimators': 1000,\n",
       " 'max_depth': 5,\n",
       " 'learning_rate': 0.01,\n",
       " 'loss': 'deviance',\n",
       " 'subsample': 0.5,\n",
       " 'validation_fraction': 0.1,\n",
       " 'n_iter_no_change': 10,\n",
       " 'tol': 0.0001}"
      ]
     },
     "metadata": {},
     "output_type": "display_data"
    },
    {
     "name": "stdout",
     "output_type": "stream",
     "text": [
      "Training set accuracy:\n",
      "0.7860065466448445\n",
      "Percent Type I errors: 0.03464266230223677\n",
      "Percent Type II errors: 0.1793507910529187\n",
      "\n",
      "\n",
      "[0.77164281 0.74846626 0.75511596 0.75034106 0.75784447]\n"
     ]
    },
    {
     "data": {
      "image/png": "[encoded data removed]",
      "text/plain": [
       "<Figure size 288x288 with 1 Axes>"
      ]
     },
     "metadata": {
      "needs_background": "light"
     },
     "output_type": "display_data"
    },
    {
     "name": "stdout",
     "output_type": "stream",
     "text": [
      "Number of iterations before threshold:\n",
      " 360\n",
      "Time: 13.69337s \n"
     ]
    }
   ],
   "source": [
    "gbm(X1_train, y1_train, 1000, 5, 0.01, 'deviance', .5, crossval=True)"
   ]
  },
  {
   "cell_type": "code",
   "execution_count": 26,
   "metadata": {},
   "outputs": [
    {
     "data": {
      "text/plain": [
       "{'n_estimators': 1000,\n",
       " 'max_depth': 5,\n",
       " 'learning_rate': 0.01,\n",
       " 'loss': 'deviance',\n",
       " 'subsample': 0.5,\n",
       " 'validation_fraction': 0.1,\n",
       " 'n_iter_no_change': 10,\n",
       " 'tol': 0.0001}"
      ]
     },
     "metadata": {},
     "output_type": "display_data"
    },
    {
     "name": "stdout",
     "output_type": "stream",
     "text": [
      "Training set accuracy:\n",
      "0.8429447852760736\n",
      "Percent Type I errors: 0.01717791411042945\n",
      "Percent Type II errors: 0.13987730061349693\n",
      "\n",
      "\n",
      "[0.75       0.69512195 0.73619632 0.7654321  0.7654321 ]\n"
     ]
    },
    {
     "data": {
      "image/png": "[encoded data removed]",
      "text/plain": [
       "<Figure size 288x288 with 1 Axes>"
      ]
     },
     "metadata": {
      "needs_background": "light"
     },
     "output_type": "display_data"
    },
    {
     "name": "stdout",
     "output_type": "stream",
     "text": [
      "Number of iterations before threshold:\n",
      " 196\n",
      "Time: 1.97348s \n"
     ]
    }
   ],
   "source": [
    "gbm(X1_test, y1_test, 1000, 5, 0.01, 'deviance', .5, crossval=True)"
   ]
  },
  {
   "cell_type": "markdown",
   "metadata": {},
   "source": [
    "Resampling has fixed the issue with the cross validation. Now we do still have some issues as seen in the testing set evaluation."
   ]
  },
  {
   "cell_type": "code",
   "execution_count": 27,
   "metadata": {},
   "outputs": [
    {
     "data": {
      "text/plain": [
       "{'n_estimators': 1000,\n",
       " 'max_depth': 5,\n",
       " 'learning_rate': 0.01,\n",
       " 'loss': 'exponential',\n",
       " 'subsample': 0.5,\n",
       " 'validation_fraction': 0.1,\n",
       " 'n_iter_no_change': 10,\n",
       " 'tol': 0.0001}"
      ]
     },
     "metadata": {},
     "output_type": "display_data"
    },
    {
     "name": "stdout",
     "output_type": "stream",
     "text": [
      "Training set accuracy:\n",
      "0.7817785051827605\n",
      "Percent Type I errors: 0.033960720130932896\n",
      "Percent Type II errors: 0.1842607746863066\n",
      "\n",
      "\n",
      "[0.76823449 0.74369461 0.75716235 0.74897681 0.7585266 ]\n"
     ]
    },
    {
     "data": {
      "image/png": "[encoded data removed]",
      "text/plain": [
       "<Figure size 288x288 with 1 Axes>"
      ]
     },
     "metadata": {
      "needs_background": "light"
     },
     "output_type": "display_data"
    },
    {
     "name": "stdout",
     "output_type": "stream",
     "text": [
      "Number of iterations before threshold:\n",
      " 351\n",
      "Time: 12.99981s \n"
     ]
    }
   ],
   "source": [
    "# changing loss function to exponential\n",
    "gbm(X1_train, y1_train, 1000, 5, 0.01, 'exponential', .5, crossval=True)"
   ]
  },
  {
   "cell_type": "code",
   "execution_count": 28,
   "metadata": {},
   "outputs": [
    {
     "data": {
      "text/plain": [
       "{'n_estimators': 1000,\n",
       " 'max_depth': 5,\n",
       " 'learning_rate': 0.01,\n",
       " 'loss': 'exponential',\n",
       " 'subsample': 0.5,\n",
       " 'validation_fraction': 0.1,\n",
       " 'n_iter_no_change': 10,\n",
       " 'tol': 0.0001}"
      ]
     },
     "metadata": {},
     "output_type": "display_data"
    },
    {
     "name": "stdout",
     "output_type": "stream",
     "text": [
      "Training set accuracy:\n",
      "0.8196319018404908\n",
      "Percent Type I errors: 0.0049079754601227\n",
      "Percent Type II errors: 0.1754601226993865\n",
      "\n",
      "\n",
      "[0.73170732 0.65853659 0.74846626 0.75925926 0.74691358]\n"
     ]
    },
    {
     "data": {
      "image/png": "[encoded data removed]",
      "text/plain": [
       "<Figure size 288x288 with 1 Axes>"
      ]
     },
     "metadata": {
      "needs_background": "light"
     },
     "output_type": "display_data"
    },
    {
     "name": "stdout",
     "output_type": "stream",
     "text": [
      "Number of iterations before threshold:\n",
      " 152\n",
      "Time: 1.33613s \n"
     ]
    }
   ],
   "source": [
    "gbm(X1_test, y1_test, 1000, 5, 0.01, 'exponential', .5, crossval=True)"
   ]
  },
  {
   "cell_type": "markdown",
   "metadata": {},
   "source": [
    "It appears we have done better with the exponential loss function but we are still overfitting."
   ]
  },
  {
   "cell_type": "code",
   "execution_count": 29,
   "metadata": {},
   "outputs": [
    {
     "data": {
      "text/plain": [
       "{'n_estimators': 1000,\n",
       " 'max_depth': 5,\n",
       " 'learning_rate': 0.005,\n",
       " 'loss': 'exponential',\n",
       " 'subsample': 0.25,\n",
       " 'validation_fraction': 0.1,\n",
       " 'n_iter_no_change': 10,\n",
       " 'tol': 0.0001}"
      ]
     },
     "metadata": {},
     "output_type": "display_data"
    },
    {
     "name": "stdout",
     "output_type": "stream",
     "text": [
      "Training set accuracy:\n",
      "0.7722313147845062\n",
      "Percent Type I errors: 0.030278232405891982\n",
      "Percent Type II errors: 0.19749045280960176\n",
      "\n",
      "\n",
      "[0.76755283 0.74437628 0.75648022 0.75238745 0.76125512]\n"
     ]
    },
    {
     "data": {
      "image/png": "[encoded data removed]",
      "text/plain": [
       "<Figure size 288x288 with 1 Axes>"
      ]
     },
     "metadata": {
      "needs_background": "light"
     },
     "output_type": "display_data"
    },
    {
     "name": "stdout",
     "output_type": "stream",
     "text": [
      "Number of iterations before threshold:\n",
      " 480\n",
      "Time: 15.40652s \n"
     ]
    }
   ],
   "source": [
    "# Decrease the learning rate\n",
    "gbm(X1_train, y1_train, 1000, 5, 0.005, 'exponential', .25, crossval=True)"
   ]
  },
  {
   "cell_type": "markdown",
   "metadata": {},
   "source": [
    "It seems like it is time to start creating some new features."
   ]
  },
  {
   "cell_type": "code",
   "execution_count": 30,
   "metadata": {},
   "outputs": [
    {
     "name": "stdout",
     "output_type": "stream",
     "text": [
      "partner    1.000000\n",
      "sclmeet    0.162970\n",
      "gndr       0.033984\n",
      "year       0.018689\n",
      "sclact     0.011405\n",
      "pplhlp    -0.022069\n",
      "tvtot     -0.028816\n",
      "pplfair   -0.034054\n",
      "ppltrst   -0.034371\n",
      "happy     -0.145061\n",
      "agea      -0.256670\n",
      "Name: partner, dtype: float64\n"
     ]
    }
   ],
   "source": [
    "corrmatrix = df.drop('idno',1).corr()['partner']\n",
    "print(corrmatrix.sort_values(ascending=False))"
   ]
  },
  {
   "cell_type": "code",
   "execution_count": 38,
   "metadata": {
    "scrolled": false
   },
   "outputs": [
    {
     "name": "stdout",
     "output_type": "stream",
     "text": [
      "(7332, 23)\n",
      "(7332,)\n",
      "(815, 23)\n",
      "(815,)\n"
     ]
    }
   ],
   "source": [
    "# New feature creation\n",
    "features = X.copy()\n",
    "# Relationships between variables\n",
    "features['ppltrst_pplfair_pplhlp'] = features['ppltrst']*features['pplfair']*features['pplhlp']\n",
    "features['sclmeet_sclact'] = features['sclmeet']*features['sclact']\n",
    "features['happy_tvtot'] = features['happy']*features['tvtot']\n",
    "features['gndr_year'] = features['gndr']*features['year']\n",
    "\n",
    "# polynomial relationships with age - most important feature\n",
    "features['agea_sqrt'] = features['agea']**0.5\n",
    "features['agea2'] = features['agea']**2\n",
    "features['agea3'] = features['agea']**3\n",
    "\n",
    "# Resample the data\n",
    "Xf_train, Xf_test, yf_train, yf_test = train_test_split(features, \n",
    "                                                        (df['partner']-1), \n",
    "                                                        train_size=0.9, \n",
    "                                                        random_state=42)\n",
    "print(Xf_train.shape)\n",
    "print(yf_train.shape)\n",
    "print(Xf_test.shape)\n",
    "print(yf_test.shape)"
   ]
  },
  {
   "cell_type": "code",
   "execution_count": 32,
   "metadata": {},
   "outputs": [
    {
     "data": {
      "text/plain": [
       "{'n_estimators': 1000,\n",
       " 'max_depth': 5,\n",
       " 'learning_rate': 0.005,\n",
       " 'loss': 'exponential',\n",
       " 'subsample': 0.25,\n",
       " 'validation_fraction': 0.1,\n",
       " 'n_iter_no_change': 10,\n",
       " 'tol': 0.0001}"
      ]
     },
     "metadata": {},
     "output_type": "display_data"
    },
    {
     "name": "stdout",
     "output_type": "stream",
     "text": [
      "Training set accuracy:\n",
      "0.773595199127114\n",
      "Percent Type I errors: 0.03136933987997818\n",
      "Percent Type II errors: 0.1950354609929078\n",
      "\n",
      "\n",
      "[0.76346285 0.74642127 0.75443383 0.75306958 0.75375171]\n"
     ]
    },
    {
     "data": {
      "image/png": "[encoded data removed]",
      "text/plain": [
       "<Figure size 288x288 with 1 Axes>"
      ]
     },
     "metadata": {
      "needs_background": "light"
     },
     "output_type": "display_data"
    },
    {
     "name": "stdout",
     "output_type": "stream",
     "text": [
      "Number of iterations before threshold:\n",
      " 524\n",
      "Time: 19.90496s \n"
     ]
    }
   ],
   "source": [
    "# New features and latest parameters\n",
    "gbm(Xf_train, yf_train, 1000, 5, 0.005, 'exponential', .25, crossval=True)"
   ]
  },
  {
   "cell_type": "code",
   "execution_count": 33,
   "metadata": {},
   "outputs": [
    {
     "data": {
      "text/plain": [
       "{'n_estimators': 1000,\n",
       " 'max_depth': 10,\n",
       " 'learning_rate': 0.005,\n",
       " 'loss': 'exponential',\n",
       " 'subsample': 0.5,\n",
       " 'validation_fraction': 0.1,\n",
       " 'n_iter_no_change': 10,\n",
       " 'tol': 0.0001}"
      ]
     },
     "metadata": {},
     "output_type": "display_data"
    },
    {
     "name": "stdout",
     "output_type": "stream",
     "text": [
      "Training set accuracy:\n",
      "0.849836333878887\n",
      "Percent Type I errors: 0.005591925804691762\n",
      "Percent Type II errors: 0.14457174031642117\n",
      "\n",
      "\n",
      "[0.7661895  0.74096796 0.75443383 0.75306958 0.75306958]\n"
     ]
    },
    {
     "data": {
      "image/png": "[encoded data removed]",
      "text/plain": [
       "<Figure size 288x288 with 1 Axes>"
      ]
     },
     "metadata": {
      "needs_background": "light"
     },
     "output_type": "display_data"
    },
    {
     "name": "stdout",
     "output_type": "stream",
     "text": [
      "Number of iterations before threshold:\n",
      " 354\n",
      "Time: 100.22255s \n"
     ]
    }
   ],
   "source": [
    "# increase max depth\n",
    "gbm(Xf_train, yf_train, 1000, 10, 0.005, 'exponential', .5, crossval=True)"
   ]
  },
  {
   "cell_type": "code",
   "execution_count": 34,
   "metadata": {},
   "outputs": [
    {
     "data": {
      "text/plain": [
       "{'n_estimators': 10000,\n",
       " 'max_depth': 5,\n",
       " 'learning_rate': 0.005,\n",
       " 'loss': 'exponential',\n",
       " 'subsample': 0.5,\n",
       " 'validation_fraction': 0.1,\n",
       " 'n_iter_no_change': 10,\n",
       " 'tol': 0.0001}"
      ]
     },
     "metadata": {},
     "output_type": "display_data"
    },
    {
     "name": "stdout",
     "output_type": "stream",
     "text": [
      "Training set accuracy:\n",
      "0.7801418439716312\n",
      "Percent Type I errors: 0.031232951445717402\n",
      "Percent Type II errors: 0.1886252045826514\n",
      "\n",
      "\n",
      "[0.76687117 0.73755965 0.75648022 0.74897681 0.75579809]\n"
     ]
    },
    {
     "data": {
      "image/png": "[encoded data removed]",
      "text/plain": [
       "<Figure size 288x288 with 1 Axes>"
      ]
     },
     "metadata": {
      "needs_background": "light"
     },
     "output_type": "display_data"
    },
    {
     "name": "stdout",
     "output_type": "stream",
     "text": [
      "Number of iterations before threshold:\n",
      " 656\n",
      "Time: 32.21170s \n"
     ]
    }
   ],
   "source": [
    "# increase iterations\n",
    "gbm(Xf_train, yf_train, 10000, 5, 0.005, 'exponential', .5, crossval=True)"
   ]
  },
  {
   "cell_type": "code",
   "execution_count": 49,
   "metadata": {},
   "outputs": [
    {
     "data": {
      "text/plain": [
       "{'n_estimators': 1000,\n",
       " 'max_depth': 10,\n",
       " 'learning_rate': 0.1,\n",
       " 'loss': 'exponential',\n",
       " 'subsample': 0.5,\n",
       " 'max_features': 'sqrt',\n",
       " 'validation_fraction': 0.1,\n",
       " 'n_iter_no_change': 10,\n",
       " 'tol': 0.0001}"
      ]
     },
     "metadata": {},
     "output_type": "display_data"
    },
    {
     "name": "stdout",
     "output_type": "stream",
     "text": [
      "Training set accuracy:\n",
      "0.8385160938352427\n",
      "Percent Type I errors: 0.015002727768685215\n",
      "Percent Type II errors: 0.14648117839607203\n",
      "\n",
      "\n",
      "[0.75528289 0.74846626 0.74079127 0.74283765 0.74624829]\n"
     ]
    },
    {
     "data": {
      "image/png": "[encoded data removed]",
      "text/plain": [
       "<Figure size 288x288 with 1 Axes>"
      ]
     },
     "metadata": {
      "needs_background": "light"
     },
     "output_type": "display_data"
    },
    {
     "name": "stdout",
     "output_type": "stream",
     "text": [
      "Number of iterations before threshold:\n",
      " 23\n",
      "Time: 3.29044s \n"
     ]
    }
   ],
   "source": [
    "gbm(Xf_train, yf_train, 1000, 10, 0.1, 'exponential', .5, crossval=True, max_features='sqrt')"
   ]
  },
  {
   "cell_type": "code",
   "execution_count": 50,
   "metadata": {},
   "outputs": [
    {
     "data": {
      "text/plain": [
       "{'n_estimators': 1000,\n",
       " 'max_depth': 2,\n",
       " 'learning_rate': 0.1,\n",
       " 'loss': 'exponential',\n",
       " 'subsample': 0.5,\n",
       " 'max_features': 'sqrt',\n",
       " 'validation_fraction': 0.1,\n",
       " 'n_iter_no_change': 10,\n",
       " 'tol': 0.0001}"
      ]
     },
     "metadata": {},
     "output_type": "display_data"
    },
    {
     "name": "stdout",
     "output_type": "stream",
     "text": [
      "Training set accuracy:\n",
      "0.7779141104294478\n",
      "Percent Type I errors: 0.033128834355828224\n",
      "Percent Type II errors: 0.18895705521472392\n",
      "\n",
      "\n",
      "[0.72560976 0.68292683 0.74233129 0.74074074 0.72222222]\n"
     ]
    },
    {
     "data": {
      "image/png": "[encoded data removed]",
      "text/plain": [
       "<Figure size 288x288 with 1 Axes>"
      ]
     },
     "metadata": {
      "needs_background": "light"
     },
     "output_type": "display_data"
    },
    {
     "name": "stdout",
     "output_type": "stream",
     "text": [
      "Number of iterations before threshold:\n",
      " 56\n",
      "Time: 0.34133s \n"
     ]
    }
   ],
   "source": [
    "gbm(Xf_test, yf_test, 1000, 2, 0.1, 'exponential', .5, crossval=True, max_features='sqrt')"
   ]
  },
  {
   "cell_type": "markdown",
   "metadata": {},
   "source": [
    "From all of the iterations I have run, I was unable to really bring up the cross validation score.  I played around with the parameters and only ended up overfitting the model.  \n",
    "\n",
    "With all of the parameters I have tweaked and added to my function, I have been able to keep the computational demand low.  The threshold, validation set, and number of iterations with no change parameters in conjunction with the max features being set to sqrt I have increased the speed of the function and ended up with the same results.  \n",
    "\n",
    "Not exactly sure what to do about the cross validation."
   ]
  },
  {
   "cell_type": "code",
   "execution_count": null,
   "metadata": {},
   "outputs": [],
   "source": []
  }
 ],
 "metadata": {
  "kernelspec": {
   "display_name": "Python 3",
   "language": "python",
   "name": "python3"
  },
  "language_info": {
   "codemirror_mode": {
    "name": "ipython",
    "version": 3
   },
   "file_extension": ".py",
   "mimetype": "text/x-python",
   "name": "python",
   "nbconvert_exporter": "python",
   "pygments_lexer": "ipython3",
   "version": "3.7.0"
  }
 },
 "nbformat": 4,
 "nbformat_minor": 2
}
