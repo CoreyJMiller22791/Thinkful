{
 "cells": [
  {
   "cell_type": "code",
   "execution_count": 1,
   "metadata": {},
   "outputs": [],
   "source": [
    "import time\n",
    "import random\n",
    "import numpy as np\n",
    "\n",
    "\n",
    "# Set seed.\n",
    "random.seed(a=100)\n",
    "\n",
    "# Create our default list.\n",
    "short_list = list(random.sample(range(1000000), 10))\n",
    "long_list = list(random.sample(range(1000000), 10000))\n"
   ]
  },
  {
   "cell_type": "markdown",
   "metadata": {},
   "source": [
    "## Insert Sort"
   ]
  },
  {
   "cell_type": "code",
   "execution_count": 2,
   "metadata": {},
   "outputs": [],
   "source": [
    "def insert_sort(input_list):\n",
    "    # Copy the input to a new list so we don't modify the original.\n",
    "    new_list = input_list\n",
    "    \n",
    "    # Iterate through the list.\n",
    "    for i in range(len(new_list)):\n",
    "        # Assign place to a new variable.\n",
    "        j = i\n",
    "        \n",
    "        # Move through the list as long as the previous position is larger\n",
    "        # than the current element of list.\n",
    "        while j > 0 and new_list[j - 1] > new_list[j]:\n",
    "            \n",
    "            # Swap places.\n",
    "            new_list[j - 1], new_list[j] = new_list[j], new_list[j - 1]\n",
    "            \n",
    "            # Reduce j by one.\n",
    "            j = j - 1\n",
    "    return new_list"
   ]
  },
  {
   "cell_type": "code",
   "execution_count": 3,
   "metadata": {},
   "outputs": [
    {
     "name": "stdout",
     "output_type": "stream",
     "text": [
      "--- 0.0 seconds ---\n",
      "[152745, 183236, 366725, 412125, 477025, 481850, 739784, 767514, 808225, 997948]\n"
     ]
    }
   ],
   "source": [
    "# Start the timer.\n",
    "start_time = time.time()\n",
    "\n",
    "# Run our insertion sort.\n",
    "insert_sort(short_list)\n",
    "\n",
    "# Print time to show runtime.\n",
    "print(\"--- %s seconds ---\" % (time.time() - start_time))\n",
    "print(insert_sort(short_list))"
   ]
  },
  {
   "cell_type": "code",
   "execution_count": 4,
   "metadata": {},
   "outputs": [
    {
     "name": "stdout",
     "output_type": "stream",
     "text": [
      "--- 7.811107158660889 seconds ---\n"
     ]
    }
   ],
   "source": [
    "# Test on the long list.\n",
    "start_time = time.time()\n",
    "\n",
    "insert_sort(long_list)\n",
    "\n",
    "print(\"--- %s seconds ---\" % (time.time() - start_time))"
   ]
  },
  {
   "cell_type": "markdown",
   "metadata": {},
   "source": [
    "## Merge Sort"
   ]
  },
  {
   "cell_type": "code",
   "execution_count": 5,
   "metadata": {},
   "outputs": [],
   "source": [
    "# Our merge function takes two ordered lists and merges them together into one ordered list\n",
    "\n",
    "def merge(a, b):\n",
    "    # Check for empty list.\n",
    "    if len(a) == 0 or len(b) == 0:\n",
    "        return a or b\n",
    "    \n",
    "    # Start with an empty result.\n",
    "    result = []\n",
    "    # Track two indexes.\n",
    "    i, j = 0, 0\n",
    "    # Set a while condition to ensure we iterate only for the length of our two lists.\n",
    "    while (len(result) < len(a) + len(b)):\n",
    "        # If a's next element is lower append that element to our result.\n",
    "        if a[i] < b[j]:\n",
    "            result.append(a[i])\n",
    "            i += 1\n",
    "        # Otherwise append b's next element.\n",
    "        else:\n",
    "            result.append(b[j])\n",
    "            j += 1\n",
    "        # When one list is empty just append everything from the other list and stop.\n",
    "        if i == len(a) or j == len(b):\n",
    "            result.extend(a[i:] or b[j:])\n",
    "            break \n",
    "\n",
    "    return result\n",
    "\n",
    "def merge_sort(lst):\n",
    "    if len(lst) < 2:\n",
    "        return lst\n",
    "\n",
    "    mid = int(len(lst) / 2)\n",
    "    a = merge_sort(lst[:mid])\n",
    "    b = merge_sort(lst[mid:])\n",
    "\n",
    "    return merge(a, b)\n"
   ]
  },
  {
   "cell_type": "code",
   "execution_count": 6,
   "metadata": {},
   "outputs": [
    {
     "name": "stdout",
     "output_type": "stream",
     "text": [
      "--- 0.0 seconds ---\n",
      "[152745, 183236, 366725, 412125, 477025, 481850, 739784, 767514, 808225, 997948]\n"
     ]
    }
   ],
   "source": [
    "# Test on short list.\n",
    "# Start timer.\n",
    "start_time = time.time()\n",
    "\n",
    "# Run our insertion sort.\n",
    "merge_sort(short_list)\n",
    "\n",
    "# Print time to show runtime.\n",
    "print(\"--- %s seconds ---\" % (time.time() - start_time))\n",
    "print(insert_sort(short_list))"
   ]
  },
  {
   "cell_type": "code",
   "execution_count": 7,
   "metadata": {},
   "outputs": [
    {
     "name": "stdout",
     "output_type": "stream",
     "text": [
      "--- 0.048900604248046875 seconds ---\n"
     ]
    }
   ],
   "source": [
    "# Test on long list.\n",
    "start_time = time.time()\n",
    "\n",
    "merge_sort(long_list)\n",
    "\n",
    "print(\"--- %s seconds ---\" % (time.time() - start_time))"
   ]
  },
  {
   "cell_type": "markdown",
   "metadata": {},
   "source": [
    "## Default Sort(ed) function"
   ]
  },
  {
   "cell_type": "code",
   "execution_count": 8,
   "metadata": {},
   "outputs": [
    {
     "name": "stdout",
     "output_type": "stream",
     "text": [
      "--- 0.0 seconds ---\n"
     ]
    }
   ],
   "source": [
    "# Start Timer\n",
    "start_time = time.time()\n",
    "\n",
    "# Sort the default list. Note that .sort() will sort in place, which would alter default_list.\n",
    "sorted(long_list)\n",
    "\n",
    "# Print time to show runtime\n",
    "print(\"--- %s seconds ---\" % (time.time() - start_time))"
   ]
  },
  {
   "cell_type": "markdown",
   "metadata": {},
   "source": [
    "## Drill: Build sorting algorithm by hand\n",
    "#### Some to try: \n",
    "- Heap Sort\n",
    "- Selection Sort\n",
    "- QuickSort"
   ]
  },
  {
   "cell_type": "markdown",
   "metadata": {},
   "source": [
    "## HeapSort"
   ]
  },
  {
   "cell_type": "code",
   "execution_count": 24,
   "metadata": {},
   "outputs": [],
   "source": [
    "def parent(i):\n",
    "    return (i-1) // 2\n",
    "def l_child(i):\n",
    "    return 2*i + 1\n",
    "def r_child(i):\n",
    "    return 2*i + 2\n",
    "def swap(a, i,j):\n",
    "    a[i],a[j] = a[j], a[i]\n",
    "\n",
    "def heapsort(a, count):\n",
    "    heapify(a, count)\n",
    "    \n",
    "    end = count-1\n",
    "    while end > 0:\n",
    "        swap(a, 0, end)\n",
    "        end -= 1\n",
    "        siftDown(a, 0, end)\n",
    "    \n",
    "    return a\n",
    "\n",
    "    \n",
    "def heapify(a, count):\n",
    "    start = parent(count-1)\n",
    "    \n",
    "    while start >= 0:\n",
    "        siftDown(a, start, count-1)\n",
    "        start -= 1\n",
    "    \n",
    "def siftDown(a, start, end):\n",
    "    root = start\n",
    "    # While the root has at least one child\n",
    "    while l_child(root) <= end:\n",
    "        \n",
    "        # Left child of root\n",
    "        child = l_child(root)\n",
    "        \n",
    "        # Keeps track of variable to swap\n",
    "        switch = root\n",
    "        \n",
    "        if a[switch] < a[child]:\n",
    "            switch = child\n",
    "        \n",
    "        # If there is a right child and that child is greater\n",
    "        if child+1 <= end and a[switch] < a[child+1]:\n",
    "            switch = child + 1\n",
    "        \n",
    "        # \n",
    "        if switch == root:\n",
    "             return\n",
    "        else:\n",
    "            swap(a, root, switch)\n",
    "            root = switch"
   ]
  },
  {
   "cell_type": "code",
   "execution_count": 10,
   "metadata": {},
   "outputs": [
    {
     "name": "stdout",
     "output_type": "stream",
     "text": [
      "[1, 3, 2, 4, 5, 6, 7, 8]\n"
     ]
    }
   ],
   "source": [
    "def swap(a, i,j):\n",
    "    a[i],a[j] = a[j], a[i]\n",
    "    return a\n",
    "\n",
    "b = [1,2,3,4,5,6,7,8]\n",
    "print(swap(b, 1, 2))"
   ]
  },
  {
   "cell_type": "code",
   "execution_count": 27,
   "metadata": {},
   "outputs": [
    {
     "name": "stdout",
     "output_type": "stream",
     "text": [
      "[805553, 341234, 930639, 170734, 586301, 414227, 911553, 568004, 144038, 474567]\n"
     ]
    }
   ],
   "source": [
    "short_list = list(random.sample(range(1000000), 10))\n",
    "print(short_list)"
   ]
  },
  {
   "cell_type": "code",
   "execution_count": 28,
   "metadata": {},
   "outputs": [
    {
     "name": "stdout",
     "output_type": "stream",
     "text": [
      "[144038, 170734, 341234, 414227, 474567, 568004, 586301, 805553, 911553, 930639]\n"
     ]
    }
   ],
   "source": [
    "print(heapsort(short_list, len(short_list)))"
   ]
  },
  {
   "cell_type": "markdown",
   "metadata": {},
   "source": [
    "## SelectionSort"
   ]
  },
  {
   "cell_type": "code",
   "execution_count": 29,
   "metadata": {},
   "outputs": [],
   "source": [
    "def selectionsort(a):\n",
    "    n = len(a)\n",
    "\n",
    "    for j in range(0,n-1):\n",
    "        iMin = j\n",
    "        for i in range(j+1, n):\n",
    "\n",
    "            if a[i] < a[iMin]:\n",
    "                iMin = i\n",
    "                \n",
    "        if iMin != j:\n",
    "            a[j], a[iMin] = a[iMin], a[j]\n",
    "    return a"
   ]
  },
  {
   "cell_type": "code",
   "execution_count": 30,
   "metadata": {},
   "outputs": [
    {
     "name": "stdout",
     "output_type": "stream",
     "text": [
      "[978530, 733067, 974486, 483516, 963870, 250937, 947629, 913533, 819346, 169622]\n"
     ]
    }
   ],
   "source": [
    "short_list = list(random.sample(range(1000000), 10))\n",
    "print(short_list)"
   ]
  },
  {
   "cell_type": "code",
   "execution_count": 31,
   "metadata": {},
   "outputs": [
    {
     "name": "stdout",
     "output_type": "stream",
     "text": [
      "[169622, 250937, 483516, 733067, 819346, 913533, 947629, 963870, 974486, 978530]\n"
     ]
    }
   ],
   "source": [
    "print(selectionsort(short_list))"
   ]
  },
  {
   "cell_type": "markdown",
   "metadata": {},
   "source": [
    "## QuickSort"
   ]
  },
  {
   "cell_type": "code",
   "execution_count": 15,
   "metadata": {},
   "outputs": [],
   "source": [
    "def partition(A, lo, hi):\n",
    "    #  make a copy of input so we don't modify original\n",
    "    new_list = A\n",
    "    \n",
    "    # choose last value in list as pivot\n",
    "    pivot = new_list[hi]\n",
    "    print('pivot',pivot)\n",
    "    # initialize i\n",
    "    i = lo\n",
    "    \n",
    "    for j in range(lo, hi):\n",
    "        # If element is less than pivot - swap with ith element\n",
    "        if new_list[j] < pivot:\n",
    "            if i != j:\n",
    "                # Swap places.\n",
    "                new_list[i], new_list[j] = new_list[j], new_list[i]\n",
    "                print(new_list[i], new_list[j])\n",
    "            i += 1\n",
    "\n",
    "    # Swap places\n",
    "    new_list[i], new_list[hi] = new_list[hi], new_list[i]\n",
    "    print(new_list[i], new_list[hi])\n",
    "    print('hi', hi)\n",
    "    # Returns ith index to split lists on\n",
    "    print('i',i)\n",
    "    return i\n",
    "\n",
    "# Function to do Quick sort \n",
    "def quickSort(arr, lo, hi):\n",
    "    \n",
    "    if lo < hi:\n",
    "        print('lo', lo)\n",
    "        print('hi', hi)\n",
    "\n",
    "        pi = partition(arr, lo, hi)\n",
    "        print(pi)\n",
    "        print('****************')\n",
    "\n",
    "        quickSort(arr, lo, pi-1)\n",
    "        quickSort(arr, pi+1, hi)\n",
    "    return arr"
   ]
  },
  {
   "cell_type": "code",
   "execution_count": 16,
   "metadata": {},
   "outputs": [
    {
     "name": "stdout",
     "output_type": "stream",
     "text": [
      "[158968, 271434, 142308, 484317, 322428, 393382, 203147, 966692, 734720, 820597]\n"
     ]
    }
   ],
   "source": [
    "short_list = list(random.sample(range(1000000), 10))\n",
    "print(short_list)"
   ]
  },
  {
   "cell_type": "code",
   "execution_count": 17,
   "metadata": {
    "scrolled": false
   },
   "outputs": [
    {
     "name": "stdout",
     "output_type": "stream",
     "text": [
      "lo 0\n",
      "hi 9\n",
      "pivot 820597\n",
      "734720 966692\n",
      "820597 966692\n",
      "hi 9\n",
      "i 8\n",
      "8\n",
      "****************\n",
      "lo 0\n",
      "hi 7\n",
      "pivot 734720\n",
      "734720 734720\n",
      "hi 7\n",
      "i 7\n",
      "7\n",
      "****************\n",
      "lo 0\n",
      "hi 6\n",
      "pivot 203147\n",
      "142308 271434\n",
      "203147 271434\n",
      "hi 6\n",
      "i 2\n",
      "2\n",
      "****************\n",
      "lo 0\n",
      "hi 1\n",
      "pivot 142308\n",
      "142308 158968\n",
      "hi 1\n",
      "i 0\n",
      "0\n",
      "****************\n",
      "lo 3\n",
      "hi 6\n",
      "pivot 271434\n",
      "271434 484317\n",
      "hi 6\n",
      "i 3\n",
      "3\n",
      "****************\n",
      "lo 4\n",
      "hi 6\n",
      "pivot 484317\n",
      "484317 484317\n",
      "hi 6\n",
      "i 6\n",
      "6\n",
      "****************\n",
      "lo 4\n",
      "hi 5\n",
      "pivot 393382\n",
      "393382 393382\n",
      "hi 5\n",
      "i 5\n",
      "5\n",
      "****************\n"
     ]
    },
    {
     "data": {
      "text/plain": [
       "[142308,\n",
       " 158968,\n",
       " 203147,\n",
       " 271434,\n",
       " 322428,\n",
       " 393382,\n",
       " 484317,\n",
       " 734720,\n",
       " 820597,\n",
       " 966692]"
      ]
     },
     "execution_count": 17,
     "metadata": {},
     "output_type": "execute_result"
    }
   ],
   "source": [
    "quickSort(short_list, 0, len(short_list)-1)"
   ]
  },
  {
   "cell_type": "code",
   "execution_count": 18,
   "metadata": {
    "scrolled": false
   },
   "outputs": [],
   "source": [
    "#quickSort(long_list, 0, len(long_list)-1)"
   ]
  },
  {
   "cell_type": "code",
   "execution_count": null,
   "metadata": {},
   "outputs": [],
   "source": []
  }
 ],
 "metadata": {
  "kernelspec": {
   "display_name": "Python 3",
   "language": "python",
   "name": "python3"
  },
  "language_info": {
   "codemirror_mode": {
    "name": "ipython",
    "version": 3
   },
   "file_extension": ".py",
   "mimetype": "text/x-python",
   "name": "python",
   "nbconvert_exporter": "python",
   "pygments_lexer": "ipython3",
   "version": "3.7.1"
  }
 },
 "nbformat": 4,
 "nbformat_minor": 2
}
