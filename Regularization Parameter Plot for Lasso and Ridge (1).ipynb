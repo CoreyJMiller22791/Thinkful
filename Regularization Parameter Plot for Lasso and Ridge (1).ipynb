{
 "cells": [
  {
   "cell_type": "code",
   "execution_count": 1,
   "metadata": {},
   "outputs": [],
   "source": [
    "import pandas as pd\n",
    "from matplotlib import pyplot as plt\n",
    "import numpy as np\n",
    "import math\n",
    "import seaborn as sns\n",
    "import sklearn\n",
    "from sklearn import linear_model\n",
    "from sklearn import preprocessing\n",
    "%matplotlib inline\n",
    "sns.set_style('white')\n",
    "\n",
    "import warnings\n",
    "warnings.filterwarnings('ignore')"
   ]
  },
  {
   "cell_type": "code",
   "execution_count": 5,
   "metadata": {},
   "outputs": [
    {
     "name": "stdout",
     "output_type": "stream",
     "text": [
      "    default   student   balance    income\n",
      "0 -0.185599 -0.645936 -0.218835  0.813187\n",
      "1 -0.185599  1.548141 -0.037616 -1.605496\n",
      "2 -0.185599 -0.645936  0.492410 -0.131212\n",
      "3 -0.185599 -0.645936 -0.632893  0.164031\n",
      "4 -0.185599 -0.645936 -0.102791  0.370915\n"
     ]
    }
   ],
   "source": [
    "# Load data, drop the index column and any missing data columns.\n",
    "df = pd.read_csv(\n",
    "    'https://vincentarelbundock.github.io/Rdatasets/csv/ISLR/Default.csv'\n",
    ").iloc[:, 1:].dropna()\n",
    "\n",
    "# Recode strings to numeric.\n",
    "df['default'] = np.where(df['default'] == 'Yes', 1, 0)\n",
    "df['student'] = np.where(df['student'] == 'Yes', 1, 0)\n",
    "\n",
    "# Get names for columns\n",
    "names = df.columns\n",
    "\n",
    "# Create a dataframe with the scaled data\n",
    "df = pd.DataFrame(preprocessing.scale(df), columns=names)\n",
    "\n",
    "# Define the training and test sizes.\n",
    "trainsize = int(df.shape[0] / 2)\n",
    "df_test = df.iloc[trainsize:, :].copy()\n",
    "df_train = df.iloc[:trainsize, :].copy()\n",
    "\n",
    "print(df.head())"
   ]
  },
  {
   "cell_type": "code",
   "execution_count": 9,
   "metadata": {},
   "outputs": [
    {
     "name": "stdout",
     "output_type": "stream",
     "text": [
      "\n",
      "R-squared for Training complex model:\n",
      "0.5739734452092832\n"
     ]
    }
   ],
   "source": [
    "# Make new features to capture potential quadratic and cubic relationships\n",
    "# between the features.\n",
    "df_train['balance_student'] = df_train['balance'] * df_train['student']\n",
    "df_train['balance_default'] = df_train['balance'] * df_train['default']\n",
    "df_train['student_default'] = df_train['student'] * df_train['default']\n",
    "df_train['balance_sqrt'] = (df_train['balance'] + 100) ** .5\n",
    "df_train['balance2'] = (df_train['balance'] + 100) ** 2\n",
    "df_train['balance3'] = (df_train['balance'] + 100) ** 3\n",
    "\n",
    "# Run the model with the new features.\n",
    "regrBig = linear_model.LinearRegression()\n",
    "X_train2 = df_train.loc[:, ~(df_train.columns).isin(['income'])]\n",
    "Y_train = df_train['income'].values.reshape(-1, 1)\n",
    "regrBig.fit(X_train2, Y_train)\n",
    "print('\\nR-squared for Training complex model:')\n",
    "print(regrBig.score(X_train2, Y_train))"
   ]
  },
  {
   "cell_type": "code",
   "execution_count": 8,
   "metadata": {},
   "outputs": [
    {
     "name": "stdout",
     "output_type": "stream",
     "text": [
      "\n",
      "R-squared for Testing complex model:\n",
      "0.5630239527344775\n"
     ]
    }
   ],
   "source": [
    "# Test the more complex model with larger coefficients.\n",
    "df_test['balance_student'] = df_test['balance'] * df_test['student']\n",
    "df_test['balance_default'] = df_test['balance'] * df_test['default']\n",
    "df_test['student_default'] = df_test['student'] * df_test['default']\n",
    "df_test['balance_sqrt'] = (df_test['balance'] + 100) ** .5\n",
    "df_test['balance2'] = (df_test['balance'] + 100) ** 2\n",
    "df_test['balance3'] = (df_test['balance'] + 100) ** 3\n",
    "\n",
    "# Run the model with the new features.\n",
    "Y_test = df_test['income']\n",
    "X_test2 = df_test.loc[:, ~(df_test.columns).isin(['income'])]\n",
    "print('\\nR-squared for Testing complex model:')\n",
    "print(regrBig.score(X_test2, Y_test))"
   ]
  },
  {
   "cell_type": "code",
   "execution_count": 52,
   "metadata": {},
   "outputs": [
    {
     "name": "stdout",
     "output_type": "stream",
     "text": [
      "\n",
      "R-squared Ridge Regression for Training complex model:\n",
      "0.3251917396960564\n",
      "\n",
      "R-squared Ridge Regression for Testing complex model:\n",
      "0.3188684446811556\n"
     ]
    }
   ],
   "source": [
    "# Fitting a ridge regression model. Alpha is the regularization\n",
    "# parameter (usually called lambda). As alpha gets larger, parameter\n",
    "# shrinkage grows more pronounced. Note that by convention, the\n",
    "# intercept is not regularized. Since we standardized the data\n",
    "# earlier, the intercept should be equal to zero and can be dropped.\n",
    "\n",
    "ridgeregrBig = linear_model.Ridge(alpha=10000, fit_intercept=False)\n",
    "ridgeregrBig.fit(X_train2, Y_train)\n",
    "print('\\nR-squared Ridge Regression for Training complex model:')\n",
    "print(ridgeregrBig.score(X_train2, Y_train))\n",
    "print('\\nR-squared Ridge Regression for Testing complex model:')\n",
    "print(ridgeregrBig.score(X_test2, Y_test))"
   ]
  },
  {
   "cell_type": "code",
   "execution_count": 20,
   "metadata": {},
   "outputs": [
    {
     "name": "stdout",
     "output_type": "stream",
     "text": [
      "\n",
      "Lasso R² for the model with many features:\n",
      "0.44363376712897057\n"
     ]
    }
   ],
   "source": [
    "lassBig = linear_model.Lasso(alpha=0.35)\n",
    "lassBig.fit(X_train2, Y_train)\n",
    "print('\\nLasso R² for the model with many features:')\n",
    "print(lassBig.score(X_train2, Y_train))"
   ]
  },
  {
   "cell_type": "code",
   "execution_count": 61,
   "metadata": {
    "scrolled": false
   },
   "outputs": [
    {
     "data": {
      "image/png": "[encoded data removed]",
      "text/plain": [
       "<Figure size 432x288 with 1 Axes>"
      ]
     },
     "metadata": {
      "needs_background": "light"
     },
     "output_type": "display_data"
    }
   ],
   "source": [
    "ridgeR2 = []\n",
    "lassoR2 = []\n",
    "\n",
    "\n",
    "lambdasize = np.linspace(0,2000,2001)\n",
    "#Run the model for many alphas.\n",
    "for lambd in lambdasize:\n",
    "    # initialize models for each lambda\n",
    "    ridgeregrBig = linear_model.Ridge(alpha=lambd, fit_intercept=False)\n",
    "    lassBig = linear_model.Lasso(alpha=lambd)\n",
    "    \n",
    "    # Fit model for each lambda\n",
    "    ridgeregrBig.fit(X_train2, Y_train)\n",
    "    lassBig.fit(X_train2, Y_train)\n",
    "    \n",
    "    # Score models and append to respective lists\n",
    "    ridge_score = ridgeregrBig.score(X_train2, Y_train)\n",
    "    lasso_score = lassBig.score(X_train2, Y_train)\n",
    "    \n",
    "    ridgeR2.append(ridge_score)\n",
    "    lassoR2.append(lasso_score)\n",
    "\n",
    "    \n",
    "plt.plot(lambdasize, ridgeR2, '--k', lambdasize, lassoR2, 'yo')\n",
    "plt.xlabel('lamda')\n",
    "plt.ylabel('R2')\n",
    "plt.title('Lasso and Ridge R2 for various values of Lambda')\n",
    "plt.show()"
   ]
  },
  {
   "cell_type": "code",
   "execution_count": 56,
   "metadata": {},
   "outputs": [
    {
     "data": {
      "image/png": "[encoded data removed]",
      "text/plain": [
       "<Figure size 432x288 with 1 Axes>"
      ]
     },
     "metadata": {
      "needs_background": "light"
     },
     "output_type": "display_data"
    }
   ],
   "source": [
    "ridgeR2 = []\n",
    "lassoR2 = []\n",
    "\n",
    "lambdasize = np.linspace(0,2,2001)\n",
    "#Run the model for many alphas.\n",
    "for lambd in lambdasize:\n",
    "    # initialize models for each lambda\n",
    "    ridgeregrBig = linear_model.Ridge(alpha=lambd, fit_intercept=False)\n",
    "    lassBig = linear_model.Lasso(alpha=lambd)\n",
    "    \n",
    "    # Fit model for each lambda\n",
    "    ridgeregrBig.fit(X_train2, Y_train)\n",
    "    lassBig.fit(X_train2, Y_train)\n",
    "    \n",
    "    # Score models and append to respective lists\n",
    "    ridge_score = ridgeregrBig.score(X_train2, Y_train)\n",
    "    lasso_score = lassBig.score(X_train2, Y_train)\n",
    "    \n",
    "    ridgeR2.append(ridge_score)\n",
    "    lassoR2.append(lasso_score)\n",
    "\n",
    "    \n",
    "plt.plot(lambdasize, ridgeR2, '--k', lambdasize, lassoR2, 'yo')\n",
    "plt.xlabel('lamda')\n",
    "plt.ylabel('R2')\n",
    "plt.title('Lasso and Ridge R2 for various values of Lambda')\n",
    "plt.show()"
   ]
  },
  {
   "cell_type": "code",
   "execution_count": 57,
   "metadata": {},
   "outputs": [
    {
     "name": "stdout",
     "output_type": "stream",
     "text": [
      "\\Ridge R² for the model with many features:\n",
      "0.5739733101704144\n",
      "\n",
      "Lasso R² for the model with many features:\n",
      "0.5739444483155421\n"
     ]
    }
   ],
   "source": [
    "# look at when lambda = 0 exclusively\n",
    "# initialize models for each lambda\n",
    "ridgeregrBig = linear_model.Ridge(alpha=0, fit_intercept=False)\n",
    "lassBig = linear_model.Lasso(alpha=0)\n",
    "    \n",
    "# Fit model for each lambda\n",
    "ridgeregrBig.fit(X_train2, Y_train)\n",
    "lassBig.fit(X_train2, Y_train)\n",
    "    \n",
    "# Score models and append to respective lists\n",
    "ridge_score = ridgeregrBig.score(X_train2, Y_train)\n",
    "lasso_score = lassBig.score(X_train2, Y_train)\n",
    "\n",
    "print('\\Ridge R² for the model with many features:')\n",
    "print(ridge_score)\n",
    "print('\\nLasso R² for the model with many features:')\n",
    "print(lasso_score)"
   ]
  },
  {
   "cell_type": "markdown",
   "metadata": {},
   "source": [
    "The only time Lasso and Ridge yield the same$R^2$ is when lambda = 0.  The ridge model doesn't begin to change much until lambda values gets somewhere around 1000; whereas, for the lasso model we see that as soon as lambda hits 0.75 the model is effectively useless.  This is because the lasso model is setting all parameters to 0."
   ]
  },
  {
   "cell_type": "code",
   "execution_count": null,
   "metadata": {},
   "outputs": [],
   "source": []
  }
 ],
 "metadata": {
  "kernelspec": {
   "display_name": "Python 3",
   "language": "python",
   "name": "python3"
  },
  "language_info": {
   "codemirror_mode": {
    "name": "ipython",
    "version": 3
   },
   "file_extension": ".py",
   "mimetype": "text/x-python",
   "name": "python",
   "nbconvert_exporter": "python",
   "pygments_lexer": "ipython3",
   "version": "3.7.0"
  }
 },
 "nbformat": 4,
 "nbformat_minor": 2
}
