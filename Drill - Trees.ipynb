{
 "cells": [
  {
   "cell_type": "markdown",
   "metadata": {},
   "source": [
    "# Build a Binary Tree"
   ]
  },
  {
   "cell_type": "markdown",
   "metadata": {},
   "source": [
    "Implement a binary tree, which is filled with 15 pieces of random data. Your job is to then write a program to traverse the tree using a breadth first traversal"
   ]
  },
  {
   "cell_type": "markdown",
   "metadata": {},
   "source": [
    "### Step 1: Create a binary tree"
   ]
  },
  {
   "cell_type": "code",
   "execution_count": 1,
   "metadata": {},
   "outputs": [],
   "source": [
    "######################### Binary Tree Function ######################### \n",
    "\n",
    "def BinaryTree(r):\n",
    "    '''Function establishes a root node and two children (left and right) - input must be a list'''\n",
    "    return [r, [], []]\n",
    "\n",
    "######################### Left Child Function ######################### \n",
    "\n",
    "def insertLeft(root,newBranch):\n",
    "    '''Left child function - takes input list and newBranch value'''\n",
    "    # removes index=1 (second item in list) from list r\n",
    "    t = root.pop(1)\n",
    "    \n",
    "    # if second index list length > 1 -  replace second index with [newBranch value, old second index, blank list]\n",
    "    if len(t) > 1:\n",
    "        root.insert(1,[newBranch,t,[]])\n",
    "        \n",
    "    # if second index list is NOT greater than 1 - replace second index with [newBranch value, blank list, blank list] \n",
    "    else:\n",
    "        root.insert(1,[newBranch, [], []])\n",
    "    return root\n",
    "\n",
    "######################### Right Child Function ######################### \n",
    "\n",
    "def insertRight(root,newBranch):\n",
    "    '''Right child function - takes input list and newBranch value'''\n",
    "    # removes index=2 (third item in list) from list r\n",
    "    t = root.pop(2)\n",
    "    \n",
    "    # if third index list > 1 - replace third index with [newBranch value, blank list, old third index]\n",
    "    if len(t) > 1:\n",
    "        root.insert(2,[newBranch,[],t])\n",
    "        \n",
    "    # if third index list is NOT greater than 1 - replace third index with [newBranch value, blank list, blank list] \n",
    "    else:\n",
    "        root.insert(2,[newBranch,[],[]])\n",
    "    return root\n",
    "\n",
    "######################### Get Root Value Function ######################### \n",
    "\n",
    "def getRootVal(root):\n",
    "    '''Returns root node value'''\n",
    "    return root[0]\n",
    "\n",
    "######################### Set Root value Function ######################### \n",
    "\n",
    "def setRootVal(root,newVal):\n",
    "    '''Sets new val to root node'''\n",
    "    root[0] = newVal\n",
    "    \n",
    "######################### Get Left Child Function ######################### \n",
    "\n",
    "def getLeftChild(root):\n",
    "    '''Returns left child'''\n",
    "    return root[1]\n",
    "\n",
    "######################### Get Right Child Function ######################### \n",
    "\n",
    "def getRightChild(root):\n",
    "    '''Returns right child'''\n",
    "    return root[2]"
   ]
  },
  {
   "cell_type": "code",
   "execution_count": 2,
   "metadata": {},
   "outputs": [
    {
     "name": "stdout",
     "output_type": "stream",
     "text": [
      "['a', [], []]\n",
      "['a', ['b', [], []], []]\n",
      "['a', ['b', [], []], ['c', [], []]]\n",
      "['c', [], ['d', [], []]]\n",
      "['d', ['e', [], []], []]\n",
      "['a', ['b', [], []], ['c', [], ['d', ['e', [], []], []]]]\n"
     ]
    }
   ],
   "source": [
    "x = BinaryTree('a')\n",
    "print(x)\n",
    "print(insertLeft(x,'b'))\n",
    "print(insertRight(x,'c'))\n",
    "print(insertRight(getRightChild(x),'d'))\n",
    "print(insertLeft(getRightChild(getRightChild(x)),'e'))\n",
    "print(x)"
   ]
  },
  {
   "cell_type": "code",
   "execution_count": 3,
   "metadata": {},
   "outputs": [
    {
     "name": "stdout",
     "output_type": "stream",
     "text": [
      "b\n"
     ]
    }
   ],
   "source": [
    "# Create a class object for creating a binary tree\n",
    "class BinaryTree:\n",
    "    '''Class object takes root obj value and assigns left and right children to none'''\n",
    "    def __init__(self,rootObj):\n",
    "        self.key = rootObj\n",
    "        self.leftChild = None\n",
    "        self.rightChild = None\n",
    "    \n",
    "    # If no current left child - set up node with new node by calling binarytree class on new node\n",
    "    def insertLeft(self,newNode):\n",
    "        if self.leftChild == None:\n",
    "            self.leftChild = BinaryTree(newNode)\n",
    "        # if there is a left child - call new binarytree class (t) to establish newNode as leftchild of parent \n",
    "        # old left child to leftchild of newNode\n",
    "        else:\n",
    "            t = BinaryTree(newNode) # establishes key=newNode\n",
    "            t.leftChild = self.leftChild # sets current leftchild to newNode/old left child\n",
    "            self.leftChild = t # bumps old left child down a tree and sets newNode as parent\n",
    "\n",
    "    def insertRight(self,newNode):\n",
    "        '''repeats insertLeft for opposite node'''\n",
    "        if self.rightChild == None:\n",
    "            self.rightChild = BinaryTree(newNode)\n",
    "        else:\n",
    "            t = BinaryTree(newNode)\n",
    "            t.rightChild = self.rightChild\n",
    "            self.rightChild = t\n",
    "\n",
    "\n",
    "    def getRightChild(self):\n",
    "        return self.rightChild\n",
    "\n",
    "    def getLeftChild(self):\n",
    "        return self.leftChild\n",
    "\n",
    "    def setRootVal(self,obj):\n",
    "        self.key = obj\n",
    "\n",
    "    def getRootVal(self):\n",
    "        return self.key\n",
    "    \n",
    "    def preorder(self):\n",
    "        '''recursive function that returns node from top all the way down left then goes right'''\n",
    "        print(self.key) # prints root node - then looks for left most node\n",
    "        # if leftchild exists\n",
    "        if self.leftChild:\n",
    "            self.leftChild.preorder() # prints left child and looks down left branch -recursively\n",
    "        # once at left most leaf - looks for right child at same leaf level then moves over right\n",
    "        if self.rightChild:\n",
    "            self.rightChild.preorder()\n",
    "            \n",
    "    def inorder(self):\n",
    "        if self.key != None:\n",
    "                  \n",
    "            print(self.key) # prints root node\n",
    "        if self.leftChild:\n",
    "            print(self.leftChild.key) # prints left child\n",
    "        if self.rightChild: \n",
    "            print(self.rightChild.key) # prints right child\n",
    "\n",
    "\n",
    "r = BinaryTree('a')\n",
    "r.insertLeft('b')\n",
    "r.insertLeft('c')\n",
    "print(r.getLeftChild().getLeftChild().getRootVal())"
   ]
  },
  {
   "cell_type": "code",
   "execution_count": 4,
   "metadata": {
    "scrolled": false
   },
   "outputs": [
    {
     "name": "stdout",
     "output_type": "stream",
     "text": [
      "Level 1 - Root node: a\n",
      "\n",
      "Level 2 - Root children:\n",
      "\tleft=b, right=c \n",
      "\n",
      "Level 3 - Left and right \"root\" children:\n",
      "\tleft, left = d,\n",
      "\tleft, right = e,\n",
      "\tright, left = f,\n",
      "\tright, right = g\n",
      "\n",
      "Level 4 - Root children:\n",
      "\tleft, left, left = leaf1,\n",
      "\tleft, left, right = leaf2,\n",
      "\tleft, right, left = leaf3,\n",
      "\tleft, right, right = leaf4,\n",
      "\tright, left, left = leaf5,\n",
      "\tright, left, right = leaf6,\n",
      "\tright, right, left = leaf7,\n",
      "\tright, right, right = leaf8\n",
      "a\n",
      "b\n",
      "d\n",
      "leaf1\n",
      "leaf2\n",
      "e\n",
      "leaf3\n",
      "leaf4\n",
      "c\n",
      "f\n",
      "leaf5\n",
      "leaf6\n",
      "g\n",
      "leaf7\n",
      "leaf8\n",
      "None\n",
      "----------------\n",
      "a\n",
      "b\n",
      "c\n",
      "None\n"
     ]
    }
   ],
   "source": [
    "# Create Binary Tree with 15 objects\n",
    "# Level 1 root = a\n",
    "bt = BinaryTree('a')\n",
    "print('Level 1 - Root node:',bt.getRootVal())\n",
    "print('')\n",
    "\n",
    "# Level 2 children = b and c\n",
    "bt.insertLeft('b')\n",
    "bt.insertRight('c')\n",
    "print('Level 2 - Root children:\\n\\tleft={}, right={} '.format(bt.getLeftChild().getRootVal(), bt.getRightChild().getRootVal()))\n",
    "print('')\n",
    "\n",
    "# Level 3 children = d e f g\n",
    "bt.getLeftChild().insertLeft('d')\n",
    "bt.getRightChild().insertRight('g')\n",
    "\n",
    "bt.getLeftChild().insertRight('e')\n",
    "bt.getRightChild().insertLeft('f')\n",
    "print('Level 3 - Left and right \"root\" children:\\n\\t'\n",
    "      'left, left = {},\\n\\t'\n",
    "      'left, right = {},\\n\\t'\n",
    "      'right, left = {},\\n\\t'\n",
    "      'right, right = {}'.format(bt.getLeftChild().getLeftChild().getRootVal(), \n",
    "                               bt.getLeftChild().getRightChild().getRootVal(),\n",
    "                               bt.getRightChild().getLeftChild().getRootVal(), \n",
    "                               bt.getRightChild().getRightChild().getRootVal()))\n",
    "print('')\n",
    "\n",
    "# Level 4 children = leaf1, leaf2, leaf3, leaf4, leaf5, leaf6, leaf7, leaf8\n",
    "bt.getLeftChild().getLeftChild().insertLeft('leaf1') # LLL\n",
    "bt.getLeftChild().getLeftChild().insertRight('leaf2') # LLR\n",
    "bt.getLeftChild().getRightChild().insertLeft('leaf3') # LRL\n",
    "bt.getLeftChild().getRightChild().insertRight('leaf4') # LRR\n",
    "\n",
    "bt.getRightChild().getLeftChild().insertLeft('leaf5') # RLL\n",
    "bt.getRightChild().getLeftChild().insertRight('leaf6') # RLR\n",
    "bt.getRightChild().getRightChild().insertLeft('leaf7') # RRL\n",
    "bt.getRightChild().getRightChild().insertRight('leaf8') # RRR\n",
    "print('Level 4 - Root children:\\n\\t'\n",
    "      'left, left, left = {},\\n\\t'\n",
    "      'left, left, right = {},\\n\\t'\n",
    "      'left, right, left = {},\\n\\t'\n",
    "      'left, right, right = {},\\n\\t'\n",
    "      'right, left, left = {},\\n\\t'\n",
    "      'right, left, right = {},\\n\\t'\n",
    "      'right, right, left = {},\\n\\t'\n",
    "      'right, right, right = {}'.format(bt.getLeftChild().getLeftChild().getLeftChild().getRootVal(), \n",
    "                                      bt.getLeftChild().getLeftChild().getRightChild().getRootVal(),\n",
    "                                      bt.getLeftChild().getRightChild().getLeftChild().getRootVal(), \n",
    "                                      bt.getLeftChild().getRightChild().getRightChild().getRootVal(),\n",
    "                                      bt.getRightChild().getLeftChild().getLeftChild().getRootVal(), \n",
    "                                      bt.getRightChild().getLeftChild().getRightChild().getRootVal(),\n",
    "                                      bt.getRightChild().getRightChild().getLeftChild().getRootVal(), \n",
    "                                      bt.getRightChild().getRightChild().getRightChild().getRootVal()))\n",
    "print(bt.preorder())\n",
    "print('----------------')\n",
    "print(bt.inorder())"
   ]
  },
  {
   "cell_type": "code",
   "execution_count": 5,
   "metadata": {},
   "outputs": [
    {
     "name": "stdout",
     "output_type": "stream",
     "text": [
      "leaf1\n",
      "d\n",
      "leaf2\n",
      "b\n",
      "leaf3\n",
      "e\n",
      "leaf4\n",
      "a\n",
      "leaf5\n",
      "f\n",
      "leaf6\n",
      "c\n",
      "leaf7\n",
      "g\n",
      "leaf8\n",
      "None\n"
     ]
    }
   ],
   "source": [
    "def inorder(tree):\n",
    "    if tree != None:\n",
    "        inorder(tree.getLeftChild())\n",
    "        print(tree.getRootVal())\n",
    "        inorder(tree.getRightChild())\n",
    "print(inorder(bt))"
   ]
  },
  {
   "cell_type": "code",
   "execution_count": 6,
   "metadata": {},
   "outputs": [],
   "source": [
    "def build_tree(list):\n",
    "    node = list.pop(0)\n",
    "    tree = BinaryTree(node)\n",
    "    for i in range(len(list)-1):\n",
    "        tree.insertLeft(list[i])\n",
    "        tree.insertRight(list[i+1])\n",
    "    return tree"
   ]
  },
  {
   "cell_type": "code",
   "execution_count": 7,
   "metadata": {},
   "outputs": [],
   "source": [
    "trial_list = ['a', 'b', 'c', 'd', 'e', 'f', 'g', 'h', 'i', 'j', 'k', 'l', 'm', 'n', 'o', 'p']\n",
    "\n",
    "build = build_tree(trial_list)"
   ]
  },
  {
   "cell_type": "code",
   "execution_count": 8,
   "metadata": {},
   "outputs": [
    {
     "data": {
      "text/plain": [
       "'a'"
      ]
     },
     "execution_count": 8,
     "metadata": {},
     "output_type": "execute_result"
    }
   ],
   "source": [
    "build.getRootVal()"
   ]
  },
  {
   "cell_type": "code",
   "execution_count": 9,
   "metadata": {},
   "outputs": [
    {
     "data": {
      "text/plain": [
       "'j'"
      ]
     },
     "execution_count": 9,
     "metadata": {},
     "output_type": "execute_result"
    }
   ],
   "source": [
    "build.getLeftChild().getLeftChild().getLeftChild().getLeftChild().getLeftChild().getLeftChild().getRootVal()"
   ]
  },
  {
   "cell_type": "code",
   "execution_count": 10,
   "metadata": {},
   "outputs": [
    {
     "data": {
      "text/plain": [
       "'k'"
      ]
     },
     "execution_count": 10,
     "metadata": {},
     "output_type": "execute_result"
    }
   ],
   "source": [
    "build.getRightChild().getRightChild().getRightChild().getRightChild().getRightChild().getRightChild().getRootVal()"
   ]
  },
  {
   "cell_type": "code",
   "execution_count": 15,
   "metadata": {},
   "outputs": [],
   "source": [
    "def bfs(graph, start):\n",
    "    visited, queue = set(), [start]\n",
    "    while queue:\n",
    "        vertex = queue.pop(0)\n",
    "        if vertex not in visited:\n",
    "            visited.add(vertex)\n",
    "            queue.extend(set(graph.getRootVal()) - visited)\n",
    "    return visited"
   ]
  },
  {
   "cell_type": "code",
   "execution_count": 18,
   "metadata": {},
   "outputs": [
    {
     "data": {
      "text/plain": [
       "{'a', 'e'}"
      ]
     },
     "execution_count": 18,
     "metadata": {},
     "output_type": "execute_result"
    }
   ],
   "source": [
    "bfs(bt, 'e')"
   ]
  },
  {
   "cell_type": "code",
   "execution_count": null,
   "metadata": {},
   "outputs": [],
   "source": []
  }
 ],
 "metadata": {
  "kernelspec": {
   "display_name": "Python 3",
   "language": "python",
   "name": "python3"
  },
  "language_info": {
   "codemirror_mode": {
    "name": "ipython",
    "version": 3
   },
   "file_extension": ".py",
   "mimetype": "text/x-python",
   "name": "python",
   "nbconvert_exporter": "python",
   "pygments_lexer": "ipython3",
   "version": "3.7.1"
  }
 },
 "nbformat": 4,
 "nbformat_minor": 2
}
